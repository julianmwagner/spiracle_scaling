{
 "cells": [
  {
   "cell_type": "markdown",
   "metadata": {},
   "source": [
    "# Parsing raw measurements into tidy format"
   ]
  },
  {
   "cell_type": "code",
   "execution_count": 1,
   "metadata": {},
   "outputs": [
    {
     "data": {
      "text/html": [
       "\n",
       "    <div class=\"bk-root\">\n",
       "        <a href=\"https://bokeh.org\" target=\"_blank\" class=\"bk-logo bk-logo-small bk-logo-notebook\"></a>\n",
       "        <span id=\"1001\">Loading BokehJS ...</span>\n",
       "    </div>"
      ]
     },
     "metadata": {},
     "output_type": "display_data"
    },
    {
     "data": {
      "application/javascript": [
       "\n",
       "(function(root) {\n",
       "  function now() {\n",
       "    return new Date();\n",
       "  }\n",
       "\n",
       "  var force = true;\n",
       "\n",
       "  if (typeof root._bokeh_onload_callbacks === \"undefined\" || force === true) {\n",
       "    root._bokeh_onload_callbacks = [];\n",
       "    root._bokeh_is_loading = undefined;\n",
       "  }\n",
       "\n",
       "  var JS_MIME_TYPE = 'application/javascript';\n",
       "  var HTML_MIME_TYPE = 'text/html';\n",
       "  var EXEC_MIME_TYPE = 'application/vnd.bokehjs_exec.v0+json';\n",
       "  var CLASS_NAME = 'output_bokeh rendered_html';\n",
       "\n",
       "  /**\n",
       "   * Render data to the DOM node\n",
       "   */\n",
       "  function render(props, node) {\n",
       "    var script = document.createElement(\"script\");\n",
       "    node.appendChild(script);\n",
       "  }\n",
       "\n",
       "  /**\n",
       "   * Handle when an output is cleared or removed\n",
       "   */\n",
       "  function handleClearOutput(event, handle) {\n",
       "    var cell = handle.cell;\n",
       "\n",
       "    var id = cell.output_area._bokeh_element_id;\n",
       "    var server_id = cell.output_area._bokeh_server_id;\n",
       "    // Clean up Bokeh references\n",
       "    if (id != null && id in Bokeh.index) {\n",
       "      Bokeh.index[id].model.document.clear();\n",
       "      delete Bokeh.index[id];\n",
       "    }\n",
       "\n",
       "    if (server_id !== undefined) {\n",
       "      // Clean up Bokeh references\n",
       "      var cmd = \"from bokeh.io.state import curstate; print(curstate().uuid_to_server['\" + server_id + \"'].get_sessions()[0].document.roots[0]._id)\";\n",
       "      cell.notebook.kernel.execute(cmd, {\n",
       "        iopub: {\n",
       "          output: function(msg) {\n",
       "            var id = msg.content.text.trim();\n",
       "            if (id in Bokeh.index) {\n",
       "              Bokeh.index[id].model.document.clear();\n",
       "              delete Bokeh.index[id];\n",
       "            }\n",
       "          }\n",
       "        }\n",
       "      });\n",
       "      // Destroy server and session\n",
       "      var cmd = \"import bokeh.io.notebook as ion; ion.destroy_server('\" + server_id + \"')\";\n",
       "      cell.notebook.kernel.execute(cmd);\n",
       "    }\n",
       "  }\n",
       "\n",
       "  /**\n",
       "   * Handle when a new output is added\n",
       "   */\n",
       "  function handleAddOutput(event, handle) {\n",
       "    var output_area = handle.output_area;\n",
       "    var output = handle.output;\n",
       "\n",
       "    // limit handleAddOutput to display_data with EXEC_MIME_TYPE content only\n",
       "    if ((output.output_type != \"display_data\") || (!output.data.hasOwnProperty(EXEC_MIME_TYPE))) {\n",
       "      return\n",
       "    }\n",
       "\n",
       "    var toinsert = output_area.element.find(\".\" + CLASS_NAME.split(' ')[0]);\n",
       "\n",
       "    if (output.metadata[EXEC_MIME_TYPE][\"id\"] !== undefined) {\n",
       "      toinsert[toinsert.length - 1].firstChild.textContent = output.data[JS_MIME_TYPE];\n",
       "      // store reference to embed id on output_area\n",
       "      output_area._bokeh_element_id = output.metadata[EXEC_MIME_TYPE][\"id\"];\n",
       "    }\n",
       "    if (output.metadata[EXEC_MIME_TYPE][\"server_id\"] !== undefined) {\n",
       "      var bk_div = document.createElement(\"div\");\n",
       "      bk_div.innerHTML = output.data[HTML_MIME_TYPE];\n",
       "      var script_attrs = bk_div.children[0].attributes;\n",
       "      for (var i = 0; i < script_attrs.length; i++) {\n",
       "        toinsert[toinsert.length - 1].firstChild.setAttribute(script_attrs[i].name, script_attrs[i].value);\n",
       "      }\n",
       "      // store reference to server id on output_area\n",
       "      output_area._bokeh_server_id = output.metadata[EXEC_MIME_TYPE][\"server_id\"];\n",
       "    }\n",
       "  }\n",
       "\n",
       "  function register_renderer(events, OutputArea) {\n",
       "\n",
       "    function append_mime(data, metadata, element) {\n",
       "      // create a DOM node to render to\n",
       "      var toinsert = this.create_output_subarea(\n",
       "        metadata,\n",
       "        CLASS_NAME,\n",
       "        EXEC_MIME_TYPE\n",
       "      );\n",
       "      this.keyboard_manager.register_events(toinsert);\n",
       "      // Render to node\n",
       "      var props = {data: data, metadata: metadata[EXEC_MIME_TYPE]};\n",
       "      render(props, toinsert[toinsert.length - 1]);\n",
       "      element.append(toinsert);\n",
       "      return toinsert\n",
       "    }\n",
       "\n",
       "    /* Handle when an output is cleared or removed */\n",
       "    events.on('clear_output.CodeCell', handleClearOutput);\n",
       "    events.on('delete.Cell', handleClearOutput);\n",
       "\n",
       "    /* Handle when a new output is added */\n",
       "    events.on('output_added.OutputArea', handleAddOutput);\n",
       "\n",
       "    /**\n",
       "     * Register the mime type and append_mime function with output_area\n",
       "     */\n",
       "    OutputArea.prototype.register_mime_type(EXEC_MIME_TYPE, append_mime, {\n",
       "      /* Is output safe? */\n",
       "      safe: true,\n",
       "      /* Index of renderer in `output_area.display_order` */\n",
       "      index: 0\n",
       "    });\n",
       "  }\n",
       "\n",
       "  // register the mime type if in Jupyter Notebook environment and previously unregistered\n",
       "  if (root.Jupyter !== undefined) {\n",
       "    var events = require('base/js/events');\n",
       "    var OutputArea = require('notebook/js/outputarea').OutputArea;\n",
       "\n",
       "    if (OutputArea.prototype.mime_types().indexOf(EXEC_MIME_TYPE) == -1) {\n",
       "      register_renderer(events, OutputArea);\n",
       "    }\n",
       "  }\n",
       "\n",
       "  \n",
       "  if (typeof (root._bokeh_timeout) === \"undefined\" || force === true) {\n",
       "    root._bokeh_timeout = Date.now() + 5000;\n",
       "    root._bokeh_failed_load = false;\n",
       "  }\n",
       "\n",
       "  var NB_LOAD_WARNING = {'data': {'text/html':\n",
       "     \"<div style='background-color: #fdd'>\\n\"+\n",
       "     \"<p>\\n\"+\n",
       "     \"BokehJS does not appear to have successfully loaded. If loading BokehJS from CDN, this \\n\"+\n",
       "     \"may be due to a slow or bad network connection. Possible fixes:\\n\"+\n",
       "     \"</p>\\n\"+\n",
       "     \"<ul>\\n\"+\n",
       "     \"<li>re-rerun `output_notebook()` to attempt to load from CDN again, or</li>\\n\"+\n",
       "     \"<li>use INLINE resources instead, as so:</li>\\n\"+\n",
       "     \"</ul>\\n\"+\n",
       "     \"<code>\\n\"+\n",
       "     \"from bokeh.resources import INLINE\\n\"+\n",
       "     \"output_notebook(resources=INLINE)\\n\"+\n",
       "     \"</code>\\n\"+\n",
       "     \"</div>\"}};\n",
       "\n",
       "  function display_loaded() {\n",
       "    var el = document.getElementById(\"1001\");\n",
       "    if (el != null) {\n",
       "      el.textContent = \"BokehJS is loading...\";\n",
       "    }\n",
       "    if (root.Bokeh !== undefined) {\n",
       "      if (el != null) {\n",
       "        el.textContent = \"BokehJS \" + root.Bokeh.version + \" successfully loaded.\";\n",
       "      }\n",
       "    } else if (Date.now() < root._bokeh_timeout) {\n",
       "      setTimeout(display_loaded, 100)\n",
       "    }\n",
       "  }\n",
       "\n",
       "\n",
       "  function run_callbacks() {\n",
       "    try {\n",
       "      root._bokeh_onload_callbacks.forEach(function(callback) {\n",
       "        if (callback != null)\n",
       "          callback();\n",
       "      });\n",
       "    } finally {\n",
       "      delete root._bokeh_onload_callbacks\n",
       "    }\n",
       "    console.debug(\"Bokeh: all callbacks have finished\");\n",
       "  }\n",
       "\n",
       "  function load_libs(css_urls, js_urls, callback) {\n",
       "    if (css_urls == null) css_urls = [];\n",
       "    if (js_urls == null) js_urls = [];\n",
       "\n",
       "    root._bokeh_onload_callbacks.push(callback);\n",
       "    if (root._bokeh_is_loading > 0) {\n",
       "      console.debug(\"Bokeh: BokehJS is being loaded, scheduling callback at\", now());\n",
       "      return null;\n",
       "    }\n",
       "    if (js_urls == null || js_urls.length === 0) {\n",
       "      run_callbacks();\n",
       "      return null;\n",
       "    }\n",
       "    console.debug(\"Bokeh: BokehJS not loaded, scheduling load and callback at\", now());\n",
       "    root._bokeh_is_loading = css_urls.length + js_urls.length;\n",
       "\n",
       "    function on_load() {\n",
       "      root._bokeh_is_loading--;\n",
       "      if (root._bokeh_is_loading === 0) {\n",
       "        console.debug(\"Bokeh: all BokehJS libraries/stylesheets loaded\");\n",
       "        run_callbacks()\n",
       "      }\n",
       "    }\n",
       "\n",
       "    function on_error() {\n",
       "      console.error(\"failed to load \" + url);\n",
       "    }\n",
       "\n",
       "    for (var i = 0; i < css_urls.length; i++) {\n",
       "      var url = css_urls[i];\n",
       "      const element = document.createElement(\"link\");\n",
       "      element.onload = on_load;\n",
       "      element.onerror = on_error;\n",
       "      element.rel = \"stylesheet\";\n",
       "      element.type = \"text/css\";\n",
       "      element.href = url;\n",
       "      console.debug(\"Bokeh: injecting link tag for BokehJS stylesheet: \", url);\n",
       "      document.body.appendChild(element);\n",
       "    }\n",
       "\n",
       "    for (var i = 0; i < js_urls.length; i++) {\n",
       "      var url = js_urls[i];\n",
       "      var element = document.createElement('script');\n",
       "      element.onload = on_load;\n",
       "      element.onerror = on_error;\n",
       "      element.async = false;\n",
       "      element.src = url;\n",
       "      console.debug(\"Bokeh: injecting script tag for BokehJS library: \", url);\n",
       "      document.head.appendChild(element);\n",
       "    }\n",
       "  };var element = document.getElementById(\"1001\");\n",
       "  if (element == null) {\n",
       "    console.error(\"Bokeh: ERROR: autoload.js configured with elementid '1001' but no matching script tag was found. \")\n",
       "    return false;\n",
       "  }\n",
       "\n",
       "  function inject_raw_css(css) {\n",
       "    const element = document.createElement(\"style\");\n",
       "    element.appendChild(document.createTextNode(css));\n",
       "    document.body.appendChild(element);\n",
       "  }\n",
       "\n",
       "  \n",
       "  var js_urls = [\"https://cdn.pydata.org/bokeh/release/bokeh-1.4.0.min.js\", \"https://cdn.pydata.org/bokeh/release/bokeh-widgets-1.4.0.min.js\", \"https://cdn.pydata.org/bokeh/release/bokeh-tables-1.4.0.min.js\", \"https://cdn.pydata.org/bokeh/release/bokeh-gl-1.4.0.min.js\"];\n",
       "  var css_urls = [];\n",
       "  \n",
       "\n",
       "  var inline_js = [\n",
       "    function(Bokeh) {\n",
       "      Bokeh.set_log_level(\"info\");\n",
       "    },\n",
       "    function(Bokeh) {\n",
       "    \n",
       "    \n",
       "    }\n",
       "  ];\n",
       "\n",
       "  function run_inline_js() {\n",
       "    \n",
       "    if (root.Bokeh !== undefined || force === true) {\n",
       "      \n",
       "    for (var i = 0; i < inline_js.length; i++) {\n",
       "      inline_js[i].call(root, root.Bokeh);\n",
       "    }\n",
       "    if (force === true) {\n",
       "        display_loaded();\n",
       "      }} else if (Date.now() < root._bokeh_timeout) {\n",
       "      setTimeout(run_inline_js, 100);\n",
       "    } else if (!root._bokeh_failed_load) {\n",
       "      console.log(\"Bokeh: BokehJS failed to load within specified timeout.\");\n",
       "      root._bokeh_failed_load = true;\n",
       "    } else if (force !== true) {\n",
       "      var cell = $(document.getElementById(\"1001\")).parents('.cell').data().cell;\n",
       "      cell.output_area.append_execute_result(NB_LOAD_WARNING)\n",
       "    }\n",
       "\n",
       "  }\n",
       "\n",
       "  if (root._bokeh_is_loading === 0) {\n",
       "    console.debug(\"Bokeh: BokehJS loaded, going straight to plotting\");\n",
       "    run_inline_js();\n",
       "  } else {\n",
       "    load_libs(css_urls, js_urls, function() {\n",
       "      console.debug(\"Bokeh: BokehJS plotting callback run at\", now());\n",
       "      run_inline_js();\n",
       "    });\n",
       "  }\n",
       "}(window));"
      ],
      "application/vnd.bokehjs_load.v0+json": "\n(function(root) {\n  function now() {\n    return new Date();\n  }\n\n  var force = true;\n\n  if (typeof root._bokeh_onload_callbacks === \"undefined\" || force === true) {\n    root._bokeh_onload_callbacks = [];\n    root._bokeh_is_loading = undefined;\n  }\n\n  \n\n  \n  if (typeof (root._bokeh_timeout) === \"undefined\" || force === true) {\n    root._bokeh_timeout = Date.now() + 5000;\n    root._bokeh_failed_load = false;\n  }\n\n  var NB_LOAD_WARNING = {'data': {'text/html':\n     \"<div style='background-color: #fdd'>\\n\"+\n     \"<p>\\n\"+\n     \"BokehJS does not appear to have successfully loaded. If loading BokehJS from CDN, this \\n\"+\n     \"may be due to a slow or bad network connection. Possible fixes:\\n\"+\n     \"</p>\\n\"+\n     \"<ul>\\n\"+\n     \"<li>re-rerun `output_notebook()` to attempt to load from CDN again, or</li>\\n\"+\n     \"<li>use INLINE resources instead, as so:</li>\\n\"+\n     \"</ul>\\n\"+\n     \"<code>\\n\"+\n     \"from bokeh.resources import INLINE\\n\"+\n     \"output_notebook(resources=INLINE)\\n\"+\n     \"</code>\\n\"+\n     \"</div>\"}};\n\n  function display_loaded() {\n    var el = document.getElementById(\"1001\");\n    if (el != null) {\n      el.textContent = \"BokehJS is loading...\";\n    }\n    if (root.Bokeh !== undefined) {\n      if (el != null) {\n        el.textContent = \"BokehJS \" + root.Bokeh.version + \" successfully loaded.\";\n      }\n    } else if (Date.now() < root._bokeh_timeout) {\n      setTimeout(display_loaded, 100)\n    }\n  }\n\n\n  function run_callbacks() {\n    try {\n      root._bokeh_onload_callbacks.forEach(function(callback) {\n        if (callback != null)\n          callback();\n      });\n    } finally {\n      delete root._bokeh_onload_callbacks\n    }\n    console.debug(\"Bokeh: all callbacks have finished\");\n  }\n\n  function load_libs(css_urls, js_urls, callback) {\n    if (css_urls == null) css_urls = [];\n    if (js_urls == null) js_urls = [];\n\n    root._bokeh_onload_callbacks.push(callback);\n    if (root._bokeh_is_loading > 0) {\n      console.debug(\"Bokeh: BokehJS is being loaded, scheduling callback at\", now());\n      return null;\n    }\n    if (js_urls == null || js_urls.length === 0) {\n      run_callbacks();\n      return null;\n    }\n    console.debug(\"Bokeh: BokehJS not loaded, scheduling load and callback at\", now());\n    root._bokeh_is_loading = css_urls.length + js_urls.length;\n\n    function on_load() {\n      root._bokeh_is_loading--;\n      if (root._bokeh_is_loading === 0) {\n        console.debug(\"Bokeh: all BokehJS libraries/stylesheets loaded\");\n        run_callbacks()\n      }\n    }\n\n    function on_error() {\n      console.error(\"failed to load \" + url);\n    }\n\n    for (var i = 0; i < css_urls.length; i++) {\n      var url = css_urls[i];\n      const element = document.createElement(\"link\");\n      element.onload = on_load;\n      element.onerror = on_error;\n      element.rel = \"stylesheet\";\n      element.type = \"text/css\";\n      element.href = url;\n      console.debug(\"Bokeh: injecting link tag for BokehJS stylesheet: \", url);\n      document.body.appendChild(element);\n    }\n\n    for (var i = 0; i < js_urls.length; i++) {\n      var url = js_urls[i];\n      var element = document.createElement('script');\n      element.onload = on_load;\n      element.onerror = on_error;\n      element.async = false;\n      element.src = url;\n      console.debug(\"Bokeh: injecting script tag for BokehJS library: \", url);\n      document.head.appendChild(element);\n    }\n  };var element = document.getElementById(\"1001\");\n  if (element == null) {\n    console.error(\"Bokeh: ERROR: autoload.js configured with elementid '1001' but no matching script tag was found. \")\n    return false;\n  }\n\n  function inject_raw_css(css) {\n    const element = document.createElement(\"style\");\n    element.appendChild(document.createTextNode(css));\n    document.body.appendChild(element);\n  }\n\n  \n  var js_urls = [\"https://cdn.pydata.org/bokeh/release/bokeh-1.4.0.min.js\", \"https://cdn.pydata.org/bokeh/release/bokeh-widgets-1.4.0.min.js\", \"https://cdn.pydata.org/bokeh/release/bokeh-tables-1.4.0.min.js\", \"https://cdn.pydata.org/bokeh/release/bokeh-gl-1.4.0.min.js\"];\n  var css_urls = [];\n  \n\n  var inline_js = [\n    function(Bokeh) {\n      Bokeh.set_log_level(\"info\");\n    },\n    function(Bokeh) {\n    \n    \n    }\n  ];\n\n  function run_inline_js() {\n    \n    if (root.Bokeh !== undefined || force === true) {\n      \n    for (var i = 0; i < inline_js.length; i++) {\n      inline_js[i].call(root, root.Bokeh);\n    }\n    if (force === true) {\n        display_loaded();\n      }} else if (Date.now() < root._bokeh_timeout) {\n      setTimeout(run_inline_js, 100);\n    } else if (!root._bokeh_failed_load) {\n      console.log(\"Bokeh: BokehJS failed to load within specified timeout.\");\n      root._bokeh_failed_load = true;\n    } else if (force !== true) {\n      var cell = $(document.getElementById(\"1001\")).parents('.cell').data().cell;\n      cell.output_area.append_execute_result(NB_LOAD_WARNING)\n    }\n\n  }\n\n  if (root._bokeh_is_loading === 0) {\n    console.debug(\"Bokeh: BokehJS loaded, going straight to plotting\");\n    run_inline_js();\n  } else {\n    load_libs(css_urls, js_urls, function() {\n      console.debug(\"Bokeh: BokehJS plotting callback run at\", now());\n      run_inline_js();\n    });\n  }\n}(window));"
     },
     "metadata": {},
     "output_type": "display_data"
    }
   ],
   "source": [
    "import numpy as np\n",
    "import pandas as pd\n",
    "import re\n",
    "\n",
    "import bokeh.io\n",
    "import bokeh.plotting\n",
    "\n",
    "bokeh.io.output_notebook()"
   ]
  },
  {
   "cell_type": "markdown",
   "metadata": {},
   "source": [
    "We read in the raw measurments made in Avizo on the spiracles, and then get them into a tidy format."
   ]
  },
  {
   "cell_type": "code",
   "execution_count": 2,
   "metadata": {},
   "outputs": [
    {
     "data": {
      "text/html": [
       "<div>\n",
       "<style scoped>\n",
       "    .dataframe tbody tr th:only-of-type {\n",
       "        vertical-align: middle;\n",
       "    }\n",
       "\n",
       "    .dataframe tbody tr th {\n",
       "        vertical-align: top;\n",
       "    }\n",
       "\n",
       "    .dataframe thead th {\n",
       "        text-align: right;\n",
       "    }\n",
       "</style>\n",
       "<table border=\"1\" class=\"dataframe\">\n",
       "  <thead>\n",
       "    <tr style=\"text-align: right;\">\n",
       "      <th></th>\n",
       "      <th>species</th>\n",
       "      <th>sex</th>\n",
       "      <th>mass</th>\n",
       "      <th>mm_pix</th>\n",
       "      <th>pix_mm</th>\n",
       "      <th>variable</th>\n",
       "      <th>value</th>\n",
       "      <th>spiracle</th>\n",
       "      <th>dim</th>\n",
       "      <th>D</th>\n",
       "      <th>H</th>\n",
       "      <th>V</th>\n",
       "      <th>area pix^2</th>\n",
       "      <th>depth</th>\n",
       "      <th>area mm^2</th>\n",
       "      <th>log mass</th>\n",
       "    </tr>\n",
       "  </thead>\n",
       "  <tbody>\n",
       "    <tr>\n",
       "      <th>34</th>\n",
       "      <td>Popilia_japonica</td>\n",
       "      <td>F</td>\n",
       "      <td>0.1549</td>\n",
       "      <td>0.011494</td>\n",
       "      <td>87.001914</td>\n",
       "      <td>Ab_VI_D</td>\n",
       "      <td>15.18</td>\n",
       "      <td>6</td>\n",
       "      <td>D</td>\n",
       "      <td>15.18</td>\n",
       "      <td>8.77</td>\n",
       "      <td>8.02</td>\n",
       "      <td>55.241294</td>\n",
       "      <td>0.174479</td>\n",
       "      <td>0.007298</td>\n",
       "      <td>-1.864976</td>\n",
       "    </tr>\n",
       "    <tr>\n",
       "      <th>35</th>\n",
       "      <td>Popilia_japonica</td>\n",
       "      <td>M</td>\n",
       "      <td>0.1075</td>\n",
       "      <td>0.011790</td>\n",
       "      <td>84.817642</td>\n",
       "      <td>Ab_VI_D</td>\n",
       "      <td>13.14</td>\n",
       "      <td>6</td>\n",
       "      <td>D</td>\n",
       "      <td>13.14</td>\n",
       "      <td>6.68</td>\n",
       "      <td>6.21</td>\n",
       "      <td>32.580515</td>\n",
       "      <td>0.154921</td>\n",
       "      <td>0.004529</td>\n",
       "      <td>-2.230264</td>\n",
       "    </tr>\n",
       "    <tr>\n",
       "      <th>36</th>\n",
       "      <td>Cyclocephala_borealis</td>\n",
       "      <td>M</td>\n",
       "      <td>0.0969</td>\n",
       "      <td>0.012670</td>\n",
       "      <td>78.926598</td>\n",
       "      <td>Ab_VI_D</td>\n",
       "      <td>21.92</td>\n",
       "      <td>6</td>\n",
       "      <td>D</td>\n",
       "      <td>21.92</td>\n",
       "      <td>4.55</td>\n",
       "      <td>5.34</td>\n",
       "      <td>19.082819</td>\n",
       "      <td>0.277726</td>\n",
       "      <td>0.003063</td>\n",
       "      <td>-2.334076</td>\n",
       "    </tr>\n",
       "    <tr>\n",
       "      <th>37</th>\n",
       "      <td>Cyclocephala_borealis</td>\n",
       "      <td>F</td>\n",
       "      <td>0.1185</td>\n",
       "      <td>0.011719</td>\n",
       "      <td>85.331513</td>\n",
       "      <td>Ab_VI_D</td>\n",
       "      <td>24.17</td>\n",
       "      <td>6</td>\n",
       "      <td>D</td>\n",
       "      <td>24.17</td>\n",
       "      <td>5.33</td>\n",
       "      <td>5.83</td>\n",
       "      <td>24.405384</td>\n",
       "      <td>0.283248</td>\n",
       "      <td>0.003352</td>\n",
       "      <td>-2.132842</td>\n",
       "    </tr>\n",
       "    <tr>\n",
       "      <th>38</th>\n",
       "      <td>Goliathus_goliathus</td>\n",
       "      <td>M</td>\n",
       "      <td>16.2800</td>\n",
       "      <td>0.013911</td>\n",
       "      <td>71.884332</td>\n",
       "      <td>Ab_VI_D</td>\n",
       "      <td>180.62</td>\n",
       "      <td>6</td>\n",
       "      <td>D</td>\n",
       "      <td>180.62</td>\n",
       "      <td>43.14</td>\n",
       "      <td>41.85</td>\n",
       "      <td>1417.964913</td>\n",
       "      <td>2.512648</td>\n",
       "      <td>0.274408</td>\n",
       "      <td>2.789937</td>\n",
       "    </tr>\n",
       "  </tbody>\n",
       "</table>\n",
       "</div>"
      ],
      "text/plain": [
       "                  species sex     mass    mm_pix     pix_mm variable   value  \\\n",
       "34       Popilia_japonica   F   0.1549  0.011494  87.001914  Ab_VI_D   15.18   \n",
       "35       Popilia_japonica   M   0.1075  0.011790  84.817642  Ab_VI_D   13.14   \n",
       "36  Cyclocephala_borealis   M   0.0969  0.012670  78.926598  Ab_VI_D   21.92   \n",
       "37  Cyclocephala_borealis   F   0.1185  0.011719  85.331513  Ab_VI_D   24.17   \n",
       "38    Goliathus_goliathus   M  16.2800  0.013911  71.884332  Ab_VI_D  180.62   \n",
       "\n",
       "   spiracle dim       D      H      V   area pix^2     depth  area mm^2  \\\n",
       "34        6   D   15.18   8.77   8.02    55.241294  0.174479   0.007298   \n",
       "35        6   D   13.14   6.68   6.21    32.580515  0.154921   0.004529   \n",
       "36        6   D   21.92   4.55   5.34    19.082819  0.277726   0.003063   \n",
       "37        6   D   24.17   5.33   5.83    24.405384  0.283248   0.003352   \n",
       "38        6   D  180.62  43.14  41.85  1417.964913  2.512648   0.274408   \n",
       "\n",
       "    log mass  \n",
       "34 -1.864976  \n",
       "35 -2.230264  \n",
       "36 -2.334076  \n",
       "37 -2.132842  \n",
       "38  2.789937  "
      ]
     },
     "execution_count": 2,
     "metadata": {},
     "output_type": "execute_result"
    }
   ],
   "source": [
    "df_raw = pd.read_csv(\"./spiracle_data.csv\")\n",
    "df_raw = df_raw.melt(id_vars=['species', 'sex', 'mass', 'mm_pix', 'pix_mm'])\n",
    "df_raw['spiracle'] = [i[0:-2] for i in df_raw['variable'].values]\n",
    "df_raw['dim'] = [i[-1:] for i in df_raw['variable'].values]\n",
    "k = 0\n",
    "df_raw_tidy = pd.DataFrame()\n",
    "for i, j in df_raw.groupby(['dim',]):\n",
    "    if k == 0:\n",
    "        df_raw_tidy = j.copy()\n",
    "        df_raw_tidy[i] = j['value'].values\n",
    "    else:\n",
    "        df_raw_tidy[i] = j['value'].values\n",
    "    k += 1\n",
    "df_raw_tidy.drop(columns=['variable', 'value'])\n",
    "df_raw_tidy['area pix^2'] = np.pi*(df_raw_tidy['H']/2)*(df_raw_tidy['V']/2)\n",
    "df_raw_tidy['depth'] = df_raw_tidy['D']\n",
    "df_raw_tidy['area mm^2'] = df_raw_tidy['area pix^2']*(df_raw_tidy['mm_pix']**2)\n",
    "df_raw_tidy['depth'] = df_raw_tidy['depth']*df_raw_tidy['mm_pix']\n",
    "df_raw_tidy['log mass'] = np.log(df_raw_tidy['mass'])\n",
    "df_raw_tidy['log mass'] = np.log(df_raw_tidy['mass'])\n",
    "\n",
    "lookup = {'Ab_VI': '6', 'Ab_V': '5', 'Ab_IV': '4', 'Ab_III': '3', 'Ab_II': '2', 'Ab_I': '1', 'Meso': 'S', 'Meta': 'T'}\n",
    "df_raw_tidy['spiracle'] = [lookup[s] for s in df_raw_tidy['spiracle']]\n",
    "\n",
    "df_raw_tidy.head()"
   ]
  },
  {
   "cell_type": "markdown",
   "metadata": {},
   "source": [
    "Some summary information about the measurements in the smallest beetles, demonstrating sufficient resolution to make accurate spiracle measurements. "
   ]
  },
  {
   "cell_type": "code",
   "execution_count": 3,
   "metadata": {},
   "outputs": [
    {
     "name": "stdout",
     "output_type": "stream",
     "text": [
      "Average pixel count for spiracle width in smallest beetles:  8.84\n",
      "Average pixel count for spiracle height in smallest beetles: 10.92\n",
      "Average pixel count for spiracle depth in smallest beetles:  16.93\n"
     ]
    }
   ],
   "source": [
    "print('Average pixel count for spiracle width in smallest beetles:  '  + str(round(df_raw_tidy.loc[df_raw_tidy['log mass'] < -1]['H'].mean(), 2)))\n",
    "print('Average pixel count for spiracle height in smallest beetles: ' + str(round(df_raw_tidy.loc[df_raw_tidy['log mass'] < -1]['V'].mean(), 2)))\n",
    "print('Average pixel count for spiracle depth in smallest beetles:  '  + str(round(df_raw_tidy.loc[df_raw_tidy['log mass'] < -1]['D'].mean(), 2)))"
   ]
  },
  {
   "cell_type": "markdown",
   "metadata": {},
   "source": [
    "We will read in the other pre-formated tidy data table to confirm that it matches what we have calculated here."
   ]
  },
  {
   "cell_type": "code",
   "execution_count": 4,
   "metadata": {},
   "outputs": [],
   "source": [
    "df = pd.read_csv(\"./20190322_supp_table_2.csv\")"
   ]
  },
  {
   "cell_type": "markdown",
   "metadata": {},
   "source": [
    "First we will check that all the species names match us."
   ]
  },
  {
   "cell_type": "code",
   "execution_count": 5,
   "metadata": {},
   "outputs": [
    {
     "name": "stdout",
     "output_type": "stream",
     "text": [
      "['Coelorrhina_hornimani' 'Cyclocephala_borealis' 'Dicronorrhina_derbyana'\n",
      " 'Dynastes_hercules' 'Eudicella_euthalia' 'Goliathus_goliathus'\n",
      " 'Mecynorrhina_torquata' 'Popilia_japonica' 'Protaetia_orientalis'\n",
      " 'Trypoxylus_dichotomus']\n",
      "['Coelorrhina_hornimani' 'Cyclocephala_borealis' 'Dicronorrhina_derbyana'\n",
      " 'Dynastes_hercules' 'Eudicella_euthalia' 'Goliathus_goliathus'\n",
      " 'Mecynorrhina_torquata' 'Popilia_japonica' 'Protaetia_orientalis'\n",
      " 'Trypoxylus_dichotomus']\n",
      "[ True  True  True  True  True  True  True  True  True  True]\n"
     ]
    }
   ],
   "source": [
    "print(np.sort(df_raw_tidy['species'].unique()))\n",
    "print(np.sort(np.unique(np.array([re.sub(' ', '_', s) for s in df['species'].values]))))\n",
    "print(np.sort(df_raw_tidy['species'].unique()) == np.sort(np.unique(np.array([re.sub(' ', '_', s) for s in df['species'].values]))))"
   ]
  },
  {
   "cell_type": "markdown",
   "metadata": {},
   "source": [
    "Looks good! We will plot all the spiracle areas vs mass and depths vs mass on top of each other from both data tables to confirm that they match one another. "
   ]
  },
  {
   "cell_type": "code",
   "execution_count": 6,
   "metadata": {},
   "outputs": [
    {
     "data": {
      "text/html": [
       "\n",
       "\n",
       "\n",
       "\n",
       "\n",
       "\n",
       "  <div class=\"bk-root\" id=\"9b2a3760-c958-4a44-ac84-f55265ab554a\" data-root-id=\"1002\"></div>\n"
      ]
     },
     "metadata": {},
     "output_type": "display_data"
    },
    {
     "data": {
      "application/javascript": [
       "(function(root) {\n",
       "  function embed_document(root) {\n",
       "    \n",
       "  var docs_json = {\"80d370e0-a81a-460a-a3d5-87fa1cc76601\":{\"roots\":{\"references\":[{\"attributes\":{\"below\":[{\"id\":\"1013\",\"type\":\"LinearAxis\"}],\"center\":[{\"id\":\"1017\",\"type\":\"Grid\"},{\"id\":\"1022\",\"type\":\"Grid\"}],\"left\":[{\"id\":\"1018\",\"type\":\"LinearAxis\"}],\"plot_height\":350,\"renderers\":[{\"id\":\"1039\",\"type\":\"GlyphRenderer\"},{\"id\":\"1044\",\"type\":\"GlyphRenderer\"}],\"title\":{\"id\":\"1003\",\"type\":\"Title\"},\"toolbar\":{\"id\":\"1029\",\"type\":\"Toolbar\"},\"x_range\":{\"id\":\"1005\",\"type\":\"DataRange1d\"},\"x_scale\":{\"id\":\"1009\",\"type\":\"LinearScale\"},\"y_range\":{\"id\":\"1007\",\"type\":\"DataRange1d\"},\"y_scale\":{\"id\":\"1011\",\"type\":\"LinearScale\"}},\"id\":\"1002\",\"subtype\":\"Figure\",\"type\":\"Plot\"},{\"attributes\":{},\"id\":\"1028\",\"type\":\"HelpTool\"},{\"attributes\":{\"fill_alpha\":{\"value\":0.1},\"fill_color\":{\"value\":\"#1f77b4\"},\"line_alpha\":{\"value\":0.1},\"line_color\":{\"value\":\"#1f77b4\"},\"size\":{\"units\":\"screen\",\"value\":20},\"x\":{\"field\":\"x\"},\"y\":{\"field\":\"y\"}},\"id\":\"1038\",\"type\":\"Circle\"},{\"attributes\":{\"overlay\":{\"id\":\"1055\",\"type\":\"BoxAnnotation\"}},\"id\":\"1025\",\"type\":\"BoxZoomTool\"},{\"attributes\":{},\"id\":\"1049\",\"type\":\"BasicTickFormatter\"},{\"attributes\":{\"source\":{\"id\":\"1036\",\"type\":\"ColumnDataSource\"}},\"id\":\"1040\",\"type\":\"CDSView\"},{\"attributes\":{\"fill_color\":{\"value\":\"black\"},\"size\":{\"units\":\"screen\",\"value\":10},\"x\":{\"field\":\"x\"},\"y\":{\"field\":\"y\"}},\"id\":\"1042\",\"type\":\"Circle\"},{\"attributes\":{},\"id\":\"1053\",\"type\":\"Selection\"},{\"attributes\":{\"formatter\":{\"id\":\"1047\",\"type\":\"BasicTickFormatter\"},\"ticker\":{\"id\":\"1019\",\"type\":\"BasicTicker\"}},\"id\":\"1018\",\"type\":\"LinearAxis\"},{\"attributes\":{\"callback\":null,\"data\":{\"x\":{\"__ndarray__\":\"C04FShnr6b8UGCets/7uv9nLJI8EOPC/Jb8Eahmk7b/u4oa572LzP9yhDdJbJPQ/t8yGXkaO2z/xDyGWAZPMP3je5qKP452/coc2SG+R0D/aisQFGS2rPwzdjM6v4tQ/9brj1Ro21T9ra8Pkf9TpP9+WYh/wyuo/Bs4UmiNi9T/mZ1gUntz3PwtOBUoZ6+m/FBgnrbP+7r/ZyySPBDjwvyW/BGoZpO2/7uKGue9i8z/coQ3SWyT0P7fMhl5Gjts/8Q8hlgGTzD943uaij+Odv3KHNkhvkdA/2orEBRktqz8M3YzOr+LUP/W649UaNtU/a2vD5H/U6T/flmIf8MrqPwbOFJojYvU/5mdYFJ7c9z8LTgVKGevpvxQYJ62z/u6/2cskjwQ48L8lvwRqGaTtv+7ihrnvYvM/3KEN0lsk9D+3zIZeRo7bP/EPIZYBk8w/eN7moo/jnb9yhzZIb5HQP9qKxAUZLas/DN2Mzq/i1D/1uuPVGjbVP2trw+R/1Ok/35ZiH/DK6j8GzhSaI2L1P+ZnWBSe3Pc/C04FShnr6b8UGCets/7uv9nLJI8EOPC/Jb8Eahmk7b/u4oa572LzP9yhDdJbJPQ/t8yGXkaO2z/xDyGWAZPMP3je5qKP452/coc2SG+R0D/aisQFGS2rPwzdjM6v4tQ/9brj1Ro21T9ra8Pkf9TpP9+WYh/wyuo/Bs4UmiNi9T/mZ1gUntz3PwtOBUoZ6+m/FBgnrbP+7r/ZyySPBDjwvyW/BGoZpO2/7uKGue9i8z/coQ3SWyT0P7fMhl5Gjts/8Q8hlgGTzD943uaij+Odv3KHNkhvkdA/2orEBRktqz8M3YzOr+LUP/W649UaNtU/a2vD5H/U6T/flmIf8MrqPwbOFJojYvU/5mdYFJ7c9z8LTgVKGevpvxQYJ62z/u6/2cskjwQ48L8lvwRqGaTtv+7ihrnvYvM/3KEN0lsk9D+3zIZeRo7bP/EPIZYBk8w/eN7moo/jnb9yhzZIb5HQP9qKxAUZLas/DN2Mzq/i1D/1uuPVGjbVP2trw+R/1Ok/35ZiH/DK6j8GzhSaI2L1P+ZnWBSe3Pc/C04FShnr6b8UGCets/7uv9nLJI8EOPC/Jb8Eahmk7b/u4oa572LzP9yhDdJbJPQ/t8yGXkaO2z/xDyGWAZPMP3je5qKP452/coc2SG+R0D/aisQFGS2rPwzdjM6v4tQ/9brj1Ro21T9ra8Pkf9TpP9+WYh/wyuo/Bs4UmiNi9T/mZ1gUntz3PwtOBUoZ6+m/FBgnrbP+7r/ZyySPBDjwvyW/BGoZpO2/7uKGue9i8z/coQ3SWyT0P7fMhl5Gjts/8Q8hlgGTzD943uaij+Odv3KHNkhvkdA/2orEBRktqz8M3YzOr+LUP/W649UaNtU/a2vD5H/U6T/flmIf8MrqPwbOFJojYvU/5mdYFJ7c9z8=\",\"dtype\":\"float64\",\"shape\":[136]},\"y\":{\"__ndarray__\":\"2kUzVScYAcCUNVClisACwPMyFWVFHATAU5K68UDMA8BnTJfjpvjhv6v+43Go1eu/1Eea24lB7b8r42Ss/If2v59d5KqTDPe/RDpthksr9r+TJfordIzlv4cxryzpcva/Hr6HyLDb9L8gzQFSh/j4v79syD07LO+/KBosbGQJ7795kVmjfMjrv1O8f2kLYgLAfvoruIePB8CIGsVrKbsDwLqwk06wKQTAL8tb2i2v4L96CONZumPsv7Srwvw6HfG/1b2bQpGh+b+9wbnjbi/4v5gI7lu54PW/FdUeP8aQ7b+JsaKnDI/4vyRWYmTzqvW/huOFFus79L8iRdtBGtryvzyAs4/7+Oy/9pfRuee76r+oCYFo3j0DwOkW099MgQbAbxLKYd2aAsAEEB33SscDwEV6qB398Na/ro0ewN2r6r+edBt7ifTxv5zIyDYn1vu/lLlYrLGw+r+Tkajf8/rzv0xbU4EQ/e2/l+mGPRm79b8xKzC7Vkf1v9Lpmq19lPa/EKWOmgw29r/5QurG/JTtv8VtQ89tNey/TUyRwblRAsCaniAMePsBwLS/a7uo8/y/0aT5ulha979tbTrdacTcv43itaYOV+6/yMuLVBUV7r8Gdzg9+1T2v+K+Z0y8Lve/b+28NkP28L+mr4Avfxnvv9omFXxYz/W/s6CmFMfg8b8fKL/ijxXwvzq7qbw4u+2/nVA3EWwU3r8n/YdLp7zTvwUipFljhAXALQLlP8bxAsD+mnGAym78v3DAAggMMfa/31MYERMmwb+QbjErPtzYv3w9iRk10OW/ctdBwoVE6r/IYMfR9uvzvyTzL6X4xPO/nBjhE8Ux8b8vIs7C2uzzvyNy9+BFFPC/EA/8o93p7L8dYies/onnv8RhW99qcdq/0ZXqKMCChD9Jdy3vkWoAwFp/GJb4MQLA3PBuNkSk+7/Wc8Rr8nH3vxm40ukX1bM//MBhHCkhvT+L4qTP4F3yv8G92iRTlO2/VhTf5qSP77/buell8EXwvyKQbZory+u/0kQ7ZWca9L+zzCVOyB3uv9PnUi5J9u2/MZ2c5IG+17+ht9af8ubIv+o+jxDJBLC/WvwI0k34/792w2sKOo8AwIxkDsnU9P2/tp1+VR9Y978AAAAAAAD4f4VojPyWYrc/xCkjl3br8r9ch10W0cnwv/5kdFoevfG/kGpWpg2O9L8X/o6uPnDwv3aofkmhy/e/2Bhx+jX567/uPhYnrrTmv5q4OiSweuW/XkF7H5b/37+hDCH3tiaxP1y3hDytfvq/FN7NZvbC9L9VrixRiZf1vwAAAAAAAPh/FZuxm+0I0z/fFuKn4C7YP0ulRZfTd8S/202xmTIO4b+2sb7Db0jkv9sUv9nEdOO/rMWIORgG5L8oODl7UZDYv9ceP+3eo+O/dn9uNVb53L+1nCOvvXjDP6X2mfR9N8E/vvuvxFLQwT8=\",\"dtype\":\"float64\",\"shape\":[136]}},\"selected\":{\"id\":\"1051\",\"type\":\"Selection\"},\"selection_policy\":{\"id\":\"1052\",\"type\":\"UnionRenderers\"}},\"id\":\"1036\",\"type\":\"ColumnDataSource\"},{\"attributes\":{\"ticker\":{\"id\":\"1014\",\"type\":\"BasicTicker\"}},\"id\":\"1017\",\"type\":\"Grid\"},{\"attributes\":{},\"id\":\"1047\",\"type\":\"BasicTickFormatter\"},{\"attributes\":{},\"id\":\"1014\",\"type\":\"BasicTicker\"},{\"attributes\":{\"text\":\"log(area) vs log(mass)\"},\"id\":\"1003\",\"type\":\"Title\"},{\"attributes\":{},\"id\":\"1052\",\"type\":\"UnionRenderers\"},{\"attributes\":{\"data_source\":{\"id\":\"1036\",\"type\":\"ColumnDataSource\"},\"glyph\":{\"id\":\"1037\",\"type\":\"Circle\"},\"hover_glyph\":null,\"muted_glyph\":null,\"nonselection_glyph\":{\"id\":\"1038\",\"type\":\"Circle\"},\"selection_glyph\":null,\"view\":{\"id\":\"1040\",\"type\":\"CDSView\"}},\"id\":\"1039\",\"type\":\"GlyphRenderer\"},{\"attributes\":{\"fill_alpha\":{\"value\":0.1},\"fill_color\":{\"value\":\"#1f77b4\"},\"line_alpha\":{\"value\":0.1},\"line_color\":{\"value\":\"#1f77b4\"},\"size\":{\"units\":\"screen\",\"value\":10},\"x\":{\"field\":\"x\"},\"y\":{\"field\":\"y\"}},\"id\":\"1043\",\"type\":\"Circle\"},{\"attributes\":{},\"id\":\"1024\",\"type\":\"WheelZoomTool\"},{\"attributes\":{},\"id\":\"1027\",\"type\":\"ResetTool\"},{\"attributes\":{},\"id\":\"1054\",\"type\":\"UnionRenderers\"},{\"attributes\":{\"bottom_units\":\"screen\",\"fill_alpha\":{\"value\":0.5},\"fill_color\":{\"value\":\"lightgrey\"},\"left_units\":\"screen\",\"level\":\"overlay\",\"line_alpha\":{\"value\":1.0},\"line_color\":{\"value\":\"black\"},\"line_dash\":[4,4],\"line_width\":{\"value\":2},\"render_mode\":\"css\",\"right_units\":\"screen\",\"top_units\":\"screen\"},\"id\":\"1055\",\"type\":\"BoxAnnotation\"},{\"attributes\":{\"callback\":null},\"id\":\"1005\",\"type\":\"DataRange1d\"},{\"attributes\":{\"callback\":null},\"id\":\"1007\",\"type\":\"DataRange1d\"},{\"attributes\":{},\"id\":\"1023\",\"type\":\"PanTool\"},{\"attributes\":{},\"id\":\"1019\",\"type\":\"BasicTicker\"},{\"attributes\":{\"callback\":null,\"data\":{\"x\":{\"__ndarray__\":\"7uKGue9i8z/coQ3SWyT0P9qKxAUZLas/DN2Mzq/i1D/1uuPVGjbVP9+WYh/wyuo/t8yGXkaO2z/xDyGWAZPMP3je5qKP452/coc2SG+R0D8LTgVKGevpvxQYJ62z/u6/a2vD5H/U6T8GzhSaI2L1P+ZnWBSe3Pc/2cskjwQ48L8lvwRqGaTtv+7ihrnvYvM/3KEN0lsk9D/aisQFGS2rPwzdjM6v4tQ/9brj1Ro21T/flmIf8MrqP7fMhl5Gjts/8Q8hlgGTzD943uaij+Odv3KHNkhvkdA/C04FShnr6b8UGCets/7uv2trw+R/1Ok/Bs4UmiNi9T/mZ1gUntz3P9nLJI8EOPC/Jb8Eahmk7b/u4oa572LzP9yhDdJbJPQ/2orEBRktqz8M3YzOr+LUP/W649UaNtU/35ZiH/DK6j+3zIZeRo7bP/EPIZYBk8w/eN7moo/jnb9yhzZIb5HQPwtOBUoZ6+m/FBgnrbP+7r9ra8Pkf9TpPwbOFJojYvU/5mdYFJ7c9z/ZyySPBDjwvyW/BGoZpO2/7uKGue9i8z/coQ3SWyT0P9qKxAUZLas/DN2Mzq/i1D/1uuPVGjbVP9+WYh/wyuo/t8yGXkaO2z/xDyGWAZPMP3je5qKP452/coc2SG+R0D8LTgVKGevpvxQYJ62z/u6/a2vD5H/U6T8GzhSaI2L1P+ZnWBSe3Pc/2cskjwQ48L8lvwRqGaTtv+7ihrnvYvM/3KEN0lsk9D/aisQFGS2rPwzdjM6v4tQ/9brj1Ro21T/flmIf8MrqP7fMhl5Gjts/8Q8hlgGTzD943uaij+Odv3KHNkhvkdA/C04FShnr6b8UGCets/7uv2trw+R/1Ok/Bs4UmiNi9T/mZ1gUntz3P9nLJI8EOPC/Jb8Eahmk7b/u4oa572LzP9yhDdJbJPQ/2orEBRktqz8M3YzOr+LUP/W649UaNtU/35ZiH/DK6j+3zIZeRo7bP/EPIZYBk8w/eN7moo/jnb9yhzZIb5HQPwtOBUoZ6+m/FBgnrbP+7r9ra8Pkf9TpPwbOFJojYvU/5mdYFJ7c9z/ZyySPBDjwvyW/BGoZpO2/3KEN0lsk9D/aisQFGS2rPwzdjM6v4tQ/9brj1Ro21T/flmIf8MrqP7fMhl5Gjts/8Q8hlgGTzD943uaij+Odv3KHNkhvkdA/C04FShnr6b8UGCets/7uv2trw+R/1Ok/Bs4UmiNi9T/mZ1gUntz3P9nLJI8EOPC/Jb8Eahmk7b/u4oa572LzP9yhDdJbJPQ/2orEBRktqz8M3YzOr+LUP/W649UaNtU/35ZiH/DK6j+3zIZeRo7bP/EPIZYBk8w/eN7moo/jnb9yhzZIb5HQPwtOBUoZ6+m/FBgnrbP+7r9ra8Pkf9TpPwbOFJojYvU/5mdYFJ7c9z/ZyySPBDjwvw==\",\"dtype\":\"float64\",\"shape\":[134]},\"y\":{\"__ndarray__\":\"gbKF46b44b/1+zxyqNXrv+tXwSt0jOW/GihzK+ly9r8XJv7HsNv0v+vsEz47LO+/1nG+2olB7b+YerWs/If2v1JsJKqTDPe/SH+xhUsr9r+3nsFTJxgBwKBdUaeKwALAsJ+pUof4+L+NSddsZAnvv+tLdKN8yOu/mxGJZEUcBMBubrP5QMwDwOhQftotr+C/kOp2Wbpj7L/py0U+xpDtvxeUu6cMj/i/4pimY/Oq9b+PPUVBGtryv4xQfvw6HfG/e7GfRJGh+b90/yLlbi/4v9k5+1q54PW/KYfmZwtiAsBe5+Koh48HwDb8aBbrO/S/KEGpj/v47L8Vjzm657vqv/lfnGYpuwPAItiqRbApBMBDXO4d/fDWv2y+KcDdq+q/wCxNgRD97b+Xvrg8Gbv1vwr5TrpWR/W/kkl+mww29r+fCwF7ifTxv9eOPzQn1vu/2qW4rrGw+r8dvHHf8/rzv6YgFGjePQPAjL1d3EyBBsCecmqtfZT2v3lLgMf8lO2/BMatz2017L/fovtj3ZoCwPME0fZKxwPAgnEk3WnE3L+nFAinDlfuvza1Ui9/Ge+/0wP6e1jP9b9tnfgTx+Dxv5juN7w4u+2//aZmVRUV7r81fbo9+1T2vzsM50u8Lve/SEc5NkP28L/hTM2/uVECwDhUDgp4+wHA8bWi4o8V8L8OJ6gQbBTev7Hc7EunvNO/Cdq3uqjz/L+N4SC6WFr3v3GVIhETJsG/IBPPKj7c2L+5UlwUxTHxv2NylcLa7PO/Tstq4EUU8L/S852s/onnv7LbExo10OW/hvaiwYVE6r/fpuLR9uvzv0DoraT4xPO/BP9AU2OEBcDCwD9DxvECwDejq6Pd6ey/tSQ732px2r/XnQYwwIKEPzUxt33Kbvy/xLYyBwwx9r8zJVnpF9WzP4KalhwpIb0/3YARmivL678SKo5kZxr0vwCjD07IHe6/Fdgm5IG+17+qfBHP4F3yvxhHuSRTlO2/Kod75qSP779c/3xl8EXwv7nJZvKRagDAK/YOlfgxAsAzxqgtSfbtv1E+f6Dy5si/yGkgEMkEsL+KyJQzRKT7v+DO9Wzycfe/h9c2/ZZitz/NECqvPnDwvzwaJ0qhy/e/MHv++TX567/isssjsHrlv+apY5Z26/K/eGbXFtHJ8L+/nCBbHr3xv2QDoqUNjvS/Nj6H1E34/79NAZIJOo8AwBxYYCeutOa/taCRH5b/378/QBX3tiaxP0lqPsrU9P2/Nr5NVh9Y979bvKWb7QjTP9X4y6fgLtg/kDj1ORgG5L9JOOV6UZDYvyMwD+3eo+O/bltZr714wz/5Qh6X03fEv+mJFZoyDuG/KTRlw29I5L+M37rZxHTjv2tUfTqtfvq/48WTZ/bC9L9wGao1Vvncv7YmhPR9N8E/ZeMBxVLQwT/OO3BSiZf1vw==\",\"dtype\":\"float64\",\"shape\":[134]}},\"selected\":{\"id\":\"1053\",\"type\":\"Selection\"},\"selection_policy\":{\"id\":\"1054\",\"type\":\"UnionRenderers\"}},\"id\":\"1041\",\"type\":\"ColumnDataSource\"},{\"attributes\":{\"fill_color\":{\"value\":\"#1f77b4\"},\"line_color\":{\"value\":\"#1f77b4\"},\"size\":{\"units\":\"screen\",\"value\":20},\"x\":{\"field\":\"x\"},\"y\":{\"field\":\"y\"}},\"id\":\"1037\",\"type\":\"Circle\"},{\"attributes\":{},\"id\":\"1026\",\"type\":\"SaveTool\"},{\"attributes\":{\"data_source\":{\"id\":\"1041\",\"type\":\"ColumnDataSource\"},\"glyph\":{\"id\":\"1042\",\"type\":\"Circle\"},\"hover_glyph\":null,\"muted_glyph\":null,\"nonselection_glyph\":{\"id\":\"1043\",\"type\":\"Circle\"},\"selection_glyph\":null,\"view\":{\"id\":\"1045\",\"type\":\"CDSView\"}},\"id\":\"1044\",\"type\":\"GlyphRenderer\"},{\"attributes\":{},\"id\":\"1009\",\"type\":\"LinearScale\"},{\"attributes\":{\"formatter\":{\"id\":\"1049\",\"type\":\"BasicTickFormatter\"},\"ticker\":{\"id\":\"1014\",\"type\":\"BasicTicker\"}},\"id\":\"1013\",\"type\":\"LinearAxis\"},{\"attributes\":{\"dimension\":1,\"ticker\":{\"id\":\"1019\",\"type\":\"BasicTicker\"}},\"id\":\"1022\",\"type\":\"Grid\"},{\"attributes\":{\"source\":{\"id\":\"1041\",\"type\":\"ColumnDataSource\"}},\"id\":\"1045\",\"type\":\"CDSView\"},{\"attributes\":{},\"id\":\"1051\",\"type\":\"Selection\"},{\"attributes\":{\"active_drag\":\"auto\",\"active_inspect\":\"auto\",\"active_multi\":null,\"active_scroll\":\"auto\",\"active_tap\":\"auto\",\"tools\":[{\"id\":\"1023\",\"type\":\"PanTool\"},{\"id\":\"1024\",\"type\":\"WheelZoomTool\"},{\"id\":\"1025\",\"type\":\"BoxZoomTool\"},{\"id\":\"1026\",\"type\":\"SaveTool\"},{\"id\":\"1027\",\"type\":\"ResetTool\"},{\"id\":\"1028\",\"type\":\"HelpTool\"}]},\"id\":\"1029\",\"type\":\"Toolbar\"},{\"attributes\":{},\"id\":\"1011\",\"type\":\"LinearScale\"}],\"root_ids\":[\"1002\"]},\"title\":\"Bokeh Application\",\"version\":\"1.4.0\"}};\n",
       "  var render_items = [{\"docid\":\"80d370e0-a81a-460a-a3d5-87fa1cc76601\",\"roots\":{\"1002\":\"9b2a3760-c958-4a44-ac84-f55265ab554a\"}}];\n",
       "  root.Bokeh.embed.embed_items_notebook(docs_json, render_items);\n",
       "\n",
       "  }\n",
       "  if (root.Bokeh !== undefined) {\n",
       "    embed_document(root);\n",
       "  } else {\n",
       "    var attempts = 0;\n",
       "    var timer = setInterval(function(root) {\n",
       "      if (root.Bokeh !== undefined) {\n",
       "        clearInterval(timer);\n",
       "        embed_document(root);\n",
       "      } else {\n",
       "        attempts++;\n",
       "        if (attempts > 100) {\n",
       "          clearInterval(timer);\n",
       "          console.log(\"Bokeh: ERROR: Unable to run BokehJS code because BokehJS library is missing\");\n",
       "        }\n",
       "      }\n",
       "    }, 10, root)\n",
       "  }\n",
       "})(window);"
      ],
      "application/vnd.bokehjs_exec.v0+json": ""
     },
     "metadata": {
      "application/vnd.bokehjs_exec.v0+json": {
       "id": "1002"
      }
     },
     "output_type": "display_data"
    },
    {
     "data": {
      "text/html": [
       "\n",
       "\n",
       "\n",
       "\n",
       "\n",
       "\n",
       "  <div class=\"bk-root\" id=\"59b06df3-af80-446a-a7a0-248a442b52a0\" data-root-id=\"1116\"></div>\n"
      ]
     },
     "metadata": {},
     "output_type": "display_data"
    },
    {
     "data": {
      "application/javascript": [
       "(function(root) {\n",
       "  function embed_document(root) {\n",
       "    \n",
       "  var docs_json = {\"97adbf38-c615-4a5b-a532-3e26a09df1a6\":{\"roots\":{\"references\":[{\"attributes\":{\"below\":[{\"id\":\"1127\",\"type\":\"LinearAxis\"}],\"center\":[{\"id\":\"1131\",\"type\":\"Grid\"},{\"id\":\"1136\",\"type\":\"Grid\"}],\"left\":[{\"id\":\"1132\",\"type\":\"LinearAxis\"}],\"plot_height\":350,\"renderers\":[{\"id\":\"1153\",\"type\":\"GlyphRenderer\"},{\"id\":\"1158\",\"type\":\"GlyphRenderer\"}],\"title\":{\"id\":\"1117\",\"type\":\"Title\"},\"toolbar\":{\"id\":\"1143\",\"type\":\"Toolbar\"},\"x_range\":{\"id\":\"1119\",\"type\":\"DataRange1d\"},\"x_scale\":{\"id\":\"1123\",\"type\":\"LinearScale\"},\"y_range\":{\"id\":\"1121\",\"type\":\"DataRange1d\"},\"y_scale\":{\"id\":\"1125\",\"type\":\"LinearScale\"}},\"id\":\"1116\",\"subtype\":\"Figure\",\"type\":\"Plot\"},{\"attributes\":{},\"id\":\"1123\",\"type\":\"LinearScale\"},{\"attributes\":{},\"id\":\"1142\",\"type\":\"HelpTool\"},{\"attributes\":{\"callback\":null},\"id\":\"1119\",\"type\":\"DataRange1d\"},{\"attributes\":{\"fill_alpha\":{\"value\":0.1},\"fill_color\":{\"value\":\"#1f77b4\"},\"line_alpha\":{\"value\":0.1},\"line_color\":{\"value\":\"#1f77b4\"},\"size\":{\"units\":\"screen\",\"value\":20},\"x\":{\"field\":\"x\"},\"y\":{\"field\":\"y\"}},\"id\":\"1152\",\"type\":\"Circle\"},{\"attributes\":{},\"id\":\"1141\",\"type\":\"ResetTool\"},{\"attributes\":{\"bottom_units\":\"screen\",\"fill_alpha\":{\"value\":0.5},\"fill_color\":{\"value\":\"lightgrey\"},\"left_units\":\"screen\",\"level\":\"overlay\",\"line_alpha\":{\"value\":1.0},\"line_color\":{\"value\":\"black\"},\"line_dash\":[4,4],\"line_width\":{\"value\":2},\"render_mode\":\"css\",\"right_units\":\"screen\",\"top_units\":\"screen\"},\"id\":\"1179\",\"type\":\"BoxAnnotation\"},{\"attributes\":{\"callback\":null,\"data\":{\"x\":{\"__ndarray__\":\"7uKGue9i8z/coQ3SWyT0P9qKxAUZLas/DN2Mzq/i1D/1uuPVGjbVP9+WYh/wyuo/t8yGXkaO2z/xDyGWAZPMP3je5qKP452/coc2SG+R0D8LTgVKGevpvxQYJ62z/u6/a2vD5H/U6T8GzhSaI2L1P+ZnWBSe3Pc/2cskjwQ48L8lvwRqGaTtv+7ihrnvYvM/3KEN0lsk9D/aisQFGS2rPwzdjM6v4tQ/9brj1Ro21T/flmIf8MrqP7fMhl5Gjts/8Q8hlgGTzD943uaij+Odv3KHNkhvkdA/C04FShnr6b8UGCets/7uv2trw+R/1Ok/Bs4UmiNi9T/mZ1gUntz3P9nLJI8EOPC/Jb8Eahmk7b/u4oa572LzP9yhDdJbJPQ/2orEBRktqz8M3YzOr+LUP/W649UaNtU/35ZiH/DK6j+3zIZeRo7bP/EPIZYBk8w/eN7moo/jnb9yhzZIb5HQPwtOBUoZ6+m/FBgnrbP+7r9ra8Pkf9TpPwbOFJojYvU/5mdYFJ7c9z/ZyySPBDjwvyW/BGoZpO2/7uKGue9i8z/coQ3SWyT0P9qKxAUZLas/DN2Mzq/i1D/1uuPVGjbVP9+WYh/wyuo/t8yGXkaO2z/xDyGWAZPMP3je5qKP452/coc2SG+R0D8LTgVKGevpvxQYJ62z/u6/a2vD5H/U6T8GzhSaI2L1P+ZnWBSe3Pc/2cskjwQ48L8lvwRqGaTtv+7ihrnvYvM/3KEN0lsk9D/aisQFGS2rPwzdjM6v4tQ/9brj1Ro21T/flmIf8MrqP7fMhl5Gjts/8Q8hlgGTzD943uaij+Odv3KHNkhvkdA/C04FShnr6b8UGCets/7uv2trw+R/1Ok/Bs4UmiNi9T/mZ1gUntz3P9nLJI8EOPC/Jb8Eahmk7b/u4oa572LzP9yhDdJbJPQ/2orEBRktqz8M3YzOr+LUP/W649UaNtU/35ZiH/DK6j+3zIZeRo7bP/EPIZYBk8w/eN7moo/jnb9yhzZIb5HQPwtOBUoZ6+m/FBgnrbP+7r9ra8Pkf9TpPwbOFJojYvU/5mdYFJ7c9z/ZyySPBDjwvyW/BGoZpO2/3KEN0lsk9D/aisQFGS2rPwzdjM6v4tQ/9brj1Ro21T/flmIf8MrqP7fMhl5Gjts/8Q8hlgGTzD943uaij+Odv3KHNkhvkdA/C04FShnr6b8UGCets/7uv2trw+R/1Ok/Bs4UmiNi9T/mZ1gUntz3P9nLJI8EOPC/Jb8Eahmk7b/u4oa572LzP9yhDdJbJPQ/2orEBRktqz8M3YzOr+LUP/W649UaNtU/35ZiH/DK6j+3zIZeRo7bP/EPIZYBk8w/eN7moo/jnb9yhzZIb5HQPwtOBUoZ6+m/FBgnrbP+7r9ra8Pkf9TpPwbOFJojYvU/5mdYFJ7c9z/ZyySPBDjwvw==\",\"dtype\":\"float64\",\"shape\":[134]},\"y\":{\"__ndarray__\":\"g2WhhMGb2T/UVJ8ni1fKP0BcrjN7bNC/R2TBuIbJ1L/Xx2yZo3jTv3r4cwvUisi/qS72btcyx7+BZJUPlc3OvwH7Awdre9q/9YOgJoN4278fiUFCpEPov2jyWSyg6um/zPYeUN+jsr8qP2sROArKP6Hys+5CTtU/Qv81YOPN4b/6ZnSk2Ifhv4tjYwNi3sg/dOhGXI/IxD/O4jQhpeTSv+ETec6WetO/B87GvZlM0L+vqr5NkflnP6I8P9EEgdC/79PcOlrb0r9HUULT9JrgvxcabIBzs96/pUIaTnyU6r9gRxWuW3Lrv61BEDBIK6M/GM7JfyC1xj/FrN7GFF/SP7oLGbpisOO/kqHNDtXM4r+TvudqDZ/QP5cTNKckRck/AyvaPHxP1L+yGAskWZrSv6nomfu9tdC/sFLfSwSh1L8sdISuALDRv6viCuzRgNG/83MSSs5U4b9JTyHVkw3gvzSLZDO5/Om/VvHGznAz67/O8O5u3rufv8X2MwoSb8g/TvAMAkLU1T/iUJXYE1rjv5MRHOFlHuO/2kogcMS9tT/aCSAt1KyrP4SwAryWM9+/GHCWZVtp1r/VAm+EmoHVv2HnyBoLu86/diRErqtH0L9pBYgGdcXVv7aAUszaB+e/YMiRDOIe5b/B6bFykMHmv2J2FBJPFuW/XH3XLuP/vb/TBtguUtG1v1FaIuypKKu/I2FFnLQe479qCRkpMXTmv2rb40mENqE/BJcZYSfloT80EeiIhRvWvxS1/0Y5ftK/XfV8Lqq72L/bV4uPBQXMv511MdiJYdO/r1e6dpTA1r82mAmUwXvkv7EF4kDKReO/NEb7obHx4r/9bUFjqpXmv+mAMpYyD8m/2e7u8Zm1vr9ME89zv+6gvx+eZpG75ua/9ALSbPsU5r+SQ5xARy/FPzoRqF23MaU/390bgIVU2L/u0BnRFErQv3i2nDM5WtW/Qk9OHug7er+xCpUCujfEv2obiMvl4ty/KUjwuGBD5L/x163HjA3ov0OTGyJ4UOS/1LAQGUMv5b/rQwo4EJrQv9g0qEIoJrO/984YUcU3ar+NlU4zkdzlv3lOY8aJZea/+qwPHXVNsT/oJSvp72fUvxiofC+5T8q/xck0VIMBy7+DSxaxKpVmPzAbyGFFbMu/N0CZKo8yz7/VXuzkC+bfv23AowTs7eC/LJwxN2z5578lqZonGXvov8hiM+aKtc2/6/1HScF0gz95SpWRX0qsP4a6K1a+Pui/i0Te5rYG5r8yqhMQieyuP6kHoqs9w7S/HGA9MTZm4L8XHb35z5zdv4Vva7aRRuS/+SmVpEvHy7/iFIntK3zev3NauFqBjd6/zg33vOZ14b9LRKEZ0g7hv+eVFQMCu+m/EP/dzh1F6r+YcBfcY2Xav+OaAGY/ZuK/LpnPo5yrs7+sda2lDuPnvw==\",\"dtype\":\"float64\",\"shape\":[134]}},\"selected\":{\"id\":\"1177\",\"type\":\"Selection\"},\"selection_policy\":{\"id\":\"1178\",\"type\":\"UnionRenderers\"}},\"id\":\"1155\",\"type\":\"ColumnDataSource\"},{\"attributes\":{\"fill_color\":{\"value\":\"black\"},\"size\":{\"units\":\"screen\",\"value\":10},\"x\":{\"field\":\"x\"},\"y\":{\"field\":\"y\"}},\"id\":\"1156\",\"type\":\"Circle\"},{\"attributes\":{},\"id\":\"1140\",\"type\":\"SaveTool\"},{\"attributes\":{\"text\":\"log(depth) vs log(mass)\"},\"id\":\"1117\",\"type\":\"Title\"},{\"attributes\":{\"overlay\":{\"id\":\"1179\",\"type\":\"BoxAnnotation\"}},\"id\":\"1139\",\"type\":\"BoxZoomTool\"},{\"attributes\":{\"callback\":null,\"data\":{\"x\":{\"__ndarray__\":\"C04FShnr6b8UGCets/7uv9nLJI8EOPC/Jb8Eahmk7b/u4oa572LzP9yhDdJbJPQ/t8yGXkaO2z/xDyGWAZPMP3je5qKP452/coc2SG+R0D/aisQFGS2rPwzdjM6v4tQ/9brj1Ro21T9ra8Pkf9TpP9+WYh/wyuo/Bs4UmiNi9T/mZ1gUntz3PwtOBUoZ6+m/FBgnrbP+7r/ZyySPBDjwvyW/BGoZpO2/7uKGue9i8z/coQ3SWyT0P7fMhl5Gjts/8Q8hlgGTzD943uaij+Odv3KHNkhvkdA/2orEBRktqz8M3YzOr+LUP/W649UaNtU/a2vD5H/U6T/flmIf8MrqPwbOFJojYvU/5mdYFJ7c9z8LTgVKGevpvxQYJ62z/u6/2cskjwQ48L8lvwRqGaTtv+7ihrnvYvM/3KEN0lsk9D+3zIZeRo7bP/EPIZYBk8w/eN7moo/jnb9yhzZIb5HQP9qKxAUZLas/DN2Mzq/i1D/1uuPVGjbVP2trw+R/1Ok/35ZiH/DK6j8GzhSaI2L1P+ZnWBSe3Pc/C04FShnr6b8UGCets/7uv9nLJI8EOPC/Jb8Eahmk7b/u4oa572LzP9yhDdJbJPQ/t8yGXkaO2z/xDyGWAZPMP3je5qKP452/coc2SG+R0D/aisQFGS2rPwzdjM6v4tQ/9brj1Ro21T9ra8Pkf9TpP9+WYh/wyuo/Bs4UmiNi9T/mZ1gUntz3PwtOBUoZ6+m/FBgnrbP+7r/ZyySPBDjwvyW/BGoZpO2/7uKGue9i8z/coQ3SWyT0P7fMhl5Gjts/8Q8hlgGTzD943uaij+Odv3KHNkhvkdA/2orEBRktqz8M3YzOr+LUP/W649UaNtU/a2vD5H/U6T/flmIf8MrqPwbOFJojYvU/5mdYFJ7c9z8LTgVKGevpvxQYJ62z/u6/2cskjwQ48L8lvwRqGaTtv+7ihrnvYvM/3KEN0lsk9D+3zIZeRo7bP/EPIZYBk8w/eN7moo/jnb9yhzZIb5HQP9qKxAUZLas/DN2Mzq/i1D/1uuPVGjbVP2trw+R/1Ok/35ZiH/DK6j8GzhSaI2L1P+ZnWBSe3Pc/C04FShnr6b8UGCets/7uv9nLJI8EOPC/Jb8Eahmk7b/u4oa572LzP9yhDdJbJPQ/t8yGXkaO2z/xDyGWAZPMP3je5qKP452/coc2SG+R0D/aisQFGS2rPwzdjM6v4tQ/9brj1Ro21T9ra8Pkf9TpP9+WYh/wyuo/Bs4UmiNi9T/mZ1gUntz3PwtOBUoZ6+m/FBgnrbP+7r/ZyySPBDjwvyW/BGoZpO2/7uKGue9i8z/coQ3SWyT0P7fMhl5Gjts/8Q8hlgGTzD943uaij+Odv3KHNkhvkdA/2orEBRktqz8M3YzOr+LUP/W649UaNtU/a2vD5H/U6T/flmIf8MrqPwbOFJojYvU/5mdYFJ7c9z8=\",\"dtype\":\"float64\",\"shape\":[136]},\"y\":{\"__ndarray__\":\"IIlBQqRD6L9o8lksoOrpv0L/NWDjzeG/+WZ0pNiH4b+/i56EwZvZP2F+jSeLV8o/sRlTbtcyx79up+wPlc3Ov/YG5QZre9q/YEWNJoN4279AXK4ze2zQv0dkwbiGydS/18dsmaN407/M9h5Q36Oyv4NKIgvUisi/cLV1ETgKyj9glsTuQk7VP6VCGk58lOq/YUcVrlty67+6Cxm6YrDjv5KhzQ7VzOK/wSCOA2LeyD8FVldcj8jEPwq99dAEgdC/gQDyOlrb0r93CFbT9Jrgv3l1MoBzs96/zuI0IaXk0r/iE3nOlnrTvwfOxr2ZTNC/rUEQMEgroz8tWEkxkflnP+q9iH8gtcY/vljSxhRf0j80i2Qzufzpv1bxxs5wM+u/4lCV2BNa47+UERzhZR7jv4cc0GoNn9A/Np0GpyRFyT/TUE6uALDRv1lnBuzRgNG/qP87Ss5U4b9mNEfVkw3gvwMr2jx8T9S/tBgLJFma0r+q6Jn7vbXQv93w7m7eu5+/lze8SwSh1L9M9wsKEm/IP07wDAJC1NU/wemxcpDB5r9idhQSTxblvyNhRZy0HuO/aQkZKTF05r8DDWNwxL21P56Z3yvUrKs/vJhorqtH0L9Lik4GdcXVv7aAUszaB+e/Yf7VDOIe5b+EsAK8ljPfvxhwlmVbada/1gJvhJqB1b9cfdcu4/+9vyM00RoLu86/xT91LlLRtb+kFGbtqSirvzRG+6Gx8eK//W1BY6qV5r8fnmaRu+bmv/QC0mz7FOa/4T0qSYQ2oT9D0FZiJ+WhP+ECX9iJYdO/24CBdpTA1r8hWaGTwXvkvwsxvkDKReO/NBHoiIUb1r8Utf9GOX7Sv1z1fC6qu9i/7IAyljIPyb+60baPBQXMvwBmzfCZtb6/ejGddL/uoL9DkxsieFDkv9SwEBlDL+W/jJVOM5Hc5b95TmPGiWXmv45YTEBHL8U/8lQHXLcxpT86vOwBujfEv3qbDsvl4ty/SaHWuGBD5L88SxbIjA3ov9/dG4CFVNi/79AZ0RRK0L94tpwzOVrVv+tDCjgQmtC/kCWtEOg7er/59wJDKCazv1h4FUvFN2q/LJwxN2z5578lqZonGXvov4a6K1a+Pui/jETe5rYG5r8AAAAAAAD4f4GWaR11TbE/RAoiYkVsy7/iSMcqjzLPv8I1XeUL5t+/Jn72BOzt4L/qJSvp72fUvxuofC+5T8q/wsk0VIMBy7/IYjPmirXNv569MKgqlWY/4eCBRsF0gz8jA5mQX0qsP+eVFQMCu+m/EP/dzh1F6r+sda2lDuPnvwAAAAAAAPh/m1KuDonsrj/syKSqPcO0vy47kO0rfN6/HAYAW4GN3r+zHs285nXhv1n/ABrSDuG/G2A9MTZm4L8XHb35z5zdv4Vva7aRRuS/mnAX3GNl2r83KA+lS8fLv+3t52U/ZuK//ZqWo5yrs78=\",\"dtype\":\"float64\",\"shape\":[136]}},\"selected\":{\"id\":\"1175\",\"type\":\"Selection\"},\"selection_policy\":{\"id\":\"1176\",\"type\":\"UnionRenderers\"}},\"id\":\"1150\",\"type\":\"ColumnDataSource\"},{\"attributes\":{\"fill_color\":{\"value\":\"#1f77b4\"},\"line_color\":{\"value\":\"#1f77b4\"},\"size\":{\"units\":\"screen\",\"value\":20},\"x\":{\"field\":\"x\"},\"y\":{\"field\":\"y\"}},\"id\":\"1151\",\"type\":\"Circle\"},{\"attributes\":{\"fill_alpha\":{\"value\":0.1},\"fill_color\":{\"value\":\"#1f77b4\"},\"line_alpha\":{\"value\":0.1},\"line_color\":{\"value\":\"#1f77b4\"},\"size\":{\"units\":\"screen\",\"value\":10},\"x\":{\"field\":\"x\"},\"y\":{\"field\":\"y\"}},\"id\":\"1157\",\"type\":\"Circle\"},{\"attributes\":{},\"id\":\"1138\",\"type\":\"WheelZoomTool\"},{\"attributes\":{\"callback\":null},\"id\":\"1121\",\"type\":\"DataRange1d\"},{\"attributes\":{\"data_source\":{\"id\":\"1155\",\"type\":\"ColumnDataSource\"},\"glyph\":{\"id\":\"1156\",\"type\":\"Circle\"},\"hover_glyph\":null,\"muted_glyph\":null,\"nonselection_glyph\":{\"id\":\"1157\",\"type\":\"Circle\"},\"selection_glyph\":null,\"view\":{\"id\":\"1159\",\"type\":\"CDSView\"}},\"id\":\"1158\",\"type\":\"GlyphRenderer\"},{\"attributes\":{},\"id\":\"1137\",\"type\":\"PanTool\"},{\"attributes\":{\"ticker\":{\"id\":\"1128\",\"type\":\"BasicTicker\"}},\"id\":\"1131\",\"type\":\"Grid\"},{\"attributes\":{},\"id\":\"1133\",\"type\":\"BasicTicker\"},{\"attributes\":{\"formatter\":{\"id\":\"1171\",\"type\":\"BasicTickFormatter\"},\"ticker\":{\"id\":\"1133\",\"type\":\"BasicTicker\"}},\"id\":\"1132\",\"type\":\"LinearAxis\"},{\"attributes\":{\"source\":{\"id\":\"1155\",\"type\":\"ColumnDataSource\"}},\"id\":\"1159\",\"type\":\"CDSView\"},{\"attributes\":{},\"id\":\"1178\",\"type\":\"UnionRenderers\"},{\"attributes\":{},\"id\":\"1175\",\"type\":\"Selection\"},{\"attributes\":{},\"id\":\"1128\",\"type\":\"BasicTicker\"},{\"attributes\":{},\"id\":\"1173\",\"type\":\"BasicTickFormatter\"},{\"attributes\":{},\"id\":\"1171\",\"type\":\"BasicTickFormatter\"},{\"attributes\":{},\"id\":\"1125\",\"type\":\"LinearScale\"},{\"attributes\":{},\"id\":\"1176\",\"type\":\"UnionRenderers\"},{\"attributes\":{\"data_source\":{\"id\":\"1150\",\"type\":\"ColumnDataSource\"},\"glyph\":{\"id\":\"1151\",\"type\":\"Circle\"},\"hover_glyph\":null,\"muted_glyph\":null,\"nonselection_glyph\":{\"id\":\"1152\",\"type\":\"Circle\"},\"selection_glyph\":null,\"view\":{\"id\":\"1154\",\"type\":\"CDSView\"}},\"id\":\"1153\",\"type\":\"GlyphRenderer\"},{\"attributes\":{},\"id\":\"1177\",\"type\":\"Selection\"},{\"attributes\":{\"formatter\":{\"id\":\"1173\",\"type\":\"BasicTickFormatter\"},\"ticker\":{\"id\":\"1128\",\"type\":\"BasicTicker\"}},\"id\":\"1127\",\"type\":\"LinearAxis\"},{\"attributes\":{\"source\":{\"id\":\"1150\",\"type\":\"ColumnDataSource\"}},\"id\":\"1154\",\"type\":\"CDSView\"},{\"attributes\":{\"active_drag\":\"auto\",\"active_inspect\":\"auto\",\"active_multi\":null,\"active_scroll\":\"auto\",\"active_tap\":\"auto\",\"tools\":[{\"id\":\"1137\",\"type\":\"PanTool\"},{\"id\":\"1138\",\"type\":\"WheelZoomTool\"},{\"id\":\"1139\",\"type\":\"BoxZoomTool\"},{\"id\":\"1140\",\"type\":\"SaveTool\"},{\"id\":\"1141\",\"type\":\"ResetTool\"},{\"id\":\"1142\",\"type\":\"HelpTool\"}]},\"id\":\"1143\",\"type\":\"Toolbar\"},{\"attributes\":{\"dimension\":1,\"ticker\":{\"id\":\"1133\",\"type\":\"BasicTicker\"}},\"id\":\"1136\",\"type\":\"Grid\"}],\"root_ids\":[\"1116\"]},\"title\":\"Bokeh Application\",\"version\":\"1.4.0\"}};\n",
       "  var render_items = [{\"docid\":\"97adbf38-c615-4a5b-a532-3e26a09df1a6\",\"roots\":{\"1116\":\"59b06df3-af80-446a-a7a0-248a442b52a0\"}}];\n",
       "  root.Bokeh.embed.embed_items_notebook(docs_json, render_items);\n",
       "\n",
       "  }\n",
       "  if (root.Bokeh !== undefined) {\n",
       "    embed_document(root);\n",
       "  } else {\n",
       "    var attempts = 0;\n",
       "    var timer = setInterval(function(root) {\n",
       "      if (root.Bokeh !== undefined) {\n",
       "        clearInterval(timer);\n",
       "        embed_document(root);\n",
       "      } else {\n",
       "        attempts++;\n",
       "        if (attempts > 100) {\n",
       "          clearInterval(timer);\n",
       "          console.log(\"Bokeh: ERROR: Unable to run BokehJS code because BokehJS library is missing\");\n",
       "        }\n",
       "      }\n",
       "    }, 10, root)\n",
       "  }\n",
       "})(window);"
      ],
      "application/vnd.bokehjs_exec.v0+json": ""
     },
     "metadata": {
      "application/vnd.bokehjs_exec.v0+json": {
       "id": "1116"
      }
     },
     "output_type": "display_data"
    }
   ],
   "source": [
    "p = bokeh.plotting.figure(plot_height=350, title='log(area) vs log(mass)')\n",
    "p.circle(np.log10(df_raw_tidy['mass']), np.log10(df_raw_tidy['area mm^2']), size=20)\n",
    "p.circle(np.log10(df['mass (g)']), np.log10(df['area (mm^2)']), size=10, color='black')\n",
    "bokeh.io.show(p)\n",
    "\n",
    "p = bokeh.plotting.figure(plot_height=350, title='log(depth) vs log(mass)')\n",
    "p.circle(np.log10(df_raw_tidy['mass']), np.log10(df_raw_tidy['depth']), size=20)\n",
    "p.circle(np.log10(df['mass (g)']), np.log10(df['depth (mm)']), size=10, color='black')\n",
    "bokeh.io.show(p)"
   ]
  },
  {
   "cell_type": "markdown",
   "metadata": {},
   "source": [
    "Looks identical! We can make a similar plot with each individual spiracle to confirm the results are the same."
   ]
  },
  {
   "cell_type": "code",
   "execution_count": 7,
   "metadata": {},
   "outputs": [
    {
     "data": {
      "text/html": [
       "\n",
       "\n",
       "\n",
       "\n",
       "\n",
       "\n",
       "  <div class=\"bk-root\" id=\"a9d20705-43f1-46a9-bc9a-d399ac3354a4\" data-root-id=\"1240\"></div>\n"
      ]
     },
     "metadata": {},
     "output_type": "display_data"
    },
    {
     "data": {
      "application/javascript": [
       "(function(root) {\n",
       "  function embed_document(root) {\n",
       "    \n",
       "  var docs_json = {\"9c548fd7-0ebe-4e93-bcdd-e64effc9a1d0\":{\"roots\":{\"references\":[{\"attributes\":{\"below\":[{\"id\":\"1251\",\"type\":\"LinearAxis\"}],\"center\":[{\"id\":\"1255\",\"type\":\"Grid\"},{\"id\":\"1260\",\"type\":\"Grid\"}],\"left\":[{\"id\":\"1256\",\"type\":\"LinearAxis\"}],\"plot_height\":350,\"renderers\":[{\"id\":\"1277\",\"type\":\"GlyphRenderer\"},{\"id\":\"1282\",\"type\":\"GlyphRenderer\"}],\"title\":{\"id\":\"1241\",\"type\":\"Title\"},\"toolbar\":{\"id\":\"1267\",\"type\":\"Toolbar\"},\"x_range\":{\"id\":\"1243\",\"type\":\"DataRange1d\"},\"x_scale\":{\"id\":\"1247\",\"type\":\"LinearScale\"},\"y_range\":{\"id\":\"1245\",\"type\":\"DataRange1d\"},\"y_scale\":{\"id\":\"1249\",\"type\":\"LinearScale\"}},\"id\":\"1240\",\"subtype\":\"Figure\",\"type\":\"Plot\"},{\"attributes\":{\"data_source\":{\"id\":\"1274\",\"type\":\"ColumnDataSource\"},\"glyph\":{\"id\":\"1275\",\"type\":\"Circle\"},\"hover_glyph\":null,\"muted_glyph\":null,\"nonselection_glyph\":{\"id\":\"1276\",\"type\":\"Circle\"},\"selection_glyph\":null,\"view\":{\"id\":\"1278\",\"type\":\"CDSView\"}},\"id\":\"1277\",\"type\":\"GlyphRenderer\"},{\"attributes\":{\"active_drag\":\"auto\",\"active_inspect\":\"auto\",\"active_multi\":null,\"active_scroll\":\"auto\",\"active_tap\":\"auto\",\"tools\":[{\"id\":\"1261\",\"type\":\"PanTool\"},{\"id\":\"1262\",\"type\":\"WheelZoomTool\"},{\"id\":\"1263\",\"type\":\"BoxZoomTool\"},{\"id\":\"1264\",\"type\":\"SaveTool\"},{\"id\":\"1265\",\"type\":\"ResetTool\"},{\"id\":\"1266\",\"type\":\"HelpTool\"}]},\"id\":\"1267\",\"type\":\"Toolbar\"},{\"attributes\":{},\"id\":\"1305\",\"type\":\"BasicTickFormatter\"},{\"attributes\":{},\"id\":\"1312\",\"type\":\"UnionRenderers\"},{\"attributes\":{},\"id\":\"1310\",\"type\":\"UnionRenderers\"},{\"attributes\":{\"dimension\":1,\"ticker\":{\"id\":\"1257\",\"type\":\"BasicTicker\"}},\"id\":\"1260\",\"type\":\"Grid\"},{\"attributes\":{\"formatter\":{\"id\":\"1305\",\"type\":\"BasicTickFormatter\"},\"ticker\":{\"id\":\"1257\",\"type\":\"BasicTicker\"}},\"id\":\"1256\",\"type\":\"LinearAxis\"},{\"attributes\":{},\"id\":\"1311\",\"type\":\"Selection\"},{\"attributes\":{\"source\":{\"id\":\"1274\",\"type\":\"ColumnDataSource\"}},\"id\":\"1278\",\"type\":\"CDSView\"},{\"attributes\":{\"bottom_units\":\"screen\",\"fill_alpha\":{\"value\":0.5},\"fill_color\":{\"value\":\"lightgrey\"},\"left_units\":\"screen\",\"level\":\"overlay\",\"line_alpha\":{\"value\":1.0},\"line_color\":{\"value\":\"black\"},\"line_dash\":[4,4],\"line_width\":{\"value\":2},\"render_mode\":\"css\",\"right_units\":\"screen\",\"top_units\":\"screen\"},\"id\":\"1313\",\"type\":\"BoxAnnotation\"},{\"attributes\":{},\"id\":\"1247\",\"type\":\"LinearScale\"},{\"attributes\":{\"callback\":null},\"id\":\"1243\",\"type\":\"DataRange1d\"},{\"attributes\":{\"callback\":null,\"data\":{\"x\":{\"__ndarray__\":\"C04FShnr6b8UGCets/7uv9nLJI8EOPC/Jb8Eahmk7b/u4oa572LzP9yhDdJbJPQ/t8yGXkaO2z/xDyGWAZPMP3je5qKP452/coc2SG+R0D/aisQFGS2rPwzdjM6v4tQ/9brj1Ro21T9ra8Pkf9TpP9+WYh/wyuo/Bs4UmiNi9T/mZ1gUntz3Pw==\",\"dtype\":\"float64\",\"shape\":[17]},\"y\":{\"__ndarray__\":\"2kUzVScYAcCUNVClisACwPMyFWVFHATAU5K68UDMA8BnTJfjpvjhv6v+43Go1eu/1Eea24lB7b8r42Ss/If2v59d5KqTDPe/RDpthksr9r+TJfordIzlv4cxryzpcva/Hr6HyLDb9L8gzQFSh/j4v79syD07LO+/KBosbGQJ7795kVmjfMjrvw==\",\"dtype\":\"float64\",\"shape\":[17]}},\"selected\":{\"id\":\"1309\",\"type\":\"Selection\"},\"selection_policy\":{\"id\":\"1310\",\"type\":\"UnionRenderers\"}},\"id\":\"1274\",\"type\":\"ColumnDataSource\"},{\"attributes\":{\"source\":{\"id\":\"1279\",\"type\":\"ColumnDataSource\"}},\"id\":\"1283\",\"type\":\"CDSView\"},{\"attributes\":{\"text\":\"6 log(area) vs log(mass)\"},\"id\":\"1241\",\"type\":\"Title\"},{\"attributes\":{},\"id\":\"1261\",\"type\":\"PanTool\"},{\"attributes\":{\"callback\":null},\"id\":\"1245\",\"type\":\"DataRange1d\"},{\"attributes\":{},\"id\":\"1262\",\"type\":\"WheelZoomTool\"},{\"attributes\":{\"overlay\":{\"id\":\"1313\",\"type\":\"BoxAnnotation\"}},\"id\":\"1263\",\"type\":\"BoxZoomTool\"},{\"attributes\":{},\"id\":\"1264\",\"type\":\"SaveTool\"},{\"attributes\":{},\"id\":\"1309\",\"type\":\"Selection\"},{\"attributes\":{\"fill_color\":{\"value\":\"#1f77b4\"},\"line_color\":{\"value\":\"#1f77b4\"},\"size\":{\"units\":\"screen\",\"value\":20},\"x\":{\"field\":\"x\"},\"y\":{\"field\":\"y\"}},\"id\":\"1275\",\"type\":\"Circle\"},{\"attributes\":{\"fill_color\":{\"value\":\"black\"},\"size\":{\"units\":\"screen\",\"value\":10},\"x\":{\"field\":\"x\"},\"y\":{\"field\":\"y\"}},\"id\":\"1280\",\"type\":\"Circle\"},{\"attributes\":{\"callback\":null,\"data\":{\"x\":{\"__ndarray__\":\"7uKGue9i8z/coQ3SWyT0P9qKxAUZLas/DN2Mzq/i1D/1uuPVGjbVP9+WYh/wyuo/t8yGXkaO2z/xDyGWAZPMP3je5qKP452/coc2SG+R0D8LTgVKGevpvxQYJ62z/u6/a2vD5H/U6T8GzhSaI2L1P+ZnWBSe3Pc/2cskjwQ48L8lvwRqGaTtvw==\",\"dtype\":\"float64\",\"shape\":[17]},\"y\":{\"__ndarray__\":\"gbKF46b44b/1+zxyqNXrv+tXwSt0jOW/GihzK+ly9r8XJv7HsNv0v+vsEz47LO+/1nG+2olB7b+YerWs/If2v1JsJKqTDPe/SH+xhUsr9r+3nsFTJxgBwKBdUaeKwALAsJ+pUof4+L+NSddsZAnvv+tLdKN8yOu/mxGJZEUcBMBubrP5QMwDwA==\",\"dtype\":\"float64\",\"shape\":[17]}},\"selected\":{\"id\":\"1311\",\"type\":\"Selection\"},\"selection_policy\":{\"id\":\"1312\",\"type\":\"UnionRenderers\"}},\"id\":\"1279\",\"type\":\"ColumnDataSource\"},{\"attributes\":{},\"id\":\"1266\",\"type\":\"HelpTool\"},{\"attributes\":{\"formatter\":{\"id\":\"1307\",\"type\":\"BasicTickFormatter\"},\"ticker\":{\"id\":\"1252\",\"type\":\"BasicTicker\"}},\"id\":\"1251\",\"type\":\"LinearAxis\"},{\"attributes\":{},\"id\":\"1265\",\"type\":\"ResetTool\"},{\"attributes\":{},\"id\":\"1249\",\"type\":\"LinearScale\"},{\"attributes\":{\"fill_alpha\":{\"value\":0.1},\"fill_color\":{\"value\":\"#1f77b4\"},\"line_alpha\":{\"value\":0.1},\"line_color\":{\"value\":\"#1f77b4\"},\"size\":{\"units\":\"screen\",\"value\":10},\"x\":{\"field\":\"x\"},\"y\":{\"field\":\"y\"}},\"id\":\"1281\",\"type\":\"Circle\"},{\"attributes\":{\"data_source\":{\"id\":\"1279\",\"type\":\"ColumnDataSource\"},\"glyph\":{\"id\":\"1280\",\"type\":\"Circle\"},\"hover_glyph\":null,\"muted_glyph\":null,\"nonselection_glyph\":{\"id\":\"1281\",\"type\":\"Circle\"},\"selection_glyph\":null,\"view\":{\"id\":\"1283\",\"type\":\"CDSView\"}},\"id\":\"1282\",\"type\":\"GlyphRenderer\"},{\"attributes\":{},\"id\":\"1252\",\"type\":\"BasicTicker\"},{\"attributes\":{\"fill_alpha\":{\"value\":0.1},\"fill_color\":{\"value\":\"#1f77b4\"},\"line_alpha\":{\"value\":0.1},\"line_color\":{\"value\":\"#1f77b4\"},\"size\":{\"units\":\"screen\",\"value\":20},\"x\":{\"field\":\"x\"},\"y\":{\"field\":\"y\"}},\"id\":\"1276\",\"type\":\"Circle\"},{\"attributes\":{\"ticker\":{\"id\":\"1252\",\"type\":\"BasicTicker\"}},\"id\":\"1255\",\"type\":\"Grid\"},{\"attributes\":{},\"id\":\"1307\",\"type\":\"BasicTickFormatter\"},{\"attributes\":{},\"id\":\"1257\",\"type\":\"BasicTicker\"}],\"root_ids\":[\"1240\"]},\"title\":\"Bokeh Application\",\"version\":\"1.4.0\"}};\n",
       "  var render_items = [{\"docid\":\"9c548fd7-0ebe-4e93-bcdd-e64effc9a1d0\",\"roots\":{\"1240\":\"a9d20705-43f1-46a9-bc9a-d399ac3354a4\"}}];\n",
       "  root.Bokeh.embed.embed_items_notebook(docs_json, render_items);\n",
       "\n",
       "  }\n",
       "  if (root.Bokeh !== undefined) {\n",
       "    embed_document(root);\n",
       "  } else {\n",
       "    var attempts = 0;\n",
       "    var timer = setInterval(function(root) {\n",
       "      if (root.Bokeh !== undefined) {\n",
       "        clearInterval(timer);\n",
       "        embed_document(root);\n",
       "      } else {\n",
       "        attempts++;\n",
       "        if (attempts > 100) {\n",
       "          clearInterval(timer);\n",
       "          console.log(\"Bokeh: ERROR: Unable to run BokehJS code because BokehJS library is missing\");\n",
       "        }\n",
       "      }\n",
       "    }, 10, root)\n",
       "  }\n",
       "})(window);"
      ],
      "application/vnd.bokehjs_exec.v0+json": ""
     },
     "metadata": {
      "application/vnd.bokehjs_exec.v0+json": {
       "id": "1240"
      }
     },
     "output_type": "display_data"
    },
    {
     "data": {
      "text/html": [
       "\n",
       "\n",
       "\n",
       "\n",
       "\n",
       "\n",
       "  <div class=\"bk-root\" id=\"5f730a82-4a7a-474e-9338-01f82351828b\" data-root-id=\"1374\"></div>\n"
      ]
     },
     "metadata": {},
     "output_type": "display_data"
    },
    {
     "data": {
      "application/javascript": [
       "(function(root) {\n",
       "  function embed_document(root) {\n",
       "    \n",
       "  var docs_json = {\"432f3550-4544-47cf-a493-66febf6a052f\":{\"roots\":{\"references\":[{\"attributes\":{\"below\":[{\"id\":\"1385\",\"type\":\"LinearAxis\"}],\"center\":[{\"id\":\"1389\",\"type\":\"Grid\"},{\"id\":\"1394\",\"type\":\"Grid\"}],\"left\":[{\"id\":\"1390\",\"type\":\"LinearAxis\"}],\"plot_height\":350,\"renderers\":[{\"id\":\"1411\",\"type\":\"GlyphRenderer\"},{\"id\":\"1416\",\"type\":\"GlyphRenderer\"}],\"title\":{\"id\":\"1375\",\"type\":\"Title\"},\"toolbar\":{\"id\":\"1401\",\"type\":\"Toolbar\"},\"x_range\":{\"id\":\"1377\",\"type\":\"DataRange1d\"},\"x_scale\":{\"id\":\"1381\",\"type\":\"LinearScale\"},\"y_range\":{\"id\":\"1379\",\"type\":\"DataRange1d\"},\"y_scale\":{\"id\":\"1383\",\"type\":\"LinearScale\"}},\"id\":\"1374\",\"subtype\":\"Figure\",\"type\":\"Plot\"},{\"attributes\":{},\"id\":\"1449\",\"type\":\"BasicTickFormatter\"},{\"attributes\":{},\"id\":\"1381\",\"type\":\"LinearScale\"},{\"attributes\":{},\"id\":\"1451\",\"type\":\"BasicTickFormatter\"},{\"attributes\":{},\"id\":\"1396\",\"type\":\"WheelZoomTool\"},{\"attributes\":{\"callback\":null,\"data\":{\"x\":{\"__ndarray__\":\"7uKGue9i8z/coQ3SWyT0P9qKxAUZLas/DN2Mzq/i1D/1uuPVGjbVP9+WYh/wyuo/t8yGXkaO2z/xDyGWAZPMP3je5qKP452/coc2SG+R0D8LTgVKGevpvxQYJ62z/u6/a2vD5H/U6T8GzhSaI2L1P+ZnWBSe3Pc/2cskjwQ48L8lvwRqGaTtvw==\",\"dtype\":\"float64\",\"shape\":[17]},\"y\":{\"__ndarray__\":\"g2WhhMGb2T/UVJ8ni1fKP0BcrjN7bNC/R2TBuIbJ1L/Xx2yZo3jTv3r4cwvUisi/qS72btcyx7+BZJUPlc3OvwH7Awdre9q/9YOgJoN4278fiUFCpEPov2jyWSyg6um/zPYeUN+jsr8qP2sROArKP6Hys+5CTtU/Qv81YOPN4b/6ZnSk2Ifhvw==\",\"dtype\":\"float64\",\"shape\":[17]}},\"selected\":{\"id\":\"1455\",\"type\":\"Selection\"},\"selection_policy\":{\"id\":\"1456\",\"type\":\"UnionRenderers\"}},\"id\":\"1413\",\"type\":\"ColumnDataSource\"},{\"attributes\":{},\"id\":\"1454\",\"type\":\"UnionRenderers\"},{\"attributes\":{\"formatter\":{\"id\":\"1451\",\"type\":\"BasicTickFormatter\"},\"ticker\":{\"id\":\"1386\",\"type\":\"BasicTicker\"}},\"id\":\"1385\",\"type\":\"LinearAxis\"},{\"attributes\":{\"overlay\":{\"id\":\"1457\",\"type\":\"BoxAnnotation\"}},\"id\":\"1397\",\"type\":\"BoxZoomTool\"},{\"attributes\":{\"callback\":null,\"data\":{\"x\":{\"__ndarray__\":\"C04FShnr6b8UGCets/7uv9nLJI8EOPC/Jb8Eahmk7b/u4oa572LzP9yhDdJbJPQ/t8yGXkaO2z/xDyGWAZPMP3je5qKP452/coc2SG+R0D/aisQFGS2rPwzdjM6v4tQ/9brj1Ro21T9ra8Pkf9TpP9+WYh/wyuo/Bs4UmiNi9T/mZ1gUntz3Pw==\",\"dtype\":\"float64\",\"shape\":[17]},\"y\":{\"__ndarray__\":\"IIlBQqRD6L9o8lksoOrpv0L/NWDjzeG/+WZ0pNiH4b+/i56EwZvZP2F+jSeLV8o/sRlTbtcyx79up+wPlc3Ov/YG5QZre9q/YEWNJoN4279AXK4ze2zQv0dkwbiGydS/18dsmaN407/M9h5Q36Oyv4NKIgvUisi/cLV1ETgKyj9glsTuQk7VPw==\",\"dtype\":\"float64\",\"shape\":[17]}},\"selected\":{\"id\":\"1453\",\"type\":\"Selection\"},\"selection_policy\":{\"id\":\"1454\",\"type\":\"UnionRenderers\"}},\"id\":\"1408\",\"type\":\"ColumnDataSource\"},{\"attributes\":{\"source\":{\"id\":\"1408\",\"type\":\"ColumnDataSource\"}},\"id\":\"1412\",\"type\":\"CDSView\"},{\"attributes\":{},\"id\":\"1455\",\"type\":\"Selection\"},{\"attributes\":{\"ticker\":{\"id\":\"1386\",\"type\":\"BasicTicker\"}},\"id\":\"1389\",\"type\":\"Grid\"},{\"attributes\":{\"bottom_units\":\"screen\",\"fill_alpha\":{\"value\":0.5},\"fill_color\":{\"value\":\"lightgrey\"},\"left_units\":\"screen\",\"level\":\"overlay\",\"line_alpha\":{\"value\":1.0},\"line_color\":{\"value\":\"black\"},\"line_dash\":[4,4],\"line_width\":{\"value\":2},\"render_mode\":\"css\",\"right_units\":\"screen\",\"top_units\":\"screen\"},\"id\":\"1457\",\"type\":\"BoxAnnotation\"},{\"attributes\":{},\"id\":\"1386\",\"type\":\"BasicTicker\"},{\"attributes\":{\"active_drag\":\"auto\",\"active_inspect\":\"auto\",\"active_multi\":null,\"active_scroll\":\"auto\",\"active_tap\":\"auto\",\"tools\":[{\"id\":\"1395\",\"type\":\"PanTool\"},{\"id\":\"1396\",\"type\":\"WheelZoomTool\"},{\"id\":\"1397\",\"type\":\"BoxZoomTool\"},{\"id\":\"1398\",\"type\":\"SaveTool\"},{\"id\":\"1399\",\"type\":\"ResetTool\"},{\"id\":\"1400\",\"type\":\"HelpTool\"}]},\"id\":\"1401\",\"type\":\"Toolbar\"},{\"attributes\":{},\"id\":\"1391\",\"type\":\"BasicTicker\"},{\"attributes\":{},\"id\":\"1383\",\"type\":\"LinearScale\"},{\"attributes\":{},\"id\":\"1399\",\"type\":\"ResetTool\"},{\"attributes\":{\"formatter\":{\"id\":\"1449\",\"type\":\"BasicTickFormatter\"},\"ticker\":{\"id\":\"1391\",\"type\":\"BasicTicker\"}},\"id\":\"1390\",\"type\":\"LinearAxis\"},{\"attributes\":{},\"id\":\"1395\",\"type\":\"PanTool\"},{\"attributes\":{},\"id\":\"1398\",\"type\":\"SaveTool\"},{\"attributes\":{\"fill_color\":{\"value\":\"black\"},\"size\":{\"units\":\"screen\",\"value\":10},\"x\":{\"field\":\"x\"},\"y\":{\"field\":\"y\"}},\"id\":\"1414\",\"type\":\"Circle\"},{\"attributes\":{},\"id\":\"1400\",\"type\":\"HelpTool\"},{\"attributes\":{},\"id\":\"1453\",\"type\":\"Selection\"},{\"attributes\":{\"data_source\":{\"id\":\"1408\",\"type\":\"ColumnDataSource\"},\"glyph\":{\"id\":\"1409\",\"type\":\"Circle\"},\"hover_glyph\":null,\"muted_glyph\":null,\"nonselection_glyph\":{\"id\":\"1410\",\"type\":\"Circle\"},\"selection_glyph\":null,\"view\":{\"id\":\"1412\",\"type\":\"CDSView\"}},\"id\":\"1411\",\"type\":\"GlyphRenderer\"},{\"attributes\":{\"fill_alpha\":{\"value\":0.1},\"fill_color\":{\"value\":\"#1f77b4\"},\"line_alpha\":{\"value\":0.1},\"line_color\":{\"value\":\"#1f77b4\"},\"size\":{\"units\":\"screen\",\"value\":10},\"x\":{\"field\":\"x\"},\"y\":{\"field\":\"y\"}},\"id\":\"1415\",\"type\":\"Circle\"},{\"attributes\":{\"data_source\":{\"id\":\"1413\",\"type\":\"ColumnDataSource\"},\"glyph\":{\"id\":\"1414\",\"type\":\"Circle\"},\"hover_glyph\":null,\"muted_glyph\":null,\"nonselection_glyph\":{\"id\":\"1415\",\"type\":\"Circle\"},\"selection_glyph\":null,\"view\":{\"id\":\"1417\",\"type\":\"CDSView\"}},\"id\":\"1416\",\"type\":\"GlyphRenderer\"},{\"attributes\":{\"fill_alpha\":{\"value\":0.1},\"fill_color\":{\"value\":\"#1f77b4\"},\"line_alpha\":{\"value\":0.1},\"line_color\":{\"value\":\"#1f77b4\"},\"size\":{\"units\":\"screen\",\"value\":20},\"x\":{\"field\":\"x\"},\"y\":{\"field\":\"y\"}},\"id\":\"1410\",\"type\":\"Circle\"},{\"attributes\":{\"dimension\":1,\"ticker\":{\"id\":\"1391\",\"type\":\"BasicTicker\"}},\"id\":\"1394\",\"type\":\"Grid\"},{\"attributes\":{\"fill_color\":{\"value\":\"#1f77b4\"},\"line_color\":{\"value\":\"#1f77b4\"},\"size\":{\"units\":\"screen\",\"value\":20},\"x\":{\"field\":\"x\"},\"y\":{\"field\":\"y\"}},\"id\":\"1409\",\"type\":\"Circle\"},{\"attributes\":{\"text\":\"6 log(depth) vs log(mass)\"},\"id\":\"1375\",\"type\":\"Title\"},{\"attributes\":{\"source\":{\"id\":\"1413\",\"type\":\"ColumnDataSource\"}},\"id\":\"1417\",\"type\":\"CDSView\"},{\"attributes\":{},\"id\":\"1456\",\"type\":\"UnionRenderers\"},{\"attributes\":{\"callback\":null},\"id\":\"1379\",\"type\":\"DataRange1d\"},{\"attributes\":{\"callback\":null},\"id\":\"1377\",\"type\":\"DataRange1d\"}],\"root_ids\":[\"1374\"]},\"title\":\"Bokeh Application\",\"version\":\"1.4.0\"}};\n",
       "  var render_items = [{\"docid\":\"432f3550-4544-47cf-a493-66febf6a052f\",\"roots\":{\"1374\":\"5f730a82-4a7a-474e-9338-01f82351828b\"}}];\n",
       "  root.Bokeh.embed.embed_items_notebook(docs_json, render_items);\n",
       "\n",
       "  }\n",
       "  if (root.Bokeh !== undefined) {\n",
       "    embed_document(root);\n",
       "  } else {\n",
       "    var attempts = 0;\n",
       "    var timer = setInterval(function(root) {\n",
       "      if (root.Bokeh !== undefined) {\n",
       "        clearInterval(timer);\n",
       "        embed_document(root);\n",
       "      } else {\n",
       "        attempts++;\n",
       "        if (attempts > 100) {\n",
       "          clearInterval(timer);\n",
       "          console.log(\"Bokeh: ERROR: Unable to run BokehJS code because BokehJS library is missing\");\n",
       "        }\n",
       "      }\n",
       "    }, 10, root)\n",
       "  }\n",
       "})(window);"
      ],
      "application/vnd.bokehjs_exec.v0+json": ""
     },
     "metadata": {
      "application/vnd.bokehjs_exec.v0+json": {
       "id": "1374"
      }
     },
     "output_type": "display_data"
    },
    {
     "data": {
      "text/html": [
       "\n",
       "\n",
       "\n",
       "\n",
       "\n",
       "\n",
       "  <div class=\"bk-root\" id=\"596db837-94e6-4862-9e0d-f0f8bfa50775\" data-root-id=\"1518\"></div>\n"
      ]
     },
     "metadata": {},
     "output_type": "display_data"
    },
    {
     "data": {
      "application/javascript": [
       "(function(root) {\n",
       "  function embed_document(root) {\n",
       "    \n",
       "  var docs_json = {\"757cb2ec-19d1-4a58-98ac-91989e72964b\":{\"roots\":{\"references\":[{\"attributes\":{\"below\":[{\"id\":\"1529\",\"type\":\"LinearAxis\"}],\"center\":[{\"id\":\"1533\",\"type\":\"Grid\"},{\"id\":\"1538\",\"type\":\"Grid\"}],\"left\":[{\"id\":\"1534\",\"type\":\"LinearAxis\"}],\"plot_height\":350,\"renderers\":[{\"id\":\"1555\",\"type\":\"GlyphRenderer\"},{\"id\":\"1560\",\"type\":\"GlyphRenderer\"}],\"title\":{\"id\":\"1519\",\"type\":\"Title\"},\"toolbar\":{\"id\":\"1545\",\"type\":\"Toolbar\"},\"x_range\":{\"id\":\"1521\",\"type\":\"DataRange1d\"},\"x_scale\":{\"id\":\"1525\",\"type\":\"LinearScale\"},\"y_range\":{\"id\":\"1523\",\"type\":\"DataRange1d\"},\"y_scale\":{\"id\":\"1527\",\"type\":\"LinearScale\"}},\"id\":\"1518\",\"subtype\":\"Figure\",\"type\":\"Plot\"},{\"attributes\":{},\"id\":\"1535\",\"type\":\"BasicTicker\"},{\"attributes\":{},\"id\":\"1605\",\"type\":\"BasicTickFormatter\"},{\"attributes\":{\"formatter\":{\"id\":\"1603\",\"type\":\"BasicTickFormatter\"},\"ticker\":{\"id\":\"1535\",\"type\":\"BasicTicker\"}},\"id\":\"1534\",\"type\":\"LinearAxis\"},{\"attributes\":{\"callback\":null,\"data\":{\"x\":{\"__ndarray__\":\"7uKGue9i8z/coQ3SWyT0P9qKxAUZLas/DN2Mzq/i1D/1uuPVGjbVP9+WYh/wyuo/t8yGXkaO2z/xDyGWAZPMP3je5qKP452/coc2SG+R0D8LTgVKGevpvxQYJ62z/u6/a2vD5H/U6T8GzhSaI2L1P+ZnWBSe3Pc/2cskjwQ48L8lvwRqGaTtvw==\",\"dtype\":\"float64\",\"shape\":[17]},\"y\":{\"__ndarray__\":\"6FB+2i2v4L+Q6nZZumPsv+nLRT7GkO2/F5S7pwyP+L/imKZj86r1v489RUEa2vK/jFB+/Dod8b97sZ9EkaH5v3T/IuVuL/i/2Tn7Wrng9b8ph+ZnC2ICwF7n4qiHjwfANvxoFus79L8oQamP+/jsvxWPObrnu+q/+V+cZim7A8Ai2KpFsCkEwA==\",\"dtype\":\"float64\",\"shape\":[17]}},\"selected\":{\"id\":\"1609\",\"type\":\"Selection\"},\"selection_policy\":{\"id\":\"1610\",\"type\":\"UnionRenderers\"}},\"id\":\"1557\",\"type\":\"ColumnDataSource\"},{\"attributes\":{\"ticker\":{\"id\":\"1530\",\"type\":\"BasicTicker\"}},\"id\":\"1533\",\"type\":\"Grid\"},{\"attributes\":{},\"id\":\"1603\",\"type\":\"BasicTickFormatter\"},{\"attributes\":{},\"id\":\"1609\",\"type\":\"Selection\"},{\"attributes\":{},\"id\":\"1610\",\"type\":\"UnionRenderers\"},{\"attributes\":{\"bottom_units\":\"screen\",\"fill_alpha\":{\"value\":0.5},\"fill_color\":{\"value\":\"lightgrey\"},\"left_units\":\"screen\",\"level\":\"overlay\",\"line_alpha\":{\"value\":1.0},\"line_color\":{\"value\":\"black\"},\"line_dash\":[4,4],\"line_width\":{\"value\":2},\"render_mode\":\"css\",\"right_units\":\"screen\",\"top_units\":\"screen\"},\"id\":\"1611\",\"type\":\"BoxAnnotation\"},{\"attributes\":{},\"id\":\"1608\",\"type\":\"UnionRenderers\"},{\"attributes\":{\"fill_alpha\":{\"value\":0.1},\"fill_color\":{\"value\":\"#1f77b4\"},\"line_alpha\":{\"value\":0.1},\"line_color\":{\"value\":\"#1f77b4\"},\"size\":{\"units\":\"screen\",\"value\":20},\"x\":{\"field\":\"x\"},\"y\":{\"field\":\"y\"}},\"id\":\"1554\",\"type\":\"Circle\"},{\"attributes\":{\"data_source\":{\"id\":\"1552\",\"type\":\"ColumnDataSource\"},\"glyph\":{\"id\":\"1553\",\"type\":\"Circle\"},\"hover_glyph\":null,\"muted_glyph\":null,\"nonselection_glyph\":{\"id\":\"1554\",\"type\":\"Circle\"},\"selection_glyph\":null,\"view\":{\"id\":\"1556\",\"type\":\"CDSView\"}},\"id\":\"1555\",\"type\":\"GlyphRenderer\"},{\"attributes\":{\"dimension\":1,\"ticker\":{\"id\":\"1535\",\"type\":\"BasicTicker\"}},\"id\":\"1538\",\"type\":\"Grid\"},{\"attributes\":{\"callback\":null,\"data\":{\"x\":{\"__ndarray__\":\"C04FShnr6b8UGCets/7uv9nLJI8EOPC/Jb8Eahmk7b/u4oa572LzP9yhDdJbJPQ/t8yGXkaO2z/xDyGWAZPMP3je5qKP452/coc2SG+R0D/aisQFGS2rPwzdjM6v4tQ/9brj1Ro21T9ra8Pkf9TpP9+WYh/wyuo/Bs4UmiNi9T/mZ1gUntz3Pw==\",\"dtype\":\"float64\",\"shape\":[17]},\"y\":{\"__ndarray__\":\"U7x/aQtiAsB++iu4h48HwIgaxWspuwPAurCTTrApBMAvy1vaLa/gv3oI41m6Y+y/tKvC/Dod8b/VvZtCkaH5v73BueNuL/i/mAjuW7ng9b8V1R4/xpDtv4mxoqcMj/i/JFZiZPOq9b+G44UW6zv0vyJF20Ea2vK/PICzj/v47L/2l9G557vqvw==\",\"dtype\":\"float64\",\"shape\":[17]}},\"selected\":{\"id\":\"1607\",\"type\":\"Selection\"},\"selection_policy\":{\"id\":\"1608\",\"type\":\"UnionRenderers\"}},\"id\":\"1552\",\"type\":\"ColumnDataSource\"},{\"attributes\":{\"fill_color\":{\"value\":\"black\"},\"size\":{\"units\":\"screen\",\"value\":10},\"x\":{\"field\":\"x\"},\"y\":{\"field\":\"y\"}},\"id\":\"1558\",\"type\":\"Circle\"},{\"attributes\":{\"active_drag\":\"auto\",\"active_inspect\":\"auto\",\"active_multi\":null,\"active_scroll\":\"auto\",\"active_tap\":\"auto\",\"tools\":[{\"id\":\"1539\",\"type\":\"PanTool\"},{\"id\":\"1540\",\"type\":\"WheelZoomTool\"},{\"id\":\"1541\",\"type\":\"BoxZoomTool\"},{\"id\":\"1542\",\"type\":\"SaveTool\"},{\"id\":\"1543\",\"type\":\"ResetTool\"},{\"id\":\"1544\",\"type\":\"HelpTool\"}]},\"id\":\"1545\",\"type\":\"Toolbar\"},{\"attributes\":{\"overlay\":{\"id\":\"1611\",\"type\":\"BoxAnnotation\"}},\"id\":\"1541\",\"type\":\"BoxZoomTool\"},{\"attributes\":{},\"id\":\"1607\",\"type\":\"Selection\"},{\"attributes\":{},\"id\":\"1540\",\"type\":\"WheelZoomTool\"},{\"attributes\":{\"fill_alpha\":{\"value\":0.1},\"fill_color\":{\"value\":\"#1f77b4\"},\"line_alpha\":{\"value\":0.1},\"line_color\":{\"value\":\"#1f77b4\"},\"size\":{\"units\":\"screen\",\"value\":10},\"x\":{\"field\":\"x\"},\"y\":{\"field\":\"y\"}},\"id\":\"1559\",\"type\":\"Circle\"},{\"attributes\":{},\"id\":\"1539\",\"type\":\"PanTool\"},{\"attributes\":{\"data_source\":{\"id\":\"1557\",\"type\":\"ColumnDataSource\"},\"glyph\":{\"id\":\"1558\",\"type\":\"Circle\"},\"hover_glyph\":null,\"muted_glyph\":null,\"nonselection_glyph\":{\"id\":\"1559\",\"type\":\"Circle\"},\"selection_glyph\":null,\"view\":{\"id\":\"1561\",\"type\":\"CDSView\"}},\"id\":\"1560\",\"type\":\"GlyphRenderer\"},{\"attributes\":{},\"id\":\"1542\",\"type\":\"SaveTool\"},{\"attributes\":{},\"id\":\"1525\",\"type\":\"LinearScale\"},{\"attributes\":{\"fill_color\":{\"value\":\"#1f77b4\"},\"line_color\":{\"value\":\"#1f77b4\"},\"size\":{\"units\":\"screen\",\"value\":20},\"x\":{\"field\":\"x\"},\"y\":{\"field\":\"y\"}},\"id\":\"1553\",\"type\":\"Circle\"},{\"attributes\":{},\"id\":\"1544\",\"type\":\"HelpTool\"},{\"attributes\":{},\"id\":\"1527\",\"type\":\"LinearScale\"},{\"attributes\":{\"text\":\"5 log(area) vs log(mass)\"},\"id\":\"1519\",\"type\":\"Title\"},{\"attributes\":{\"source\":{\"id\":\"1552\",\"type\":\"ColumnDataSource\"}},\"id\":\"1556\",\"type\":\"CDSView\"},{\"attributes\":{\"source\":{\"id\":\"1557\",\"type\":\"ColumnDataSource\"}},\"id\":\"1561\",\"type\":\"CDSView\"},{\"attributes\":{},\"id\":\"1543\",\"type\":\"ResetTool\"},{\"attributes\":{},\"id\":\"1530\",\"type\":\"BasicTicker\"},{\"attributes\":{\"callback\":null},\"id\":\"1523\",\"type\":\"DataRange1d\"},{\"attributes\":{\"callback\":null},\"id\":\"1521\",\"type\":\"DataRange1d\"},{\"attributes\":{\"formatter\":{\"id\":\"1605\",\"type\":\"BasicTickFormatter\"},\"ticker\":{\"id\":\"1530\",\"type\":\"BasicTicker\"}},\"id\":\"1529\",\"type\":\"LinearAxis\"}],\"root_ids\":[\"1518\"]},\"title\":\"Bokeh Application\",\"version\":\"1.4.0\"}};\n",
       "  var render_items = [{\"docid\":\"757cb2ec-19d1-4a58-98ac-91989e72964b\",\"roots\":{\"1518\":\"596db837-94e6-4862-9e0d-f0f8bfa50775\"}}];\n",
       "  root.Bokeh.embed.embed_items_notebook(docs_json, render_items);\n",
       "\n",
       "  }\n",
       "  if (root.Bokeh !== undefined) {\n",
       "    embed_document(root);\n",
       "  } else {\n",
       "    var attempts = 0;\n",
       "    var timer = setInterval(function(root) {\n",
       "      if (root.Bokeh !== undefined) {\n",
       "        clearInterval(timer);\n",
       "        embed_document(root);\n",
       "      } else {\n",
       "        attempts++;\n",
       "        if (attempts > 100) {\n",
       "          clearInterval(timer);\n",
       "          console.log(\"Bokeh: ERROR: Unable to run BokehJS code because BokehJS library is missing\");\n",
       "        }\n",
       "      }\n",
       "    }, 10, root)\n",
       "  }\n",
       "})(window);"
      ],
      "application/vnd.bokehjs_exec.v0+json": ""
     },
     "metadata": {
      "application/vnd.bokehjs_exec.v0+json": {
       "id": "1518"
      }
     },
     "output_type": "display_data"
    },
    {
     "data": {
      "text/html": [
       "\n",
       "\n",
       "\n",
       "\n",
       "\n",
       "\n",
       "  <div class=\"bk-root\" id=\"230964b5-c97f-4c9e-8a99-f843e7cf0eef\" data-root-id=\"1672\"></div>\n"
      ]
     },
     "metadata": {},
     "output_type": "display_data"
    },
    {
     "data": {
      "application/javascript": [
       "(function(root) {\n",
       "  function embed_document(root) {\n",
       "    \n",
       "  var docs_json = {\"a48db20b-cbc2-4817-80ea-19649ccbf84f\":{\"roots\":{\"references\":[{\"attributes\":{\"below\":[{\"id\":\"1683\",\"type\":\"LinearAxis\"}],\"center\":[{\"id\":\"1687\",\"type\":\"Grid\"},{\"id\":\"1692\",\"type\":\"Grid\"}],\"left\":[{\"id\":\"1688\",\"type\":\"LinearAxis\"}],\"plot_height\":350,\"renderers\":[{\"id\":\"1709\",\"type\":\"GlyphRenderer\"},{\"id\":\"1714\",\"type\":\"GlyphRenderer\"}],\"title\":{\"id\":\"1673\",\"type\":\"Title\"},\"toolbar\":{\"id\":\"1699\",\"type\":\"Toolbar\"},\"x_range\":{\"id\":\"1675\",\"type\":\"DataRange1d\"},\"x_scale\":{\"id\":\"1679\",\"type\":\"LinearScale\"},\"y_range\":{\"id\":\"1677\",\"type\":\"DataRange1d\"},\"y_scale\":{\"id\":\"1681\",\"type\":\"LinearScale\"}},\"id\":\"1672\",\"subtype\":\"Figure\",\"type\":\"Plot\"},{\"attributes\":{\"callback\":null,\"data\":{\"x\":{\"__ndarray__\":\"C04FShnr6b8UGCets/7uv9nLJI8EOPC/Jb8Eahmk7b/u4oa572LzP9yhDdJbJPQ/t8yGXkaO2z/xDyGWAZPMP3je5qKP452/coc2SG+R0D/aisQFGS2rPwzdjM6v4tQ/9brj1Ro21T9ra8Pkf9TpP9+WYh/wyuo/Bs4UmiNi9T/mZ1gUntz3Pw==\",\"dtype\":\"float64\",\"shape\":[17]},\"y\":{\"__ndarray__\":\"pUIaTnyU6r9hRxWuW3Lrv7oLGbpisOO/kqHNDtXM4r/BII4DYt7IPwVWV1yPyMQ/Cr310ASB0L+BAPI6WtvSv3cIVtP0muC/eXUygHOz3r/O4jQhpeTSv+ITec6WetO/B87GvZlM0L+tQRAwSCujPy1YSTGR+Wc/6r2IfyC1xj++WNLGFF/SPw==\",\"dtype\":\"float64\",\"shape\":[17]}},\"selected\":{\"id\":\"1771\",\"type\":\"Selection\"},\"selection_policy\":{\"id\":\"1772\",\"type\":\"UnionRenderers\"}},\"id\":\"1706\",\"type\":\"ColumnDataSource\"},{\"attributes\":{\"formatter\":{\"id\":\"1767\",\"type\":\"BasicTickFormatter\"},\"ticker\":{\"id\":\"1689\",\"type\":\"BasicTicker\"}},\"id\":\"1688\",\"type\":\"LinearAxis\"},{\"attributes\":{\"text\":\"5 log(depth) vs log(mass)\"},\"id\":\"1673\",\"type\":\"Title\"},{\"attributes\":{\"fill_color\":{\"value\":\"black\"},\"size\":{\"units\":\"screen\",\"value\":10},\"x\":{\"field\":\"x\"},\"y\":{\"field\":\"y\"}},\"id\":\"1712\",\"type\":\"Circle\"},{\"attributes\":{\"ticker\":{\"id\":\"1684\",\"type\":\"BasicTicker\"}},\"id\":\"1687\",\"type\":\"Grid\"},{\"attributes\":{},\"id\":\"1689\",\"type\":\"BasicTicker\"},{\"attributes\":{\"fill_alpha\":{\"value\":0.1},\"fill_color\":{\"value\":\"#1f77b4\"},\"line_alpha\":{\"value\":0.1},\"line_color\":{\"value\":\"#1f77b4\"},\"size\":{\"units\":\"screen\",\"value\":10},\"x\":{\"field\":\"x\"},\"y\":{\"field\":\"y\"}},\"id\":\"1713\",\"type\":\"Circle\"},{\"attributes\":{\"dimension\":1,\"ticker\":{\"id\":\"1689\",\"type\":\"BasicTicker\"}},\"id\":\"1692\",\"type\":\"Grid\"},{\"attributes\":{\"data_source\":{\"id\":\"1711\",\"type\":\"ColumnDataSource\"},\"glyph\":{\"id\":\"1712\",\"type\":\"Circle\"},\"hover_glyph\":null,\"muted_glyph\":null,\"nonselection_glyph\":{\"id\":\"1713\",\"type\":\"Circle\"},\"selection_glyph\":null,\"view\":{\"id\":\"1715\",\"type\":\"CDSView\"}},\"id\":\"1714\",\"type\":\"GlyphRenderer\"},{\"attributes\":{\"fill_color\":{\"value\":\"#1f77b4\"},\"line_color\":{\"value\":\"#1f77b4\"},\"size\":{\"units\":\"screen\",\"value\":20},\"x\":{\"field\":\"x\"},\"y\":{\"field\":\"y\"}},\"id\":\"1707\",\"type\":\"Circle\"},{\"attributes\":{},\"id\":\"1772\",\"type\":\"UnionRenderers\"},{\"attributes\":{},\"id\":\"1769\",\"type\":\"BasicTickFormatter\"},{\"attributes\":{},\"id\":\"1679\",\"type\":\"LinearScale\"},{\"attributes\":{},\"id\":\"1693\",\"type\":\"PanTool\"},{\"attributes\":{},\"id\":\"1771\",\"type\":\"Selection\"},{\"attributes\":{\"active_drag\":\"auto\",\"active_inspect\":\"auto\",\"active_multi\":null,\"active_scroll\":\"auto\",\"active_tap\":\"auto\",\"tools\":[{\"id\":\"1693\",\"type\":\"PanTool\"},{\"id\":\"1694\",\"type\":\"WheelZoomTool\"},{\"id\":\"1695\",\"type\":\"BoxZoomTool\"},{\"id\":\"1696\",\"type\":\"SaveTool\"},{\"id\":\"1697\",\"type\":\"ResetTool\"},{\"id\":\"1698\",\"type\":\"HelpTool\"}]},\"id\":\"1699\",\"type\":\"Toolbar\"},{\"attributes\":{},\"id\":\"1774\",\"type\":\"UnionRenderers\"},{\"attributes\":{},\"id\":\"1767\",\"type\":\"BasicTickFormatter\"},{\"attributes\":{\"source\":{\"id\":\"1711\",\"type\":\"ColumnDataSource\"}},\"id\":\"1715\",\"type\":\"CDSView\"},{\"attributes\":{\"callback\":null,\"data\":{\"x\":{\"__ndarray__\":\"7uKGue9i8z/coQ3SWyT0P9qKxAUZLas/DN2Mzq/i1D/1uuPVGjbVP9+WYh/wyuo/t8yGXkaO2z/xDyGWAZPMP3je5qKP452/coc2SG+R0D8LTgVKGevpvxQYJ62z/u6/a2vD5H/U6T8GzhSaI2L1P+ZnWBSe3Pc/2cskjwQ48L8lvwRqGaTtvw==\",\"dtype\":\"float64\",\"shape\":[17]},\"y\":{\"__ndarray__\":\"i2NjA2LeyD906EZcj8jEP87iNCGl5NK/4RN5zpZ6078Hzsa9mUzQv6+qvk2R+Wc/ojw/0QSB0L/v09w6WtvSv0dRQtP0muC/FxpsgHOz3r+lQhpOfJTqv2BHFa5bcuu/rUEQMEgroz8Yzsl/ILXGP8Ws3sYUX9I/ugsZumKw47+Soc0O1czivw==\",\"dtype\":\"float64\",\"shape\":[17]}},\"selected\":{\"id\":\"1773\",\"type\":\"Selection\"},\"selection_policy\":{\"id\":\"1774\",\"type\":\"UnionRenderers\"}},\"id\":\"1711\",\"type\":\"ColumnDataSource\"},{\"attributes\":{\"overlay\":{\"id\":\"1775\",\"type\":\"BoxAnnotation\"}},\"id\":\"1695\",\"type\":\"BoxZoomTool\"},{\"attributes\":{\"fill_alpha\":{\"value\":0.1},\"fill_color\":{\"value\":\"#1f77b4\"},\"line_alpha\":{\"value\":0.1},\"line_color\":{\"value\":\"#1f77b4\"},\"size\":{\"units\":\"screen\",\"value\":20},\"x\":{\"field\":\"x\"},\"y\":{\"field\":\"y\"}},\"id\":\"1708\",\"type\":\"Circle\"},{\"attributes\":{},\"id\":\"1694\",\"type\":\"WheelZoomTool\"},{\"attributes\":{},\"id\":\"1773\",\"type\":\"Selection\"},{\"attributes\":{\"data_source\":{\"id\":\"1706\",\"type\":\"ColumnDataSource\"},\"glyph\":{\"id\":\"1707\",\"type\":\"Circle\"},\"hover_glyph\":null,\"muted_glyph\":null,\"nonselection_glyph\":{\"id\":\"1708\",\"type\":\"Circle\"},\"selection_glyph\":null,\"view\":{\"id\":\"1710\",\"type\":\"CDSView\"}},\"id\":\"1709\",\"type\":\"GlyphRenderer\"},{\"attributes\":{},\"id\":\"1696\",\"type\":\"SaveTool\"},{\"attributes\":{},\"id\":\"1684\",\"type\":\"BasicTicker\"},{\"attributes\":{\"formatter\":{\"id\":\"1769\",\"type\":\"BasicTickFormatter\"},\"ticker\":{\"id\":\"1684\",\"type\":\"BasicTicker\"}},\"id\":\"1683\",\"type\":\"LinearAxis\"},{\"attributes\":{},\"id\":\"1697\",\"type\":\"ResetTool\"},{\"attributes\":{},\"id\":\"1681\",\"type\":\"LinearScale\"},{\"attributes\":{},\"id\":\"1698\",\"type\":\"HelpTool\"},{\"attributes\":{\"callback\":null},\"id\":\"1675\",\"type\":\"DataRange1d\"},{\"attributes\":{\"source\":{\"id\":\"1706\",\"type\":\"ColumnDataSource\"}},\"id\":\"1710\",\"type\":\"CDSView\"},{\"attributes\":{\"bottom_units\":\"screen\",\"fill_alpha\":{\"value\":0.5},\"fill_color\":{\"value\":\"lightgrey\"},\"left_units\":\"screen\",\"level\":\"overlay\",\"line_alpha\":{\"value\":1.0},\"line_color\":{\"value\":\"black\"},\"line_dash\":[4,4],\"line_width\":{\"value\":2},\"render_mode\":\"css\",\"right_units\":\"screen\",\"top_units\":\"screen\"},\"id\":\"1775\",\"type\":\"BoxAnnotation\"},{\"attributes\":{\"callback\":null},\"id\":\"1677\",\"type\":\"DataRange1d\"}],\"root_ids\":[\"1672\"]},\"title\":\"Bokeh Application\",\"version\":\"1.4.0\"}};\n",
       "  var render_items = [{\"docid\":\"a48db20b-cbc2-4817-80ea-19649ccbf84f\",\"roots\":{\"1672\":\"230964b5-c97f-4c9e-8a99-f843e7cf0eef\"}}];\n",
       "  root.Bokeh.embed.embed_items_notebook(docs_json, render_items);\n",
       "\n",
       "  }\n",
       "  if (root.Bokeh !== undefined) {\n",
       "    embed_document(root);\n",
       "  } else {\n",
       "    var attempts = 0;\n",
       "    var timer = setInterval(function(root) {\n",
       "      if (root.Bokeh !== undefined) {\n",
       "        clearInterval(timer);\n",
       "        embed_document(root);\n",
       "      } else {\n",
       "        attempts++;\n",
       "        if (attempts > 100) {\n",
       "          clearInterval(timer);\n",
       "          console.log(\"Bokeh: ERROR: Unable to run BokehJS code because BokehJS library is missing\");\n",
       "        }\n",
       "      }\n",
       "    }, 10, root)\n",
       "  }\n",
       "})(window);"
      ],
      "application/vnd.bokehjs_exec.v0+json": ""
     },
     "metadata": {
      "application/vnd.bokehjs_exec.v0+json": {
       "id": "1672"
      }
     },
     "output_type": "display_data"
    },
    {
     "data": {
      "text/html": [
       "\n",
       "\n",
       "\n",
       "\n",
       "\n",
       "\n",
       "  <div class=\"bk-root\" id=\"ee78566d-6fc0-4575-946f-908b6244df56\" data-root-id=\"1836\"></div>\n"
      ]
     },
     "metadata": {},
     "output_type": "display_data"
    },
    {
     "data": {
      "application/javascript": [
       "(function(root) {\n",
       "  function embed_document(root) {\n",
       "    \n",
       "  var docs_json = {\"adccfa69-9c94-4256-8a31-3990c0c3f2da\":{\"roots\":{\"references\":[{\"attributes\":{\"below\":[{\"id\":\"1847\",\"type\":\"LinearAxis\"}],\"center\":[{\"id\":\"1851\",\"type\":\"Grid\"},{\"id\":\"1856\",\"type\":\"Grid\"}],\"left\":[{\"id\":\"1852\",\"type\":\"LinearAxis\"}],\"plot_height\":350,\"renderers\":[{\"id\":\"1873\",\"type\":\"GlyphRenderer\"},{\"id\":\"1878\",\"type\":\"GlyphRenderer\"}],\"title\":{\"id\":\"1837\",\"type\":\"Title\"},\"toolbar\":{\"id\":\"1863\",\"type\":\"Toolbar\"},\"x_range\":{\"id\":\"1839\",\"type\":\"DataRange1d\"},\"x_scale\":{\"id\":\"1843\",\"type\":\"LinearScale\"},\"y_range\":{\"id\":\"1841\",\"type\":\"DataRange1d\"},\"y_scale\":{\"id\":\"1845\",\"type\":\"LinearScale\"}},\"id\":\"1836\",\"subtype\":\"Figure\",\"type\":\"Plot\"},{\"attributes\":{},\"id\":\"1941\",\"type\":\"BasicTickFormatter\"},{\"attributes\":{},\"id\":\"1861\",\"type\":\"ResetTool\"},{\"attributes\":{\"bottom_units\":\"screen\",\"fill_alpha\":{\"value\":0.5},\"fill_color\":{\"value\":\"lightgrey\"},\"left_units\":\"screen\",\"level\":\"overlay\",\"line_alpha\":{\"value\":1.0},\"line_color\":{\"value\":\"black\"},\"line_dash\":[4,4],\"line_width\":{\"value\":2},\"render_mode\":\"css\",\"right_units\":\"screen\",\"top_units\":\"screen\"},\"id\":\"1949\",\"type\":\"BoxAnnotation\"},{\"attributes\":{\"overlay\":{\"id\":\"1949\",\"type\":\"BoxAnnotation\"}},\"id\":\"1859\",\"type\":\"BoxZoomTool\"},{\"attributes\":{\"callback\":null,\"data\":{\"x\":{\"__ndarray__\":\"C04FShnr6b8UGCets/7uv9nLJI8EOPC/Jb8Eahmk7b/u4oa572LzP9yhDdJbJPQ/t8yGXkaO2z/xDyGWAZPMP3je5qKP452/coc2SG+R0D/aisQFGS2rPwzdjM6v4tQ/9brj1Ro21T9ra8Pkf9TpP9+WYh/wyuo/Bs4UmiNi9T/mZ1gUntz3Pw==\",\"dtype\":\"float64\",\"shape\":[17]},\"y\":{\"__ndarray__\":\"qAmBaN49A8DpFtPfTIEGwG8SymHdmgLABBAd90rHA8BFeqgd/fDWv66NHsDdq+q/nnQbe4n08b+cyMg2J9b7v5S5WKyxsPq/k5Go3/P6879MW1OBEP3tv5fphj0Zu/W/MSswu1ZH9b/S6ZqtfZT2vxCljpoMNva/+ULqxvyU7b/FbUPPbTXsvw==\",\"dtype\":\"float64\",\"shape\":[17]}},\"selected\":{\"id\":\"1945\",\"type\":\"Selection\"},\"selection_policy\":{\"id\":\"1946\",\"type\":\"UnionRenderers\"}},\"id\":\"1870\",\"type\":\"ColumnDataSource\"},{\"attributes\":{\"callback\":null},\"id\":\"1839\",\"type\":\"DataRange1d\"},{\"attributes\":{},\"id\":\"1862\",\"type\":\"HelpTool\"},{\"attributes\":{\"callback\":null},\"id\":\"1841\",\"type\":\"DataRange1d\"},{\"attributes\":{},\"id\":\"1860\",\"type\":\"SaveTool\"},{\"attributes\":{\"formatter\":{\"id\":\"1943\",\"type\":\"BasicTickFormatter\"},\"ticker\":{\"id\":\"1848\",\"type\":\"BasicTicker\"}},\"id\":\"1847\",\"type\":\"LinearAxis\"},{\"attributes\":{\"active_drag\":\"auto\",\"active_inspect\":\"auto\",\"active_multi\":null,\"active_scroll\":\"auto\",\"active_tap\":\"auto\",\"tools\":[{\"id\":\"1857\",\"type\":\"PanTool\"},{\"id\":\"1858\",\"type\":\"WheelZoomTool\"},{\"id\":\"1859\",\"type\":\"BoxZoomTool\"},{\"id\":\"1860\",\"type\":\"SaveTool\"},{\"id\":\"1861\",\"type\":\"ResetTool\"},{\"id\":\"1862\",\"type\":\"HelpTool\"}]},\"id\":\"1863\",\"type\":\"Toolbar\"},{\"attributes\":{\"dimension\":1,\"ticker\":{\"id\":\"1853\",\"type\":\"BasicTicker\"}},\"id\":\"1856\",\"type\":\"Grid\"},{\"attributes\":{},\"id\":\"1858\",\"type\":\"WheelZoomTool\"},{\"attributes\":{\"source\":{\"id\":\"1870\",\"type\":\"ColumnDataSource\"}},\"id\":\"1874\",\"type\":\"CDSView\"},{\"attributes\":{},\"id\":\"1947\",\"type\":\"Selection\"},{\"attributes\":{},\"id\":\"1853\",\"type\":\"BasicTicker\"},{\"attributes\":{},\"id\":\"1946\",\"type\":\"UnionRenderers\"},{\"attributes\":{\"formatter\":{\"id\":\"1941\",\"type\":\"BasicTickFormatter\"},\"ticker\":{\"id\":\"1853\",\"type\":\"BasicTicker\"}},\"id\":\"1852\",\"type\":\"LinearAxis\"},{\"attributes\":{\"ticker\":{\"id\":\"1848\",\"type\":\"BasicTicker\"}},\"id\":\"1851\",\"type\":\"Grid\"},{\"attributes\":{},\"id\":\"1948\",\"type\":\"UnionRenderers\"},{\"attributes\":{\"fill_alpha\":{\"value\":0.1},\"fill_color\":{\"value\":\"#1f77b4\"},\"line_alpha\":{\"value\":0.1},\"line_color\":{\"value\":\"#1f77b4\"},\"size\":{\"units\":\"screen\",\"value\":10},\"x\":{\"field\":\"x\"},\"y\":{\"field\":\"y\"}},\"id\":\"1877\",\"type\":\"Circle\"},{\"attributes\":{\"fill_color\":{\"value\":\"black\"},\"size\":{\"units\":\"screen\",\"value\":10},\"x\":{\"field\":\"x\"},\"y\":{\"field\":\"y\"}},\"id\":\"1876\",\"type\":\"Circle\"},{\"attributes\":{},\"id\":\"1848\",\"type\":\"BasicTicker\"},{\"attributes\":{\"fill_color\":{\"value\":\"#1f77b4\"},\"line_color\":{\"value\":\"#1f77b4\"},\"size\":{\"units\":\"screen\",\"value\":20},\"x\":{\"field\":\"x\"},\"y\":{\"field\":\"y\"}},\"id\":\"1871\",\"type\":\"Circle\"},{\"attributes\":{\"source\":{\"id\":\"1875\",\"type\":\"ColumnDataSource\"}},\"id\":\"1879\",\"type\":\"CDSView\"},{\"attributes\":{\"data_source\":{\"id\":\"1875\",\"type\":\"ColumnDataSource\"},\"glyph\":{\"id\":\"1876\",\"type\":\"Circle\"},\"hover_glyph\":null,\"muted_glyph\":null,\"nonselection_glyph\":{\"id\":\"1877\",\"type\":\"Circle\"},\"selection_glyph\":null,\"view\":{\"id\":\"1879\",\"type\":\"CDSView\"}},\"id\":\"1878\",\"type\":\"GlyphRenderer\"},{\"attributes\":{},\"id\":\"1845\",\"type\":\"LinearScale\"},{\"attributes\":{\"data_source\":{\"id\":\"1870\",\"type\":\"ColumnDataSource\"},\"glyph\":{\"id\":\"1871\",\"type\":\"Circle\"},\"hover_glyph\":null,\"muted_glyph\":null,\"nonselection_glyph\":{\"id\":\"1872\",\"type\":\"Circle\"},\"selection_glyph\":null,\"view\":{\"id\":\"1874\",\"type\":\"CDSView\"}},\"id\":\"1873\",\"type\":\"GlyphRenderer\"},{\"attributes\":{},\"id\":\"1843\",\"type\":\"LinearScale\"},{\"attributes\":{},\"id\":\"1857\",\"type\":\"PanTool\"},{\"attributes\":{},\"id\":\"1945\",\"type\":\"Selection\"},{\"attributes\":{},\"id\":\"1943\",\"type\":\"BasicTickFormatter\"},{\"attributes\":{\"callback\":null,\"data\":{\"x\":{\"__ndarray__\":\"7uKGue9i8z/coQ3SWyT0P9qKxAUZLas/DN2Mzq/i1D/1uuPVGjbVP9+WYh/wyuo/t8yGXkaO2z/xDyGWAZPMP3je5qKP452/coc2SG+R0D8LTgVKGevpvxQYJ62z/u6/a2vD5H/U6T8GzhSaI2L1P+ZnWBSe3Pc/2cskjwQ48L8lvwRqGaTtvw==\",\"dtype\":\"float64\",\"shape\":[17]},\"y\":{\"__ndarray__\":\"Q1zuHf3w1r9svinA3avqv8AsTYEQ/e2/l764PBm79b8K+U66Vkf1v5JJfpsMNva/nwsBe4n08b/Xjj80J9b7v9qluK6xsPq/Hbxx3/P687+mIBRo3j0DwIy9XdxMgQbAnnJqrX2U9r95S4DH/JTtvwTGrc9tNey/36L7Y92aAsDzBNH2SscDwA==\",\"dtype\":\"float64\",\"shape\":[17]}},\"selected\":{\"id\":\"1947\",\"type\":\"Selection\"},\"selection_policy\":{\"id\":\"1948\",\"type\":\"UnionRenderers\"}},\"id\":\"1875\",\"type\":\"ColumnDataSource\"},{\"attributes\":{\"fill_alpha\":{\"value\":0.1},\"fill_color\":{\"value\":\"#1f77b4\"},\"line_alpha\":{\"value\":0.1},\"line_color\":{\"value\":\"#1f77b4\"},\"size\":{\"units\":\"screen\",\"value\":20},\"x\":{\"field\":\"x\"},\"y\":{\"field\":\"y\"}},\"id\":\"1872\",\"type\":\"Circle\"},{\"attributes\":{\"text\":\"4 log(area) vs log(mass)\"},\"id\":\"1837\",\"type\":\"Title\"}],\"root_ids\":[\"1836\"]},\"title\":\"Bokeh Application\",\"version\":\"1.4.0\"}};\n",
       "  var render_items = [{\"docid\":\"adccfa69-9c94-4256-8a31-3990c0c3f2da\",\"roots\":{\"1836\":\"ee78566d-6fc0-4575-946f-908b6244df56\"}}];\n",
       "  root.Bokeh.embed.embed_items_notebook(docs_json, render_items);\n",
       "\n",
       "  }\n",
       "  if (root.Bokeh !== undefined) {\n",
       "    embed_document(root);\n",
       "  } else {\n",
       "    var attempts = 0;\n",
       "    var timer = setInterval(function(root) {\n",
       "      if (root.Bokeh !== undefined) {\n",
       "        clearInterval(timer);\n",
       "        embed_document(root);\n",
       "      } else {\n",
       "        attempts++;\n",
       "        if (attempts > 100) {\n",
       "          clearInterval(timer);\n",
       "          console.log(\"Bokeh: ERROR: Unable to run BokehJS code because BokehJS library is missing\");\n",
       "        }\n",
       "      }\n",
       "    }, 10, root)\n",
       "  }\n",
       "})(window);"
      ],
      "application/vnd.bokehjs_exec.v0+json": ""
     },
     "metadata": {
      "application/vnd.bokehjs_exec.v0+json": {
       "id": "1836"
      }
     },
     "output_type": "display_data"
    },
    {
     "data": {
      "text/html": [
       "\n",
       "\n",
       "\n",
       "\n",
       "\n",
       "\n",
       "  <div class=\"bk-root\" id=\"ee1f3afd-6a45-446b-afb2-bf96838aabc9\" data-root-id=\"2010\"></div>\n"
      ]
     },
     "metadata": {},
     "output_type": "display_data"
    },
    {
     "data": {
      "application/javascript": [
       "(function(root) {\n",
       "  function embed_document(root) {\n",
       "    \n",
       "  var docs_json = {\"8897b04b-9ae4-48d0-b6ac-cbaa5f6d1f67\":{\"roots\":{\"references\":[{\"attributes\":{\"below\":[{\"id\":\"2021\",\"type\":\"LinearAxis\"}],\"center\":[{\"id\":\"2025\",\"type\":\"Grid\"},{\"id\":\"2030\",\"type\":\"Grid\"}],\"left\":[{\"id\":\"2026\",\"type\":\"LinearAxis\"}],\"plot_height\":350,\"renderers\":[{\"id\":\"2047\",\"type\":\"GlyphRenderer\"},{\"id\":\"2052\",\"type\":\"GlyphRenderer\"}],\"title\":{\"id\":\"2011\",\"type\":\"Title\"},\"toolbar\":{\"id\":\"2037\",\"type\":\"Toolbar\"},\"x_range\":{\"id\":\"2013\",\"type\":\"DataRange1d\"},\"x_scale\":{\"id\":\"2017\",\"type\":\"LinearScale\"},\"y_range\":{\"id\":\"2015\",\"type\":\"DataRange1d\"},\"y_scale\":{\"id\":\"2019\",\"type\":\"LinearScale\"}},\"id\":\"2010\",\"subtype\":\"Figure\",\"type\":\"Plot\"},{\"attributes\":{\"active_drag\":\"auto\",\"active_inspect\":\"auto\",\"active_multi\":null,\"active_scroll\":\"auto\",\"active_tap\":\"auto\",\"tools\":[{\"id\":\"2031\",\"type\":\"PanTool\"},{\"id\":\"2032\",\"type\":\"WheelZoomTool\"},{\"id\":\"2033\",\"type\":\"BoxZoomTool\"},{\"id\":\"2034\",\"type\":\"SaveTool\"},{\"id\":\"2035\",\"type\":\"ResetTool\"},{\"id\":\"2036\",\"type\":\"HelpTool\"}]},\"id\":\"2037\",\"type\":\"Toolbar\"},{\"attributes\":{},\"id\":\"2027\",\"type\":\"BasicTicker\"},{\"attributes\":{},\"id\":\"2130\",\"type\":\"UnionRenderers\"},{\"attributes\":{\"formatter\":{\"id\":\"2125\",\"type\":\"BasicTickFormatter\"},\"ticker\":{\"id\":\"2027\",\"type\":\"BasicTicker\"}},\"id\":\"2026\",\"type\":\"LinearAxis\"},{\"attributes\":{},\"id\":\"2127\",\"type\":\"BasicTickFormatter\"},{\"attributes\":{\"ticker\":{\"id\":\"2022\",\"type\":\"BasicTicker\"}},\"id\":\"2025\",\"type\":\"Grid\"},{\"attributes\":{},\"id\":\"2022\",\"type\":\"BasicTicker\"},{\"attributes\":{},\"id\":\"2036\",\"type\":\"HelpTool\"},{\"attributes\":{\"bottom_units\":\"screen\",\"fill_alpha\":{\"value\":0.5},\"fill_color\":{\"value\":\"lightgrey\"},\"left_units\":\"screen\",\"level\":\"overlay\",\"line_alpha\":{\"value\":1.0},\"line_color\":{\"value\":\"black\"},\"line_dash\":[4,4],\"line_width\":{\"value\":2},\"render_mode\":\"css\",\"right_units\":\"screen\",\"top_units\":\"screen\"},\"id\":\"2133\",\"type\":\"BoxAnnotation\"},{\"attributes\":{},\"id\":\"2019\",\"type\":\"LinearScale\"},{\"attributes\":{\"text\":\"4 log(depth) vs log(mass)\"},\"id\":\"2011\",\"type\":\"Title\"},{\"attributes\":{},\"id\":\"2125\",\"type\":\"BasicTickFormatter\"},{\"attributes\":{},\"id\":\"2017\",\"type\":\"LinearScale\"},{\"attributes\":{\"callback\":null,\"data\":{\"x\":{\"__ndarray__\":\"7uKGue9i8z/coQ3SWyT0P9qKxAUZLas/DN2Mzq/i1D/1uuPVGjbVP9+WYh/wyuo/t8yGXkaO2z/xDyGWAZPMP3je5qKP452/coc2SG+R0D8LTgVKGevpvxQYJ62z/u6/a2vD5H/U6T8GzhSaI2L1P+ZnWBSe3Pc/2cskjwQ48L8lvwRqGaTtvw==\",\"dtype\":\"float64\",\"shape\":[17]},\"y\":{\"__ndarray__\":\"k77nag2f0D+XEzSnJEXJPwMr2jx8T9S/shgLJFma0r+p6Jn7vbXQv7BS30sEodS/LHSErgCw0b+r4grs0YDRv/NzEkrOVOG/SU8h1ZMN4L80i2Qzufzpv1bxxs5wM+u/zvDubt67n7/F9jMKEm/IP07wDAJC1NU/4lCV2BNa47+TERzhZR7jvw==\",\"dtype\":\"float64\",\"shape\":[17]}},\"selected\":{\"id\":\"2131\",\"type\":\"Selection\"},\"selection_policy\":{\"id\":\"2132\",\"type\":\"UnionRenderers\"}},\"id\":\"2049\",\"type\":\"ColumnDataSource\"},{\"attributes\":{},\"id\":\"2034\",\"type\":\"SaveTool\"},{\"attributes\":{\"formatter\":{\"id\":\"2127\",\"type\":\"BasicTickFormatter\"},\"ticker\":{\"id\":\"2022\",\"type\":\"BasicTicker\"}},\"id\":\"2021\",\"type\":\"LinearAxis\"},{\"attributes\":{\"data_source\":{\"id\":\"2049\",\"type\":\"ColumnDataSource\"},\"glyph\":{\"id\":\"2050\",\"type\":\"Circle\"},\"hover_glyph\":null,\"muted_glyph\":null,\"nonselection_glyph\":{\"id\":\"2051\",\"type\":\"Circle\"},\"selection_glyph\":null,\"view\":{\"id\":\"2053\",\"type\":\"CDSView\"}},\"id\":\"2052\",\"type\":\"GlyphRenderer\"},{\"attributes\":{\"data_source\":{\"id\":\"2044\",\"type\":\"ColumnDataSource\"},\"glyph\":{\"id\":\"2045\",\"type\":\"Circle\"},\"hover_glyph\":null,\"muted_glyph\":null,\"nonselection_glyph\":{\"id\":\"2046\",\"type\":\"Circle\"},\"selection_glyph\":null,\"view\":{\"id\":\"2048\",\"type\":\"CDSView\"}},\"id\":\"2047\",\"type\":\"GlyphRenderer\"},{\"attributes\":{\"fill_alpha\":{\"value\":0.1},\"fill_color\":{\"value\":\"#1f77b4\"},\"line_alpha\":{\"value\":0.1},\"line_color\":{\"value\":\"#1f77b4\"},\"size\":{\"units\":\"screen\",\"value\":20},\"x\":{\"field\":\"x\"},\"y\":{\"field\":\"y\"}},\"id\":\"2046\",\"type\":\"Circle\"},{\"attributes\":{\"callback\":null},\"id\":\"2013\",\"type\":\"DataRange1d\"},{\"attributes\":{\"overlay\":{\"id\":\"2133\",\"type\":\"BoxAnnotation\"}},\"id\":\"2033\",\"type\":\"BoxZoomTool\"},{\"attributes\":{\"callback\":null},\"id\":\"2015\",\"type\":\"DataRange1d\"},{\"attributes\":{\"fill_alpha\":{\"value\":0.1},\"fill_color\":{\"value\":\"#1f77b4\"},\"line_alpha\":{\"value\":0.1},\"line_color\":{\"value\":\"#1f77b4\"},\"size\":{\"units\":\"screen\",\"value\":10},\"x\":{\"field\":\"x\"},\"y\":{\"field\":\"y\"}},\"id\":\"2051\",\"type\":\"Circle\"},{\"attributes\":{},\"id\":\"2032\",\"type\":\"WheelZoomTool\"},{\"attributes\":{\"source\":{\"id\":\"2044\",\"type\":\"ColumnDataSource\"}},\"id\":\"2048\",\"type\":\"CDSView\"},{\"attributes\":{\"fill_color\":{\"value\":\"black\"},\"size\":{\"units\":\"screen\",\"value\":10},\"x\":{\"field\":\"x\"},\"y\":{\"field\":\"y\"}},\"id\":\"2050\",\"type\":\"Circle\"},{\"attributes\":{},\"id\":\"2031\",\"type\":\"PanTool\"},{\"attributes\":{},\"id\":\"2035\",\"type\":\"ResetTool\"},{\"attributes\":{\"callback\":null,\"data\":{\"x\":{\"__ndarray__\":\"C04FShnr6b8UGCets/7uv9nLJI8EOPC/Jb8Eahmk7b/u4oa572LzP9yhDdJbJPQ/t8yGXkaO2z/xDyGWAZPMP3je5qKP452/coc2SG+R0D/aisQFGS2rPwzdjM6v4tQ/9brj1Ro21T9ra8Pkf9TpP9+WYh/wyuo/Bs4UmiNi9T/mZ1gUntz3Pw==\",\"dtype\":\"float64\",\"shape\":[17]},\"y\":{\"__ndarray__\":\"NItkM7n86b9W8cbOcDPrv+JQldgTWuO/lBEc4WUe47+HHNBqDZ/QPzadBqckRck/01BOrgCw0b9ZZwbs0YDRv6j/O0rOVOG/ZjRH1ZMN4L8DK9o8fE/Uv7QYCyRZmtK/quiZ+7210L/d8O5u3rufv5c3vEsEodS/TPcLChJvyD9O8AwCQtTVPw==\",\"dtype\":\"float64\",\"shape\":[17]}},\"selected\":{\"id\":\"2129\",\"type\":\"Selection\"},\"selection_policy\":{\"id\":\"2130\",\"type\":\"UnionRenderers\"}},\"id\":\"2044\",\"type\":\"ColumnDataSource\"},{\"attributes\":{},\"id\":\"2132\",\"type\":\"UnionRenderers\"},{\"attributes\":{\"dimension\":1,\"ticker\":{\"id\":\"2027\",\"type\":\"BasicTicker\"}},\"id\":\"2030\",\"type\":\"Grid\"},{\"attributes\":{\"fill_color\":{\"value\":\"#1f77b4\"},\"line_color\":{\"value\":\"#1f77b4\"},\"size\":{\"units\":\"screen\",\"value\":20},\"x\":{\"field\":\"x\"},\"y\":{\"field\":\"y\"}},\"id\":\"2045\",\"type\":\"Circle\"},{\"attributes\":{\"source\":{\"id\":\"2049\",\"type\":\"ColumnDataSource\"}},\"id\":\"2053\",\"type\":\"CDSView\"},{\"attributes\":{},\"id\":\"2129\",\"type\":\"Selection\"},{\"attributes\":{},\"id\":\"2131\",\"type\":\"Selection\"}],\"root_ids\":[\"2010\"]},\"title\":\"Bokeh Application\",\"version\":\"1.4.0\"}};\n",
       "  var render_items = [{\"docid\":\"8897b04b-9ae4-48d0-b6ac-cbaa5f6d1f67\",\"roots\":{\"2010\":\"ee1f3afd-6a45-446b-afb2-bf96838aabc9\"}}];\n",
       "  root.Bokeh.embed.embed_items_notebook(docs_json, render_items);\n",
       "\n",
       "  }\n",
       "  if (root.Bokeh !== undefined) {\n",
       "    embed_document(root);\n",
       "  } else {\n",
       "    var attempts = 0;\n",
       "    var timer = setInterval(function(root) {\n",
       "      if (root.Bokeh !== undefined) {\n",
       "        clearInterval(timer);\n",
       "        embed_document(root);\n",
       "      } else {\n",
       "        attempts++;\n",
       "        if (attempts > 100) {\n",
       "          clearInterval(timer);\n",
       "          console.log(\"Bokeh: ERROR: Unable to run BokehJS code because BokehJS library is missing\");\n",
       "        }\n",
       "      }\n",
       "    }, 10, root)\n",
       "  }\n",
       "})(window);"
      ],
      "application/vnd.bokehjs_exec.v0+json": ""
     },
     "metadata": {
      "application/vnd.bokehjs_exec.v0+json": {
       "id": "2010"
      }
     },
     "output_type": "display_data"
    },
    {
     "data": {
      "text/html": [
       "\n",
       "\n",
       "\n",
       "\n",
       "\n",
       "\n",
       "  <div class=\"bk-root\" id=\"bf93e551-b51d-40ed-b06a-5ec21bf5691c\" data-root-id=\"2194\"></div>\n"
      ]
     },
     "metadata": {},
     "output_type": "display_data"
    },
    {
     "data": {
      "application/javascript": [
       "(function(root) {\n",
       "  function embed_document(root) {\n",
       "    \n",
       "  var docs_json = {\"956beec5-1cab-42dd-a5b7-3f91bbaf17f4\":{\"roots\":{\"references\":[{\"attributes\":{\"below\":[{\"id\":\"2205\",\"type\":\"LinearAxis\"}],\"center\":[{\"id\":\"2209\",\"type\":\"Grid\"},{\"id\":\"2214\",\"type\":\"Grid\"}],\"left\":[{\"id\":\"2210\",\"type\":\"LinearAxis\"}],\"plot_height\":350,\"renderers\":[{\"id\":\"2231\",\"type\":\"GlyphRenderer\"},{\"id\":\"2236\",\"type\":\"GlyphRenderer\"}],\"title\":{\"id\":\"2195\",\"type\":\"Title\"},\"toolbar\":{\"id\":\"2221\",\"type\":\"Toolbar\"},\"x_range\":{\"id\":\"2197\",\"type\":\"DataRange1d\"},\"x_scale\":{\"id\":\"2201\",\"type\":\"LinearScale\"},\"y_range\":{\"id\":\"2199\",\"type\":\"DataRange1d\"},\"y_scale\":{\"id\":\"2203\",\"type\":\"LinearScale\"}},\"id\":\"2194\",\"subtype\":\"Figure\",\"type\":\"Plot\"},{\"attributes\":{},\"id\":\"2323\",\"type\":\"Selection\"},{\"attributes\":{},\"id\":\"2324\",\"type\":\"UnionRenderers\"},{\"attributes\":{},\"id\":\"2203\",\"type\":\"LinearScale\"},{\"attributes\":{},\"id\":\"2321\",\"type\":\"BasicTickFormatter\"},{\"attributes\":{},\"id\":\"2319\",\"type\":\"BasicTickFormatter\"},{\"attributes\":{\"callback\":null,\"data\":{\"x\":{\"__ndarray__\":\"C04FShnr6b8UGCets/7uv9nLJI8EOPC/Jb8Eahmk7b/u4oa572LzP9yhDdJbJPQ/t8yGXkaO2z/xDyGWAZPMP3je5qKP452/coc2SG+R0D/aisQFGS2rPwzdjM6v4tQ/9brj1Ro21T9ra8Pkf9TpP9+WYh/wyuo/Bs4UmiNi9T/mZ1gUntz3Pw==\",\"dtype\":\"float64\",\"shape\":[17]},\"y\":{\"__ndarray__\":\"TUyRwblRAsCaniAMePsBwLS/a7uo8/y/0aT5ulha979tbTrdacTcv43itaYOV+6/yMuLVBUV7r8Gdzg9+1T2v+K+Z0y8Lve/b+28NkP28L+mr4Avfxnvv9omFXxYz/W/s6CmFMfg8b8fKL/ijxXwvzq7qbw4u+2/nVA3EWwU3r8n/YdLp7zTvw==\",\"dtype\":\"float64\",\"shape\":[17]}},\"selected\":{\"id\":\"2323\",\"type\":\"Selection\"},\"selection_policy\":{\"id\":\"2324\",\"type\":\"UnionRenderers\"}},\"id\":\"2228\",\"type\":\"ColumnDataSource\"},{\"attributes\":{\"source\":{\"id\":\"2228\",\"type\":\"ColumnDataSource\"}},\"id\":\"2232\",\"type\":\"CDSView\"},{\"attributes\":{\"formatter\":{\"id\":\"2319\",\"type\":\"BasicTickFormatter\"},\"ticker\":{\"id\":\"2211\",\"type\":\"BasicTicker\"}},\"id\":\"2210\",\"type\":\"LinearAxis\"},{\"attributes\":{\"ticker\":{\"id\":\"2206\",\"type\":\"BasicTicker\"}},\"id\":\"2209\",\"type\":\"Grid\"},{\"attributes\":{},\"id\":\"2215\",\"type\":\"PanTool\"},{\"attributes\":{},\"id\":\"2206\",\"type\":\"BasicTicker\"},{\"attributes\":{},\"id\":\"2218\",\"type\":\"SaveTool\"},{\"attributes\":{},\"id\":\"2220\",\"type\":\"HelpTool\"},{\"attributes\":{},\"id\":\"2219\",\"type\":\"ResetTool\"},{\"attributes\":{},\"id\":\"2325\",\"type\":\"Selection\"},{\"attributes\":{},\"id\":\"2211\",\"type\":\"BasicTicker\"},{\"attributes\":{},\"id\":\"2326\",\"type\":\"UnionRenderers\"},{\"attributes\":{\"dimension\":1,\"ticker\":{\"id\":\"2211\",\"type\":\"BasicTicker\"}},\"id\":\"2214\",\"type\":\"Grid\"},{\"attributes\":{\"callback\":null},\"id\":\"2197\",\"type\":\"DataRange1d\"},{\"attributes\":{\"source\":{\"id\":\"2233\",\"type\":\"ColumnDataSource\"}},\"id\":\"2237\",\"type\":\"CDSView\"},{\"attributes\":{\"bottom_units\":\"screen\",\"fill_alpha\":{\"value\":0.5},\"fill_color\":{\"value\":\"lightgrey\"},\"left_units\":\"screen\",\"level\":\"overlay\",\"line_alpha\":{\"value\":1.0},\"line_color\":{\"value\":\"black\"},\"line_dash\":[4,4],\"line_width\":{\"value\":2},\"render_mode\":\"css\",\"right_units\":\"screen\",\"top_units\":\"screen\"},\"id\":\"2327\",\"type\":\"BoxAnnotation\"},{\"attributes\":{\"fill_color\":{\"value\":\"#1f77b4\"},\"line_color\":{\"value\":\"#1f77b4\"},\"size\":{\"units\":\"screen\",\"value\":20},\"x\":{\"field\":\"x\"},\"y\":{\"field\":\"y\"}},\"id\":\"2229\",\"type\":\"Circle\"},{\"attributes\":{\"callback\":null,\"data\":{\"x\":{\"__ndarray__\":\"7uKGue9i8z/coQ3SWyT0P9qKxAUZLas/DN2Mzq/i1D/1uuPVGjbVP9+WYh/wyuo/t8yGXkaO2z/xDyGWAZPMP3je5qKP452/coc2SG+R0D8LTgVKGevpvxQYJ62z/u6/a2vD5H/U6T8GzhSaI2L1P+ZnWBSe3Pc/2cskjwQ48L8lvwRqGaTtvw==\",\"dtype\":\"float64\",\"shape\":[17]},\"y\":{\"__ndarray__\":\"gnEk3WnE3L+nFAinDlfuvza1Ui9/Ge+/0wP6e1jP9b9tnfgTx+Dxv5juN7w4u+2//aZmVRUV7r81fbo9+1T2vzsM50u8Lve/SEc5NkP28L/hTM2/uVECwDhUDgp4+wHA8bWi4o8V8L8OJ6gQbBTev7Hc7EunvNO/Cdq3uqjz/L+N4SC6WFr3vw==\",\"dtype\":\"float64\",\"shape\":[17]}},\"selected\":{\"id\":\"2325\",\"type\":\"Selection\"},\"selection_policy\":{\"id\":\"2326\",\"type\":\"UnionRenderers\"}},\"id\":\"2233\",\"type\":\"ColumnDataSource\"},{\"attributes\":{\"callback\":null},\"id\":\"2199\",\"type\":\"DataRange1d\"},{\"attributes\":{\"text\":\"3 log(area) vs log(mass)\"},\"id\":\"2195\",\"type\":\"Title\"},{\"attributes\":{},\"id\":\"2201\",\"type\":\"LinearScale\"},{\"attributes\":{\"data_source\":{\"id\":\"2233\",\"type\":\"ColumnDataSource\"},\"glyph\":{\"id\":\"2234\",\"type\":\"Circle\"},\"hover_glyph\":null,\"muted_glyph\":null,\"nonselection_glyph\":{\"id\":\"2235\",\"type\":\"Circle\"},\"selection_glyph\":null,\"view\":{\"id\":\"2237\",\"type\":\"CDSView\"}},\"id\":\"2236\",\"type\":\"GlyphRenderer\"},{\"attributes\":{\"fill_color\":{\"value\":\"black\"},\"size\":{\"units\":\"screen\",\"value\":10},\"x\":{\"field\":\"x\"},\"y\":{\"field\":\"y\"}},\"id\":\"2234\",\"type\":\"Circle\"},{\"attributes\":{\"formatter\":{\"id\":\"2321\",\"type\":\"BasicTickFormatter\"},\"ticker\":{\"id\":\"2206\",\"type\":\"BasicTicker\"}},\"id\":\"2205\",\"type\":\"LinearAxis\"},{\"attributes\":{\"fill_alpha\":{\"value\":0.1},\"fill_color\":{\"value\":\"#1f77b4\"},\"line_alpha\":{\"value\":0.1},\"line_color\":{\"value\":\"#1f77b4\"},\"size\":{\"units\":\"screen\",\"value\":20},\"x\":{\"field\":\"x\"},\"y\":{\"field\":\"y\"}},\"id\":\"2230\",\"type\":\"Circle\"},{\"attributes\":{},\"id\":\"2216\",\"type\":\"WheelZoomTool\"},{\"attributes\":{\"data_source\":{\"id\":\"2228\",\"type\":\"ColumnDataSource\"},\"glyph\":{\"id\":\"2229\",\"type\":\"Circle\"},\"hover_glyph\":null,\"muted_glyph\":null,\"nonselection_glyph\":{\"id\":\"2230\",\"type\":\"Circle\"},\"selection_glyph\":null,\"view\":{\"id\":\"2232\",\"type\":\"CDSView\"}},\"id\":\"2231\",\"type\":\"GlyphRenderer\"},{\"attributes\":{\"fill_alpha\":{\"value\":0.1},\"fill_color\":{\"value\":\"#1f77b4\"},\"line_alpha\":{\"value\":0.1},\"line_color\":{\"value\":\"#1f77b4\"},\"size\":{\"units\":\"screen\",\"value\":10},\"x\":{\"field\":\"x\"},\"y\":{\"field\":\"y\"}},\"id\":\"2235\",\"type\":\"Circle\"},{\"attributes\":{\"overlay\":{\"id\":\"2327\",\"type\":\"BoxAnnotation\"}},\"id\":\"2217\",\"type\":\"BoxZoomTool\"},{\"attributes\":{\"active_drag\":\"auto\",\"active_inspect\":\"auto\",\"active_multi\":null,\"active_scroll\":\"auto\",\"active_tap\":\"auto\",\"tools\":[{\"id\":\"2215\",\"type\":\"PanTool\"},{\"id\":\"2216\",\"type\":\"WheelZoomTool\"},{\"id\":\"2217\",\"type\":\"BoxZoomTool\"},{\"id\":\"2218\",\"type\":\"SaveTool\"},{\"id\":\"2219\",\"type\":\"ResetTool\"},{\"id\":\"2220\",\"type\":\"HelpTool\"}]},\"id\":\"2221\",\"type\":\"Toolbar\"}],\"root_ids\":[\"2194\"]},\"title\":\"Bokeh Application\",\"version\":\"1.4.0\"}};\n",
       "  var render_items = [{\"docid\":\"956beec5-1cab-42dd-a5b7-3f91bbaf17f4\",\"roots\":{\"2194\":\"bf93e551-b51d-40ed-b06a-5ec21bf5691c\"}}];\n",
       "  root.Bokeh.embed.embed_items_notebook(docs_json, render_items);\n",
       "\n",
       "  }\n",
       "  if (root.Bokeh !== undefined) {\n",
       "    embed_document(root);\n",
       "  } else {\n",
       "    var attempts = 0;\n",
       "    var timer = setInterval(function(root) {\n",
       "      if (root.Bokeh !== undefined) {\n",
       "        clearInterval(timer);\n",
       "        embed_document(root);\n",
       "      } else {\n",
       "        attempts++;\n",
       "        if (attempts > 100) {\n",
       "          clearInterval(timer);\n",
       "          console.log(\"Bokeh: ERROR: Unable to run BokehJS code because BokehJS library is missing\");\n",
       "        }\n",
       "      }\n",
       "    }, 10, root)\n",
       "  }\n",
       "})(window);"
      ],
      "application/vnd.bokehjs_exec.v0+json": ""
     },
     "metadata": {
      "application/vnd.bokehjs_exec.v0+json": {
       "id": "2194"
      }
     },
     "output_type": "display_data"
    },
    {
     "data": {
      "text/html": [
       "\n",
       "\n",
       "\n",
       "\n",
       "\n",
       "\n",
       "  <div class=\"bk-root\" id=\"55aac7a6-4cf2-44fe-8005-9bbffc4c520f\" data-root-id=\"2388\"></div>\n"
      ]
     },
     "metadata": {},
     "output_type": "display_data"
    },
    {
     "data": {
      "application/javascript": [
       "(function(root) {\n",
       "  function embed_document(root) {\n",
       "    \n",
       "  var docs_json = {\"40a73866-a266-4f24-8de5-d585420f0212\":{\"roots\":{\"references\":[{\"attributes\":{\"below\":[{\"id\":\"2399\",\"type\":\"LinearAxis\"}],\"center\":[{\"id\":\"2403\",\"type\":\"Grid\"},{\"id\":\"2408\",\"type\":\"Grid\"}],\"left\":[{\"id\":\"2404\",\"type\":\"LinearAxis\"}],\"plot_height\":350,\"renderers\":[{\"id\":\"2425\",\"type\":\"GlyphRenderer\"},{\"id\":\"2430\",\"type\":\"GlyphRenderer\"}],\"title\":{\"id\":\"2389\",\"type\":\"Title\"},\"toolbar\":{\"id\":\"2415\",\"type\":\"Toolbar\"},\"x_range\":{\"id\":\"2391\",\"type\":\"DataRange1d\"},\"x_scale\":{\"id\":\"2395\",\"type\":\"LinearScale\"},\"y_range\":{\"id\":\"2393\",\"type\":\"DataRange1d\"},\"y_scale\":{\"id\":\"2397\",\"type\":\"LinearScale\"}},\"id\":\"2388\",\"subtype\":\"Figure\",\"type\":\"Plot\"},{\"attributes\":{\"bottom_units\":\"screen\",\"fill_alpha\":{\"value\":0.5},\"fill_color\":{\"value\":\"lightgrey\"},\"left_units\":\"screen\",\"level\":\"overlay\",\"line_alpha\":{\"value\":1.0},\"line_color\":{\"value\":\"black\"},\"line_dash\":[4,4],\"line_width\":{\"value\":2},\"render_mode\":\"css\",\"right_units\":\"screen\",\"top_units\":\"screen\"},\"id\":\"2531\",\"type\":\"BoxAnnotation\"},{\"attributes\":{},\"id\":\"2414\",\"type\":\"HelpTool\"},{\"attributes\":{},\"id\":\"2397\",\"type\":\"LinearScale\"},{\"attributes\":{},\"id\":\"2525\",\"type\":\"BasicTickFormatter\"},{\"attributes\":{},\"id\":\"2395\",\"type\":\"LinearScale\"},{\"attributes\":{\"formatter\":{\"id\":\"2525\",\"type\":\"BasicTickFormatter\"},\"ticker\":{\"id\":\"2400\",\"type\":\"BasicTicker\"}},\"id\":\"2399\",\"type\":\"LinearAxis\"},{\"attributes\":{},\"id\":\"2412\",\"type\":\"SaveTool\"},{\"attributes\":{\"overlay\":{\"id\":\"2531\",\"type\":\"BoxAnnotation\"}},\"id\":\"2411\",\"type\":\"BoxZoomTool\"},{\"attributes\":{\"active_drag\":\"auto\",\"active_inspect\":\"auto\",\"active_multi\":null,\"active_scroll\":\"auto\",\"active_tap\":\"auto\",\"tools\":[{\"id\":\"2409\",\"type\":\"PanTool\"},{\"id\":\"2410\",\"type\":\"WheelZoomTool\"},{\"id\":\"2411\",\"type\":\"BoxZoomTool\"},{\"id\":\"2412\",\"type\":\"SaveTool\"},{\"id\":\"2413\",\"type\":\"ResetTool\"},{\"id\":\"2414\",\"type\":\"HelpTool\"}]},\"id\":\"2415\",\"type\":\"Toolbar\"},{\"attributes\":{\"callback\":null},\"id\":\"2391\",\"type\":\"DataRange1d\"},{\"attributes\":{\"callback\":null,\"data\":{\"x\":{\"__ndarray__\":\"C04FShnr6b8UGCets/7uv9nLJI8EOPC/Jb8Eahmk7b/u4oa572LzP9yhDdJbJPQ/t8yGXkaO2z/xDyGWAZPMP3je5qKP452/coc2SG+R0D/aisQFGS2rPwzdjM6v4tQ/9brj1Ro21T9ra8Pkf9TpP9+WYh/wyuo/Bs4UmiNi9T/mZ1gUntz3Pw==\",\"dtype\":\"float64\",\"shape\":[17]},\"y\":{\"__ndarray__\":\"wemxcpDB5r9idhQSTxblvyNhRZy0HuO/aQkZKTF05r8DDWNwxL21P56Z3yvUrKs/vJhorqtH0L9Lik4GdcXVv7aAUszaB+e/Yf7VDOIe5b+EsAK8ljPfvxhwlmVbada/1gJvhJqB1b9cfdcu4/+9vyM00RoLu86/xT91LlLRtb+kFGbtqSirvw==\",\"dtype\":\"float64\",\"shape\":[17]}},\"selected\":{\"id\":\"2527\",\"type\":\"Selection\"},\"selection_policy\":{\"id\":\"2528\",\"type\":\"UnionRenderers\"}},\"id\":\"2422\",\"type\":\"ColumnDataSource\"},{\"attributes\":{},\"id\":\"2527\",\"type\":\"Selection\"},{\"attributes\":{},\"id\":\"2410\",\"type\":\"WheelZoomTool\"},{\"attributes\":{},\"id\":\"2409\",\"type\":\"PanTool\"},{\"attributes\":{},\"id\":\"2413\",\"type\":\"ResetTool\"},{\"attributes\":{},\"id\":\"2528\",\"type\":\"UnionRenderers\"},{\"attributes\":{\"source\":{\"id\":\"2427\",\"type\":\"ColumnDataSource\"}},\"id\":\"2431\",\"type\":\"CDSView\"},{\"attributes\":{\"dimension\":1,\"ticker\":{\"id\":\"2405\",\"type\":\"BasicTicker\"}},\"id\":\"2408\",\"type\":\"Grid\"},{\"attributes\":{\"callback\":null},\"id\":\"2393\",\"type\":\"DataRange1d\"},{\"attributes\":{\"fill_color\":{\"value\":\"#1f77b4\"},\"line_color\":{\"value\":\"#1f77b4\"},\"size\":{\"units\":\"screen\",\"value\":20},\"x\":{\"field\":\"x\"},\"y\":{\"field\":\"y\"}},\"id\":\"2423\",\"type\":\"Circle\"},{\"attributes\":{\"data_source\":{\"id\":\"2422\",\"type\":\"ColumnDataSource\"},\"glyph\":{\"id\":\"2423\",\"type\":\"Circle\"},\"hover_glyph\":null,\"muted_glyph\":null,\"nonselection_glyph\":{\"id\":\"2424\",\"type\":\"Circle\"},\"selection_glyph\":null,\"view\":{\"id\":\"2426\",\"type\":\"CDSView\"}},\"id\":\"2425\",\"type\":\"GlyphRenderer\"},{\"attributes\":{\"callback\":null,\"data\":{\"x\":{\"__ndarray__\":\"7uKGue9i8z/coQ3SWyT0P9qKxAUZLas/DN2Mzq/i1D/1uuPVGjbVP9+WYh/wyuo/t8yGXkaO2z/xDyGWAZPMP3je5qKP452/coc2SG+R0D8LTgVKGevpvxQYJ62z/u6/a2vD5H/U6T8GzhSaI2L1P+ZnWBSe3Pc/2cskjwQ48L8lvwRqGaTtvw==\",\"dtype\":\"float64\",\"shape\":[17]},\"y\":{\"__ndarray__\":\"2kogcMS9tT/aCSAt1KyrP4SwAryWM9+/GHCWZVtp1r/VAm+EmoHVv2HnyBoLu86/diRErqtH0L9pBYgGdcXVv7aAUszaB+e/YMiRDOIe5b/B6bFykMHmv2J2FBJPFuW/XH3XLuP/vb/TBtguUtG1v1FaIuypKKu/I2FFnLQe479qCRkpMXTmvw==\",\"dtype\":\"float64\",\"shape\":[17]}},\"selected\":{\"id\":\"2529\",\"type\":\"Selection\"},\"selection_policy\":{\"id\":\"2530\",\"type\":\"UnionRenderers\"}},\"id\":\"2427\",\"type\":\"ColumnDataSource\"},{\"attributes\":{\"source\":{\"id\":\"2422\",\"type\":\"ColumnDataSource\"}},\"id\":\"2426\",\"type\":\"CDSView\"},{\"attributes\":{\"fill_alpha\":{\"value\":0.1},\"fill_color\":{\"value\":\"#1f77b4\"},\"line_alpha\":{\"value\":0.1},\"line_color\":{\"value\":\"#1f77b4\"},\"size\":{\"units\":\"screen\",\"value\":10},\"x\":{\"field\":\"x\"},\"y\":{\"field\":\"y\"}},\"id\":\"2429\",\"type\":\"Circle\"},{\"attributes\":{},\"id\":\"2523\",\"type\":\"BasicTickFormatter\"},{\"attributes\":{\"fill_color\":{\"value\":\"black\"},\"size\":{\"units\":\"screen\",\"value\":10},\"x\":{\"field\":\"x\"},\"y\":{\"field\":\"y\"}},\"id\":\"2428\",\"type\":\"Circle\"},{\"attributes\":{},\"id\":\"2529\",\"type\":\"Selection\"},{\"attributes\":{},\"id\":\"2405\",\"type\":\"BasicTicker\"},{\"attributes\":{\"fill_alpha\":{\"value\":0.1},\"fill_color\":{\"value\":\"#1f77b4\"},\"line_alpha\":{\"value\":0.1},\"line_color\":{\"value\":\"#1f77b4\"},\"size\":{\"units\":\"screen\",\"value\":20},\"x\":{\"field\":\"x\"},\"y\":{\"field\":\"y\"}},\"id\":\"2424\",\"type\":\"Circle\"},{\"attributes\":{\"formatter\":{\"id\":\"2523\",\"type\":\"BasicTickFormatter\"},\"ticker\":{\"id\":\"2405\",\"type\":\"BasicTicker\"}},\"id\":\"2404\",\"type\":\"LinearAxis\"},{\"attributes\":{},\"id\":\"2530\",\"type\":\"UnionRenderers\"},{\"attributes\":{\"data_source\":{\"id\":\"2427\",\"type\":\"ColumnDataSource\"},\"glyph\":{\"id\":\"2428\",\"type\":\"Circle\"},\"hover_glyph\":null,\"muted_glyph\":null,\"nonselection_glyph\":{\"id\":\"2429\",\"type\":\"Circle\"},\"selection_glyph\":null,\"view\":{\"id\":\"2431\",\"type\":\"CDSView\"}},\"id\":\"2430\",\"type\":\"GlyphRenderer\"},{\"attributes\":{\"ticker\":{\"id\":\"2400\",\"type\":\"BasicTicker\"}},\"id\":\"2403\",\"type\":\"Grid\"},{\"attributes\":{\"text\":\"3 log(depth) vs log(mass)\"},\"id\":\"2389\",\"type\":\"Title\"},{\"attributes\":{},\"id\":\"2400\",\"type\":\"BasicTicker\"}],\"root_ids\":[\"2388\"]},\"title\":\"Bokeh Application\",\"version\":\"1.4.0\"}};\n",
       "  var render_items = [{\"docid\":\"40a73866-a266-4f24-8de5-d585420f0212\",\"roots\":{\"2388\":\"55aac7a6-4cf2-44fe-8005-9bbffc4c520f\"}}];\n",
       "  root.Bokeh.embed.embed_items_notebook(docs_json, render_items);\n",
       "\n",
       "  }\n",
       "  if (root.Bokeh !== undefined) {\n",
       "    embed_document(root);\n",
       "  } else {\n",
       "    var attempts = 0;\n",
       "    var timer = setInterval(function(root) {\n",
       "      if (root.Bokeh !== undefined) {\n",
       "        clearInterval(timer);\n",
       "        embed_document(root);\n",
       "      } else {\n",
       "        attempts++;\n",
       "        if (attempts > 100) {\n",
       "          clearInterval(timer);\n",
       "          console.log(\"Bokeh: ERROR: Unable to run BokehJS code because BokehJS library is missing\");\n",
       "        }\n",
       "      }\n",
       "    }, 10, root)\n",
       "  }\n",
       "})(window);"
      ],
      "application/vnd.bokehjs_exec.v0+json": ""
     },
     "metadata": {
      "application/vnd.bokehjs_exec.v0+json": {
       "id": "2388"
      }
     },
     "output_type": "display_data"
    },
    {
     "data": {
      "text/html": [
       "\n",
       "\n",
       "\n",
       "\n",
       "\n",
       "\n",
       "  <div class=\"bk-root\" id=\"c82d01e7-d637-4bef-8016-a141d17bf81f\" data-root-id=\"2592\"></div>\n"
      ]
     },
     "metadata": {},
     "output_type": "display_data"
    },
    {
     "data": {
      "application/javascript": [
       "(function(root) {\n",
       "  function embed_document(root) {\n",
       "    \n",
       "  var docs_json = {\"5b0d8af6-ed19-45c5-89fb-cf138618964c\":{\"roots\":{\"references\":[{\"attributes\":{\"below\":[{\"id\":\"2603\",\"type\":\"LinearAxis\"}],\"center\":[{\"id\":\"2607\",\"type\":\"Grid\"},{\"id\":\"2612\",\"type\":\"Grid\"}],\"left\":[{\"id\":\"2608\",\"type\":\"LinearAxis\"}],\"plot_height\":350,\"renderers\":[{\"id\":\"2629\",\"type\":\"GlyphRenderer\"},{\"id\":\"2634\",\"type\":\"GlyphRenderer\"}],\"title\":{\"id\":\"2593\",\"type\":\"Title\"},\"toolbar\":{\"id\":\"2619\",\"type\":\"Toolbar\"},\"x_range\":{\"id\":\"2595\",\"type\":\"DataRange1d\"},\"x_scale\":{\"id\":\"2599\",\"type\":\"LinearScale\"},\"y_range\":{\"id\":\"2597\",\"type\":\"DataRange1d\"},\"y_scale\":{\"id\":\"2601\",\"type\":\"LinearScale\"}},\"id\":\"2592\",\"subtype\":\"Figure\",\"type\":\"Plot\"},{\"attributes\":{\"callback\":null,\"data\":{\"x\":{\"__ndarray__\":\"C04FShnr6b8UGCets/7uv9nLJI8EOPC/Jb8Eahmk7b/u4oa572LzP9yhDdJbJPQ/t8yGXkaO2z/xDyGWAZPMP3je5qKP452/coc2SG+R0D/aisQFGS2rPwzdjM6v4tQ/9brj1Ro21T9ra8Pkf9TpP9+WYh/wyuo/Bs4UmiNi9T/mZ1gUntz3Pw==\",\"dtype\":\"float64\",\"shape\":[17]},\"y\":{\"__ndarray__\":\"BSKkWWOEBcAtAuU/xvECwP6acYDKbvy/cMACCAwx9r/fUxgREybBv5BuMSs+3Ni/fD2JGTXQ5b9y10HChUTqv8hgx9H26/O/JPMvpfjE87+cGOETxTHxvy8izsLa7PO/I3L34EUU8L8QD/yj3ensvx1iJ6z+iee/xGFb32px2r/RleoowIKEPw==\",\"dtype\":\"float64\",\"shape\":[17]}},\"selected\":{\"id\":\"2741\",\"type\":\"Selection\"},\"selection_policy\":{\"id\":\"2742\",\"type\":\"UnionRenderers\"}},\"id\":\"2626\",\"type\":\"ColumnDataSource\"},{\"attributes\":{\"source\":{\"id\":\"2626\",\"type\":\"ColumnDataSource\"}},\"id\":\"2630\",\"type\":\"CDSView\"},{\"attributes\":{\"bottom_units\":\"screen\",\"fill_alpha\":{\"value\":0.5},\"fill_color\":{\"value\":\"lightgrey\"},\"left_units\":\"screen\",\"level\":\"overlay\",\"line_alpha\":{\"value\":1.0},\"line_color\":{\"value\":\"black\"},\"line_dash\":[4,4],\"line_width\":{\"value\":2},\"render_mode\":\"css\",\"right_units\":\"screen\",\"top_units\":\"screen\"},\"id\":\"2745\",\"type\":\"BoxAnnotation\"},{\"attributes\":{},\"id\":\"2618\",\"type\":\"HelpTool\"},{\"attributes\":{},\"id\":\"2601\",\"type\":\"LinearScale\"},{\"attributes\":{},\"id\":\"2617\",\"type\":\"ResetTool\"},{\"attributes\":{\"source\":{\"id\":\"2631\",\"type\":\"ColumnDataSource\"}},\"id\":\"2635\",\"type\":\"CDSView\"},{\"attributes\":{},\"id\":\"2599\",\"type\":\"LinearScale\"},{\"attributes\":{\"callback\":null},\"id\":\"2597\",\"type\":\"DataRange1d\"},{\"attributes\":{\"formatter\":{\"id\":\"2739\",\"type\":\"BasicTickFormatter\"},\"ticker\":{\"id\":\"2604\",\"type\":\"BasicTicker\"}},\"id\":\"2603\",\"type\":\"LinearAxis\"},{\"attributes\":{\"fill_color\":{\"value\":\"black\"},\"size\":{\"units\":\"screen\",\"value\":10},\"x\":{\"field\":\"x\"},\"y\":{\"field\":\"y\"}},\"id\":\"2632\",\"type\":\"Circle\"},{\"attributes\":{\"data_source\":{\"id\":\"2626\",\"type\":\"ColumnDataSource\"},\"glyph\":{\"id\":\"2627\",\"type\":\"Circle\"},\"hover_glyph\":null,\"muted_glyph\":null,\"nonselection_glyph\":{\"id\":\"2628\",\"type\":\"Circle\"},\"selection_glyph\":null,\"view\":{\"id\":\"2630\",\"type\":\"CDSView\"}},\"id\":\"2629\",\"type\":\"GlyphRenderer\"},{\"attributes\":{},\"id\":\"2616\",\"type\":\"SaveTool\"},{\"attributes\":{},\"id\":\"2742\",\"type\":\"UnionRenderers\"},{\"attributes\":{\"callback\":null},\"id\":\"2595\",\"type\":\"DataRange1d\"},{\"attributes\":{},\"id\":\"2613\",\"type\":\"PanTool\"},{\"attributes\":{},\"id\":\"2743\",\"type\":\"Selection\"},{\"attributes\":{\"active_drag\":\"auto\",\"active_inspect\":\"auto\",\"active_multi\":null,\"active_scroll\":\"auto\",\"active_tap\":\"auto\",\"tools\":[{\"id\":\"2613\",\"type\":\"PanTool\"},{\"id\":\"2614\",\"type\":\"WheelZoomTool\"},{\"id\":\"2615\",\"type\":\"BoxZoomTool\"},{\"id\":\"2616\",\"type\":\"SaveTool\"},{\"id\":\"2617\",\"type\":\"ResetTool\"},{\"id\":\"2618\",\"type\":\"HelpTool\"}]},\"id\":\"2619\",\"type\":\"Toolbar\"},{\"attributes\":{\"overlay\":{\"id\":\"2745\",\"type\":\"BoxAnnotation\"}},\"id\":\"2615\",\"type\":\"BoxZoomTool\"},{\"attributes\":{\"data_source\":{\"id\":\"2631\",\"type\":\"ColumnDataSource\"},\"glyph\":{\"id\":\"2632\",\"type\":\"Circle\"},\"hover_glyph\":null,\"muted_glyph\":null,\"nonselection_glyph\":{\"id\":\"2633\",\"type\":\"Circle\"},\"selection_glyph\":null,\"view\":{\"id\":\"2635\",\"type\":\"CDSView\"}},\"id\":\"2634\",\"type\":\"GlyphRenderer\"},{\"attributes\":{},\"id\":\"2614\",\"type\":\"WheelZoomTool\"},{\"attributes\":{\"fill_alpha\":{\"value\":0.1},\"fill_color\":{\"value\":\"#1f77b4\"},\"line_alpha\":{\"value\":0.1},\"line_color\":{\"value\":\"#1f77b4\"},\"size\":{\"units\":\"screen\",\"value\":10},\"x\":{\"field\":\"x\"},\"y\":{\"field\":\"y\"}},\"id\":\"2633\",\"type\":\"Circle\"},{\"attributes\":{\"fill_alpha\":{\"value\":0.1},\"fill_color\":{\"value\":\"#1f77b4\"},\"line_alpha\":{\"value\":0.1},\"line_color\":{\"value\":\"#1f77b4\"},\"size\":{\"units\":\"screen\",\"value\":20},\"x\":{\"field\":\"x\"},\"y\":{\"field\":\"y\"}},\"id\":\"2628\",\"type\":\"Circle\"},{\"attributes\":{\"dimension\":1,\"ticker\":{\"id\":\"2609\",\"type\":\"BasicTicker\"}},\"id\":\"2612\",\"type\":\"Grid\"},{\"attributes\":{},\"id\":\"2604\",\"type\":\"BasicTicker\"},{\"attributes\":{\"text\":\"2 log(area) vs log(mass)\"},\"id\":\"2593\",\"type\":\"Title\"},{\"attributes\":{},\"id\":\"2739\",\"type\":\"BasicTickFormatter\"},{\"attributes\":{},\"id\":\"2737\",\"type\":\"BasicTickFormatter\"},{\"attributes\":{},\"id\":\"2741\",\"type\":\"Selection\"},{\"attributes\":{},\"id\":\"2609\",\"type\":\"BasicTicker\"},{\"attributes\":{\"fill_color\":{\"value\":\"#1f77b4\"},\"line_color\":{\"value\":\"#1f77b4\"},\"size\":{\"units\":\"screen\",\"value\":20},\"x\":{\"field\":\"x\"},\"y\":{\"field\":\"y\"}},\"id\":\"2627\",\"type\":\"Circle\"},{\"attributes\":{\"formatter\":{\"id\":\"2737\",\"type\":\"BasicTickFormatter\"},\"ticker\":{\"id\":\"2609\",\"type\":\"BasicTicker\"}},\"id\":\"2608\",\"type\":\"LinearAxis\"},{\"attributes\":{\"callback\":null,\"data\":{\"x\":{\"__ndarray__\":\"7uKGue9i8z/coQ3SWyT0P9qKxAUZLas/DN2Mzq/i1D/1uuPVGjbVP9+WYh/wyuo/t8yGXkaO2z/xDyGWAZPMP3je5qKP452/coc2SG+R0D8LTgVKGevpvxQYJ62z/u6/a2vD5H/U6T8GzhSaI2L1P+ZnWBSe3Pc/2cskjwQ48L8lvwRqGaTtvw==\",\"dtype\":\"float64\",\"shape\":[17]},\"y\":{\"__ndarray__\":\"cZUiERMmwb8gE88qPtzYv7lSXBTFMfG/Y3KVwtrs879Oy2rgRRTwv9Lznaz+iee/stsTGjXQ5b+G9qLBhUTqv9+m4tH26/O/QOitpPjE878E/0BTY4QFwMLAP0PG8QLAN6Oro93p7L+1JDvfanHav9edBjDAgoQ/NTG3fcpu/L/EtjIHDDH2vw==\",\"dtype\":\"float64\",\"shape\":[17]}},\"selected\":{\"id\":\"2743\",\"type\":\"Selection\"},\"selection_policy\":{\"id\":\"2744\",\"type\":\"UnionRenderers\"}},\"id\":\"2631\",\"type\":\"ColumnDataSource\"},{\"attributes\":{\"ticker\":{\"id\":\"2604\",\"type\":\"BasicTicker\"}},\"id\":\"2607\",\"type\":\"Grid\"},{\"attributes\":{},\"id\":\"2744\",\"type\":\"UnionRenderers\"}],\"root_ids\":[\"2592\"]},\"title\":\"Bokeh Application\",\"version\":\"1.4.0\"}};\n",
       "  var render_items = [{\"docid\":\"5b0d8af6-ed19-45c5-89fb-cf138618964c\",\"roots\":{\"2592\":\"c82d01e7-d637-4bef-8016-a141d17bf81f\"}}];\n",
       "  root.Bokeh.embed.embed_items_notebook(docs_json, render_items);\n",
       "\n",
       "  }\n",
       "  if (root.Bokeh !== undefined) {\n",
       "    embed_document(root);\n",
       "  } else {\n",
       "    var attempts = 0;\n",
       "    var timer = setInterval(function(root) {\n",
       "      if (root.Bokeh !== undefined) {\n",
       "        clearInterval(timer);\n",
       "        embed_document(root);\n",
       "      } else {\n",
       "        attempts++;\n",
       "        if (attempts > 100) {\n",
       "          clearInterval(timer);\n",
       "          console.log(\"Bokeh: ERROR: Unable to run BokehJS code because BokehJS library is missing\");\n",
       "        }\n",
       "      }\n",
       "    }, 10, root)\n",
       "  }\n",
       "})(window);"
      ],
      "application/vnd.bokehjs_exec.v0+json": ""
     },
     "metadata": {
      "application/vnd.bokehjs_exec.v0+json": {
       "id": "2592"
      }
     },
     "output_type": "display_data"
    },
    {
     "data": {
      "text/html": [
       "\n",
       "\n",
       "\n",
       "\n",
       "\n",
       "\n",
       "  <div class=\"bk-root\" id=\"96c039c8-4bdd-4c4b-9bab-db1e3dfe98ce\" data-root-id=\"2806\"></div>\n"
      ]
     },
     "metadata": {},
     "output_type": "display_data"
    },
    {
     "data": {
      "application/javascript": [
       "(function(root) {\n",
       "  function embed_document(root) {\n",
       "    \n",
       "  var docs_json = {\"fdfae9e4-dc13-4292-9318-7b0ba483ca86\":{\"roots\":{\"references\":[{\"attributes\":{\"below\":[{\"id\":\"2817\",\"type\":\"LinearAxis\"}],\"center\":[{\"id\":\"2821\",\"type\":\"Grid\"},{\"id\":\"2826\",\"type\":\"Grid\"}],\"left\":[{\"id\":\"2822\",\"type\":\"LinearAxis\"}],\"plot_height\":350,\"renderers\":[{\"id\":\"2843\",\"type\":\"GlyphRenderer\"},{\"id\":\"2848\",\"type\":\"GlyphRenderer\"}],\"title\":{\"id\":\"2807\",\"type\":\"Title\"},\"toolbar\":{\"id\":\"2833\",\"type\":\"Toolbar\"},\"x_range\":{\"id\":\"2809\",\"type\":\"DataRange1d\"},\"x_scale\":{\"id\":\"2813\",\"type\":\"LinearScale\"},\"y_range\":{\"id\":\"2811\",\"type\":\"DataRange1d\"},\"y_scale\":{\"id\":\"2815\",\"type\":\"LinearScale\"}},\"id\":\"2806\",\"subtype\":\"Figure\",\"type\":\"Plot\"},{\"attributes\":{\"bottom_units\":\"screen\",\"fill_alpha\":{\"value\":0.5},\"fill_color\":{\"value\":\"lightgrey\"},\"left_units\":\"screen\",\"level\":\"overlay\",\"line_alpha\":{\"value\":1.0},\"line_color\":{\"value\":\"black\"},\"line_dash\":[4,4],\"line_width\":{\"value\":2},\"render_mode\":\"css\",\"right_units\":\"screen\",\"top_units\":\"screen\"},\"id\":\"2969\",\"type\":\"BoxAnnotation\"},{\"attributes\":{},\"id\":\"2823\",\"type\":\"BasicTicker\"},{\"attributes\":{\"fill_color\":{\"value\":\"black\"},\"size\":{\"units\":\"screen\",\"value\":10},\"x\":{\"field\":\"x\"},\"y\":{\"field\":\"y\"}},\"id\":\"2846\",\"type\":\"Circle\"},{\"attributes\":{\"formatter\":{\"id\":\"2961\",\"type\":\"BasicTickFormatter\"},\"ticker\":{\"id\":\"2823\",\"type\":\"BasicTicker\"}},\"id\":\"2822\",\"type\":\"LinearAxis\"},{\"attributes\":{},\"id\":\"2961\",\"type\":\"BasicTickFormatter\"},{\"attributes\":{\"callback\":null,\"data\":{\"x\":{\"__ndarray__\":\"7uKGue9i8z/coQ3SWyT0P9qKxAUZLas/DN2Mzq/i1D/1uuPVGjbVP9+WYh/wyuo/t8yGXkaO2z/xDyGWAZPMP3je5qKP452/coc2SG+R0D8LTgVKGevpvxQYJ62z/u6/a2vD5H/U6T8GzhSaI2L1P+ZnWBSe3Pc/2cskjwQ48L8lvwRqGaTtvw==\",\"dtype\":\"float64\",\"shape\":[17]},\"y\":{\"__ndarray__\":\"atvjSYQ2oT8ElxlhJ+WhPzQR6IiFG9a/FLX/Rjl+0r9d9XwuqrvYv9tXi48FBcy/nXUx2Ilh07+vV7p2lMDWvzaYCZTBe+S/sQXiQMpF4780RvuhsfHiv/1tQWOqlea/6YAyljIPyb/Z7u7xmbW+v0wTz3O/7qC/H55mkbvm5r/0AtJs+xTmvw==\",\"dtype\":\"float64\",\"shape\":[17]}},\"selected\":{\"id\":\"2967\",\"type\":\"Selection\"},\"selection_policy\":{\"id\":\"2968\",\"type\":\"UnionRenderers\"}},\"id\":\"2845\",\"type\":\"ColumnDataSource\"},{\"attributes\":{\"ticker\":{\"id\":\"2818\",\"type\":\"BasicTicker\"}},\"id\":\"2821\",\"type\":\"Grid\"},{\"attributes\":{\"fill_alpha\":{\"value\":0.1},\"fill_color\":{\"value\":\"#1f77b4\"},\"line_alpha\":{\"value\":0.1},\"line_color\":{\"value\":\"#1f77b4\"},\"size\":{\"units\":\"screen\",\"value\":10},\"x\":{\"field\":\"x\"},\"y\":{\"field\":\"y\"}},\"id\":\"2847\",\"type\":\"Circle\"},{\"attributes\":{\"data_source\":{\"id\":\"2845\",\"type\":\"ColumnDataSource\"},\"glyph\":{\"id\":\"2846\",\"type\":\"Circle\"},\"hover_glyph\":null,\"muted_glyph\":null,\"nonselection_glyph\":{\"id\":\"2847\",\"type\":\"Circle\"},\"selection_glyph\":null,\"view\":{\"id\":\"2849\",\"type\":\"CDSView\"}},\"id\":\"2848\",\"type\":\"GlyphRenderer\"},{\"attributes\":{},\"id\":\"2815\",\"type\":\"LinearScale\"},{\"attributes\":{},\"id\":\"2818\",\"type\":\"BasicTicker\"},{\"attributes\":{},\"id\":\"2965\",\"type\":\"Selection\"},{\"attributes\":{\"fill_alpha\":{\"value\":0.1},\"fill_color\":{\"value\":\"#1f77b4\"},\"line_alpha\":{\"value\":0.1},\"line_color\":{\"value\":\"#1f77b4\"},\"size\":{\"units\":\"screen\",\"value\":20},\"x\":{\"field\":\"x\"},\"y\":{\"field\":\"y\"}},\"id\":\"2842\",\"type\":\"Circle\"},{\"attributes\":{},\"id\":\"2963\",\"type\":\"BasicTickFormatter\"},{\"attributes\":{\"source\":{\"id\":\"2840\",\"type\":\"ColumnDataSource\"}},\"id\":\"2844\",\"type\":\"CDSView\"},{\"attributes\":{},\"id\":\"2831\",\"type\":\"ResetTool\"},{\"attributes\":{},\"id\":\"2813\",\"type\":\"LinearScale\"},{\"attributes\":{\"callback\":null,\"data\":{\"x\":{\"__ndarray__\":\"C04FShnr6b8UGCets/7uv9nLJI8EOPC/Jb8Eahmk7b/u4oa572LzP9yhDdJbJPQ/t8yGXkaO2z/xDyGWAZPMP3je5qKP452/coc2SG+R0D/aisQFGS2rPwzdjM6v4tQ/9brj1Ro21T9ra8Pkf9TpP9+WYh/wyuo/Bs4UmiNi9T/mZ1gUntz3Pw==\",\"dtype\":\"float64\",\"shape\":[17]},\"y\":{\"__ndarray__\":\"NEb7obHx4r/9bUFjqpXmvx+eZpG75ua/9ALSbPsU5r/hPSpJhDahP0PQVmIn5aE/4QJf2Ilh07/bgIF2lMDWvyFZoZPBe+S/CzG+QMpF4780EeiIhRvWvxS1/0Y5ftK/XPV8Lqq72L/sgDKWMg/Jv7rRto8FBcy/AGbN8Jm1vr96MZ10v+6gvw==\",\"dtype\":\"float64\",\"shape\":[17]}},\"selected\":{\"id\":\"2965\",\"type\":\"Selection\"},\"selection_policy\":{\"id\":\"2966\",\"type\":\"UnionRenderers\"}},\"id\":\"2840\",\"type\":\"ColumnDataSource\"},{\"attributes\":{\"callback\":null},\"id\":\"2809\",\"type\":\"DataRange1d\"},{\"attributes\":{\"formatter\":{\"id\":\"2963\",\"type\":\"BasicTickFormatter\"},\"ticker\":{\"id\":\"2818\",\"type\":\"BasicTicker\"}},\"id\":\"2817\",\"type\":\"LinearAxis\"},{\"attributes\":{},\"id\":\"2832\",\"type\":\"HelpTool\"},{\"attributes\":{},\"id\":\"2828\",\"type\":\"WheelZoomTool\"},{\"attributes\":{},\"id\":\"2966\",\"type\":\"UnionRenderers\"},{\"attributes\":{\"callback\":null},\"id\":\"2811\",\"type\":\"DataRange1d\"},{\"attributes\":{},\"id\":\"2827\",\"type\":\"PanTool\"},{\"attributes\":{},\"id\":\"2830\",\"type\":\"SaveTool\"},{\"attributes\":{\"overlay\":{\"id\":\"2969\",\"type\":\"BoxAnnotation\"}},\"id\":\"2829\",\"type\":\"BoxZoomTool\"},{\"attributes\":{\"text\":\"2 log(depth) vs log(mass)\"},\"id\":\"2807\",\"type\":\"Title\"},{\"attributes\":{\"fill_color\":{\"value\":\"#1f77b4\"},\"line_color\":{\"value\":\"#1f77b4\"},\"size\":{\"units\":\"screen\",\"value\":20},\"x\":{\"field\":\"x\"},\"y\":{\"field\":\"y\"}},\"id\":\"2841\",\"type\":\"Circle\"},{\"attributes\":{\"source\":{\"id\":\"2845\",\"type\":\"ColumnDataSource\"}},\"id\":\"2849\",\"type\":\"CDSView\"},{\"attributes\":{\"data_source\":{\"id\":\"2840\",\"type\":\"ColumnDataSource\"},\"glyph\":{\"id\":\"2841\",\"type\":\"Circle\"},\"hover_glyph\":null,\"muted_glyph\":null,\"nonselection_glyph\":{\"id\":\"2842\",\"type\":\"Circle\"},\"selection_glyph\":null,\"view\":{\"id\":\"2844\",\"type\":\"CDSView\"}},\"id\":\"2843\",\"type\":\"GlyphRenderer\"},{\"attributes\":{\"dimension\":1,\"ticker\":{\"id\":\"2823\",\"type\":\"BasicTicker\"}},\"id\":\"2826\",\"type\":\"Grid\"},{\"attributes\":{},\"id\":\"2967\",\"type\":\"Selection\"},{\"attributes\":{},\"id\":\"2968\",\"type\":\"UnionRenderers\"},{\"attributes\":{\"active_drag\":\"auto\",\"active_inspect\":\"auto\",\"active_multi\":null,\"active_scroll\":\"auto\",\"active_tap\":\"auto\",\"tools\":[{\"id\":\"2827\",\"type\":\"PanTool\"},{\"id\":\"2828\",\"type\":\"WheelZoomTool\"},{\"id\":\"2829\",\"type\":\"BoxZoomTool\"},{\"id\":\"2830\",\"type\":\"SaveTool\"},{\"id\":\"2831\",\"type\":\"ResetTool\"},{\"id\":\"2832\",\"type\":\"HelpTool\"}]},\"id\":\"2833\",\"type\":\"Toolbar\"}],\"root_ids\":[\"2806\"]},\"title\":\"Bokeh Application\",\"version\":\"1.4.0\"}};\n",
       "  var render_items = [{\"docid\":\"fdfae9e4-dc13-4292-9318-7b0ba483ca86\",\"roots\":{\"2806\":\"96c039c8-4bdd-4c4b-9bab-db1e3dfe98ce\"}}];\n",
       "  root.Bokeh.embed.embed_items_notebook(docs_json, render_items);\n",
       "\n",
       "  }\n",
       "  if (root.Bokeh !== undefined) {\n",
       "    embed_document(root);\n",
       "  } else {\n",
       "    var attempts = 0;\n",
       "    var timer = setInterval(function(root) {\n",
       "      if (root.Bokeh !== undefined) {\n",
       "        clearInterval(timer);\n",
       "        embed_document(root);\n",
       "      } else {\n",
       "        attempts++;\n",
       "        if (attempts > 100) {\n",
       "          clearInterval(timer);\n",
       "          console.log(\"Bokeh: ERROR: Unable to run BokehJS code because BokehJS library is missing\");\n",
       "        }\n",
       "      }\n",
       "    }, 10, root)\n",
       "  }\n",
       "})(window);"
      ],
      "application/vnd.bokehjs_exec.v0+json": ""
     },
     "metadata": {
      "application/vnd.bokehjs_exec.v0+json": {
       "id": "2806"
      }
     },
     "output_type": "display_data"
    },
    {
     "data": {
      "text/html": [
       "\n",
       "\n",
       "\n",
       "\n",
       "\n",
       "\n",
       "  <div class=\"bk-root\" id=\"405b539e-9ff2-411f-8193-bd5c63d8c526\" data-root-id=\"3030\"></div>\n"
      ]
     },
     "metadata": {},
     "output_type": "display_data"
    },
    {
     "data": {
      "application/javascript": [
       "(function(root) {\n",
       "  function embed_document(root) {\n",
       "    \n",
       "  var docs_json = {\"bbdf8506-fcd9-4595-bc3c-967e01ffd585\":{\"roots\":{\"references\":[{\"attributes\":{\"below\":[{\"id\":\"3041\",\"type\":\"LinearAxis\"}],\"center\":[{\"id\":\"3045\",\"type\":\"Grid\"},{\"id\":\"3050\",\"type\":\"Grid\"}],\"left\":[{\"id\":\"3046\",\"type\":\"LinearAxis\"}],\"plot_height\":350,\"renderers\":[{\"id\":\"3067\",\"type\":\"GlyphRenderer\"},{\"id\":\"3072\",\"type\":\"GlyphRenderer\"}],\"title\":{\"id\":\"3031\",\"type\":\"Title\"},\"toolbar\":{\"id\":\"3057\",\"type\":\"Toolbar\"},\"x_range\":{\"id\":\"3033\",\"type\":\"DataRange1d\"},\"x_scale\":{\"id\":\"3037\",\"type\":\"LinearScale\"},\"y_range\":{\"id\":\"3035\",\"type\":\"DataRange1d\"},\"y_scale\":{\"id\":\"3039\",\"type\":\"LinearScale\"}},\"id\":\"3030\",\"subtype\":\"Figure\",\"type\":\"Plot\"},{\"attributes\":{\"fill_color\":{\"value\":\"black\"},\"size\":{\"units\":\"screen\",\"value\":10},\"x\":{\"field\":\"x\"},\"y\":{\"field\":\"y\"}},\"id\":\"3070\",\"type\":\"Circle\"},{\"attributes\":{\"callback\":null},\"id\":\"3033\",\"type\":\"DataRange1d\"},{\"attributes\":{\"data_source\":{\"id\":\"3069\",\"type\":\"ColumnDataSource\"},\"glyph\":{\"id\":\"3070\",\"type\":\"Circle\"},\"hover_glyph\":null,\"muted_glyph\":null,\"nonselection_glyph\":{\"id\":\"3071\",\"type\":\"Circle\"},\"selection_glyph\":null,\"view\":{\"id\":\"3073\",\"type\":\"CDSView\"}},\"id\":\"3072\",\"type\":\"GlyphRenderer\"},{\"attributes\":{},\"id\":\"3201\",\"type\":\"Selection\"},{\"attributes\":{},\"id\":\"3039\",\"type\":\"LinearScale\"},{\"attributes\":{\"formatter\":{\"id\":\"3197\",\"type\":\"BasicTickFormatter\"},\"ticker\":{\"id\":\"3042\",\"type\":\"BasicTicker\"}},\"id\":\"3041\",\"type\":\"LinearAxis\"},{\"attributes\":{},\"id\":\"3202\",\"type\":\"UnionRenderers\"},{\"attributes\":{},\"id\":\"3037\",\"type\":\"LinearScale\"},{\"attributes\":{},\"id\":\"3056\",\"type\":\"HelpTool\"},{\"attributes\":{\"callback\":null},\"id\":\"3035\",\"type\":\"DataRange1d\"},{\"attributes\":{\"bottom_units\":\"screen\",\"fill_alpha\":{\"value\":0.5},\"fill_color\":{\"value\":\"lightgrey\"},\"left_units\":\"screen\",\"level\":\"overlay\",\"line_alpha\":{\"value\":1.0},\"line_color\":{\"value\":\"black\"},\"line_dash\":[4,4],\"line_width\":{\"value\":2},\"render_mode\":\"css\",\"right_units\":\"screen\",\"top_units\":\"screen\"},\"id\":\"3203\",\"type\":\"BoxAnnotation\"},{\"attributes\":{\"text\":\"1 log(area) vs log(mass)\"},\"id\":\"3031\",\"type\":\"Title\"},{\"attributes\":{},\"id\":\"3054\",\"type\":\"SaveTool\"},{\"attributes\":{},\"id\":\"3055\",\"type\":\"ResetTool\"},{\"attributes\":{\"overlay\":{\"id\":\"3203\",\"type\":\"BoxAnnotation\"}},\"id\":\"3053\",\"type\":\"BoxZoomTool\"},{\"attributes\":{\"data_source\":{\"id\":\"3064\",\"type\":\"ColumnDataSource\"},\"glyph\":{\"id\":\"3065\",\"type\":\"Circle\"},\"hover_glyph\":null,\"muted_glyph\":null,\"nonselection_glyph\":{\"id\":\"3066\",\"type\":\"Circle\"},\"selection_glyph\":null,\"view\":{\"id\":\"3068\",\"type\":\"CDSView\"}},\"id\":\"3067\",\"type\":\"GlyphRenderer\"},{\"attributes\":{},\"id\":\"3197\",\"type\":\"BasicTickFormatter\"},{\"attributes\":{},\"id\":\"3052\",\"type\":\"WheelZoomTool\"},{\"attributes\":{},\"id\":\"3195\",\"type\":\"BasicTickFormatter\"},{\"attributes\":{},\"id\":\"3051\",\"type\":\"PanTool\"},{\"attributes\":{\"fill_alpha\":{\"value\":0.1},\"fill_color\":{\"value\":\"#1f77b4\"},\"line_alpha\":{\"value\":0.1},\"line_color\":{\"value\":\"#1f77b4\"},\"size\":{\"units\":\"screen\",\"value\":20},\"x\":{\"field\":\"x\"},\"y\":{\"field\":\"y\"}},\"id\":\"3066\",\"type\":\"Circle\"},{\"attributes\":{\"callback\":null,\"data\":{\"x\":{\"__ndarray__\":\"C04FShnr6b8UGCets/7uv9nLJI8EOPC/Jb8Eahmk7b/u4oa572LzP9yhDdJbJPQ/t8yGXkaO2z/xDyGWAZPMP3je5qKP452/coc2SG+R0D/aisQFGS2rPwzdjM6v4tQ/9brj1Ro21T9ra8Pkf9TpP9+WYh/wyuo/Bs4UmiNi9T/mZ1gUntz3Pw==\",\"dtype\":\"float64\",\"shape\":[17]},\"y\":{\"__ndarray__\":\"SXct75FqAMBafxiW+DECwNzwbjZEpPu/1nPEa/Jx978ZuNLpF9WzP/zAYRwpIb0/i+Kkz+Bd8r/BvdokU5Ttv1YU3+akj++/27npZfBF8L8ikG2aK8vrv9JEO2VnGvS/s8wlTsgd7r/T51IuSfbtvzGdnOSBvte/obfWn/LmyL/qPo8QyQSwvw==\",\"dtype\":\"float64\",\"shape\":[17]}},\"selected\":{\"id\":\"3199\",\"type\":\"Selection\"},\"selection_policy\":{\"id\":\"3200\",\"type\":\"UnionRenderers\"}},\"id\":\"3064\",\"type\":\"ColumnDataSource\"},{\"attributes\":{\"source\":{\"id\":\"3064\",\"type\":\"ColumnDataSource\"}},\"id\":\"3068\",\"type\":\"CDSView\"},{\"attributes\":{\"fill_color\":{\"value\":\"#1f77b4\"},\"line_color\":{\"value\":\"#1f77b4\"},\"size\":{\"units\":\"screen\",\"value\":20},\"x\":{\"field\":\"x\"},\"y\":{\"field\":\"y\"}},\"id\":\"3065\",\"type\":\"Circle\"},{\"attributes\":{\"source\":{\"id\":\"3069\",\"type\":\"ColumnDataSource\"}},\"id\":\"3073\",\"type\":\"CDSView\"},{\"attributes\":{\"dimension\":1,\"ticker\":{\"id\":\"3047\",\"type\":\"BasicTicker\"}},\"id\":\"3050\",\"type\":\"Grid\"},{\"attributes\":{},\"id\":\"3199\",\"type\":\"Selection\"},{\"attributes\":{\"active_drag\":\"auto\",\"active_inspect\":\"auto\",\"active_multi\":null,\"active_scroll\":\"auto\",\"active_tap\":\"auto\",\"tools\":[{\"id\":\"3051\",\"type\":\"PanTool\"},{\"id\":\"3052\",\"type\":\"WheelZoomTool\"},{\"id\":\"3053\",\"type\":\"BoxZoomTool\"},{\"id\":\"3054\",\"type\":\"SaveTool\"},{\"id\":\"3055\",\"type\":\"ResetTool\"},{\"id\":\"3056\",\"type\":\"HelpTool\"}]},\"id\":\"3057\",\"type\":\"Toolbar\"},{\"attributes\":{},\"id\":\"3047\",\"type\":\"BasicTicker\"},{\"attributes\":{\"formatter\":{\"id\":\"3195\",\"type\":\"BasicTickFormatter\"},\"ticker\":{\"id\":\"3047\",\"type\":\"BasicTicker\"}},\"id\":\"3046\",\"type\":\"LinearAxis\"},{\"attributes\":{\"ticker\":{\"id\":\"3042\",\"type\":\"BasicTicker\"}},\"id\":\"3045\",\"type\":\"Grid\"},{\"attributes\":{\"fill_alpha\":{\"value\":0.1},\"fill_color\":{\"value\":\"#1f77b4\"},\"line_alpha\":{\"value\":0.1},\"line_color\":{\"value\":\"#1f77b4\"},\"size\":{\"units\":\"screen\",\"value\":10},\"x\":{\"field\":\"x\"},\"y\":{\"field\":\"y\"}},\"id\":\"3071\",\"type\":\"Circle\"},{\"attributes\":{\"callback\":null,\"data\":{\"x\":{\"__ndarray__\":\"7uKGue9i8z/coQ3SWyT0P9qKxAUZLas/DN2Mzq/i1D/1uuPVGjbVP9+WYh/wyuo/t8yGXkaO2z/xDyGWAZPMP3je5qKP452/coc2SG+R0D8LTgVKGevpvxQYJ62z/u6/a2vD5H/U6T8GzhSaI2L1P+ZnWBSe3Pc/2cskjwQ48L8lvwRqGaTtvw==\",\"dtype\":\"float64\",\"shape\":[17]},\"y\":{\"__ndarray__\":\"MyVZ6RfVsz+CmpYcKSG9P92AEZory+u/EiqOZGca9L8Aow9OyB3uvxXYJuSBvte/qnwRz+Bd8r8YR7kkU5TtvyqHe+akj++/XP98ZfBF8L+5yWbykWoAwCv2DpX4MQLAM8aoLUn27b9RPn+g8ubIv8hpIBDJBLC/isiUM0Sk+7/gzvVs8nH3vw==\",\"dtype\":\"float64\",\"shape\":[17]}},\"selected\":{\"id\":\"3201\",\"type\":\"Selection\"},\"selection_policy\":{\"id\":\"3202\",\"type\":\"UnionRenderers\"}},\"id\":\"3069\",\"type\":\"ColumnDataSource\"},{\"attributes\":{},\"id\":\"3200\",\"type\":\"UnionRenderers\"},{\"attributes\":{},\"id\":\"3042\",\"type\":\"BasicTicker\"}],\"root_ids\":[\"3030\"]},\"title\":\"Bokeh Application\",\"version\":\"1.4.0\"}};\n",
       "  var render_items = [{\"docid\":\"bbdf8506-fcd9-4595-bc3c-967e01ffd585\",\"roots\":{\"3030\":\"405b539e-9ff2-411f-8193-bd5c63d8c526\"}}];\n",
       "  root.Bokeh.embed.embed_items_notebook(docs_json, render_items);\n",
       "\n",
       "  }\n",
       "  if (root.Bokeh !== undefined) {\n",
       "    embed_document(root);\n",
       "  } else {\n",
       "    var attempts = 0;\n",
       "    var timer = setInterval(function(root) {\n",
       "      if (root.Bokeh !== undefined) {\n",
       "        clearInterval(timer);\n",
       "        embed_document(root);\n",
       "      } else {\n",
       "        attempts++;\n",
       "        if (attempts > 100) {\n",
       "          clearInterval(timer);\n",
       "          console.log(\"Bokeh: ERROR: Unable to run BokehJS code because BokehJS library is missing\");\n",
       "        }\n",
       "      }\n",
       "    }, 10, root)\n",
       "  }\n",
       "})(window);"
      ],
      "application/vnd.bokehjs_exec.v0+json": ""
     },
     "metadata": {
      "application/vnd.bokehjs_exec.v0+json": {
       "id": "3030"
      }
     },
     "output_type": "display_data"
    },
    {
     "data": {
      "text/html": [
       "\n",
       "\n",
       "\n",
       "\n",
       "\n",
       "\n",
       "  <div class=\"bk-root\" id=\"46e7a868-7d38-4449-bc9d-4cf76d670ed9\" data-root-id=\"3264\"></div>\n"
      ]
     },
     "metadata": {},
     "output_type": "display_data"
    },
    {
     "data": {
      "application/javascript": [
       "(function(root) {\n",
       "  function embed_document(root) {\n",
       "    \n",
       "  var docs_json = {\"c76f29eb-06e0-4d58-b55d-5c8a95a3b21e\":{\"roots\":{\"references\":[{\"attributes\":{\"below\":[{\"id\":\"3275\",\"type\":\"LinearAxis\"}],\"center\":[{\"id\":\"3279\",\"type\":\"Grid\"},{\"id\":\"3284\",\"type\":\"Grid\"}],\"left\":[{\"id\":\"3280\",\"type\":\"LinearAxis\"}],\"plot_height\":350,\"renderers\":[{\"id\":\"3301\",\"type\":\"GlyphRenderer\"},{\"id\":\"3306\",\"type\":\"GlyphRenderer\"}],\"title\":{\"id\":\"3265\",\"type\":\"Title\"},\"toolbar\":{\"id\":\"3291\",\"type\":\"Toolbar\"},\"x_range\":{\"id\":\"3267\",\"type\":\"DataRange1d\"},\"x_scale\":{\"id\":\"3271\",\"type\":\"LinearScale\"},\"y_range\":{\"id\":\"3269\",\"type\":\"DataRange1d\"},\"y_scale\":{\"id\":\"3273\",\"type\":\"LinearScale\"}},\"id\":\"3264\",\"subtype\":\"Figure\",\"type\":\"Plot\"},{\"attributes\":{},\"id\":\"3288\",\"type\":\"SaveTool\"},{\"attributes\":{},\"id\":\"3286\",\"type\":\"WheelZoomTool\"},{\"attributes\":{\"overlay\":{\"id\":\"3447\",\"type\":\"BoxAnnotation\"}},\"id\":\"3287\",\"type\":\"BoxZoomTool\"},{\"attributes\":{\"fill_alpha\":{\"value\":0.1},\"fill_color\":{\"value\":\"#1f77b4\"},\"line_alpha\":{\"value\":0.1},\"line_color\":{\"value\":\"#1f77b4\"},\"size\":{\"units\":\"screen\",\"value\":10},\"x\":{\"field\":\"x\"},\"y\":{\"field\":\"y\"}},\"id\":\"3305\",\"type\":\"Circle\"},{\"attributes\":{\"callback\":null,\"data\":{\"x\":{\"__ndarray__\":\"C04FShnr6b8UGCets/7uv9nLJI8EOPC/Jb8Eahmk7b/u4oa572LzP9yhDdJbJPQ/t8yGXkaO2z/xDyGWAZPMP3je5qKP452/coc2SG+R0D/aisQFGS2rPwzdjM6v4tQ/9brj1Ro21T9ra8Pkf9TpP9+WYh/wyuo/Bs4UmiNi9T/mZ1gUntz3Pw==\",\"dtype\":\"float64\",\"shape\":[17]},\"y\":{\"__ndarray__\":\"Q5MbInhQ5L/UsBAZQy/lv4yVTjOR3OW/eU5jxoll5r+OWExARy/FP/JUB1y3MaU/OrzsAbo3xL96mw7L5eLcv0mh1rhgQ+S/PEsWyIwN6L/f3RuAhVTYv+/QGdEUStC/eLacMzla1b/rQwo4EJrQv5AlrRDoO3q/+fcCQygms79YeBVLxTdqvw==\",\"dtype\":\"float64\",\"shape\":[17]}},\"selected\":{\"id\":\"3443\",\"type\":\"Selection\"},\"selection_policy\":{\"id\":\"3444\",\"type\":\"UnionRenderers\"}},\"id\":\"3298\",\"type\":\"ColumnDataSource\"},{\"attributes\":{\"dimension\":1,\"ticker\":{\"id\":\"3281\",\"type\":\"BasicTicker\"}},\"id\":\"3284\",\"type\":\"Grid\"},{\"attributes\":{},\"id\":\"3445\",\"type\":\"Selection\"},{\"attributes\":{},\"id\":\"3285\",\"type\":\"PanTool\"},{\"attributes\":{},\"id\":\"3446\",\"type\":\"UnionRenderers\"},{\"attributes\":{\"text\":\"1 log(depth) vs log(mass)\"},\"id\":\"3265\",\"type\":\"Title\"},{\"attributes\":{\"bottom_units\":\"screen\",\"fill_alpha\":{\"value\":0.5},\"fill_color\":{\"value\":\"lightgrey\"},\"left_units\":\"screen\",\"level\":\"overlay\",\"line_alpha\":{\"value\":1.0},\"line_color\":{\"value\":\"black\"},\"line_dash\":[4,4],\"line_width\":{\"value\":2},\"render_mode\":\"css\",\"right_units\":\"screen\",\"top_units\":\"screen\"},\"id\":\"3447\",\"type\":\"BoxAnnotation\"},{\"attributes\":{\"callback\":null},\"id\":\"3269\",\"type\":\"DataRange1d\"},{\"attributes\":{\"callback\":null,\"data\":{\"x\":{\"__ndarray__\":\"7uKGue9i8z/coQ3SWyT0P9qKxAUZLas/DN2Mzq/i1D/1uuPVGjbVP9+WYh/wyuo/t8yGXkaO2z/xDyGWAZPMP3je5qKP452/coc2SG+R0D8LTgVKGevpvxQYJ62z/u6/a2vD5H/U6T8GzhSaI2L1P+ZnWBSe3Pc/2cskjwQ48L8lvwRqGaTtvw==\",\"dtype\":\"float64\",\"shape\":[17]},\"y\":{\"__ndarray__\":\"kkOcQEcvxT86EahdtzGlP9/dG4CFVNi/7tAZ0RRK0L94tpwzOVrVv0JPTh7oO3q/sQqVAro3xL9qG4jL5eLcvylI8LhgQ+S/8detx4wN6L9DkxsieFDkv9SwEBlDL+W/60MKOBCa0L/YNKhCKCazv/fOGFHFN2q/jZVOM5Hc5b95TmPGiWXmvw==\",\"dtype\":\"float64\",\"shape\":[17]}},\"selected\":{\"id\":\"3445\",\"type\":\"Selection\"},\"selection_policy\":{\"id\":\"3446\",\"type\":\"UnionRenderers\"}},\"id\":\"3303\",\"type\":\"ColumnDataSource\"},{\"attributes\":{\"data_source\":{\"id\":\"3298\",\"type\":\"ColumnDataSource\"},\"glyph\":{\"id\":\"3299\",\"type\":\"Circle\"},\"hover_glyph\":null,\"muted_glyph\":null,\"nonselection_glyph\":{\"id\":\"3300\",\"type\":\"Circle\"},\"selection_glyph\":null,\"view\":{\"id\":\"3302\",\"type\":\"CDSView\"}},\"id\":\"3301\",\"type\":\"GlyphRenderer\"},{\"attributes\":{},\"id\":\"3281\",\"type\":\"BasicTicker\"},{\"attributes\":{\"formatter\":{\"id\":\"3439\",\"type\":\"BasicTickFormatter\"},\"ticker\":{\"id\":\"3281\",\"type\":\"BasicTicker\"}},\"id\":\"3280\",\"type\":\"LinearAxis\"},{\"attributes\":{\"ticker\":{\"id\":\"3276\",\"type\":\"BasicTicker\"}},\"id\":\"3279\",\"type\":\"Grid\"},{\"attributes\":{\"source\":{\"id\":\"3298\",\"type\":\"ColumnDataSource\"}},\"id\":\"3302\",\"type\":\"CDSView\"},{\"attributes\":{\"fill_color\":{\"value\":\"black\"},\"size\":{\"units\":\"screen\",\"value\":10},\"x\":{\"field\":\"x\"},\"y\":{\"field\":\"y\"}},\"id\":\"3304\",\"type\":\"Circle\"},{\"attributes\":{},\"id\":\"3276\",\"type\":\"BasicTicker\"},{\"attributes\":{},\"id\":\"3271\",\"type\":\"LinearScale\"},{\"attributes\":{\"data_source\":{\"id\":\"3303\",\"type\":\"ColumnDataSource\"},\"glyph\":{\"id\":\"3304\",\"type\":\"Circle\"},\"hover_glyph\":null,\"muted_glyph\":null,\"nonselection_glyph\":{\"id\":\"3305\",\"type\":\"Circle\"},\"selection_glyph\":null,\"view\":{\"id\":\"3307\",\"type\":\"CDSView\"}},\"id\":\"3306\",\"type\":\"GlyphRenderer\"},{\"attributes\":{},\"id\":\"3273\",\"type\":\"LinearScale\"},{\"attributes\":{\"source\":{\"id\":\"3303\",\"type\":\"ColumnDataSource\"}},\"id\":\"3307\",\"type\":\"CDSView\"},{\"attributes\":{},\"id\":\"3289\",\"type\":\"ResetTool\"},{\"attributes\":{\"callback\":null},\"id\":\"3267\",\"type\":\"DataRange1d\"},{\"attributes\":{},\"id\":\"3443\",\"type\":\"Selection\"},{\"attributes\":{},\"id\":\"3441\",\"type\":\"BasicTickFormatter\"},{\"attributes\":{\"formatter\":{\"id\":\"3441\",\"type\":\"BasicTickFormatter\"},\"ticker\":{\"id\":\"3276\",\"type\":\"BasicTicker\"}},\"id\":\"3275\",\"type\":\"LinearAxis\"},{\"attributes\":{\"active_drag\":\"auto\",\"active_inspect\":\"auto\",\"active_multi\":null,\"active_scroll\":\"auto\",\"active_tap\":\"auto\",\"tools\":[{\"id\":\"3285\",\"type\":\"PanTool\"},{\"id\":\"3286\",\"type\":\"WheelZoomTool\"},{\"id\":\"3287\",\"type\":\"BoxZoomTool\"},{\"id\":\"3288\",\"type\":\"SaveTool\"},{\"id\":\"3289\",\"type\":\"ResetTool\"},{\"id\":\"3290\",\"type\":\"HelpTool\"}]},\"id\":\"3291\",\"type\":\"Toolbar\"},{\"attributes\":{},\"id\":\"3439\",\"type\":\"BasicTickFormatter\"},{\"attributes\":{},\"id\":\"3290\",\"type\":\"HelpTool\"},{\"attributes\":{},\"id\":\"3444\",\"type\":\"UnionRenderers\"},{\"attributes\":{\"fill_alpha\":{\"value\":0.1},\"fill_color\":{\"value\":\"#1f77b4\"},\"line_alpha\":{\"value\":0.1},\"line_color\":{\"value\":\"#1f77b4\"},\"size\":{\"units\":\"screen\",\"value\":20},\"x\":{\"field\":\"x\"},\"y\":{\"field\":\"y\"}},\"id\":\"3300\",\"type\":\"Circle\"},{\"attributes\":{\"fill_color\":{\"value\":\"#1f77b4\"},\"line_color\":{\"value\":\"#1f77b4\"},\"size\":{\"units\":\"screen\",\"value\":20},\"x\":{\"field\":\"x\"},\"y\":{\"field\":\"y\"}},\"id\":\"3299\",\"type\":\"Circle\"}],\"root_ids\":[\"3264\"]},\"title\":\"Bokeh Application\",\"version\":\"1.4.0\"}};\n",
       "  var render_items = [{\"docid\":\"c76f29eb-06e0-4d58-b55d-5c8a95a3b21e\",\"roots\":{\"3264\":\"46e7a868-7d38-4449-bc9d-4cf76d670ed9\"}}];\n",
       "  root.Bokeh.embed.embed_items_notebook(docs_json, render_items);\n",
       "\n",
       "  }\n",
       "  if (root.Bokeh !== undefined) {\n",
       "    embed_document(root);\n",
       "  } else {\n",
       "    var attempts = 0;\n",
       "    var timer = setInterval(function(root) {\n",
       "      if (root.Bokeh !== undefined) {\n",
       "        clearInterval(timer);\n",
       "        embed_document(root);\n",
       "      } else {\n",
       "        attempts++;\n",
       "        if (attempts > 100) {\n",
       "          clearInterval(timer);\n",
       "          console.log(\"Bokeh: ERROR: Unable to run BokehJS code because BokehJS library is missing\");\n",
       "        }\n",
       "      }\n",
       "    }, 10, root)\n",
       "  }\n",
       "})(window);"
      ],
      "application/vnd.bokehjs_exec.v0+json": ""
     },
     "metadata": {
      "application/vnd.bokehjs_exec.v0+json": {
       "id": "3264"
      }
     },
     "output_type": "display_data"
    },
    {
     "data": {
      "text/html": [
       "\n",
       "\n",
       "\n",
       "\n",
       "\n",
       "\n",
       "  <div class=\"bk-root\" id=\"99ddaf44-ab43-4ca0-84fa-8b142d090f7a\" data-root-id=\"3508\"></div>\n"
      ]
     },
     "metadata": {},
     "output_type": "display_data"
    },
    {
     "data": {
      "application/javascript": [
       "(function(root) {\n",
       "  function embed_document(root) {\n",
       "    \n",
       "  var docs_json = {\"1bf00a00-5865-437f-898f-2ee6e4a421f2\":{\"roots\":{\"references\":[{\"attributes\":{\"below\":[{\"id\":\"3519\",\"type\":\"LinearAxis\"}],\"center\":[{\"id\":\"3523\",\"type\":\"Grid\"},{\"id\":\"3528\",\"type\":\"Grid\"}],\"left\":[{\"id\":\"3524\",\"type\":\"LinearAxis\"}],\"plot_height\":350,\"renderers\":[{\"id\":\"3545\",\"type\":\"GlyphRenderer\"},{\"id\":\"3550\",\"type\":\"GlyphRenderer\"}],\"title\":{\"id\":\"3509\",\"type\":\"Title\"},\"toolbar\":{\"id\":\"3535\",\"type\":\"Toolbar\"},\"x_range\":{\"id\":\"3511\",\"type\":\"DataRange1d\"},\"x_scale\":{\"id\":\"3515\",\"type\":\"LinearScale\"},\"y_range\":{\"id\":\"3513\",\"type\":\"DataRange1d\"},\"y_scale\":{\"id\":\"3517\",\"type\":\"LinearScale\"}},\"id\":\"3508\",\"subtype\":\"Figure\",\"type\":\"Plot\"},{\"attributes\":{\"active_drag\":\"auto\",\"active_inspect\":\"auto\",\"active_multi\":null,\"active_scroll\":\"auto\",\"active_tap\":\"auto\",\"tools\":[{\"id\":\"3529\",\"type\":\"PanTool\"},{\"id\":\"3530\",\"type\":\"WheelZoomTool\"},{\"id\":\"3531\",\"type\":\"BoxZoomTool\"},{\"id\":\"3532\",\"type\":\"SaveTool\"},{\"id\":\"3533\",\"type\":\"ResetTool\"},{\"id\":\"3534\",\"type\":\"HelpTool\"}]},\"id\":\"3535\",\"type\":\"Toolbar\"},{\"attributes\":{\"callback\":null},\"id\":\"3513\",\"type\":\"DataRange1d\"},{\"attributes\":{},\"id\":\"3532\",\"type\":\"SaveTool\"},{\"attributes\":{\"overlay\":{\"id\":\"3701\",\"type\":\"BoxAnnotation\"}},\"id\":\"3531\",\"type\":\"BoxZoomTool\"},{\"attributes\":{},\"id\":\"3697\",\"type\":\"Selection\"},{\"attributes\":{},\"id\":\"3529\",\"type\":\"PanTool\"},{\"attributes\":{},\"id\":\"3525\",\"type\":\"BasicTicker\"},{\"attributes\":{\"fill_color\":{\"value\":\"black\"},\"size\":{\"units\":\"screen\",\"value\":10},\"x\":{\"field\":\"x\"},\"y\":{\"field\":\"y\"}},\"id\":\"3548\",\"type\":\"Circle\"},{\"attributes\":{},\"id\":\"3530\",\"type\":\"WheelZoomTool\"},{\"attributes\":{},\"id\":\"3698\",\"type\":\"UnionRenderers\"},{\"attributes\":{\"callback\":null,\"data\":{\"x\":{\"__ndarray__\":\"C04FShnr6b8UGCets/7uv9nLJI8EOPC/Jb8Eahmk7b/u4oa572LzP9yhDdJbJPQ/t8yGXkaO2z/xDyGWAZPMP3je5qKP452/coc2SG+R0D/aisQFGS2rPwzdjM6v4tQ/9brj1Ro21T9ra8Pkf9TpP9+WYh/wyuo/Bs4UmiNi9T/mZ1gUntz3Pw==\",\"dtype\":\"float64\",\"shape\":[17]},\"y\":{\"__ndarray__\":\"WvwI0k34/792w2sKOo8AwIxkDsnU9P2/tp1+VR9Y978AAAAAAAD4f4VojPyWYrc/xCkjl3br8r9ch10W0cnwv/5kdFoevfG/kGpWpg2O9L8X/o6uPnDwv3aofkmhy/e/2Bhx+jX567/uPhYnrrTmv5q4OiSweuW/XkF7H5b/37+hDCH3tiaxPw==\",\"dtype\":\"float64\",\"shape\":[17]}},\"selected\":{\"id\":\"3697\",\"type\":\"Selection\"},\"selection_policy\":{\"id\":\"3698\",\"type\":\"UnionRenderers\"}},\"id\":\"3542\",\"type\":\"ColumnDataSource\"},{\"attributes\":{\"fill_alpha\":{\"value\":0.1},\"fill_color\":{\"value\":\"#1f77b4\"},\"line_alpha\":{\"value\":0.1},\"line_color\":{\"value\":\"#1f77b4\"},\"size\":{\"units\":\"screen\",\"value\":20},\"x\":{\"field\":\"x\"},\"y\":{\"field\":\"y\"}},\"id\":\"3544\",\"type\":\"Circle\"},{\"attributes\":{},\"id\":\"3533\",\"type\":\"ResetTool\"},{\"attributes\":{\"data_source\":{\"id\":\"3542\",\"type\":\"ColumnDataSource\"},\"glyph\":{\"id\":\"3543\",\"type\":\"Circle\"},\"hover_glyph\":null,\"muted_glyph\":null,\"nonselection_glyph\":{\"id\":\"3544\",\"type\":\"Circle\"},\"selection_glyph\":null,\"view\":{\"id\":\"3546\",\"type\":\"CDSView\"}},\"id\":\"3545\",\"type\":\"GlyphRenderer\"},{\"attributes\":{\"dimension\":1,\"ticker\":{\"id\":\"3525\",\"type\":\"BasicTicker\"}},\"id\":\"3528\",\"type\":\"Grid\"},{\"attributes\":{},\"id\":\"3695\",\"type\":\"BasicTickFormatter\"},{\"attributes\":{},\"id\":\"3534\",\"type\":\"HelpTool\"},{\"attributes\":{\"formatter\":{\"id\":\"3693\",\"type\":\"BasicTickFormatter\"},\"ticker\":{\"id\":\"3525\",\"type\":\"BasicTicker\"}},\"id\":\"3524\",\"type\":\"LinearAxis\"},{\"attributes\":{\"formatter\":{\"id\":\"3695\",\"type\":\"BasicTickFormatter\"},\"ticker\":{\"id\":\"3520\",\"type\":\"BasicTicker\"}},\"id\":\"3519\",\"type\":\"LinearAxis\"},{\"attributes\":{},\"id\":\"3699\",\"type\":\"Selection\"},{\"attributes\":{},\"id\":\"3693\",\"type\":\"BasicTickFormatter\"},{\"attributes\":{},\"id\":\"3700\",\"type\":\"UnionRenderers\"},{\"attributes\":{\"ticker\":{\"id\":\"3520\",\"type\":\"BasicTicker\"}},\"id\":\"3523\",\"type\":\"Grid\"},{\"attributes\":{},\"id\":\"3520\",\"type\":\"BasicTicker\"},{\"attributes\":{\"callback\":null,\"data\":{\"x\":{\"__ndarray__\":\"3KEN0lsk9D/aisQFGS2rPwzdjM6v4tQ/9brj1Ro21T/flmIf8MrqP7fMhl5Gjts/8Q8hlgGTzD943uaij+Odv3KHNkhvkdA/C04FShnr6b8UGCets/7uv2trw+R/1Ok/Bs4UmiNi9T/mZ1gUntz3P9nLJI8EOPC/Jb8Eahmk7b8=\",\"dtype\":\"float64\",\"shape\":[16]},\"y\":{\"__ndarray__\":\"h9c2/ZZitz/NECqvPnDwvzwaJ0qhy/e/MHv++TX567/isssjsHrlv+apY5Z26/K/eGbXFtHJ8L+/nCBbHr3xv2QDoqUNjvS/Nj6H1E34/79NAZIJOo8AwBxYYCeutOa/taCRH5b/378/QBX3tiaxP0lqPsrU9P2/Nr5NVh9Y978=\",\"dtype\":\"float64\",\"shape\":[16]}},\"selected\":{\"id\":\"3699\",\"type\":\"Selection\"},\"selection_policy\":{\"id\":\"3700\",\"type\":\"UnionRenderers\"}},\"id\":\"3547\",\"type\":\"ColumnDataSource\"},{\"attributes\":{\"bottom_units\":\"screen\",\"fill_alpha\":{\"value\":0.5},\"fill_color\":{\"value\":\"lightgrey\"},\"left_units\":\"screen\",\"level\":\"overlay\",\"line_alpha\":{\"value\":1.0},\"line_color\":{\"value\":\"black\"},\"line_dash\":[4,4],\"line_width\":{\"value\":2},\"render_mode\":\"css\",\"right_units\":\"screen\",\"top_units\":\"screen\"},\"id\":\"3701\",\"type\":\"BoxAnnotation\"},{\"attributes\":{\"text\":\"T log(area) vs log(mass)\"},\"id\":\"3509\",\"type\":\"Title\"},{\"attributes\":{},\"id\":\"3517\",\"type\":\"LinearScale\"},{\"attributes\":{\"fill_alpha\":{\"value\":0.1},\"fill_color\":{\"value\":\"#1f77b4\"},\"line_alpha\":{\"value\":0.1},\"line_color\":{\"value\":\"#1f77b4\"},\"size\":{\"units\":\"screen\",\"value\":10},\"x\":{\"field\":\"x\"},\"y\":{\"field\":\"y\"}},\"id\":\"3549\",\"type\":\"Circle\"},{\"attributes\":{\"source\":{\"id\":\"3547\",\"type\":\"ColumnDataSource\"}},\"id\":\"3551\",\"type\":\"CDSView\"},{\"attributes\":{},\"id\":\"3515\",\"type\":\"LinearScale\"},{\"attributes\":{\"data_source\":{\"id\":\"3547\",\"type\":\"ColumnDataSource\"},\"glyph\":{\"id\":\"3548\",\"type\":\"Circle\"},\"hover_glyph\":null,\"muted_glyph\":null,\"nonselection_glyph\":{\"id\":\"3549\",\"type\":\"Circle\"},\"selection_glyph\":null,\"view\":{\"id\":\"3551\",\"type\":\"CDSView\"}},\"id\":\"3550\",\"type\":\"GlyphRenderer\"},{\"attributes\":{\"fill_color\":{\"value\":\"#1f77b4\"},\"line_color\":{\"value\":\"#1f77b4\"},\"size\":{\"units\":\"screen\",\"value\":20},\"x\":{\"field\":\"x\"},\"y\":{\"field\":\"y\"}},\"id\":\"3543\",\"type\":\"Circle\"},{\"attributes\":{\"source\":{\"id\":\"3542\",\"type\":\"ColumnDataSource\"}},\"id\":\"3546\",\"type\":\"CDSView\"},{\"attributes\":{\"callback\":null},\"id\":\"3511\",\"type\":\"DataRange1d\"}],\"root_ids\":[\"3508\"]},\"title\":\"Bokeh Application\",\"version\":\"1.4.0\"}};\n",
       "  var render_items = [{\"docid\":\"1bf00a00-5865-437f-898f-2ee6e4a421f2\",\"roots\":{\"3508\":\"99ddaf44-ab43-4ca0-84fa-8b142d090f7a\"}}];\n",
       "  root.Bokeh.embed.embed_items_notebook(docs_json, render_items);\n",
       "\n",
       "  }\n",
       "  if (root.Bokeh !== undefined) {\n",
       "    embed_document(root);\n",
       "  } else {\n",
       "    var attempts = 0;\n",
       "    var timer = setInterval(function(root) {\n",
       "      if (root.Bokeh !== undefined) {\n",
       "        clearInterval(timer);\n",
       "        embed_document(root);\n",
       "      } else {\n",
       "        attempts++;\n",
       "        if (attempts > 100) {\n",
       "          clearInterval(timer);\n",
       "          console.log(\"Bokeh: ERROR: Unable to run BokehJS code because BokehJS library is missing\");\n",
       "        }\n",
       "      }\n",
       "    }, 10, root)\n",
       "  }\n",
       "})(window);"
      ],
      "application/vnd.bokehjs_exec.v0+json": ""
     },
     "metadata": {
      "application/vnd.bokehjs_exec.v0+json": {
       "id": "3508"
      }
     },
     "output_type": "display_data"
    },
    {
     "data": {
      "text/html": [
       "\n",
       "\n",
       "\n",
       "\n",
       "\n",
       "\n",
       "  <div class=\"bk-root\" id=\"c58fc8dd-1fab-47ce-b2e0-270dc94d6d48\" data-root-id=\"3762\"></div>\n"
      ]
     },
     "metadata": {},
     "output_type": "display_data"
    },
    {
     "data": {
      "application/javascript": [
       "(function(root) {\n",
       "  function embed_document(root) {\n",
       "    \n",
       "  var docs_json = {\"3dfe10f8-2e7e-49b1-bf3a-48ff1a88f630\":{\"roots\":{\"references\":[{\"attributes\":{\"below\":[{\"id\":\"3773\",\"type\":\"LinearAxis\"}],\"center\":[{\"id\":\"3777\",\"type\":\"Grid\"},{\"id\":\"3782\",\"type\":\"Grid\"}],\"left\":[{\"id\":\"3778\",\"type\":\"LinearAxis\"}],\"plot_height\":350,\"renderers\":[{\"id\":\"3799\",\"type\":\"GlyphRenderer\"},{\"id\":\"3804\",\"type\":\"GlyphRenderer\"}],\"title\":{\"id\":\"3763\",\"type\":\"Title\"},\"toolbar\":{\"id\":\"3789\",\"type\":\"Toolbar\"},\"x_range\":{\"id\":\"3765\",\"type\":\"DataRange1d\"},\"x_scale\":{\"id\":\"3769\",\"type\":\"LinearScale\"},\"y_range\":{\"id\":\"3767\",\"type\":\"DataRange1d\"},\"y_scale\":{\"id\":\"3771\",\"type\":\"LinearScale\"}},\"id\":\"3762\",\"subtype\":\"Figure\",\"type\":\"Plot\"},{\"attributes\":{},\"id\":\"3784\",\"type\":\"WheelZoomTool\"},{\"attributes\":{\"data_source\":{\"id\":\"3801\",\"type\":\"ColumnDataSource\"},\"glyph\":{\"id\":\"3802\",\"type\":\"Circle\"},\"hover_glyph\":null,\"muted_glyph\":null,\"nonselection_glyph\":{\"id\":\"3803\",\"type\":\"Circle\"},\"selection_glyph\":null,\"view\":{\"id\":\"3805\",\"type\":\"CDSView\"}},\"id\":\"3804\",\"type\":\"GlyphRenderer\"},{\"attributes\":{\"formatter\":{\"id\":\"3959\",\"type\":\"BasicTickFormatter\"},\"ticker\":{\"id\":\"3774\",\"type\":\"BasicTicker\"}},\"id\":\"3773\",\"type\":\"LinearAxis\"},{\"attributes\":{\"callback\":null,\"data\":{\"x\":{\"__ndarray__\":\"3KEN0lsk9D/aisQFGS2rPwzdjM6v4tQ/9brj1Ro21T/flmIf8MrqP7fMhl5Gjts/8Q8hlgGTzD943uaij+Odv3KHNkhvkdA/C04FShnr6b8UGCets/7uv2trw+R/1Ok/Bs4UmiNi9T/mZ1gUntz3P9nLJI8EOPC/Jb8Eahmk7b8=\",\"dtype\":\"float64\",\"shape\":[16]},\"y\":{\"__ndarray__\":\"+qwPHXVNsT/oJSvp72fUvxiofC+5T8q/xck0VIMBy7+DSxaxKpVmPzAbyGFFbMu/N0CZKo8yz7/VXuzkC+bfv23AowTs7eC/LJwxN2z5578lqZonGXvov8hiM+aKtc2/6/1HScF0gz95SpWRX0qsP4a6K1a+Pui/i0Te5rYG5r8=\",\"dtype\":\"float64\",\"shape\":[16]}},\"selected\":{\"id\":\"3963\",\"type\":\"Selection\"},\"selection_policy\":{\"id\":\"3964\",\"type\":\"UnionRenderers\"}},\"id\":\"3801\",\"type\":\"ColumnDataSource\"},{\"attributes\":{},\"id\":\"3769\",\"type\":\"LinearScale\"},{\"attributes\":{\"formatter\":{\"id\":\"3957\",\"type\":\"BasicTickFormatter\"},\"ticker\":{\"id\":\"3779\",\"type\":\"BasicTicker\"}},\"id\":\"3778\",\"type\":\"LinearAxis\"},{\"attributes\":{\"ticker\":{\"id\":\"3774\",\"type\":\"BasicTicker\"}},\"id\":\"3777\",\"type\":\"Grid\"},{\"attributes\":{},\"id\":\"3788\",\"type\":\"HelpTool\"},{\"attributes\":{\"active_drag\":\"auto\",\"active_inspect\":\"auto\",\"active_multi\":null,\"active_scroll\":\"auto\",\"active_tap\":\"auto\",\"tools\":[{\"id\":\"3783\",\"type\":\"PanTool\"},{\"id\":\"3784\",\"type\":\"WheelZoomTool\"},{\"id\":\"3785\",\"type\":\"BoxZoomTool\"},{\"id\":\"3786\",\"type\":\"SaveTool\"},{\"id\":\"3787\",\"type\":\"ResetTool\"},{\"id\":\"3788\",\"type\":\"HelpTool\"}]},\"id\":\"3789\",\"type\":\"Toolbar\"},{\"attributes\":{},\"id\":\"3959\",\"type\":\"BasicTickFormatter\"},{\"attributes\":{},\"id\":\"3774\",\"type\":\"BasicTicker\"},{\"attributes\":{\"overlay\":{\"id\":\"3965\",\"type\":\"BoxAnnotation\"}},\"id\":\"3785\",\"type\":\"BoxZoomTool\"},{\"attributes\":{},\"id\":\"3962\",\"type\":\"UnionRenderers\"},{\"attributes\":{\"callback\":null,\"data\":{\"x\":{\"__ndarray__\":\"C04FShnr6b8UGCets/7uv9nLJI8EOPC/Jb8Eahmk7b/u4oa572LzP9yhDdJbJPQ/t8yGXkaO2z/xDyGWAZPMP3je5qKP452/coc2SG+R0D/aisQFGS2rPwzdjM6v4tQ/9brj1Ro21T9ra8Pkf9TpP9+WYh/wyuo/Bs4UmiNi9T/mZ1gUntz3Pw==\",\"dtype\":\"float64\",\"shape\":[17]},\"y\":{\"__ndarray__\":\"LJwxN2z5578lqZonGXvov4a6K1a+Pui/jETe5rYG5r8AAAAAAAD4f4GWaR11TbE/RAoiYkVsy7/iSMcqjzLPv8I1XeUL5t+/Jn72BOzt4L/qJSvp72fUvxuofC+5T8q/wsk0VIMBy7/IYjPmirXNv569MKgqlWY/4eCBRsF0gz8jA5mQX0qsPw==\",\"dtype\":\"float64\",\"shape\":[17]}},\"selected\":{\"id\":\"3961\",\"type\":\"Selection\"},\"selection_policy\":{\"id\":\"3962\",\"type\":\"UnionRenderers\"}},\"id\":\"3796\",\"type\":\"ColumnDataSource\"},{\"attributes\":{},\"id\":\"3786\",\"type\":\"SaveTool\"},{\"attributes\":{\"fill_color\":{\"value\":\"#1f77b4\"},\"line_color\":{\"value\":\"#1f77b4\"},\"size\":{\"units\":\"screen\",\"value\":20},\"x\":{\"field\":\"x\"},\"y\":{\"field\":\"y\"}},\"id\":\"3797\",\"type\":\"Circle\"},{\"attributes\":{},\"id\":\"3771\",\"type\":\"LinearScale\"},{\"attributes\":{},\"id\":\"3787\",\"type\":\"ResetTool\"},{\"attributes\":{},\"id\":\"3779\",\"type\":\"BasicTicker\"},{\"attributes\":{\"fill_color\":{\"value\":\"black\"},\"size\":{\"units\":\"screen\",\"value\":10},\"x\":{\"field\":\"x\"},\"y\":{\"field\":\"y\"}},\"id\":\"3802\",\"type\":\"Circle\"},{\"attributes\":{\"text\":\"T log(depth) vs log(mass)\"},\"id\":\"3763\",\"type\":\"Title\"},{\"attributes\":{\"dimension\":1,\"ticker\":{\"id\":\"3779\",\"type\":\"BasicTicker\"}},\"id\":\"3782\",\"type\":\"Grid\"},{\"attributes\":{\"bottom_units\":\"screen\",\"fill_alpha\":{\"value\":0.5},\"fill_color\":{\"value\":\"lightgrey\"},\"left_units\":\"screen\",\"level\":\"overlay\",\"line_alpha\":{\"value\":1.0},\"line_color\":{\"value\":\"black\"},\"line_dash\":[4,4],\"line_width\":{\"value\":2},\"render_mode\":\"css\",\"right_units\":\"screen\",\"top_units\":\"screen\"},\"id\":\"3965\",\"type\":\"BoxAnnotation\"},{\"attributes\":{},\"id\":\"3957\",\"type\":\"BasicTickFormatter\"},{\"attributes\":{},\"id\":\"3964\",\"type\":\"UnionRenderers\"},{\"attributes\":{\"callback\":null},\"id\":\"3765\",\"type\":\"DataRange1d\"},{\"attributes\":{},\"id\":\"3961\",\"type\":\"Selection\"},{\"attributes\":{},\"id\":\"3963\",\"type\":\"Selection\"},{\"attributes\":{\"callback\":null},\"id\":\"3767\",\"type\":\"DataRange1d\"},{\"attributes\":{\"fill_alpha\":{\"value\":0.1},\"fill_color\":{\"value\":\"#1f77b4\"},\"line_alpha\":{\"value\":0.1},\"line_color\":{\"value\":\"#1f77b4\"},\"size\":{\"units\":\"screen\",\"value\":10},\"x\":{\"field\":\"x\"},\"y\":{\"field\":\"y\"}},\"id\":\"3803\",\"type\":\"Circle\"},{\"attributes\":{\"data_source\":{\"id\":\"3796\",\"type\":\"ColumnDataSource\"},\"glyph\":{\"id\":\"3797\",\"type\":\"Circle\"},\"hover_glyph\":null,\"muted_glyph\":null,\"nonselection_glyph\":{\"id\":\"3798\",\"type\":\"Circle\"},\"selection_glyph\":null,\"view\":{\"id\":\"3800\",\"type\":\"CDSView\"}},\"id\":\"3799\",\"type\":\"GlyphRenderer\"},{\"attributes\":{\"source\":{\"id\":\"3801\",\"type\":\"ColumnDataSource\"}},\"id\":\"3805\",\"type\":\"CDSView\"},{\"attributes\":{},\"id\":\"3783\",\"type\":\"PanTool\"},{\"attributes\":{\"source\":{\"id\":\"3796\",\"type\":\"ColumnDataSource\"}},\"id\":\"3800\",\"type\":\"CDSView\"},{\"attributes\":{\"fill_alpha\":{\"value\":0.1},\"fill_color\":{\"value\":\"#1f77b4\"},\"line_alpha\":{\"value\":0.1},\"line_color\":{\"value\":\"#1f77b4\"},\"size\":{\"units\":\"screen\",\"value\":20},\"x\":{\"field\":\"x\"},\"y\":{\"field\":\"y\"}},\"id\":\"3798\",\"type\":\"Circle\"}],\"root_ids\":[\"3762\"]},\"title\":\"Bokeh Application\",\"version\":\"1.4.0\"}};\n",
       "  var render_items = [{\"docid\":\"3dfe10f8-2e7e-49b1-bf3a-48ff1a88f630\",\"roots\":{\"3762\":\"c58fc8dd-1fab-47ce-b2e0-270dc94d6d48\"}}];\n",
       "  root.Bokeh.embed.embed_items_notebook(docs_json, render_items);\n",
       "\n",
       "  }\n",
       "  if (root.Bokeh !== undefined) {\n",
       "    embed_document(root);\n",
       "  } else {\n",
       "    var attempts = 0;\n",
       "    var timer = setInterval(function(root) {\n",
       "      if (root.Bokeh !== undefined) {\n",
       "        clearInterval(timer);\n",
       "        embed_document(root);\n",
       "      } else {\n",
       "        attempts++;\n",
       "        if (attempts > 100) {\n",
       "          clearInterval(timer);\n",
       "          console.log(\"Bokeh: ERROR: Unable to run BokehJS code because BokehJS library is missing\");\n",
       "        }\n",
       "      }\n",
       "    }, 10, root)\n",
       "  }\n",
       "})(window);"
      ],
      "application/vnd.bokehjs_exec.v0+json": ""
     },
     "metadata": {
      "application/vnd.bokehjs_exec.v0+json": {
       "id": "3762"
      }
     },
     "output_type": "display_data"
    },
    {
     "data": {
      "text/html": [
       "\n",
       "\n",
       "\n",
       "\n",
       "\n",
       "\n",
       "  <div class=\"bk-root\" id=\"191a9985-e08e-499b-bf9c-b628a16547da\" data-root-id=\"4026\"></div>\n"
      ]
     },
     "metadata": {},
     "output_type": "display_data"
    },
    {
     "data": {
      "application/javascript": [
       "(function(root) {\n",
       "  function embed_document(root) {\n",
       "    \n",
       "  var docs_json = {\"0387dedd-db93-4bac-8dd9-114fd66e0459\":{\"roots\":{\"references\":[{\"attributes\":{\"below\":[{\"id\":\"4037\",\"type\":\"LinearAxis\"}],\"center\":[{\"id\":\"4041\",\"type\":\"Grid\"},{\"id\":\"4046\",\"type\":\"Grid\"}],\"left\":[{\"id\":\"4042\",\"type\":\"LinearAxis\"}],\"plot_height\":350,\"renderers\":[{\"id\":\"4063\",\"type\":\"GlyphRenderer\"},{\"id\":\"4068\",\"type\":\"GlyphRenderer\"}],\"title\":{\"id\":\"4027\",\"type\":\"Title\"},\"toolbar\":{\"id\":\"4053\",\"type\":\"Toolbar\"},\"x_range\":{\"id\":\"4029\",\"type\":\"DataRange1d\"},\"x_scale\":{\"id\":\"4033\",\"type\":\"LinearScale\"},\"y_range\":{\"id\":\"4031\",\"type\":\"DataRange1d\"},\"y_scale\":{\"id\":\"4035\",\"type\":\"LinearScale\"}},\"id\":\"4026\",\"subtype\":\"Figure\",\"type\":\"Plot\"},{\"attributes\":{\"fill_color\":{\"value\":\"black\"},\"size\":{\"units\":\"screen\",\"value\":10},\"x\":{\"field\":\"x\"},\"y\":{\"field\":\"y\"}},\"id\":\"4066\",\"type\":\"Circle\"},{\"attributes\":{\"dimension\":1,\"ticker\":{\"id\":\"4043\",\"type\":\"BasicTicker\"}},\"id\":\"4046\",\"type\":\"Grid\"},{\"attributes\":{\"bottom_units\":\"screen\",\"fill_alpha\":{\"value\":0.5},\"fill_color\":{\"value\":\"lightgrey\"},\"left_units\":\"screen\",\"level\":\"overlay\",\"line_alpha\":{\"value\":1.0},\"line_color\":{\"value\":\"black\"},\"line_dash\":[4,4],\"line_width\":{\"value\":2},\"render_mode\":\"css\",\"right_units\":\"screen\",\"top_units\":\"screen\"},\"id\":\"4239\",\"type\":\"BoxAnnotation\"},{\"attributes\":{\"data_source\":{\"id\":\"4065\",\"type\":\"ColumnDataSource\"},\"glyph\":{\"id\":\"4066\",\"type\":\"Circle\"},\"hover_glyph\":null,\"muted_glyph\":null,\"nonselection_glyph\":{\"id\":\"4067\",\"type\":\"Circle\"},\"selection_glyph\":null,\"view\":{\"id\":\"4069\",\"type\":\"CDSView\"}},\"id\":\"4068\",\"type\":\"GlyphRenderer\"},{\"attributes\":{\"fill_color\":{\"value\":\"#1f77b4\"},\"line_color\":{\"value\":\"#1f77b4\"},\"size\":{\"units\":\"screen\",\"value\":20},\"x\":{\"field\":\"x\"},\"y\":{\"field\":\"y\"}},\"id\":\"4061\",\"type\":\"Circle\"},{\"attributes\":{\"formatter\":{\"id\":\"4231\",\"type\":\"BasicTickFormatter\"},\"ticker\":{\"id\":\"4043\",\"type\":\"BasicTicker\"}},\"id\":\"4042\",\"type\":\"LinearAxis\"},{\"attributes\":{\"formatter\":{\"id\":\"4233\",\"type\":\"BasicTickFormatter\"},\"ticker\":{\"id\":\"4038\",\"type\":\"BasicTicker\"}},\"id\":\"4037\",\"type\":\"LinearAxis\"},{\"attributes\":{\"fill_alpha\":{\"value\":0.1},\"fill_color\":{\"value\":\"#1f77b4\"},\"line_alpha\":{\"value\":0.1},\"line_color\":{\"value\":\"#1f77b4\"},\"size\":{\"units\":\"screen\",\"value\":10},\"x\":{\"field\":\"x\"},\"y\":{\"field\":\"y\"}},\"id\":\"4067\",\"type\":\"Circle\"},{\"attributes\":{},\"id\":\"4231\",\"type\":\"BasicTickFormatter\"},{\"attributes\":{\"callback\":null,\"data\":{\"x\":{\"__ndarray__\":\"C04FShnr6b8UGCets/7uv9nLJI8EOPC/Jb8Eahmk7b/u4oa572LzP9yhDdJbJPQ/t8yGXkaO2z/xDyGWAZPMP3je5qKP452/coc2SG+R0D/aisQFGS2rPwzdjM6v4tQ/9brj1Ro21T9ra8Pkf9TpP9+WYh/wyuo/Bs4UmiNi9T/mZ1gUntz3Pw==\",\"dtype\":\"float64\",\"shape\":[17]},\"y\":{\"__ndarray__\":\"XLeEPK1++r8U3s1m9sL0v1WuLFGJl/W/AAAAAAAA+H8Vm7Gb7QjTP98W4qfgLtg/S6VFl9N3xL/bTbGZMg7hv7axvsNvSOS/2xS/2cR047+sxYg5GAbkvyg4OXtRkNi/1x4/7d6j4792f241Vvncv7WcI6+9eMM/pfaZ9H03wT+++6/EUtDBPw==\",\"dtype\":\"float64\",\"shape\":[17]}},\"selected\":{\"id\":\"4235\",\"type\":\"Selection\"},\"selection_policy\":{\"id\":\"4236\",\"type\":\"UnionRenderers\"}},\"id\":\"4060\",\"type\":\"ColumnDataSource\"},{\"attributes\":{},\"id\":\"4235\",\"type\":\"Selection\"},{\"attributes\":{},\"id\":\"4052\",\"type\":\"HelpTool\"},{\"attributes\":{},\"id\":\"4048\",\"type\":\"WheelZoomTool\"},{\"attributes\":{},\"id\":\"4236\",\"type\":\"UnionRenderers\"},{\"attributes\":{\"data_source\":{\"id\":\"4060\",\"type\":\"ColumnDataSource\"},\"glyph\":{\"id\":\"4061\",\"type\":\"Circle\"},\"hover_glyph\":null,\"muted_glyph\":null,\"nonselection_glyph\":{\"id\":\"4062\",\"type\":\"Circle\"},\"selection_glyph\":null,\"view\":{\"id\":\"4064\",\"type\":\"CDSView\"}},\"id\":\"4063\",\"type\":\"GlyphRenderer\"},{\"attributes\":{},\"id\":\"4047\",\"type\":\"PanTool\"},{\"attributes\":{\"ticker\":{\"id\":\"4038\",\"type\":\"BasicTicker\"}},\"id\":\"4041\",\"type\":\"Grid\"},{\"attributes\":{\"callback\":null,\"data\":{\"x\":{\"__ndarray__\":\"7uKGue9i8z/coQ3SWyT0P9qKxAUZLas/DN2Mzq/i1D/1uuPVGjbVP9+WYh/wyuo/t8yGXkaO2z/xDyGWAZPMP3je5qKP452/coc2SG+R0D8LTgVKGevpvxQYJ62z/u6/a2vD5H/U6T8GzhSaI2L1P+ZnWBSe3Pc/2cskjwQ48L8=\",\"dtype\":\"float64\",\"shape\":[16]},\"y\":{\"__ndarray__\":\"W7ylm+0I0z/V+Mun4C7YP5A49TkYBuS/STjlelGQ2L8jMA/t3qPjv25bWa+9eMM/+UIel9N3xL/piRWaMg7hvyk0ZcNvSOS/jN+62cR0479rVH06rX76v+PFk2f2wvS/cBmqNVb53L+2JoT0fTfBP2XjAcVS0ME/zjtwUomX9b8=\",\"dtype\":\"float64\",\"shape\":[16]}},\"selected\":{\"id\":\"4237\",\"type\":\"Selection\"},\"selection_policy\":{\"id\":\"4238\",\"type\":\"UnionRenderers\"}},\"id\":\"4065\",\"type\":\"ColumnDataSource\"},{\"attributes\":{},\"id\":\"4038\",\"type\":\"BasicTicker\"},{\"attributes\":{\"fill_alpha\":{\"value\":0.1},\"fill_color\":{\"value\":\"#1f77b4\"},\"line_alpha\":{\"value\":0.1},\"line_color\":{\"value\":\"#1f77b4\"},\"size\":{\"units\":\"screen\",\"value\":20},\"x\":{\"field\":\"x\"},\"y\":{\"field\":\"y\"}},\"id\":\"4062\",\"type\":\"Circle\"},{\"attributes\":{\"overlay\":{\"id\":\"4239\",\"type\":\"BoxAnnotation\"}},\"id\":\"4049\",\"type\":\"BoxZoomTool\"},{\"attributes\":{\"source\":{\"id\":\"4060\",\"type\":\"ColumnDataSource\"}},\"id\":\"4064\",\"type\":\"CDSView\"},{\"attributes\":{},\"id\":\"4233\",\"type\":\"BasicTickFormatter\"},{\"attributes\":{},\"id\":\"4050\",\"type\":\"SaveTool\"},{\"attributes\":{\"active_drag\":\"auto\",\"active_inspect\":\"auto\",\"active_multi\":null,\"active_scroll\":\"auto\",\"active_tap\":\"auto\",\"tools\":[{\"id\":\"4047\",\"type\":\"PanTool\"},{\"id\":\"4048\",\"type\":\"WheelZoomTool\"},{\"id\":\"4049\",\"type\":\"BoxZoomTool\"},{\"id\":\"4050\",\"type\":\"SaveTool\"},{\"id\":\"4051\",\"type\":\"ResetTool\"},{\"id\":\"4052\",\"type\":\"HelpTool\"}]},\"id\":\"4053\",\"type\":\"Toolbar\"},{\"attributes\":{\"text\":\"S log(area) vs log(mass)\"},\"id\":\"4027\",\"type\":\"Title\"},{\"attributes\":{},\"id\":\"4043\",\"type\":\"BasicTicker\"},{\"attributes\":{},\"id\":\"4033\",\"type\":\"LinearScale\"},{\"attributes\":{},\"id\":\"4237\",\"type\":\"Selection\"},{\"attributes\":{},\"id\":\"4035\",\"type\":\"LinearScale\"},{\"attributes\":{\"callback\":null},\"id\":\"4029\",\"type\":\"DataRange1d\"},{\"attributes\":{},\"id\":\"4051\",\"type\":\"ResetTool\"},{\"attributes\":{},\"id\":\"4238\",\"type\":\"UnionRenderers\"},{\"attributes\":{\"callback\":null},\"id\":\"4031\",\"type\":\"DataRange1d\"},{\"attributes\":{\"source\":{\"id\":\"4065\",\"type\":\"ColumnDataSource\"}},\"id\":\"4069\",\"type\":\"CDSView\"}],\"root_ids\":[\"4026\"]},\"title\":\"Bokeh Application\",\"version\":\"1.4.0\"}};\n",
       "  var render_items = [{\"docid\":\"0387dedd-db93-4bac-8dd9-114fd66e0459\",\"roots\":{\"4026\":\"191a9985-e08e-499b-bf9c-b628a16547da\"}}];\n",
       "  root.Bokeh.embed.embed_items_notebook(docs_json, render_items);\n",
       "\n",
       "  }\n",
       "  if (root.Bokeh !== undefined) {\n",
       "    embed_document(root);\n",
       "  } else {\n",
       "    var attempts = 0;\n",
       "    var timer = setInterval(function(root) {\n",
       "      if (root.Bokeh !== undefined) {\n",
       "        clearInterval(timer);\n",
       "        embed_document(root);\n",
       "      } else {\n",
       "        attempts++;\n",
       "        if (attempts > 100) {\n",
       "          clearInterval(timer);\n",
       "          console.log(\"Bokeh: ERROR: Unable to run BokehJS code because BokehJS library is missing\");\n",
       "        }\n",
       "      }\n",
       "    }, 10, root)\n",
       "  }\n",
       "})(window);"
      ],
      "application/vnd.bokehjs_exec.v0+json": ""
     },
     "metadata": {
      "application/vnd.bokehjs_exec.v0+json": {
       "id": "4026"
      }
     },
     "output_type": "display_data"
    },
    {
     "data": {
      "text/html": [
       "\n",
       "\n",
       "\n",
       "\n",
       "\n",
       "\n",
       "  <div class=\"bk-root\" id=\"4df0c129-9b8e-41cf-b8c0-8b2c0c22711f\" data-root-id=\"4300\"></div>\n"
      ]
     },
     "metadata": {},
     "output_type": "display_data"
    },
    {
     "data": {
      "application/javascript": [
       "(function(root) {\n",
       "  function embed_document(root) {\n",
       "    \n",
       "  var docs_json = {\"1da3a0f4-d251-4556-b927-631b608970a1\":{\"roots\":{\"references\":[{\"attributes\":{\"below\":[{\"id\":\"4311\",\"type\":\"LinearAxis\"}],\"center\":[{\"id\":\"4315\",\"type\":\"Grid\"},{\"id\":\"4320\",\"type\":\"Grid\"}],\"left\":[{\"id\":\"4316\",\"type\":\"LinearAxis\"}],\"plot_height\":350,\"renderers\":[{\"id\":\"4337\",\"type\":\"GlyphRenderer\"},{\"id\":\"4342\",\"type\":\"GlyphRenderer\"}],\"title\":{\"id\":\"4301\",\"type\":\"Title\"},\"toolbar\":{\"id\":\"4327\",\"type\":\"Toolbar\"},\"x_range\":{\"id\":\"4303\",\"type\":\"DataRange1d\"},\"x_scale\":{\"id\":\"4307\",\"type\":\"LinearScale\"},\"y_range\":{\"id\":\"4305\",\"type\":\"DataRange1d\"},\"y_scale\":{\"id\":\"4309\",\"type\":\"LinearScale\"}},\"id\":\"4300\",\"subtype\":\"Figure\",\"type\":\"Plot\"},{\"attributes\":{},\"id\":\"4317\",\"type\":\"BasicTicker\"},{\"attributes\":{\"bottom_units\":\"screen\",\"fill_alpha\":{\"value\":0.5},\"fill_color\":{\"value\":\"lightgrey\"},\"left_units\":\"screen\",\"level\":\"overlay\",\"line_alpha\":{\"value\":1.0},\"line_color\":{\"value\":\"black\"},\"line_dash\":[4,4],\"line_width\":{\"value\":2},\"render_mode\":\"css\",\"right_units\":\"screen\",\"top_units\":\"screen\"},\"id\":\"4523\",\"type\":\"BoxAnnotation\"},{\"attributes\":{\"fill_color\":{\"value\":\"#1f77b4\"},\"line_color\":{\"value\":\"#1f77b4\"},\"size\":{\"units\":\"screen\",\"value\":20},\"x\":{\"field\":\"x\"},\"y\":{\"field\":\"y\"}},\"id\":\"4335\",\"type\":\"Circle\"},{\"attributes\":{\"fill_color\":{\"value\":\"black\"},\"size\":{\"units\":\"screen\",\"value\":10},\"x\":{\"field\":\"x\"},\"y\":{\"field\":\"y\"}},\"id\":\"4340\",\"type\":\"Circle\"},{\"attributes\":{},\"id\":\"4309\",\"type\":\"LinearScale\"},{\"attributes\":{\"source\":{\"id\":\"4339\",\"type\":\"ColumnDataSource\"}},\"id\":\"4343\",\"type\":\"CDSView\"},{\"attributes\":{\"fill_alpha\":{\"value\":0.1},\"fill_color\":{\"value\":\"#1f77b4\"},\"line_alpha\":{\"value\":0.1},\"line_color\":{\"value\":\"#1f77b4\"},\"size\":{\"units\":\"screen\",\"value\":10},\"x\":{\"field\":\"x\"},\"y\":{\"field\":\"y\"}},\"id\":\"4341\",\"type\":\"Circle\"},{\"attributes\":{\"data_source\":{\"id\":\"4339\",\"type\":\"ColumnDataSource\"},\"glyph\":{\"id\":\"4340\",\"type\":\"Circle\"},\"hover_glyph\":null,\"muted_glyph\":null,\"nonselection_glyph\":{\"id\":\"4341\",\"type\":\"Circle\"},\"selection_glyph\":null,\"view\":{\"id\":\"4343\",\"type\":\"CDSView\"}},\"id\":\"4342\",\"type\":\"GlyphRenderer\"},{\"attributes\":{\"ticker\":{\"id\":\"4312\",\"type\":\"BasicTicker\"}},\"id\":\"4315\",\"type\":\"Grid\"},{\"attributes\":{\"dimension\":1,\"ticker\":{\"id\":\"4317\",\"type\":\"BasicTicker\"}},\"id\":\"4320\",\"type\":\"Grid\"},{\"attributes\":{},\"id\":\"4519\",\"type\":\"Selection\"},{\"attributes\":{\"formatter\":{\"id\":\"4517\",\"type\":\"BasicTickFormatter\"},\"ticker\":{\"id\":\"4312\",\"type\":\"BasicTicker\"}},\"id\":\"4311\",\"type\":\"LinearAxis\"},{\"attributes\":{},\"id\":\"4520\",\"type\":\"UnionRenderers\"},{\"attributes\":{},\"id\":\"4312\",\"type\":\"BasicTicker\"},{\"attributes\":{\"callback\":null},\"id\":\"4303\",\"type\":\"DataRange1d\"},{\"attributes\":{\"callback\":null},\"id\":\"4305\",\"type\":\"DataRange1d\"},{\"attributes\":{},\"id\":\"4517\",\"type\":\"BasicTickFormatter\"},{\"attributes\":{\"callback\":null,\"data\":{\"x\":{\"__ndarray__\":\"C04FShnr6b8UGCets/7uv9nLJI8EOPC/Jb8Eahmk7b/u4oa572LzP9yhDdJbJPQ/t8yGXkaO2z/xDyGWAZPMP3je5qKP452/coc2SG+R0D/aisQFGS2rPwzdjM6v4tQ/9brj1Ro21T9ra8Pkf9TpP9+WYh/wyuo/Bs4UmiNi9T/mZ1gUntz3Pw==\",\"dtype\":\"float64\",\"shape\":[17]},\"y\":{\"__ndarray__\":\"55UVAwK76b8Q/93OHUXqv6x1raUO4+e/AAAAAAAA+H+bUq4OieyuP+zIpKo9w7S/LjuQ7St83r8cBgBbgY3ev7MezbzmdeG/Wf8AGtIO4b8bYD0xNmbgvxcdvfnPnN2/hW9rtpFG5L+acBfcY2XavzcoD6VLx8u/7e3nZT9m4r/9mpajnKuzvw==\",\"dtype\":\"float64\",\"shape\":[17]}},\"selected\":{\"id\":\"4519\",\"type\":\"Selection\"},\"selection_policy\":{\"id\":\"4520\",\"type\":\"UnionRenderers\"}},\"id\":\"4334\",\"type\":\"ColumnDataSource\"},{\"attributes\":{},\"id\":\"4322\",\"type\":\"WheelZoomTool\"},{\"attributes\":{},\"id\":\"4321\",\"type\":\"PanTool\"},{\"attributes\":{},\"id\":\"4324\",\"type\":\"SaveTool\"},{\"attributes\":{\"callback\":null,\"data\":{\"x\":{\"__ndarray__\":\"7uKGue9i8z/coQ3SWyT0P9qKxAUZLas/DN2Mzq/i1D/1uuPVGjbVP9+WYh/wyuo/t8yGXkaO2z/xDyGWAZPMP3je5qKP452/coc2SG+R0D8LTgVKGevpvxQYJ62z/u6/a2vD5H/U6T8GzhSaI2L1P+ZnWBSe3Pc/2cskjwQ48L8=\",\"dtype\":\"float64\",\"shape\":[16]},\"y\":{\"__ndarray__\":\"MqoTEInsrj+pB6KrPcO0vxxgPTE2ZuC/Fx29+c+c3b+Fb2u2kUbkv/kplaRLx8u/4hSJ7St83r9zWrhagY3ev84N97zmdeG/S0ShGdIO4b/nlRUDArvpvxD/3c4dReq/mHAX3GNl2r/jmgBmP2bivy6Zz6Ocq7O/rHWtpQ7j578=\",\"dtype\":\"float64\",\"shape\":[16]}},\"selected\":{\"id\":\"4521\",\"type\":\"Selection\"},\"selection_policy\":{\"id\":\"4522\",\"type\":\"UnionRenderers\"}},\"id\":\"4339\",\"type\":\"ColumnDataSource\"},{\"attributes\":{\"overlay\":{\"id\":\"4523\",\"type\":\"BoxAnnotation\"}},\"id\":\"4323\",\"type\":\"BoxZoomTool\"},{\"attributes\":{\"fill_alpha\":{\"value\":0.1},\"fill_color\":{\"value\":\"#1f77b4\"},\"line_alpha\":{\"value\":0.1},\"line_color\":{\"value\":\"#1f77b4\"},\"size\":{\"units\":\"screen\",\"value\":20},\"x\":{\"field\":\"x\"},\"y\":{\"field\":\"y\"}},\"id\":\"4336\",\"type\":\"Circle\"},{\"attributes\":{},\"id\":\"4326\",\"type\":\"HelpTool\"},{\"attributes\":{\"data_source\":{\"id\":\"4334\",\"type\":\"ColumnDataSource\"},\"glyph\":{\"id\":\"4335\",\"type\":\"Circle\"},\"hover_glyph\":null,\"muted_glyph\":null,\"nonselection_glyph\":{\"id\":\"4336\",\"type\":\"Circle\"},\"selection_glyph\":null,\"view\":{\"id\":\"4338\",\"type\":\"CDSView\"}},\"id\":\"4337\",\"type\":\"GlyphRenderer\"},{\"attributes\":{},\"id\":\"4521\",\"type\":\"Selection\"},{\"attributes\":{},\"id\":\"4307\",\"type\":\"LinearScale\"},{\"attributes\":{},\"id\":\"4325\",\"type\":\"ResetTool\"},{\"attributes\":{},\"id\":\"4522\",\"type\":\"UnionRenderers\"},{\"attributes\":{\"formatter\":{\"id\":\"4515\",\"type\":\"BasicTickFormatter\"},\"ticker\":{\"id\":\"4317\",\"type\":\"BasicTicker\"}},\"id\":\"4316\",\"type\":\"LinearAxis\"},{\"attributes\":{\"source\":{\"id\":\"4334\",\"type\":\"ColumnDataSource\"}},\"id\":\"4338\",\"type\":\"CDSView\"},{\"attributes\":{\"text\":\"S log(depth) vs log(mass)\"},\"id\":\"4301\",\"type\":\"Title\"},{\"attributes\":{\"active_drag\":\"auto\",\"active_inspect\":\"auto\",\"active_multi\":null,\"active_scroll\":\"auto\",\"active_tap\":\"auto\",\"tools\":[{\"id\":\"4321\",\"type\":\"PanTool\"},{\"id\":\"4322\",\"type\":\"WheelZoomTool\"},{\"id\":\"4323\",\"type\":\"BoxZoomTool\"},{\"id\":\"4324\",\"type\":\"SaveTool\"},{\"id\":\"4325\",\"type\":\"ResetTool\"},{\"id\":\"4326\",\"type\":\"HelpTool\"}]},\"id\":\"4327\",\"type\":\"Toolbar\"},{\"attributes\":{},\"id\":\"4515\",\"type\":\"BasicTickFormatter\"}],\"root_ids\":[\"4300\"]},\"title\":\"Bokeh Application\",\"version\":\"1.4.0\"}};\n",
       "  var render_items = [{\"docid\":\"1da3a0f4-d251-4556-b927-631b608970a1\",\"roots\":{\"4300\":\"4df0c129-9b8e-41cf-b8c0-8b2c0c22711f\"}}];\n",
       "  root.Bokeh.embed.embed_items_notebook(docs_json, render_items);\n",
       "\n",
       "  }\n",
       "  if (root.Bokeh !== undefined) {\n",
       "    embed_document(root);\n",
       "  } else {\n",
       "    var attempts = 0;\n",
       "    var timer = setInterval(function(root) {\n",
       "      if (root.Bokeh !== undefined) {\n",
       "        clearInterval(timer);\n",
       "        embed_document(root);\n",
       "      } else {\n",
       "        attempts++;\n",
       "        if (attempts > 100) {\n",
       "          clearInterval(timer);\n",
       "          console.log(\"Bokeh: ERROR: Unable to run BokehJS code because BokehJS library is missing\");\n",
       "        }\n",
       "      }\n",
       "    }, 10, root)\n",
       "  }\n",
       "})(window);"
      ],
      "application/vnd.bokehjs_exec.v0+json": ""
     },
     "metadata": {
      "application/vnd.bokehjs_exec.v0+json": {
       "id": "4300"
      }
     },
     "output_type": "display_data"
    }
   ],
   "source": [
    "for s in df['spiracle'].unique():\n",
    "    p = bokeh.plotting.figure(plot_height=350, title=s + ' log(area) vs log(mass)')\n",
    "    p.circle(np.log10(df_raw_tidy.loc[df_raw_tidy['spiracle'] == s, 'mass']), np.log10(df_raw_tidy.loc[df_raw_tidy['spiracle'] == s, 'area mm^2']), size=20)\n",
    "    p.circle(np.log10(df.loc[df['spiracle'] == s, 'mass (g)']), np.log10(df.loc[df['spiracle'] == s, 'area (mm^2)']), size=10, color='black')\n",
    "    bokeh.io.show(p)\n",
    "\n",
    "    p = bokeh.plotting.figure(plot_height=350, title=s + ' log(depth) vs log(mass)')\n",
    "    p.circle(np.log10(df_raw_tidy.loc[df_raw_tidy['spiracle'] == s, 'mass']), np.log10(df_raw_tidy.loc[df_raw_tidy['spiracle'] == s, 'depth']), size=20)\n",
    "    p.circle(np.log10(df.loc[df['spiracle'] == s, 'mass (g)']), np.log10(df.loc[df['spiracle'] == s, 'depth (mm)']), size=10, color='black')\n",
    "    bokeh.io.show(p)"
   ]
  },
  {
   "cell_type": "markdown",
   "metadata": {},
   "source": [
    "We do the same for the species averaged values. "
   ]
  },
  {
   "cell_type": "code",
   "execution_count": 8,
   "metadata": {},
   "outputs": [
    {
     "data": {
      "text/html": [
       "\n",
       "\n",
       "\n",
       "\n",
       "\n",
       "\n",
       "  <div class=\"bk-root\" id=\"5faa0996-cef0-4e13-9461-ba9113a30ce8\" data-root-id=\"4584\"></div>\n"
      ]
     },
     "metadata": {},
     "output_type": "display_data"
    },
    {
     "data": {
      "application/javascript": [
       "(function(root) {\n",
       "  function embed_document(root) {\n",
       "    \n",
       "  var docs_json = {\"9b821dca-f947-4094-8ad6-5c8ac36b47c4\":{\"roots\":{\"references\":[{\"attributes\":{\"below\":[{\"id\":\"4595\",\"type\":\"LinearAxis\"}],\"center\":[{\"id\":\"4599\",\"type\":\"Grid\"},{\"id\":\"4604\",\"type\":\"Grid\"}],\"left\":[{\"id\":\"4600\",\"type\":\"LinearAxis\"}],\"plot_height\":350,\"renderers\":[{\"id\":\"4621\",\"type\":\"GlyphRenderer\"},{\"id\":\"4626\",\"type\":\"GlyphRenderer\"}],\"title\":{\"id\":\"4585\",\"type\":\"Title\"},\"toolbar\":{\"id\":\"4611\",\"type\":\"Toolbar\"},\"x_range\":{\"id\":\"4587\",\"type\":\"DataRange1d\"},\"x_scale\":{\"id\":\"4591\",\"type\":\"LinearScale\"},\"y_range\":{\"id\":\"4589\",\"type\":\"DataRange1d\"},\"y_scale\":{\"id\":\"4593\",\"type\":\"LinearScale\"}},\"id\":\"4584\",\"subtype\":\"Figure\",\"type\":\"Plot\"},{\"attributes\":{},\"id\":\"4809\",\"type\":\"BasicTickFormatter\"},{\"attributes\":{\"callback\":null,\"data\":{\"x\":{\"__ndarray__\":\"2orEBRktqz9oXP3FFvjuv5frh52EDNU//gZ8dYS79j8pl5Cbr7TVP++UYHJGxvM/35ZiH/DK6j9SNm3S4jnsv3tPyR7ns8E/a2vD5H/U6T8=\",\"dtype\":\"float64\",\"shape\":[10]},\"y\":{\"__ndarray__\":\"kyX6K3SM5b+HO3vjXPMDwJ/Uf2Ssm/W/8nK6+p5Q7b90K5LFBYPxvw/JeqCyC+a/v2zIPTss778VRL+8RdMBwCCKlDtfmPa/IM0BUof4+L8=\",\"dtype\":\"float64\",\"shape\":[10]}},\"selected\":{\"id\":\"4813\",\"type\":\"Selection\"},\"selection_policy\":{\"id\":\"4814\",\"type\":\"UnionRenderers\"}},\"id\":\"4618\",\"type\":\"ColumnDataSource\"},{\"attributes\":{\"formatter\":{\"id\":\"4809\",\"type\":\"BasicTickFormatter\"},\"ticker\":{\"id\":\"4601\",\"type\":\"BasicTicker\"}},\"id\":\"4600\",\"type\":\"LinearAxis\"},{\"attributes\":{},\"id\":\"4815\",\"type\":\"Selection\"},{\"attributes\":{\"fill_color\":{\"value\":\"black\"},\"size\":{\"units\":\"screen\",\"value\":10},\"x\":{\"field\":\"x\"},\"y\":{\"field\":\"y\"}},\"id\":\"4624\",\"type\":\"Circle\"},{\"attributes\":{\"fill_color\":{\"value\":\"#1f77b4\"},\"line_color\":{\"value\":\"#1f77b4\"},\"size\":{\"units\":\"screen\",\"value\":20},\"x\":{\"field\":\"x\"},\"y\":{\"field\":\"y\"}},\"id\":\"4619\",\"type\":\"Circle\"},{\"attributes\":{},\"id\":\"4596\",\"type\":\"BasicTicker\"},{\"attributes\":{},\"id\":\"4811\",\"type\":\"BasicTickFormatter\"},{\"attributes\":{\"fill_alpha\":{\"value\":0.1},\"fill_color\":{\"value\":\"#1f77b4\"},\"line_alpha\":{\"value\":0.1},\"line_color\":{\"value\":\"#1f77b4\"},\"size\":{\"units\":\"screen\",\"value\":20},\"x\":{\"field\":\"x\"},\"y\":{\"field\":\"y\"}},\"id\":\"4620\",\"type\":\"Circle\"},{\"attributes\":{\"data_source\":{\"id\":\"4618\",\"type\":\"ColumnDataSource\"},\"glyph\":{\"id\":\"4619\",\"type\":\"Circle\"},\"hover_glyph\":null,\"muted_glyph\":null,\"nonselection_glyph\":{\"id\":\"4620\",\"type\":\"Circle\"},\"selection_glyph\":null,\"view\":{\"id\":\"4622\",\"type\":\"CDSView\"}},\"id\":\"4621\",\"type\":\"GlyphRenderer\"},{\"attributes\":{},\"id\":\"4601\",\"type\":\"BasicTicker\"},{\"attributes\":{},\"id\":\"4605\",\"type\":\"PanTool\"},{\"attributes\":{\"dimension\":1,\"ticker\":{\"id\":\"4601\",\"type\":\"BasicTicker\"}},\"id\":\"4604\",\"type\":\"Grid\"},{\"attributes\":{\"callback\":null},\"id\":\"4589\",\"type\":\"DataRange1d\"},{\"attributes\":{},\"id\":\"4606\",\"type\":\"WheelZoomTool\"},{\"attributes\":{\"formatter\":{\"id\":\"4811\",\"type\":\"BasicTickFormatter\"},\"ticker\":{\"id\":\"4596\",\"type\":\"BasicTicker\"}},\"id\":\"4595\",\"type\":\"LinearAxis\"},{\"attributes\":{\"source\":{\"id\":\"4618\",\"type\":\"ColumnDataSource\"}},\"id\":\"4622\",\"type\":\"CDSView\"},{\"attributes\":{\"overlay\":{\"id\":\"4817\",\"type\":\"BoxAnnotation\"}},\"id\":\"4607\",\"type\":\"BoxZoomTool\"},{\"attributes\":{},\"id\":\"4816\",\"type\":\"UnionRenderers\"},{\"attributes\":{},\"id\":\"4608\",\"type\":\"SaveTool\"},{\"attributes\":{},\"id\":\"4813\",\"type\":\"Selection\"},{\"attributes\":{\"callback\":null,\"data\":{\"x\":{\"__ndarray__\":\"2orEBRktqz9oXP3FFvjuv5frh52EDNU//gZ8dYS79j8pl5Cbr7TVP++UYHJGxvM/35ZiH/DK6j9SNm3S4jnsv3tPyR7ns8E/a2vD5H/U6T8=\",\"dtype\":\"float64\",\"shape\":[10]},\"y\":{\"__ndarray__\":\"61fBK3SM5b/znWLnXPMDwOQup2Osm/W/Sv0U+55Q7b8rglLFBYPxv6lSjKCyC+a/6+wTPjss778eqp+8RdMBwBTW1jpfmPa/sJ+pUof4+L8=\",\"dtype\":\"float64\",\"shape\":[10]}},\"selected\":{\"id\":\"4815\",\"type\":\"Selection\"},\"selection_policy\":{\"id\":\"4816\",\"type\":\"UnionRenderers\"}},\"id\":\"4623\",\"type\":\"ColumnDataSource\"},{\"attributes\":{},\"id\":\"4610\",\"type\":\"HelpTool\"},{\"attributes\":{\"fill_alpha\":{\"value\":0.1},\"fill_color\":{\"value\":\"#1f77b4\"},\"line_alpha\":{\"value\":0.1},\"line_color\":{\"value\":\"#1f77b4\"},\"size\":{\"units\":\"screen\",\"value\":10},\"x\":{\"field\":\"x\"},\"y\":{\"field\":\"y\"}},\"id\":\"4625\",\"type\":\"Circle\"},{\"attributes\":{},\"id\":\"4609\",\"type\":\"ResetTool\"},{\"attributes\":{\"text\":\"6 log(area) vs log(mass)\"},\"id\":\"4585\",\"type\":\"Title\"},{\"attributes\":{},\"id\":\"4591\",\"type\":\"LinearScale\"},{\"attributes\":{},\"id\":\"4593\",\"type\":\"LinearScale\"},{\"attributes\":{\"source\":{\"id\":\"4623\",\"type\":\"ColumnDataSource\"}},\"id\":\"4627\",\"type\":\"CDSView\"},{\"attributes\":{\"ticker\":{\"id\":\"4596\",\"type\":\"BasicTicker\"}},\"id\":\"4599\",\"type\":\"Grid\"},{\"attributes\":{\"bottom_units\":\"screen\",\"fill_alpha\":{\"value\":0.5},\"fill_color\":{\"value\":\"lightgrey\"},\"left_units\":\"screen\",\"level\":\"overlay\",\"line_alpha\":{\"value\":1.0},\"line_color\":{\"value\":\"black\"},\"line_dash\":[4,4],\"line_width\":{\"value\":2},\"render_mode\":\"css\",\"right_units\":\"screen\",\"top_units\":\"screen\"},\"id\":\"4817\",\"type\":\"BoxAnnotation\"},{\"attributes\":{\"callback\":null},\"id\":\"4587\",\"type\":\"DataRange1d\"},{\"attributes\":{\"active_drag\":\"auto\",\"active_inspect\":\"auto\",\"active_multi\":null,\"active_scroll\":\"auto\",\"active_tap\":\"auto\",\"tools\":[{\"id\":\"4605\",\"type\":\"PanTool\"},{\"id\":\"4606\",\"type\":\"WheelZoomTool\"},{\"id\":\"4607\",\"type\":\"BoxZoomTool\"},{\"id\":\"4608\",\"type\":\"SaveTool\"},{\"id\":\"4609\",\"type\":\"ResetTool\"},{\"id\":\"4610\",\"type\":\"HelpTool\"}]},\"id\":\"4611\",\"type\":\"Toolbar\"},{\"attributes\":{\"data_source\":{\"id\":\"4623\",\"type\":\"ColumnDataSource\"},\"glyph\":{\"id\":\"4624\",\"type\":\"Circle\"},\"hover_glyph\":null,\"muted_glyph\":null,\"nonselection_glyph\":{\"id\":\"4625\",\"type\":\"Circle\"},\"selection_glyph\":null,\"view\":{\"id\":\"4627\",\"type\":\"CDSView\"}},\"id\":\"4626\",\"type\":\"GlyphRenderer\"},{\"attributes\":{},\"id\":\"4814\",\"type\":\"UnionRenderers\"}],\"root_ids\":[\"4584\"]},\"title\":\"Bokeh Application\",\"version\":\"1.4.0\"}};\n",
       "  var render_items = [{\"docid\":\"9b821dca-f947-4094-8ad6-5c8ac36b47c4\",\"roots\":{\"4584\":\"5faa0996-cef0-4e13-9461-ba9113a30ce8\"}}];\n",
       "  root.Bokeh.embed.embed_items_notebook(docs_json, render_items);\n",
       "\n",
       "  }\n",
       "  if (root.Bokeh !== undefined) {\n",
       "    embed_document(root);\n",
       "  } else {\n",
       "    var attempts = 0;\n",
       "    var timer = setInterval(function(root) {\n",
       "      if (root.Bokeh !== undefined) {\n",
       "        clearInterval(timer);\n",
       "        embed_document(root);\n",
       "      } else {\n",
       "        attempts++;\n",
       "        if (attempts > 100) {\n",
       "          clearInterval(timer);\n",
       "          console.log(\"Bokeh: ERROR: Unable to run BokehJS code because BokehJS library is missing\");\n",
       "        }\n",
       "      }\n",
       "    }, 10, root)\n",
       "  }\n",
       "})(window);"
      ],
      "application/vnd.bokehjs_exec.v0+json": ""
     },
     "metadata": {
      "application/vnd.bokehjs_exec.v0+json": {
       "id": "4584"
      }
     },
     "output_type": "display_data"
    },
    {
     "data": {
      "text/html": [
       "\n",
       "\n",
       "\n",
       "\n",
       "\n",
       "\n",
       "  <div class=\"bk-root\" id=\"79fb9495-94f8-4c1b-b183-b3893cc708ac\" data-root-id=\"4878\"></div>\n"
      ]
     },
     "metadata": {},
     "output_type": "display_data"
    },
    {
     "data": {
      "application/javascript": [
       "(function(root) {\n",
       "  function embed_document(root) {\n",
       "    \n",
       "  var docs_json = {\"c215b60e-8c90-4885-85ca-38383e607211\":{\"roots\":{\"references\":[{\"attributes\":{\"below\":[{\"id\":\"4889\",\"type\":\"LinearAxis\"}],\"center\":[{\"id\":\"4893\",\"type\":\"Grid\"},{\"id\":\"4898\",\"type\":\"Grid\"}],\"left\":[{\"id\":\"4894\",\"type\":\"LinearAxis\"}],\"plot_height\":350,\"renderers\":[{\"id\":\"4915\",\"type\":\"GlyphRenderer\"},{\"id\":\"4920\",\"type\":\"GlyphRenderer\"}],\"title\":{\"id\":\"4879\",\"type\":\"Title\"},\"toolbar\":{\"id\":\"4905\",\"type\":\"Toolbar\"},\"x_range\":{\"id\":\"4881\",\"type\":\"DataRange1d\"},\"x_scale\":{\"id\":\"4885\",\"type\":\"LinearScale\"},\"y_range\":{\"id\":\"4883\",\"type\":\"DataRange1d\"},\"y_scale\":{\"id\":\"4887\",\"type\":\"LinearScale\"}},\"id\":\"4878\",\"subtype\":\"Figure\",\"type\":\"Plot\"},{\"attributes\":{\"data_source\":{\"id\":\"4912\",\"type\":\"ColumnDataSource\"},\"glyph\":{\"id\":\"4913\",\"type\":\"Circle\"},\"hover_glyph\":null,\"muted_glyph\":null,\"nonselection_glyph\":{\"id\":\"4914\",\"type\":\"Circle\"},\"selection_glyph\":null,\"view\":{\"id\":\"4916\",\"type\":\"CDSView\"}},\"id\":\"4915\",\"type\":\"GlyphRenderer\"},{\"attributes\":{\"dimension\":1,\"ticker\":{\"id\":\"4895\",\"type\":\"BasicTicker\"}},\"id\":\"4898\",\"type\":\"Grid\"},{\"attributes\":{\"fill_alpha\":{\"value\":0.1},\"fill_color\":{\"value\":\"#1f77b4\"},\"line_alpha\":{\"value\":0.1},\"line_color\":{\"value\":\"#1f77b4\"},\"size\":{\"units\":\"screen\",\"value\":20},\"x\":{\"field\":\"x\"},\"y\":{\"field\":\"y\"}},\"id\":\"4914\",\"type\":\"Circle\"},{\"attributes\":{},\"id\":\"4904\",\"type\":\"HelpTool\"},{\"attributes\":{},\"id\":\"5120\",\"type\":\"UnionRenderers\"},{\"attributes\":{\"fill_color\":{\"value\":\"#1f77b4\"},\"line_color\":{\"value\":\"#1f77b4\"},\"size\":{\"units\":\"screen\",\"value\":20},\"x\":{\"field\":\"x\"},\"y\":{\"field\":\"y\"}},\"id\":\"4913\",\"type\":\"Circle\"},{\"attributes\":{},\"id\":\"4895\",\"type\":\"BasicTicker\"},{\"attributes\":{\"formatter\":{\"id\":\"5113\",\"type\":\"BasicTickFormatter\"},\"ticker\":{\"id\":\"4895\",\"type\":\"BasicTicker\"}},\"id\":\"4894\",\"type\":\"LinearAxis\"},{\"attributes\":{\"callback\":null,\"data\":{\"x\":{\"__ndarray__\":\"2orEBRktqz9oXP3FFvjuv5frh52EDNU//gZ8dYS79j8pl5Cbr7TVP++UYHJGxvM/35ZiH/DK6j9SNm3S4jnsv3tPyR7ns8E/a2vD5H/U6T8=\",\"dtype\":\"float64\",\"shape\":[10]},\"y\":{\"__ndarray__\":\"QFyuM3ts0L99E1Tisarhv+mjqs0WH9S/gE1hWm940T+TywoS897Kv12e8Q5kFNQ/g0oiC9SKyL80kYzp2RDpv2K1ngbX+Nq/zPYeUN+jsr8=\",\"dtype\":\"float64\",\"shape\":[10]}},\"selected\":{\"id\":\"5117\",\"type\":\"Selection\"},\"selection_policy\":{\"id\":\"5118\",\"type\":\"UnionRenderers\"}},\"id\":\"4912\",\"type\":\"ColumnDataSource\"},{\"attributes\":{\"ticker\":{\"id\":\"4890\",\"type\":\"BasicTicker\"}},\"id\":\"4893\",\"type\":\"Grid\"},{\"attributes\":{},\"id\":\"5113\",\"type\":\"BasicTickFormatter\"},{\"attributes\":{},\"id\":\"5115\",\"type\":\"BasicTickFormatter\"},{\"attributes\":{\"source\":{\"id\":\"4917\",\"type\":\"ColumnDataSource\"}},\"id\":\"4921\",\"type\":\"CDSView\"},{\"attributes\":{},\"id\":\"4890\",\"type\":\"BasicTicker\"},{\"attributes\":{},\"id\":\"5118\",\"type\":\"UnionRenderers\"},{\"attributes\":{\"active_drag\":\"auto\",\"active_inspect\":\"auto\",\"active_multi\":null,\"active_scroll\":\"auto\",\"active_tap\":\"auto\",\"tools\":[{\"id\":\"4899\",\"type\":\"PanTool\"},{\"id\":\"4900\",\"type\":\"WheelZoomTool\"},{\"id\":\"4901\",\"type\":\"BoxZoomTool\"},{\"id\":\"4902\",\"type\":\"SaveTool\"},{\"id\":\"4903\",\"type\":\"ResetTool\"},{\"id\":\"4904\",\"type\":\"HelpTool\"}]},\"id\":\"4905\",\"type\":\"Toolbar\"},{\"attributes\":{\"source\":{\"id\":\"4912\",\"type\":\"ColumnDataSource\"}},\"id\":\"4916\",\"type\":\"CDSView\"},{\"attributes\":{\"callback\":null},\"id\":\"4883\",\"type\":\"DataRange1d\"},{\"attributes\":{\"data_source\":{\"id\":\"4917\",\"type\":\"ColumnDataSource\"},\"glyph\":{\"id\":\"4918\",\"type\":\"Circle\"},\"hover_glyph\":null,\"muted_glyph\":null,\"nonselection_glyph\":{\"id\":\"4919\",\"type\":\"Circle\"},\"selection_glyph\":null,\"view\":{\"id\":\"4921\",\"type\":\"CDSView\"}},\"id\":\"4920\",\"type\":\"GlyphRenderer\"},{\"attributes\":{},\"id\":\"4887\",\"type\":\"LinearScale\"},{\"attributes\":{\"text\":\"6 log(depth) vs log(mass)\"},\"id\":\"4879\",\"type\":\"Title\"},{\"attributes\":{},\"id\":\"5119\",\"type\":\"Selection\"},{\"attributes\":{\"fill_alpha\":{\"value\":0.1},\"fill_color\":{\"value\":\"#1f77b4\"},\"line_alpha\":{\"value\":0.1},\"line_color\":{\"value\":\"#1f77b4\"},\"size\":{\"units\":\"screen\",\"value\":10},\"x\":{\"field\":\"x\"},\"y\":{\"field\":\"y\"}},\"id\":\"4919\",\"type\":\"Circle\"},{\"attributes\":{},\"id\":\"4903\",\"type\":\"ResetTool\"},{\"attributes\":{},\"id\":\"4885\",\"type\":\"LinearScale\"},{\"attributes\":{},\"id\":\"4902\",\"type\":\"SaveTool\"},{\"attributes\":{\"fill_color\":{\"value\":\"black\"},\"size\":{\"units\":\"screen\",\"value\":10},\"x\":{\"field\":\"x\"},\"y\":{\"field\":\"y\"}},\"id\":\"4918\",\"type\":\"Circle\"},{\"attributes\":{\"bottom_units\":\"screen\",\"fill_alpha\":{\"value\":0.5},\"fill_color\":{\"value\":\"lightgrey\"},\"left_units\":\"screen\",\"level\":\"overlay\",\"line_alpha\":{\"value\":1.0},\"line_color\":{\"value\":\"black\"},\"line_dash\":[4,4],\"line_width\":{\"value\":2},\"render_mode\":\"css\",\"right_units\":\"screen\",\"top_units\":\"screen\"},\"id\":\"5121\",\"type\":\"BoxAnnotation\"},{\"attributes\":{\"callback\":null,\"data\":{\"x\":{\"__ndarray__\":\"2orEBRktqz9oXP3FFvjuv5frh52EDNU//gZ8dYS79j8pl5Cbr7TVP++UYHJGxvM/35ZiH/DK6j9SNm3S4jnsv3tPyR7ns8E/a2vD5H/U6T8=\",\"dtype\":\"float64\",\"shape\":[10]},\"y\":{\"__ndarray__\":\"QFyuM3ts0L99E1Tisarhv+mjqs0WH9S//4VVWm940T/tQDkS897Kv+vV9g5kFNQ/evhzC9SKyL8zkYzp2RDpv1rptwbX+Nq/zPYeUN+jsr8=\",\"dtype\":\"float64\",\"shape\":[10]}},\"selected\":{\"id\":\"5119\",\"type\":\"Selection\"},\"selection_policy\":{\"id\":\"5120\",\"type\":\"UnionRenderers\"}},\"id\":\"4917\",\"type\":\"ColumnDataSource\"},{\"attributes\":{\"overlay\":{\"id\":\"5121\",\"type\":\"BoxAnnotation\"}},\"id\":\"4901\",\"type\":\"BoxZoomTool\"},{\"attributes\":{},\"id\":\"5117\",\"type\":\"Selection\"},{\"attributes\":{},\"id\":\"4900\",\"type\":\"WheelZoomTool\"},{\"attributes\":{\"formatter\":{\"id\":\"5115\",\"type\":\"BasicTickFormatter\"},\"ticker\":{\"id\":\"4890\",\"type\":\"BasicTicker\"}},\"id\":\"4889\",\"type\":\"LinearAxis\"},{\"attributes\":{\"callback\":null},\"id\":\"4881\",\"type\":\"DataRange1d\"},{\"attributes\":{},\"id\":\"4899\",\"type\":\"PanTool\"}],\"root_ids\":[\"4878\"]},\"title\":\"Bokeh Application\",\"version\":\"1.4.0\"}};\n",
       "  var render_items = [{\"docid\":\"c215b60e-8c90-4885-85ca-38383e607211\",\"roots\":{\"4878\":\"79fb9495-94f8-4c1b-b183-b3893cc708ac\"}}];\n",
       "  root.Bokeh.embed.embed_items_notebook(docs_json, render_items);\n",
       "\n",
       "  }\n",
       "  if (root.Bokeh !== undefined) {\n",
       "    embed_document(root);\n",
       "  } else {\n",
       "    var attempts = 0;\n",
       "    var timer = setInterval(function(root) {\n",
       "      if (root.Bokeh !== undefined) {\n",
       "        clearInterval(timer);\n",
       "        embed_document(root);\n",
       "      } else {\n",
       "        attempts++;\n",
       "        if (attempts > 100) {\n",
       "          clearInterval(timer);\n",
       "          console.log(\"Bokeh: ERROR: Unable to run BokehJS code because BokehJS library is missing\");\n",
       "        }\n",
       "      }\n",
       "    }, 10, root)\n",
       "  }\n",
       "})(window);"
      ],
      "application/vnd.bokehjs_exec.v0+json": ""
     },
     "metadata": {
      "application/vnd.bokehjs_exec.v0+json": {
       "id": "4878"
      }
     },
     "output_type": "display_data"
    },
    {
     "data": {
      "text/html": [
       "\n",
       "\n",
       "\n",
       "\n",
       "\n",
       "\n",
       "  <div class=\"bk-root\" id=\"3014c09b-f949-4dd2-9d36-1e7f61b7a5bd\" data-root-id=\"5182\"></div>\n"
      ]
     },
     "metadata": {},
     "output_type": "display_data"
    },
    {
     "data": {
      "application/javascript": [
       "(function(root) {\n",
       "  function embed_document(root) {\n",
       "    \n",
       "  var docs_json = {\"2eb5043a-a44d-4b76-9a94-832b2ecb5bb0\":{\"roots\":{\"references\":[{\"attributes\":{\"below\":[{\"id\":\"5193\",\"type\":\"LinearAxis\"}],\"center\":[{\"id\":\"5197\",\"type\":\"Grid\"},{\"id\":\"5202\",\"type\":\"Grid\"}],\"left\":[{\"id\":\"5198\",\"type\":\"LinearAxis\"}],\"plot_height\":350,\"renderers\":[{\"id\":\"5219\",\"type\":\"GlyphRenderer\"},{\"id\":\"5224\",\"type\":\"GlyphRenderer\"}],\"title\":{\"id\":\"5183\",\"type\":\"Title\"},\"toolbar\":{\"id\":\"5209\",\"type\":\"Toolbar\"},\"x_range\":{\"id\":\"5185\",\"type\":\"DataRange1d\"},\"x_scale\":{\"id\":\"5189\",\"type\":\"LinearScale\"},\"y_range\":{\"id\":\"5187\",\"type\":\"DataRange1d\"},\"y_scale\":{\"id\":\"5191\",\"type\":\"LinearScale\"}},\"id\":\"5182\",\"subtype\":\"Figure\",\"type\":\"Plot\"},{\"attributes\":{},\"id\":\"5432\",\"type\":\"UnionRenderers\"},{\"attributes\":{\"active_drag\":\"auto\",\"active_inspect\":\"auto\",\"active_multi\":null,\"active_scroll\":\"auto\",\"active_tap\":\"auto\",\"tools\":[{\"id\":\"5203\",\"type\":\"PanTool\"},{\"id\":\"5204\",\"type\":\"WheelZoomTool\"},{\"id\":\"5205\",\"type\":\"BoxZoomTool\"},{\"id\":\"5206\",\"type\":\"SaveTool\"},{\"id\":\"5207\",\"type\":\"ResetTool\"},{\"id\":\"5208\",\"type\":\"HelpTool\"}]},\"id\":\"5209\",\"type\":\"Toolbar\"},{\"attributes\":{},\"id\":\"5433\",\"type\":\"Selection\"},{\"attributes\":{\"dimension\":1,\"ticker\":{\"id\":\"5199\",\"type\":\"BasicTicker\"}},\"id\":\"5202\",\"type\":\"Grid\"},{\"attributes\":{},\"id\":\"5429\",\"type\":\"BasicTickFormatter\"},{\"attributes\":{},\"id\":\"5207\",\"type\":\"ResetTool\"},{\"attributes\":{\"ticker\":{\"id\":\"5194\",\"type\":\"BasicTicker\"}},\"id\":\"5197\",\"type\":\"Grid\"},{\"attributes\":{\"fill_alpha\":{\"value\":0.1},\"fill_color\":{\"value\":\"#1f77b4\"},\"line_alpha\":{\"value\":0.1},\"line_color\":{\"value\":\"#1f77b4\"},\"size\":{\"units\":\"screen\",\"value\":10},\"x\":{\"field\":\"x\"},\"y\":{\"field\":\"y\"}},\"id\":\"5223\",\"type\":\"Circle\"},{\"attributes\":{},\"id\":\"5434\",\"type\":\"UnionRenderers\"},{\"attributes\":{},\"id\":\"5199\",\"type\":\"BasicTicker\"},{\"attributes\":{\"fill_color\":{\"value\":\"black\"},\"size\":{\"units\":\"screen\",\"value\":10},\"x\":{\"field\":\"x\"},\"y\":{\"field\":\"y\"}},\"id\":\"5222\",\"type\":\"Circle\"},{\"attributes\":{\"formatter\":{\"id\":\"5427\",\"type\":\"BasicTickFormatter\"},\"ticker\":{\"id\":\"5199\",\"type\":\"BasicTicker\"}},\"id\":\"5198\",\"type\":\"LinearAxis\"},{\"attributes\":{},\"id\":\"5431\",\"type\":\"Selection\"},{\"attributes\":{\"formatter\":{\"id\":\"5429\",\"type\":\"BasicTickFormatter\"},\"ticker\":{\"id\":\"5194\",\"type\":\"BasicTicker\"}},\"id\":\"5193\",\"type\":\"LinearAxis\"},{\"attributes\":{},\"id\":\"5194\",\"type\":\"BasicTicker\"},{\"attributes\":{\"data_source\":{\"id\":\"5216\",\"type\":\"ColumnDataSource\"},\"glyph\":{\"id\":\"5217\",\"type\":\"Circle\"},\"hover_glyph\":null,\"muted_glyph\":null,\"nonselection_glyph\":{\"id\":\"5218\",\"type\":\"Circle\"},\"selection_glyph\":null,\"view\":{\"id\":\"5220\",\"type\":\"CDSView\"}},\"id\":\"5219\",\"type\":\"GlyphRenderer\"},{\"attributes\":{},\"id\":\"5208\",\"type\":\"HelpTool\"},{\"attributes\":{\"text\":\"5 log(area) vs log(mass)\"},\"id\":\"5183\",\"type\":\"Title\"},{\"attributes\":{},\"id\":\"5191\",\"type\":\"LinearScale\"},{\"attributes\":{\"fill_alpha\":{\"value\":0.1},\"fill_color\":{\"value\":\"#1f77b4\"},\"line_alpha\":{\"value\":0.1},\"line_color\":{\"value\":\"#1f77b4\"},\"size\":{\"units\":\"screen\",\"value\":20},\"x\":{\"field\":\"x\"},\"y\":{\"field\":\"y\"}},\"id\":\"5218\",\"type\":\"Circle\"},{\"attributes\":{},\"id\":\"5189\",\"type\":\"LinearScale\"},{\"attributes\":{\"callback\":null},\"id\":\"5187\",\"type\":\"DataRange1d\"},{\"attributes\":{\"callback\":null,\"data\":{\"x\":{\"__ndarray__\":\"2orEBRktqz9oXP3FFvjuv5frh52EDNU//gZ8dYS79j8pl5Cbr7TVP++UYHJGxvM/35ZiH/DK6j9SNm3S4jnsv3tPyR7ns8E/a2vD5H/U6T8=\",\"dtype\":\"float64\",\"shape\":[10]},\"y\":{\"__ndarray__\":\"6ctFPsaQ7b9WdkKbtfADwJlakOfI9va/VmYo4+rO679YgId0YCT0vz54JhrgVuW/jz1FQRra8r/zMHaP0hUEwGYaxr2r7/a/NvxoFus79L8=\",\"dtype\":\"float64\",\"shape\":[10]}},\"selected\":{\"id\":\"5433\",\"type\":\"Selection\"},\"selection_policy\":{\"id\":\"5434\",\"type\":\"UnionRenderers\"}},\"id\":\"5221\",\"type\":\"ColumnDataSource\"},{\"attributes\":{},\"id\":\"5206\",\"type\":\"SaveTool\"},{\"attributes\":{\"callback\":null,\"data\":{\"x\":{\"__ndarray__\":\"2orEBRktqz9oXP3FFvjuv5frh52EDNU//gZ8dYS79j8pl5Cbr7TVP++UYHJGxvM/35ZiH/DK6j9SNm3S4jnsv3tPyR7ns8E/a2vD5H/U6T8=\",\"dtype\":\"float64\",\"shape\":[10]},\"y\":{\"__ndarray__\":\"FdUeP8aQ7b/edS2itfADwEKV9+fI9va/cPP04urO67+VQUd0YCT0v97jLhrgVuW/IkXbQRra8r+ss5OT0hUEwMKTvL2r7/a/huOFFus79L8=\",\"dtype\":\"float64\",\"shape\":[10]}},\"selected\":{\"id\":\"5431\",\"type\":\"Selection\"},\"selection_policy\":{\"id\":\"5432\",\"type\":\"UnionRenderers\"}},\"id\":\"5216\",\"type\":\"ColumnDataSource\"},{\"attributes\":{},\"id\":\"5427\",\"type\":\"BasicTickFormatter\"},{\"attributes\":{},\"id\":\"5203\",\"type\":\"PanTool\"},{\"attributes\":{\"callback\":null},\"id\":\"5185\",\"type\":\"DataRange1d\"},{\"attributes\":{\"source\":{\"id\":\"5221\",\"type\":\"ColumnDataSource\"}},\"id\":\"5225\",\"type\":\"CDSView\"},{\"attributes\":{\"overlay\":{\"id\":\"5435\",\"type\":\"BoxAnnotation\"}},\"id\":\"5205\",\"type\":\"BoxZoomTool\"},{\"attributes\":{\"fill_color\":{\"value\":\"#1f77b4\"},\"line_color\":{\"value\":\"#1f77b4\"},\"size\":{\"units\":\"screen\",\"value\":20},\"x\":{\"field\":\"x\"},\"y\":{\"field\":\"y\"}},\"id\":\"5217\",\"type\":\"Circle\"},{\"attributes\":{},\"id\":\"5204\",\"type\":\"WheelZoomTool\"},{\"attributes\":{\"source\":{\"id\":\"5216\",\"type\":\"ColumnDataSource\"}},\"id\":\"5220\",\"type\":\"CDSView\"},{\"attributes\":{\"data_source\":{\"id\":\"5221\",\"type\":\"ColumnDataSource\"},\"glyph\":{\"id\":\"5222\",\"type\":\"Circle\"},\"hover_glyph\":null,\"muted_glyph\":null,\"nonselection_glyph\":{\"id\":\"5223\",\"type\":\"Circle\"},\"selection_glyph\":null,\"view\":{\"id\":\"5225\",\"type\":\"CDSView\"}},\"id\":\"5224\",\"type\":\"GlyphRenderer\"},{\"attributes\":{\"bottom_units\":\"screen\",\"fill_alpha\":{\"value\":0.5},\"fill_color\":{\"value\":\"lightgrey\"},\"left_units\":\"screen\",\"level\":\"overlay\",\"line_alpha\":{\"value\":1.0},\"line_color\":{\"value\":\"black\"},\"line_dash\":[4,4],\"line_width\":{\"value\":2},\"render_mode\":\"css\",\"right_units\":\"screen\",\"top_units\":\"screen\"},\"id\":\"5435\",\"type\":\"BoxAnnotation\"}],\"root_ids\":[\"5182\"]},\"title\":\"Bokeh Application\",\"version\":\"1.4.0\"}};\n",
       "  var render_items = [{\"docid\":\"2eb5043a-a44d-4b76-9a94-832b2ecb5bb0\",\"roots\":{\"5182\":\"3014c09b-f949-4dd2-9d36-1e7f61b7a5bd\"}}];\n",
       "  root.Bokeh.embed.embed_items_notebook(docs_json, render_items);\n",
       "\n",
       "  }\n",
       "  if (root.Bokeh !== undefined) {\n",
       "    embed_document(root);\n",
       "  } else {\n",
       "    var attempts = 0;\n",
       "    var timer = setInterval(function(root) {\n",
       "      if (root.Bokeh !== undefined) {\n",
       "        clearInterval(timer);\n",
       "        embed_document(root);\n",
       "      } else {\n",
       "        attempts++;\n",
       "        if (attempts > 100) {\n",
       "          clearInterval(timer);\n",
       "          console.log(\"Bokeh: ERROR: Unable to run BokehJS code because BokehJS library is missing\");\n",
       "        }\n",
       "      }\n",
       "    }, 10, root)\n",
       "  }\n",
       "})(window);"
      ],
      "application/vnd.bokehjs_exec.v0+json": ""
     },
     "metadata": {
      "application/vnd.bokehjs_exec.v0+json": {
       "id": "5182"
      }
     },
     "output_type": "display_data"
    },
    {
     "data": {
      "text/html": [
       "\n",
       "\n",
       "\n",
       "\n",
       "\n",
       "\n",
       "  <div class=\"bk-root\" id=\"8ed88972-ab67-4ba4-a5c4-5f1e6536af2d\" data-root-id=\"5496\"></div>\n"
      ]
     },
     "metadata": {},
     "output_type": "display_data"
    },
    {
     "data": {
      "application/javascript": [
       "(function(root) {\n",
       "  function embed_document(root) {\n",
       "    \n",
       "  var docs_json = {\"e03cdcfc-404e-4f40-8a65-a117f188b504\":{\"roots\":{\"references\":[{\"attributes\":{\"below\":[{\"id\":\"5507\",\"type\":\"LinearAxis\"}],\"center\":[{\"id\":\"5511\",\"type\":\"Grid\"},{\"id\":\"5516\",\"type\":\"Grid\"}],\"left\":[{\"id\":\"5512\",\"type\":\"LinearAxis\"}],\"plot_height\":350,\"renderers\":[{\"id\":\"5533\",\"type\":\"GlyphRenderer\"},{\"id\":\"5538\",\"type\":\"GlyphRenderer\"}],\"title\":{\"id\":\"5497\",\"type\":\"Title\"},\"toolbar\":{\"id\":\"5523\",\"type\":\"Toolbar\"},\"x_range\":{\"id\":\"5499\",\"type\":\"DataRange1d\"},\"x_scale\":{\"id\":\"5503\",\"type\":\"LinearScale\"},\"y_range\":{\"id\":\"5501\",\"type\":\"DataRange1d\"},\"y_scale\":{\"id\":\"5505\",\"type\":\"LinearScale\"}},\"id\":\"5496\",\"subtype\":\"Figure\",\"type\":\"Plot\"},{\"attributes\":{\"active_drag\":\"auto\",\"active_inspect\":\"auto\",\"active_multi\":null,\"active_scroll\":\"auto\",\"active_tap\":\"auto\",\"tools\":[{\"id\":\"5517\",\"type\":\"PanTool\"},{\"id\":\"5518\",\"type\":\"WheelZoomTool\"},{\"id\":\"5519\",\"type\":\"BoxZoomTool\"},{\"id\":\"5520\",\"type\":\"SaveTool\"},{\"id\":\"5521\",\"type\":\"ResetTool\"},{\"id\":\"5522\",\"type\":\"HelpTool\"}]},\"id\":\"5523\",\"type\":\"Toolbar\"},{\"attributes\":{\"dimension\":1,\"ticker\":{\"id\":\"5513\",\"type\":\"BasicTicker\"}},\"id\":\"5516\",\"type\":\"Grid\"},{\"attributes\":{},\"id\":\"5518\",\"type\":\"WheelZoomTool\"},{\"attributes\":{},\"id\":\"5755\",\"type\":\"Selection\"},{\"attributes\":{\"data_source\":{\"id\":\"5535\",\"type\":\"ColumnDataSource\"},\"glyph\":{\"id\":\"5536\",\"type\":\"Circle\"},\"hover_glyph\":null,\"muted_glyph\":null,\"nonselection_glyph\":{\"id\":\"5537\",\"type\":\"Circle\"},\"selection_glyph\":null,\"view\":{\"id\":\"5539\",\"type\":\"CDSView\"}},\"id\":\"5538\",\"type\":\"GlyphRenderer\"},{\"attributes\":{},\"id\":\"5758\",\"type\":\"UnionRenderers\"},{\"attributes\":{},\"id\":\"5753\",\"type\":\"BasicTickFormatter\"},{\"attributes\":{},\"id\":\"5503\",\"type\":\"LinearScale\"},{\"attributes\":{\"overlay\":{\"id\":\"5759\",\"type\":\"BoxAnnotation\"}},\"id\":\"5519\",\"type\":\"BoxZoomTool\"},{\"attributes\":{\"fill_color\":{\"value\":\"black\"},\"size\":{\"units\":\"screen\",\"value\":10},\"x\":{\"field\":\"x\"},\"y\":{\"field\":\"y\"}},\"id\":\"5536\",\"type\":\"Circle\"},{\"attributes\":{},\"id\":\"5520\",\"type\":\"SaveTool\"},{\"attributes\":{},\"id\":\"5513\",\"type\":\"BasicTicker\"},{\"attributes\":{},\"id\":\"5756\",\"type\":\"UnionRenderers\"},{\"attributes\":{\"formatter\":{\"id\":\"5751\",\"type\":\"BasicTickFormatter\"},\"ticker\":{\"id\":\"5513\",\"type\":\"BasicTicker\"}},\"id\":\"5512\",\"type\":\"LinearAxis\"},{\"attributes\":{},\"id\":\"5522\",\"type\":\"HelpTool\"},{\"attributes\":{\"ticker\":{\"id\":\"5508\",\"type\":\"BasicTicker\"}},\"id\":\"5511\",\"type\":\"Grid\"},{\"attributes\":{},\"id\":\"5757\",\"type\":\"Selection\"},{\"attributes\":{},\"id\":\"5751\",\"type\":\"BasicTickFormatter\"},{\"attributes\":{},\"id\":\"5508\",\"type\":\"BasicTicker\"},{\"attributes\":{\"bottom_units\":\"screen\",\"fill_alpha\":{\"value\":0.5},\"fill_color\":{\"value\":\"lightgrey\"},\"left_units\":\"screen\",\"level\":\"overlay\",\"line_alpha\":{\"value\":1.0},\"line_color\":{\"value\":\"black\"},\"line_dash\":[4,4],\"line_width\":{\"value\":2},\"render_mode\":\"css\",\"right_units\":\"screen\",\"top_units\":\"screen\"},\"id\":\"5759\",\"type\":\"BoxAnnotation\"},{\"attributes\":{\"callback\":null,\"data\":{\"x\":{\"__ndarray__\":\"2orEBRktqz9oXP3FFvjuv5frh52EDNU//gZ8dYS79j8pl5Cbr7TVP++UYHJGxvM/35ZiH/DK6j9SNm3S4jnsv3tPyR7ns8E/a2vD5H/U6T8=\",\"dtype\":\"float64\",\"shape\":[10]},\"y\":{\"__ndarray__\":\"zuI0IaXk0r9Fr6Y7yjzjv7xqXCH219G/tNTesL0qzj9zPfdi0KfRvwmZ0YwT3cY/LVhJMZH5Zz+05RpKsQHrv84k7fBu7d+/rUEQMEgroz8=\",\"dtype\":\"float64\",\"shape\":[10]}},\"selected\":{\"id\":\"5755\",\"type\":\"Selection\"},\"selection_policy\":{\"id\":\"5756\",\"type\":\"UnionRenderers\"}},\"id\":\"5530\",\"type\":\"ColumnDataSource\"},{\"attributes\":{\"text\":\"5 log(depth) vs log(mass)\"},\"id\":\"5497\",\"type\":\"Title\"},{\"attributes\":{},\"id\":\"5505\",\"type\":\"LinearScale\"},{\"attributes\":{\"fill_color\":{\"value\":\"#1f77b4\"},\"line_color\":{\"value\":\"#1f77b4\"},\"size\":{\"units\":\"screen\",\"value\":20},\"x\":{\"field\":\"x\"},\"y\":{\"field\":\"y\"}},\"id\":\"5531\",\"type\":\"Circle\"},{\"attributes\":{\"fill_alpha\":{\"value\":0.1},\"fill_color\":{\"value\":\"#1f77b4\"},\"line_alpha\":{\"value\":0.1},\"line_color\":{\"value\":\"#1f77b4\"},\"size\":{\"units\":\"screen\",\"value\":10},\"x\":{\"field\":\"x\"},\"y\":{\"field\":\"y\"}},\"id\":\"5537\",\"type\":\"Circle\"},{\"attributes\":{\"callback\":null},\"id\":\"5501\",\"type\":\"DataRange1d\"},{\"attributes\":{\"formatter\":{\"id\":\"5753\",\"type\":\"BasicTickFormatter\"},\"ticker\":{\"id\":\"5508\",\"type\":\"BasicTicker\"}},\"id\":\"5507\",\"type\":\"LinearAxis\"},{\"attributes\":{\"callback\":null,\"data\":{\"x\":{\"__ndarray__\":\"2orEBRktqz9oXP3FFvjuv5frh52EDNU//gZ8dYS79j8pl5Cbr7TVP++UYHJGxvM/35ZiH/DK6j9SNm3S4jnsv3tPyR7ns8E/a2vD5H/U6T8=\",\"dtype\":\"float64\",\"shape\":[10]},\"y\":{\"__ndarray__\":\"zuI0IaXk0r9Fr6Y7yjzjv7tqXCH219G/WCcJsb0qzj+QZxNj0KfRv/SHs4wT3cY/r6q+TZH5Zz+05RpKsQHrv39w+PBu7d+/rUEQMEgroz8=\",\"dtype\":\"float64\",\"shape\":[10]}},\"selected\":{\"id\":\"5757\",\"type\":\"Selection\"},\"selection_policy\":{\"id\":\"5758\",\"type\":\"UnionRenderers\"}},\"id\":\"5535\",\"type\":\"ColumnDataSource\"},{\"attributes\":{\"callback\":null},\"id\":\"5499\",\"type\":\"DataRange1d\"},{\"attributes\":{\"source\":{\"id\":\"5530\",\"type\":\"ColumnDataSource\"}},\"id\":\"5534\",\"type\":\"CDSView\"},{\"attributes\":{\"source\":{\"id\":\"5535\",\"type\":\"ColumnDataSource\"}},\"id\":\"5539\",\"type\":\"CDSView\"},{\"attributes\":{\"fill_alpha\":{\"value\":0.1},\"fill_color\":{\"value\":\"#1f77b4\"},\"line_alpha\":{\"value\":0.1},\"line_color\":{\"value\":\"#1f77b4\"},\"size\":{\"units\":\"screen\",\"value\":20},\"x\":{\"field\":\"x\"},\"y\":{\"field\":\"y\"}},\"id\":\"5532\",\"type\":\"Circle\"},{\"attributes\":{},\"id\":\"5517\",\"type\":\"PanTool\"},{\"attributes\":{\"data_source\":{\"id\":\"5530\",\"type\":\"ColumnDataSource\"},\"glyph\":{\"id\":\"5531\",\"type\":\"Circle\"},\"hover_glyph\":null,\"muted_glyph\":null,\"nonselection_glyph\":{\"id\":\"5532\",\"type\":\"Circle\"},\"selection_glyph\":null,\"view\":{\"id\":\"5534\",\"type\":\"CDSView\"}},\"id\":\"5533\",\"type\":\"GlyphRenderer\"},{\"attributes\":{},\"id\":\"5521\",\"type\":\"ResetTool\"}],\"root_ids\":[\"5496\"]},\"title\":\"Bokeh Application\",\"version\":\"1.4.0\"}};\n",
       "  var render_items = [{\"docid\":\"e03cdcfc-404e-4f40-8a65-a117f188b504\",\"roots\":{\"5496\":\"8ed88972-ab67-4ba4-a5c4-5f1e6536af2d\"}}];\n",
       "  root.Bokeh.embed.embed_items_notebook(docs_json, render_items);\n",
       "\n",
       "  }\n",
       "  if (root.Bokeh !== undefined) {\n",
       "    embed_document(root);\n",
       "  } else {\n",
       "    var attempts = 0;\n",
       "    var timer = setInterval(function(root) {\n",
       "      if (root.Bokeh !== undefined) {\n",
       "        clearInterval(timer);\n",
       "        embed_document(root);\n",
       "      } else {\n",
       "        attempts++;\n",
       "        if (attempts > 100) {\n",
       "          clearInterval(timer);\n",
       "          console.log(\"Bokeh: ERROR: Unable to run BokehJS code because BokehJS library is missing\");\n",
       "        }\n",
       "      }\n",
       "    }, 10, root)\n",
       "  }\n",
       "})(window);"
      ],
      "application/vnd.bokehjs_exec.v0+json": ""
     },
     "metadata": {
      "application/vnd.bokehjs_exec.v0+json": {
       "id": "5496"
      }
     },
     "output_type": "display_data"
    },
    {
     "data": {
      "text/html": [
       "\n",
       "\n",
       "\n",
       "\n",
       "\n",
       "\n",
       "  <div class=\"bk-root\" id=\"88871c6f-80e3-40a5-8670-4dc2c5c40ed3\" data-root-id=\"5820\"></div>\n"
      ]
     },
     "metadata": {},
     "output_type": "display_data"
    },
    {
     "data": {
      "application/javascript": [
       "(function(root) {\n",
       "  function embed_document(root) {\n",
       "    \n",
       "  var docs_json = {\"52813d7a-600f-4b2f-b4fd-08a519c28b1d\":{\"roots\":{\"references\":[{\"attributes\":{\"below\":[{\"id\":\"5831\",\"type\":\"LinearAxis\"}],\"center\":[{\"id\":\"5835\",\"type\":\"Grid\"},{\"id\":\"5840\",\"type\":\"Grid\"}],\"left\":[{\"id\":\"5836\",\"type\":\"LinearAxis\"}],\"plot_height\":350,\"renderers\":[{\"id\":\"5857\",\"type\":\"GlyphRenderer\"},{\"id\":\"5862\",\"type\":\"GlyphRenderer\"}],\"title\":{\"id\":\"5821\",\"type\":\"Title\"},\"toolbar\":{\"id\":\"5847\",\"type\":\"Toolbar\"},\"x_range\":{\"id\":\"5823\",\"type\":\"DataRange1d\"},\"x_scale\":{\"id\":\"5827\",\"type\":\"LinearScale\"},\"y_range\":{\"id\":\"5825\",\"type\":\"DataRange1d\"},\"y_scale\":{\"id\":\"5829\",\"type\":\"LinearScale\"}},\"id\":\"5820\",\"subtype\":\"Figure\",\"type\":\"Plot\"},{\"attributes\":{},\"id\":\"5845\",\"type\":\"ResetTool\"},{\"attributes\":{},\"id\":\"5841\",\"type\":\"PanTool\"},{\"attributes\":{\"callback\":null,\"data\":{\"x\":{\"__ndarray__\":\"2orEBRktqz9oXP3FFvjuv5frh52EDNU//gZ8dYS79j8pl5Cbr7TVP++UYHJGxvM/35ZiH/DK6j9SNm3S4jnsv3tPyR7ns8E/a2vD5H/U6T8=\",\"dtype\":\"float64\",\"shape\":[10]},\"y\":{\"__ndarray__\":\"TFtTgRD97b9Vepw8dCQDwMKHb/hGgPW/+nCUFt7g7L9OKkDOJUX1vyqKkou5FuG/EKWOmgw29r9invwz54AEwM3oumsSjva/0umarX2U9r8=\",\"dtype\":\"float64\",\"shape\":[10]}},\"selected\":{\"id\":\"6089\",\"type\":\"Selection\"},\"selection_policy\":{\"id\":\"6090\",\"type\":\"UnionRenderers\"}},\"id\":\"5854\",\"type\":\"ColumnDataSource\"},{\"attributes\":{\"overlay\":{\"id\":\"6093\",\"type\":\"BoxAnnotation\"}},\"id\":\"5843\",\"type\":\"BoxZoomTool\"},{\"attributes\":{},\"id\":\"5842\",\"type\":\"WheelZoomTool\"},{\"attributes\":{},\"id\":\"6090\",\"type\":\"UnionRenderers\"},{\"attributes\":{\"fill_color\":{\"value\":\"black\"},\"size\":{\"units\":\"screen\",\"value\":10},\"x\":{\"field\":\"x\"},\"y\":{\"field\":\"y\"}},\"id\":\"5860\",\"type\":\"Circle\"},{\"attributes\":{},\"id\":\"5846\",\"type\":\"HelpTool\"},{\"attributes\":{\"data_source\":{\"id\":\"5859\",\"type\":\"ColumnDataSource\"},\"glyph\":{\"id\":\"5860\",\"type\":\"Circle\"},\"hover_glyph\":null,\"muted_glyph\":null,\"nonselection_glyph\":{\"id\":\"5861\",\"type\":\"Circle\"},\"selection_glyph\":null,\"view\":{\"id\":\"5863\",\"type\":\"CDSView\"}},\"id\":\"5862\",\"type\":\"GlyphRenderer\"},{\"attributes\":{\"fill_alpha\":{\"value\":0.1},\"fill_color\":{\"value\":\"#1f77b4\"},\"line_alpha\":{\"value\":0.1},\"line_color\":{\"value\":\"#1f77b4\"},\"size\":{\"units\":\"screen\",\"value\":10},\"x\":{\"field\":\"x\"},\"y\":{\"field\":\"y\"}},\"id\":\"5861\",\"type\":\"Circle\"},{\"attributes\":{\"dimension\":1,\"ticker\":{\"id\":\"5837\",\"type\":\"BasicTicker\"}},\"id\":\"5840\",\"type\":\"Grid\"},{\"attributes\":{\"source\":{\"id\":\"5859\",\"type\":\"ColumnDataSource\"}},\"id\":\"5863\",\"type\":\"CDSView\"},{\"attributes\":{\"bottom_units\":\"screen\",\"fill_alpha\":{\"value\":0.5},\"fill_color\":{\"value\":\"lightgrey\"},\"left_units\":\"screen\",\"level\":\"overlay\",\"line_alpha\":{\"value\":1.0},\"line_color\":{\"value\":\"black\"},\"line_dash\":[4,4],\"line_width\":{\"value\":2},\"render_mode\":\"css\",\"right_units\":\"screen\",\"top_units\":\"screen\"},\"id\":\"6093\",\"type\":\"BoxAnnotation\"},{\"attributes\":{\"formatter\":{\"id\":\"6085\",\"type\":\"BasicTickFormatter\"},\"ticker\":{\"id\":\"5837\",\"type\":\"BasicTicker\"}},\"id\":\"5836\",\"type\":\"LinearAxis\"},{\"attributes\":{},\"id\":\"6087\",\"type\":\"BasicTickFormatter\"},{\"attributes\":{\"fill_color\":{\"value\":\"#1f77b4\"},\"line_color\":{\"value\":\"#1f77b4\"},\"size\":{\"units\":\"screen\",\"value\":20},\"x\":{\"field\":\"x\"},\"y\":{\"field\":\"y\"}},\"id\":\"5855\",\"type\":\"Circle\"},{\"attributes\":{\"active_drag\":\"auto\",\"active_inspect\":\"auto\",\"active_multi\":null,\"active_scroll\":\"auto\",\"active_tap\":\"auto\",\"tools\":[{\"id\":\"5841\",\"type\":\"PanTool\"},{\"id\":\"5842\",\"type\":\"WheelZoomTool\"},{\"id\":\"5843\",\"type\":\"BoxZoomTool\"},{\"id\":\"5844\",\"type\":\"SaveTool\"},{\"id\":\"5845\",\"type\":\"ResetTool\"},{\"id\":\"5846\",\"type\":\"HelpTool\"}]},\"id\":\"5847\",\"type\":\"Toolbar\"},{\"attributes\":{\"data_source\":{\"id\":\"5854\",\"type\":\"ColumnDataSource\"},\"glyph\":{\"id\":\"5855\",\"type\":\"Circle\"},\"hover_glyph\":null,\"muted_glyph\":null,\"nonselection_glyph\":{\"id\":\"5856\",\"type\":\"Circle\"},\"selection_glyph\":null,\"view\":{\"id\":\"5858\",\"type\":\"CDSView\"}},\"id\":\"5857\",\"type\":\"GlyphRenderer\"},{\"attributes\":{},\"id\":\"6085\",\"type\":\"BasicTickFormatter\"},{\"attributes\":{},\"id\":\"5837\",\"type\":\"BasicTicker\"},{\"attributes\":{\"callback\":null,\"data\":{\"x\":{\"__ndarray__\":\"2orEBRktqz9oXP3FFvjuv5frh52EDNU//gZ8dYS79j8pl5Cbr7TVP++UYHJGxvM/35ZiH/DK6j9SNm3S4jnsv3tPyR7ns8E/a2vD5H/U6T8=\",\"dtype\":\"float64\",\"shape\":[10]},\"y\":{\"__ndarray__\":\"wCxNgRD97b/zksQ9dCQDwPeJl/dGgPW/SI0TF97g7L8nt6zNJUX1v5SFr4u5FuG/kkl+mww29r9+frUy54AEwN3UOmwSjva/nnJqrX2U9r8=\",\"dtype\":\"float64\",\"shape\":[10]}},\"selected\":{\"id\":\"6091\",\"type\":\"Selection\"},\"selection_policy\":{\"id\":\"6092\",\"type\":\"UnionRenderers\"}},\"id\":\"5859\",\"type\":\"ColumnDataSource\"},{\"attributes\":{\"ticker\":{\"id\":\"5832\",\"type\":\"BasicTicker\"}},\"id\":\"5835\",\"type\":\"Grid\"},{\"attributes\":{},\"id\":\"6089\",\"type\":\"Selection\"},{\"attributes\":{\"callback\":null},\"id\":\"5823\",\"type\":\"DataRange1d\"},{\"attributes\":{\"fill_alpha\":{\"value\":0.1},\"fill_color\":{\"value\":\"#1f77b4\"},\"line_alpha\":{\"value\":0.1},\"line_color\":{\"value\":\"#1f77b4\"},\"size\":{\"units\":\"screen\",\"value\":20},\"x\":{\"field\":\"x\"},\"y\":{\"field\":\"y\"}},\"id\":\"5856\",\"type\":\"Circle\"},{\"attributes\":{},\"id\":\"5832\",\"type\":\"BasicTicker\"},{\"attributes\":{},\"id\":\"6091\",\"type\":\"Selection\"},{\"attributes\":{\"source\":{\"id\":\"5854\",\"type\":\"ColumnDataSource\"}},\"id\":\"5858\",\"type\":\"CDSView\"},{\"attributes\":{},\"id\":\"5844\",\"type\":\"SaveTool\"},{\"attributes\":{},\"id\":\"6092\",\"type\":\"UnionRenderers\"},{\"attributes\":{\"text\":\"4 log(area) vs log(mass)\"},\"id\":\"5821\",\"type\":\"Title\"},{\"attributes\":{\"callback\":null},\"id\":\"5825\",\"type\":\"DataRange1d\"},{\"attributes\":{},\"id\":\"5829\",\"type\":\"LinearScale\"},{\"attributes\":{\"formatter\":{\"id\":\"6087\",\"type\":\"BasicTickFormatter\"},\"ticker\":{\"id\":\"5832\",\"type\":\"BasicTicker\"}},\"id\":\"5831\",\"type\":\"LinearAxis\"},{\"attributes\":{},\"id\":\"5827\",\"type\":\"LinearScale\"}],\"root_ids\":[\"5820\"]},\"title\":\"Bokeh Application\",\"version\":\"1.4.0\"}};\n",
       "  var render_items = [{\"docid\":\"52813d7a-600f-4b2f-b4fd-08a519c28b1d\",\"roots\":{\"5820\":\"88871c6f-80e3-40a5-8670-4dc2c5c40ed3\"}}];\n",
       "  root.Bokeh.embed.embed_items_notebook(docs_json, render_items);\n",
       "\n",
       "  }\n",
       "  if (root.Bokeh !== undefined) {\n",
       "    embed_document(root);\n",
       "  } else {\n",
       "    var attempts = 0;\n",
       "    var timer = setInterval(function(root) {\n",
       "      if (root.Bokeh !== undefined) {\n",
       "        clearInterval(timer);\n",
       "        embed_document(root);\n",
       "      } else {\n",
       "        attempts++;\n",
       "        if (attempts > 100) {\n",
       "          clearInterval(timer);\n",
       "          console.log(\"Bokeh: ERROR: Unable to run BokehJS code because BokehJS library is missing\");\n",
       "        }\n",
       "      }\n",
       "    }, 10, root)\n",
       "  }\n",
       "})(window);"
      ],
      "application/vnd.bokehjs_exec.v0+json": ""
     },
     "metadata": {
      "application/vnd.bokehjs_exec.v0+json": {
       "id": "5820"
      }
     },
     "output_type": "display_data"
    },
    {
     "data": {
      "text/html": [
       "\n",
       "\n",
       "\n",
       "\n",
       "\n",
       "\n",
       "  <div class=\"bk-root\" id=\"eb7d61ef-0b50-46e8-8b56-0a420b2fd108\" data-root-id=\"6154\"></div>\n"
      ]
     },
     "metadata": {},
     "output_type": "display_data"
    },
    {
     "data": {
      "application/javascript": [
       "(function(root) {\n",
       "  function embed_document(root) {\n",
       "    \n",
       "  var docs_json = {\"cf11afbb-ffaa-410e-83c3-50b8484d0434\":{\"roots\":{\"references\":[{\"attributes\":{\"below\":[{\"id\":\"6165\",\"type\":\"LinearAxis\"}],\"center\":[{\"id\":\"6169\",\"type\":\"Grid\"},{\"id\":\"6174\",\"type\":\"Grid\"}],\"left\":[{\"id\":\"6170\",\"type\":\"LinearAxis\"}],\"plot_height\":350,\"renderers\":[{\"id\":\"6191\",\"type\":\"GlyphRenderer\"},{\"id\":\"6196\",\"type\":\"GlyphRenderer\"}],\"title\":{\"id\":\"6155\",\"type\":\"Title\"},\"toolbar\":{\"id\":\"6181\",\"type\":\"Toolbar\"},\"x_range\":{\"id\":\"6157\",\"type\":\"DataRange1d\"},\"x_scale\":{\"id\":\"6161\",\"type\":\"LinearScale\"},\"y_range\":{\"id\":\"6159\",\"type\":\"DataRange1d\"},\"y_scale\":{\"id\":\"6163\",\"type\":\"LinearScale\"}},\"id\":\"6154\",\"subtype\":\"Figure\",\"type\":\"Plot\"},{\"attributes\":{\"fill_color\":{\"value\":\"#1f77b4\"},\"line_color\":{\"value\":\"#1f77b4\"},\"size\":{\"units\":\"screen\",\"value\":20},\"x\":{\"field\":\"x\"},\"y\":{\"field\":\"y\"}},\"id\":\"6189\",\"type\":\"Circle\"},{\"attributes\":{},\"id\":\"6435\",\"type\":\"Selection\"},{\"attributes\":{\"callback\":null},\"id\":\"6159\",\"type\":\"DataRange1d\"},{\"attributes\":{\"formatter\":{\"id\":\"6429\",\"type\":\"BasicTickFormatter\"},\"ticker\":{\"id\":\"6171\",\"type\":\"BasicTicker\"}},\"id\":\"6170\",\"type\":\"LinearAxis\"},{\"attributes\":{\"formatter\":{\"id\":\"6431\",\"type\":\"BasicTickFormatter\"},\"ticker\":{\"id\":\"6166\",\"type\":\"BasicTicker\"}},\"id\":\"6165\",\"type\":\"LinearAxis\"},{\"attributes\":{\"ticker\":{\"id\":\"6166\",\"type\":\"BasicTicker\"}},\"id\":\"6169\",\"type\":\"Grid\"},{\"attributes\":{},\"id\":\"6161\",\"type\":\"LinearScale\"},{\"attributes\":{},\"id\":\"6434\",\"type\":\"UnionRenderers\"},{\"attributes\":{\"callback\":null},\"id\":\"6157\",\"type\":\"DataRange1d\"},{\"attributes\":{},\"id\":\"6166\",\"type\":\"BasicTicker\"},{\"attributes\":{\"text\":\"4 log(depth) vs log(mass)\"},\"id\":\"6155\",\"type\":\"Title\"},{\"attributes\":{\"active_drag\":\"auto\",\"active_inspect\":\"auto\",\"active_multi\":null,\"active_scroll\":\"auto\",\"active_tap\":\"auto\",\"tools\":[{\"id\":\"6175\",\"type\":\"PanTool\"},{\"id\":\"6176\",\"type\":\"WheelZoomTool\"},{\"id\":\"6177\",\"type\":\"BoxZoomTool\"},{\"id\":\"6178\",\"type\":\"SaveTool\"},{\"id\":\"6179\",\"type\":\"ResetTool\"},{\"id\":\"6180\",\"type\":\"HelpTool\"}]},\"id\":\"6181\",\"type\":\"Toolbar\"},{\"attributes\":{\"callback\":null,\"data\":{\"x\":{\"__ndarray__\":\"2orEBRktqz9oXP3FFvjuv5frh52EDNU//gZ8dYS79j8pl5Cbr7TVP++UYHJGxvM/35ZiH/DK6j9SNm3S4jnsv3tPyR7ns8E/a2vD5H/U6T8=\",\"dtype\":\"float64\",\"shape\":[10]},\"y\":{\"__ndarray__\":\"AyvaPHxP1L9K//DTHDzjv5tg/57ro9G/awzRWr5v0T/aGEZKX5jRv38t7mYuZs0/sFLfSwSh1L/0szDosJTqvwtpWklureC/zvDubt67n78=\",\"dtype\":\"float64\",\"shape\":[10]}},\"selected\":{\"id\":\"6435\",\"type\":\"Selection\"},\"selection_policy\":{\"id\":\"6436\",\"type\":\"UnionRenderers\"}},\"id\":\"6193\",\"type\":\"ColumnDataSource\"},{\"attributes\":{},\"id\":\"6163\",\"type\":\"LinearScale\"},{\"attributes\":{\"fill_alpha\":{\"value\":0.1},\"fill_color\":{\"value\":\"#1f77b4\"},\"line_alpha\":{\"value\":0.1},\"line_color\":{\"value\":\"#1f77b4\"},\"size\":{\"units\":\"screen\",\"value\":10},\"x\":{\"field\":\"x\"},\"y\":{\"field\":\"y\"}},\"id\":\"6195\",\"type\":\"Circle\"},{\"attributes\":{},\"id\":\"6180\",\"type\":\"HelpTool\"},{\"attributes\":{\"fill_color\":{\"value\":\"black\"},\"size\":{\"units\":\"screen\",\"value\":10},\"x\":{\"field\":\"x\"},\"y\":{\"field\":\"y\"}},\"id\":\"6194\",\"type\":\"Circle\"},{\"attributes\":{\"data_source\":{\"id\":\"6193\",\"type\":\"ColumnDataSource\"},\"glyph\":{\"id\":\"6194\",\"type\":\"Circle\"},\"hover_glyph\":null,\"muted_glyph\":null,\"nonselection_glyph\":{\"id\":\"6195\",\"type\":\"Circle\"},\"selection_glyph\":null,\"view\":{\"id\":\"6197\",\"type\":\"CDSView\"}},\"id\":\"6196\",\"type\":\"GlyphRenderer\"},{\"attributes\":{},\"id\":\"6176\",\"type\":\"WheelZoomTool\"},{\"attributes\":{},\"id\":\"6175\",\"type\":\"PanTool\"},{\"attributes\":{\"source\":{\"id\":\"6193\",\"type\":\"ColumnDataSource\"}},\"id\":\"6197\",\"type\":\"CDSView\"},{\"attributes\":{},\"id\":\"6178\",\"type\":\"SaveTool\"},{\"attributes\":{\"overlay\":{\"id\":\"6437\",\"type\":\"BoxAnnotation\"}},\"id\":\"6177\",\"type\":\"BoxZoomTool\"},{\"attributes\":{},\"id\":\"6179\",\"type\":\"ResetTool\"},{\"attributes\":{},\"id\":\"6436\",\"type\":\"UnionRenderers\"},{\"attributes\":{\"callback\":null,\"data\":{\"x\":{\"__ndarray__\":\"2orEBRktqz9oXP3FFvjuv5frh52EDNU//gZ8dYS79j8pl5Cbr7TVP++UYHJGxvM/35ZiH/DK6j9SNm3S4jnsv3tPyR7ns8E/a2vD5H/U6T8=\",\"dtype\":\"float64\",\"shape\":[10]},\"y\":{\"__ndarray__\":\"AyvaPHxP1L9K//DTHDzjv55g/57ro9G/1MLIWr5v0T+Z3ihKX5jRv7q/v2YuZs0/lze8SwSh1L/0szDosJTqv/oLgklureC/3fDubt67n78=\",\"dtype\":\"float64\",\"shape\":[10]}},\"selected\":{\"id\":\"6433\",\"type\":\"Selection\"},\"selection_policy\":{\"id\":\"6434\",\"type\":\"UnionRenderers\"}},\"id\":\"6188\",\"type\":\"ColumnDataSource\"},{\"attributes\":{\"source\":{\"id\":\"6188\",\"type\":\"ColumnDataSource\"}},\"id\":\"6192\",\"type\":\"CDSView\"},{\"attributes\":{},\"id\":\"6433\",\"type\":\"Selection\"},{\"attributes\":{},\"id\":\"6431\",\"type\":\"BasicTickFormatter\"},{\"attributes\":{\"data_source\":{\"id\":\"6188\",\"type\":\"ColumnDataSource\"},\"glyph\":{\"id\":\"6189\",\"type\":\"Circle\"},\"hover_glyph\":null,\"muted_glyph\":null,\"nonselection_glyph\":{\"id\":\"6190\",\"type\":\"Circle\"},\"selection_glyph\":null,\"view\":{\"id\":\"6192\",\"type\":\"CDSView\"}},\"id\":\"6191\",\"type\":\"GlyphRenderer\"},{\"attributes\":{\"dimension\":1,\"ticker\":{\"id\":\"6171\",\"type\":\"BasicTicker\"}},\"id\":\"6174\",\"type\":\"Grid\"},{\"attributes\":{},\"id\":\"6429\",\"type\":\"BasicTickFormatter\"},{\"attributes\":{\"bottom_units\":\"screen\",\"fill_alpha\":{\"value\":0.5},\"fill_color\":{\"value\":\"lightgrey\"},\"left_units\":\"screen\",\"level\":\"overlay\",\"line_alpha\":{\"value\":1.0},\"line_color\":{\"value\":\"black\"},\"line_dash\":[4,4],\"line_width\":{\"value\":2},\"render_mode\":\"css\",\"right_units\":\"screen\",\"top_units\":\"screen\"},\"id\":\"6437\",\"type\":\"BoxAnnotation\"},{\"attributes\":{\"fill_alpha\":{\"value\":0.1},\"fill_color\":{\"value\":\"#1f77b4\"},\"line_alpha\":{\"value\":0.1},\"line_color\":{\"value\":\"#1f77b4\"},\"size\":{\"units\":\"screen\",\"value\":20},\"x\":{\"field\":\"x\"},\"y\":{\"field\":\"y\"}},\"id\":\"6190\",\"type\":\"Circle\"},{\"attributes\":{},\"id\":\"6171\",\"type\":\"BasicTicker\"}],\"root_ids\":[\"6154\"]},\"title\":\"Bokeh Application\",\"version\":\"1.4.0\"}};\n",
       "  var render_items = [{\"docid\":\"cf11afbb-ffaa-410e-83c3-50b8484d0434\",\"roots\":{\"6154\":\"eb7d61ef-0b50-46e8-8b56-0a420b2fd108\"}}];\n",
       "  root.Bokeh.embed.embed_items_notebook(docs_json, render_items);\n",
       "\n",
       "  }\n",
       "  if (root.Bokeh !== undefined) {\n",
       "    embed_document(root);\n",
       "  } else {\n",
       "    var attempts = 0;\n",
       "    var timer = setInterval(function(root) {\n",
       "      if (root.Bokeh !== undefined) {\n",
       "        clearInterval(timer);\n",
       "        embed_document(root);\n",
       "      } else {\n",
       "        attempts++;\n",
       "        if (attempts > 100) {\n",
       "          clearInterval(timer);\n",
       "          console.log(\"Bokeh: ERROR: Unable to run BokehJS code because BokehJS library is missing\");\n",
       "        }\n",
       "      }\n",
       "    }, 10, root)\n",
       "  }\n",
       "})(window);"
      ],
      "application/vnd.bokehjs_exec.v0+json": ""
     },
     "metadata": {
      "application/vnd.bokehjs_exec.v0+json": {
       "id": "6154"
      }
     },
     "output_type": "display_data"
    },
    {
     "data": {
      "text/html": [
       "\n",
       "\n",
       "\n",
       "\n",
       "\n",
       "\n",
       "  <div class=\"bk-root\" id=\"c4711a0e-6185-4604-8534-2798fed21048\" data-root-id=\"6498\"></div>\n"
      ]
     },
     "metadata": {},
     "output_type": "display_data"
    },
    {
     "data": {
      "application/javascript": [
       "(function(root) {\n",
       "  function embed_document(root) {\n",
       "    \n",
       "  var docs_json = {\"dcb17a05-ef10-4571-b3c5-afb6aa24cac5\":{\"roots\":{\"references\":[{\"attributes\":{\"below\":[{\"id\":\"6509\",\"type\":\"LinearAxis\"}],\"center\":[{\"id\":\"6513\",\"type\":\"Grid\"},{\"id\":\"6518\",\"type\":\"Grid\"}],\"left\":[{\"id\":\"6514\",\"type\":\"LinearAxis\"}],\"plot_height\":350,\"renderers\":[{\"id\":\"6535\",\"type\":\"GlyphRenderer\"},{\"id\":\"6540\",\"type\":\"GlyphRenderer\"}],\"title\":{\"id\":\"6499\",\"type\":\"Title\"},\"toolbar\":{\"id\":\"6525\",\"type\":\"Toolbar\"},\"x_range\":{\"id\":\"6501\",\"type\":\"DataRange1d\"},\"x_scale\":{\"id\":\"6505\",\"type\":\"LinearScale\"},\"y_range\":{\"id\":\"6503\",\"type\":\"DataRange1d\"},\"y_scale\":{\"id\":\"6507\",\"type\":\"LinearScale\"}},\"id\":\"6498\",\"subtype\":\"Figure\",\"type\":\"Plot\"},{\"attributes\":{},\"id\":\"6519\",\"type\":\"PanTool\"},{\"attributes\":{},\"id\":\"6788\",\"type\":\"UnionRenderers\"},{\"attributes\":{},\"id\":\"6507\",\"type\":\"LinearScale\"},{\"attributes\":{},\"id\":\"6787\",\"type\":\"Selection\"},{\"attributes\":{\"callback\":null,\"data\":{\"x\":{\"__ndarray__\":\"2orEBRktqz9oXP3FFvjuv5frh52EDNU//gZ8dYS79j8pl5Cbr7TVP++UYHJGxvM/35ZiH/DK6j9SNm3S4jnsv3tPyR7ns8E/a2vD5H/U6T8=\",\"dtype\":\"float64\",\"shape\":[10]},\"y\":{\"__ndarray__\":\"pq+AL38Z779FI774Ypr5v98g69fLkfO/SdmTPhVu2L+INEptcMXxv8udR60AMOS/OrupvDi77b+DGMhSjSUCwJiav+ryZfO/Hyi/4o8V8L8=\",\"dtype\":\"float64\",\"shape\":[10]}},\"selected\":{\"id\":\"6787\",\"type\":\"Selection\"},\"selection_policy\":{\"id\":\"6788\",\"type\":\"UnionRenderers\"}},\"id\":\"6532\",\"type\":\"ColumnDataSource\"},{\"attributes\":{\"source\":{\"id\":\"6537\",\"type\":\"ColumnDataSource\"}},\"id\":\"6541\",\"type\":\"CDSView\"},{\"attributes\":{\"text\":\"3 log(area) vs log(mass)\"},\"id\":\"6499\",\"type\":\"Title\"},{\"attributes\":{},\"id\":\"6510\",\"type\":\"BasicTicker\"},{\"attributes\":{\"data_source\":{\"id\":\"6532\",\"type\":\"ColumnDataSource\"},\"glyph\":{\"id\":\"6533\",\"type\":\"Circle\"},\"hover_glyph\":null,\"muted_glyph\":null,\"nonselection_glyph\":{\"id\":\"6534\",\"type\":\"Circle\"},\"selection_glyph\":null,\"view\":{\"id\":\"6536\",\"type\":\"CDSView\"}},\"id\":\"6535\",\"type\":\"GlyphRenderer\"},{\"attributes\":{},\"id\":\"6520\",\"type\":\"WheelZoomTool\"},{\"attributes\":{\"fill_alpha\":{\"value\":0.1},\"fill_color\":{\"value\":\"#1f77b4\"},\"line_alpha\":{\"value\":0.1},\"line_color\":{\"value\":\"#1f77b4\"},\"size\":{\"units\":\"screen\",\"value\":20},\"x\":{\"field\":\"x\"},\"y\":{\"field\":\"y\"}},\"id\":\"6534\",\"type\":\"Circle\"},{\"attributes\":{\"callback\":null},\"id\":\"6503\",\"type\":\"DataRange1d\"},{\"attributes\":{},\"id\":\"6783\",\"type\":\"BasicTickFormatter\"},{\"attributes\":{\"callback\":null},\"id\":\"6501\",\"type\":\"DataRange1d\"},{\"attributes\":{},\"id\":\"6524\",\"type\":\"HelpTool\"},{\"attributes\":{\"source\":{\"id\":\"6532\",\"type\":\"ColumnDataSource\"}},\"id\":\"6536\",\"type\":\"CDSView\"},{\"attributes\":{\"overlay\":{\"id\":\"6791\",\"type\":\"BoxAnnotation\"}},\"id\":\"6521\",\"type\":\"BoxZoomTool\"},{\"attributes\":{},\"id\":\"6785\",\"type\":\"BasicTickFormatter\"},{\"attributes\":{},\"id\":\"6522\",\"type\":\"SaveTool\"},{\"attributes\":{},\"id\":\"6790\",\"type\":\"UnionRenderers\"},{\"attributes\":{},\"id\":\"6515\",\"type\":\"BasicTicker\"},{\"attributes\":{\"ticker\":{\"id\":\"6510\",\"type\":\"BasicTicker\"}},\"id\":\"6513\",\"type\":\"Grid\"},{\"attributes\":{},\"id\":\"6505\",\"type\":\"LinearScale\"},{\"attributes\":{\"fill_color\":{\"value\":\"#1f77b4\"},\"line_color\":{\"value\":\"#1f77b4\"},\"size\":{\"units\":\"screen\",\"value\":20},\"x\":{\"field\":\"x\"},\"y\":{\"field\":\"y\"}},\"id\":\"6533\",\"type\":\"Circle\"},{\"attributes\":{\"dimension\":1,\"ticker\":{\"id\":\"6515\",\"type\":\"BasicTicker\"}},\"id\":\"6518\",\"type\":\"Grid\"},{\"attributes\":{\"fill_alpha\":{\"value\":0.1},\"fill_color\":{\"value\":\"#1f77b4\"},\"line_alpha\":{\"value\":0.1},\"line_color\":{\"value\":\"#1f77b4\"},\"size\":{\"units\":\"screen\",\"value\":10},\"x\":{\"field\":\"x\"},\"y\":{\"field\":\"y\"}},\"id\":\"6539\",\"type\":\"Circle\"},{\"attributes\":{},\"id\":\"6523\",\"type\":\"ResetTool\"},{\"attributes\":{\"bottom_units\":\"screen\",\"fill_alpha\":{\"value\":0.5},\"fill_color\":{\"value\":\"lightgrey\"},\"left_units\":\"screen\",\"level\":\"overlay\",\"line_alpha\":{\"value\":1.0},\"line_color\":{\"value\":\"black\"},\"line_dash\":[4,4],\"line_width\":{\"value\":2},\"render_mode\":\"css\",\"right_units\":\"screen\",\"top_units\":\"screen\"},\"id\":\"6791\",\"type\":\"BoxAnnotation\"},{\"attributes\":{\"formatter\":{\"id\":\"6785\",\"type\":\"BasicTickFormatter\"},\"ticker\":{\"id\":\"6510\",\"type\":\"BasicTicker\"}},\"id\":\"6509\",\"type\":\"LinearAxis\"},{\"attributes\":{\"fill_color\":{\"value\":\"black\"},\"size\":{\"units\":\"screen\",\"value\":10},\"x\":{\"field\":\"x\"},\"y\":{\"field\":\"y\"}},\"id\":\"6538\",\"type\":\"Circle\"},{\"attributes\":{\"callback\":null,\"data\":{\"x\":{\"__ndarray__\":\"2orEBRktqz9oXP3FFvjuv5frh52EDNU//gZ8dYS79j8pl5Cbr7TVP++UYHJGxvM/35ZiH/DK6j9SNm3S4jnsv3tPyR7ns8E/a2vD5H/U6T8=\",\"dtype\":\"float64\",\"shape\":[10]},\"y\":{\"__ndarray__\":\"NrVSL38Z779SwvD3Ypr5vz9QctfLkfO/6CWVPhVu2L+0+bxtcMXxv/wQU60AMOS/mO43vDi77b8ODttQjSUCwJDPPOryZfO/8bWi4o8V8L8=\",\"dtype\":\"float64\",\"shape\":[10]}},\"selected\":{\"id\":\"6789\",\"type\":\"Selection\"},\"selection_policy\":{\"id\":\"6790\",\"type\":\"UnionRenderers\"}},\"id\":\"6537\",\"type\":\"ColumnDataSource\"},{\"attributes\":{},\"id\":\"6789\",\"type\":\"Selection\"},{\"attributes\":{\"formatter\":{\"id\":\"6783\",\"type\":\"BasicTickFormatter\"},\"ticker\":{\"id\":\"6515\",\"type\":\"BasicTicker\"}},\"id\":\"6514\",\"type\":\"LinearAxis\"},{\"attributes\":{\"data_source\":{\"id\":\"6537\",\"type\":\"ColumnDataSource\"},\"glyph\":{\"id\":\"6538\",\"type\":\"Circle\"},\"hover_glyph\":null,\"muted_glyph\":null,\"nonselection_glyph\":{\"id\":\"6539\",\"type\":\"Circle\"},\"selection_glyph\":null,\"view\":{\"id\":\"6541\",\"type\":\"CDSView\"}},\"id\":\"6540\",\"type\":\"GlyphRenderer\"},{\"attributes\":{\"active_drag\":\"auto\",\"active_inspect\":\"auto\",\"active_multi\":null,\"active_scroll\":\"auto\",\"active_tap\":\"auto\",\"tools\":[{\"id\":\"6519\",\"type\":\"PanTool\"},{\"id\":\"6520\",\"type\":\"WheelZoomTool\"},{\"id\":\"6521\",\"type\":\"BoxZoomTool\"},{\"id\":\"6522\",\"type\":\"SaveTool\"},{\"id\":\"6523\",\"type\":\"ResetTool\"},{\"id\":\"6524\",\"type\":\"HelpTool\"}]},\"id\":\"6525\",\"type\":\"Toolbar\"}],\"root_ids\":[\"6498\"]},\"title\":\"Bokeh Application\",\"version\":\"1.4.0\"}};\n",
       "  var render_items = [{\"docid\":\"dcb17a05-ef10-4571-b3c5-afb6aa24cac5\",\"roots\":{\"6498\":\"c4711a0e-6185-4604-8534-2798fed21048\"}}];\n",
       "  root.Bokeh.embed.embed_items_notebook(docs_json, render_items);\n",
       "\n",
       "  }\n",
       "  if (root.Bokeh !== undefined) {\n",
       "    embed_document(root);\n",
       "  } else {\n",
       "    var attempts = 0;\n",
       "    var timer = setInterval(function(root) {\n",
       "      if (root.Bokeh !== undefined) {\n",
       "        clearInterval(timer);\n",
       "        embed_document(root);\n",
       "      } else {\n",
       "        attempts++;\n",
       "        if (attempts > 100) {\n",
       "          clearInterval(timer);\n",
       "          console.log(\"Bokeh: ERROR: Unable to run BokehJS code because BokehJS library is missing\");\n",
       "        }\n",
       "      }\n",
       "    }, 10, root)\n",
       "  }\n",
       "})(window);"
      ],
      "application/vnd.bokehjs_exec.v0+json": ""
     },
     "metadata": {
      "application/vnd.bokehjs_exec.v0+json": {
       "id": "6498"
      }
     },
     "output_type": "display_data"
    },
    {
     "data": {
      "text/html": [
       "\n",
       "\n",
       "\n",
       "\n",
       "\n",
       "\n",
       "  <div class=\"bk-root\" id=\"ac817334-776c-46c4-9ab4-9dcb96c1d558\" data-root-id=\"6852\"></div>\n"
      ]
     },
     "metadata": {},
     "output_type": "display_data"
    },
    {
     "data": {
      "application/javascript": [
       "(function(root) {\n",
       "  function embed_document(root) {\n",
       "    \n",
       "  var docs_json = {\"4376a536-14e7-4f78-a058-2ddb9f71bfda\":{\"roots\":{\"references\":[{\"attributes\":{\"below\":[{\"id\":\"6863\",\"type\":\"LinearAxis\"}],\"center\":[{\"id\":\"6867\",\"type\":\"Grid\"},{\"id\":\"6872\",\"type\":\"Grid\"}],\"left\":[{\"id\":\"6868\",\"type\":\"LinearAxis\"}],\"plot_height\":350,\"renderers\":[{\"id\":\"6889\",\"type\":\"GlyphRenderer\"},{\"id\":\"6894\",\"type\":\"GlyphRenderer\"}],\"title\":{\"id\":\"6853\",\"type\":\"Title\"},\"toolbar\":{\"id\":\"6879\",\"type\":\"Toolbar\"},\"x_range\":{\"id\":\"6855\",\"type\":\"DataRange1d\"},\"x_scale\":{\"id\":\"6859\",\"type\":\"LinearScale\"},\"y_range\":{\"id\":\"6857\",\"type\":\"DataRange1d\"},\"y_scale\":{\"id\":\"6861\",\"type\":\"LinearScale\"}},\"id\":\"6852\",\"subtype\":\"Figure\",\"type\":\"Plot\"},{\"attributes\":{\"active_drag\":\"auto\",\"active_inspect\":\"auto\",\"active_multi\":null,\"active_scroll\":\"auto\",\"active_tap\":\"auto\",\"tools\":[{\"id\":\"6873\",\"type\":\"PanTool\"},{\"id\":\"6874\",\"type\":\"WheelZoomTool\"},{\"id\":\"6875\",\"type\":\"BoxZoomTool\"},{\"id\":\"6876\",\"type\":\"SaveTool\"},{\"id\":\"6877\",\"type\":\"ResetTool\"},{\"id\":\"6878\",\"type\":\"HelpTool\"}]},\"id\":\"6879\",\"type\":\"Toolbar\"},{\"attributes\":{\"fill_alpha\":{\"value\":0.1},\"fill_color\":{\"value\":\"#1f77b4\"},\"line_alpha\":{\"value\":0.1},\"line_color\":{\"value\":\"#1f77b4\"},\"size\":{\"units\":\"screen\",\"value\":10},\"x\":{\"field\":\"x\"},\"y\":{\"field\":\"y\"}},\"id\":\"6893\",\"type\":\"Circle\"},{\"attributes\":{\"data_source\":{\"id\":\"6891\",\"type\":\"ColumnDataSource\"},\"glyph\":{\"id\":\"6892\",\"type\":\"Circle\"},\"hover_glyph\":null,\"muted_glyph\":null,\"nonselection_glyph\":{\"id\":\"6893\",\"type\":\"Circle\"},\"selection_glyph\":null,\"view\":{\"id\":\"6895\",\"type\":\"CDSView\"}},\"id\":\"6894\",\"type\":\"GlyphRenderer\"},{\"attributes\":{},\"id\":\"6876\",\"type\":\"SaveTool\"},{\"attributes\":{},\"id\":\"6861\",\"type\":\"LinearScale\"},{\"attributes\":{\"fill_color\":{\"value\":\"black\"},\"size\":{\"units\":\"screen\",\"value\":10},\"x\":{\"field\":\"x\"},\"y\":{\"field\":\"y\"}},\"id\":\"6892\",\"type\":\"Circle\"},{\"attributes\":{\"callback\":null,\"data\":{\"x\":{\"__ndarray__\":\"2orEBRktqz9oXP3FFvjuv5frh52EDNU//gZ8dYS79j8pl5Cbr7TVP++UYHJGxvM/35ZiH/DK6j9SNm3S4jnsv3tPyR7ns8E/a2vD5H/U6T8=\",\"dtype\":\"float64\",\"shape\":[10]},\"y\":{\"__ndarray__\":\"hLACvJYz37/Wvvmb6q/kv0PhN2yJ9NW/LqZW+Uufsb8FHbsr5+PSv49Y3ioR3LE/YefIGgu7zr+u+lvUhuXlv+X0iJj5Cua/XH3XLuP/vb8=\",\"dtype\":\"float64\",\"shape\":[10]}},\"selected\":{\"id\":\"7153\",\"type\":\"Selection\"},\"selection_policy\":{\"id\":\"7154\",\"type\":\"UnionRenderers\"}},\"id\":\"6891\",\"type\":\"ColumnDataSource\"},{\"attributes\":{},\"id\":\"6859\",\"type\":\"LinearScale\"},{\"attributes\":{\"formatter\":{\"id\":\"7149\",\"type\":\"BasicTickFormatter\"},\"ticker\":{\"id\":\"6864\",\"type\":\"BasicTicker\"}},\"id\":\"6863\",\"type\":\"LinearAxis\"},{\"attributes\":{\"overlay\":{\"id\":\"7155\",\"type\":\"BoxAnnotation\"}},\"id\":\"6875\",\"type\":\"BoxZoomTool\"},{\"attributes\":{},\"id\":\"6874\",\"type\":\"WheelZoomTool\"},{\"attributes\":{\"callback\":null,\"data\":{\"x\":{\"__ndarray__\":\"2orEBRktqz9oXP3FFvjuv5frh52EDNU//gZ8dYS79j8pl5Cbr7TVP++UYHJGxvM/35ZiH/DK6j9SNm3S4jnsv3tPyR7ns8E/a2vD5H/U6T8=\",\"dtype\":\"float64\",\"shape\":[10]},\"y\":{\"__ndarray__\":\"hLACvJYz37/Wvvmb6q/kv0PhN2yJ9NW/tgR7+Uufsb9/ObUr5+PSv9SlsyoR3LE/IzTRGgu7zr+u+lvUhuXlv/FmrZj5Cua/XH3XLuP/vb8=\",\"dtype\":\"float64\",\"shape\":[10]}},\"selected\":{\"id\":\"7151\",\"type\":\"Selection\"},\"selection_policy\":{\"id\":\"7152\",\"type\":\"UnionRenderers\"}},\"id\":\"6886\",\"type\":\"ColumnDataSource\"},{\"attributes\":{\"callback\":null},\"id\":\"6855\",\"type\":\"DataRange1d\"},{\"attributes\":{\"text\":\"3 log(depth) vs log(mass)\"},\"id\":\"6853\",\"type\":\"Title\"},{\"attributes\":{},\"id\":\"6873\",\"type\":\"PanTool\"},{\"attributes\":{},\"id\":\"6878\",\"type\":\"HelpTool\"},{\"attributes\":{\"callback\":null},\"id\":\"6857\",\"type\":\"DataRange1d\"},{\"attributes\":{},\"id\":\"6877\",\"type\":\"ResetTool\"},{\"attributes\":{\"bottom_units\":\"screen\",\"fill_alpha\":{\"value\":0.5},\"fill_color\":{\"value\":\"lightgrey\"},\"left_units\":\"screen\",\"level\":\"overlay\",\"line_alpha\":{\"value\":1.0},\"line_color\":{\"value\":\"black\"},\"line_dash\":[4,4],\"line_width\":{\"value\":2},\"render_mode\":\"css\",\"right_units\":\"screen\",\"top_units\":\"screen\"},\"id\":\"7155\",\"type\":\"BoxAnnotation\"},{\"attributes\":{},\"id\":\"7153\",\"type\":\"Selection\"},{\"attributes\":{\"dimension\":1,\"ticker\":{\"id\":\"6869\",\"type\":\"BasicTicker\"}},\"id\":\"6872\",\"type\":\"Grid\"},{\"attributes\":{\"fill_color\":{\"value\":\"#1f77b4\"},\"line_color\":{\"value\":\"#1f77b4\"},\"size\":{\"units\":\"screen\",\"value\":20},\"x\":{\"field\":\"x\"},\"y\":{\"field\":\"y\"}},\"id\":\"6887\",\"type\":\"Circle\"},{\"attributes\":{\"source\":{\"id\":\"6891\",\"type\":\"ColumnDataSource\"}},\"id\":\"6895\",\"type\":\"CDSView\"},{\"attributes\":{},\"id\":\"7154\",\"type\":\"UnionRenderers\"},{\"attributes\":{},\"id\":\"7147\",\"type\":\"BasicTickFormatter\"},{\"attributes\":{\"fill_alpha\":{\"value\":0.1},\"fill_color\":{\"value\":\"#1f77b4\"},\"line_alpha\":{\"value\":0.1},\"line_color\":{\"value\":\"#1f77b4\"},\"size\":{\"units\":\"screen\",\"value\":20},\"x\":{\"field\":\"x\"},\"y\":{\"field\":\"y\"}},\"id\":\"6888\",\"type\":\"Circle\"},{\"attributes\":{},\"id\":\"7149\",\"type\":\"BasicTickFormatter\"},{\"attributes\":{\"source\":{\"id\":\"6886\",\"type\":\"ColumnDataSource\"}},\"id\":\"6890\",\"type\":\"CDSView\"},{\"attributes\":{},\"id\":\"7151\",\"type\":\"Selection\"},{\"attributes\":{},\"id\":\"6869\",\"type\":\"BasicTicker\"},{\"attributes\":{\"formatter\":{\"id\":\"7147\",\"type\":\"BasicTickFormatter\"},\"ticker\":{\"id\":\"6869\",\"type\":\"BasicTicker\"}},\"id\":\"6868\",\"type\":\"LinearAxis\"},{\"attributes\":{\"data_source\":{\"id\":\"6886\",\"type\":\"ColumnDataSource\"},\"glyph\":{\"id\":\"6887\",\"type\":\"Circle\"},\"hover_glyph\":null,\"muted_glyph\":null,\"nonselection_glyph\":{\"id\":\"6888\",\"type\":\"Circle\"},\"selection_glyph\":null,\"view\":{\"id\":\"6890\",\"type\":\"CDSView\"}},\"id\":\"6889\",\"type\":\"GlyphRenderer\"},{\"attributes\":{\"ticker\":{\"id\":\"6864\",\"type\":\"BasicTicker\"}},\"id\":\"6867\",\"type\":\"Grid\"},{\"attributes\":{},\"id\":\"7152\",\"type\":\"UnionRenderers\"},{\"attributes\":{},\"id\":\"6864\",\"type\":\"BasicTicker\"}],\"root_ids\":[\"6852\"]},\"title\":\"Bokeh Application\",\"version\":\"1.4.0\"}};\n",
       "  var render_items = [{\"docid\":\"4376a536-14e7-4f78-a058-2ddb9f71bfda\",\"roots\":{\"6852\":\"ac817334-776c-46c4-9ab4-9dcb96c1d558\"}}];\n",
       "  root.Bokeh.embed.embed_items_notebook(docs_json, render_items);\n",
       "\n",
       "  }\n",
       "  if (root.Bokeh !== undefined) {\n",
       "    embed_document(root);\n",
       "  } else {\n",
       "    var attempts = 0;\n",
       "    var timer = setInterval(function(root) {\n",
       "      if (root.Bokeh !== undefined) {\n",
       "        clearInterval(timer);\n",
       "        embed_document(root);\n",
       "      } else {\n",
       "        attempts++;\n",
       "        if (attempts > 100) {\n",
       "          clearInterval(timer);\n",
       "          console.log(\"Bokeh: ERROR: Unable to run BokehJS code because BokehJS library is missing\");\n",
       "        }\n",
       "      }\n",
       "    }, 10, root)\n",
       "  }\n",
       "})(window);"
      ],
      "application/vnd.bokehjs_exec.v0+json": ""
     },
     "metadata": {
      "application/vnd.bokehjs_exec.v0+json": {
       "id": "6852"
      }
     },
     "output_type": "display_data"
    },
    {
     "data": {
      "text/html": [
       "\n",
       "\n",
       "\n",
       "\n",
       "\n",
       "\n",
       "  <div class=\"bk-root\" id=\"5013e082-cd2f-467b-95f5-3d4a48a43da5\" data-root-id=\"7216\"></div>\n"
      ]
     },
     "metadata": {},
     "output_type": "display_data"
    },
    {
     "data": {
      "application/javascript": [
       "(function(root) {\n",
       "  function embed_document(root) {\n",
       "    \n",
       "  var docs_json = {\"c5ae0887-a8c0-4d24-942f-66eb75db5739\":{\"roots\":{\"references\":[{\"attributes\":{\"below\":[{\"id\":\"7227\",\"type\":\"LinearAxis\"}],\"center\":[{\"id\":\"7231\",\"type\":\"Grid\"},{\"id\":\"7236\",\"type\":\"Grid\"}],\"left\":[{\"id\":\"7232\",\"type\":\"LinearAxis\"}],\"plot_height\":350,\"renderers\":[{\"id\":\"7253\",\"type\":\"GlyphRenderer\"},{\"id\":\"7258\",\"type\":\"GlyphRenderer\"}],\"title\":{\"id\":\"7217\",\"type\":\"Title\"},\"toolbar\":{\"id\":\"7243\",\"type\":\"Toolbar\"},\"x_range\":{\"id\":\"7219\",\"type\":\"DataRange1d\"},\"x_scale\":{\"id\":\"7223\",\"type\":\"LinearScale\"},\"y_range\":{\"id\":\"7221\",\"type\":\"DataRange1d\"},\"y_scale\":{\"id\":\"7225\",\"type\":\"LinearScale\"}},\"id\":\"7216\",\"subtype\":\"Figure\",\"type\":\"Plot\"},{\"attributes\":{\"callback\":null},\"id\":\"7221\",\"type\":\"DataRange1d\"},{\"attributes\":{\"fill_alpha\":{\"value\":0.1},\"fill_color\":{\"value\":\"#1f77b4\"},\"line_alpha\":{\"value\":0.1},\"line_color\":{\"value\":\"#1f77b4\"},\"size\":{\"units\":\"screen\",\"value\":10},\"x\":{\"field\":\"x\"},\"y\":{\"field\":\"y\"}},\"id\":\"7257\",\"type\":\"Circle\"},{\"attributes\":{\"fill_color\":{\"value\":\"#1f77b4\"},\"line_color\":{\"value\":\"#1f77b4\"},\"size\":{\"units\":\"screen\",\"value\":20},\"x\":{\"field\":\"x\"},\"y\":{\"field\":\"y\"}},\"id\":\"7251\",\"type\":\"Circle\"},{\"attributes\":{\"callback\":null,\"data\":{\"x\":{\"__ndarray__\":\"2orEBRktqz9oXP3FFvjuv5frh52EDNU//gZ8dYS79j8pl5Cbr7TVP++UYHJGxvM/35ZiH/DK6j9SNm3S4jnsv3tPyR7ns8E/a2vD5H/U6T8=\",\"dtype\":\"float64\",\"shape\":[10]},\"y\":{\"__ndarray__\":\"nBjhE8Ux8b/xXQmxQqL4v0fHe/hLvfG/bBGcrSlzw7+/xvZ439znvydE0ecZFc+/HWInrP6J578h6x6idv8DwMKUuGFc2PO/EA/8o93p7L8=\",\"dtype\":\"float64\",\"shape\":[10]}},\"selected\":{\"id\":\"7525\",\"type\":\"Selection\"},\"selection_policy\":{\"id\":\"7526\",\"type\":\"UnionRenderers\"}},\"id\":\"7250\",\"type\":\"ColumnDataSource\"},{\"attributes\":{},\"id\":\"7525\",\"type\":\"Selection\"},{\"attributes\":{\"fill_color\":{\"value\":\"black\"},\"size\":{\"units\":\"screen\",\"value\":10},\"x\":{\"field\":\"x\"},\"y\":{\"field\":\"y\"}},\"id\":\"7256\",\"type\":\"Circle\"},{\"attributes\":{},\"id\":\"7238\",\"type\":\"WheelZoomTool\"},{\"attributes\":{},\"id\":\"7237\",\"type\":\"PanTool\"},{\"attributes\":{},\"id\":\"7526\",\"type\":\"UnionRenderers\"},{\"attributes\":{},\"id\":\"7521\",\"type\":\"BasicTickFormatter\"},{\"attributes\":{\"dimension\":1,\"ticker\":{\"id\":\"7233\",\"type\":\"BasicTicker\"}},\"id\":\"7236\",\"type\":\"Grid\"},{\"attributes\":{\"source\":{\"id\":\"7250\",\"type\":\"ColumnDataSource\"}},\"id\":\"7254\",\"type\":\"CDSView\"},{\"attributes\":{\"source\":{\"id\":\"7255\",\"type\":\"ColumnDataSource\"}},\"id\":\"7259\",\"type\":\"CDSView\"},{\"attributes\":{\"callback\":null,\"data\":{\"x\":{\"__ndarray__\":\"2orEBRktqz9oXP3FFvjuv5frh52EDNU//gZ8dYS79j8pl5Cbr7TVP++UYHJGxvM/35ZiH/DK6j9SNm3S4jnsv3tPyR7ns8E/a2vD5H/U6T8=\",\"dtype\":\"float64\",\"shape\":[10]},\"y\":{\"__ndarray__\":\"uVJcFMUx8b8AZ6uvQqL4v1XHDfhLvfG/QdE3rSlzw78+SAR539znvyqEkecZFc+/0vOdrP6J57/CZFSidv8DwKxVhGFc2PO/N6Oro93p7L8=\",\"dtype\":\"float64\",\"shape\":[10]}},\"selected\":{\"id\":\"7527\",\"type\":\"Selection\"},\"selection_policy\":{\"id\":\"7528\",\"type\":\"UnionRenderers\"}},\"id\":\"7255\",\"type\":\"ColumnDataSource\"},{\"attributes\":{},\"id\":\"7523\",\"type\":\"BasicTickFormatter\"},{\"attributes\":{\"data_source\":{\"id\":\"7250\",\"type\":\"ColumnDataSource\"},\"glyph\":{\"id\":\"7251\",\"type\":\"Circle\"},\"hover_glyph\":null,\"muted_glyph\":null,\"nonselection_glyph\":{\"id\":\"7252\",\"type\":\"Circle\"},\"selection_glyph\":null,\"view\":{\"id\":\"7254\",\"type\":\"CDSView\"}},\"id\":\"7253\",\"type\":\"GlyphRenderer\"},{\"attributes\":{},\"id\":\"7527\",\"type\":\"Selection\"},{\"attributes\":{\"text\":\"2 log(area) vs log(mass)\"},\"id\":\"7217\",\"type\":\"Title\"},{\"attributes\":{},\"id\":\"7233\",\"type\":\"BasicTicker\"},{\"attributes\":{\"fill_alpha\":{\"value\":0.1},\"fill_color\":{\"value\":\"#1f77b4\"},\"line_alpha\":{\"value\":0.1},\"line_color\":{\"value\":\"#1f77b4\"},\"size\":{\"units\":\"screen\",\"value\":20},\"x\":{\"field\":\"x\"},\"y\":{\"field\":\"y\"}},\"id\":\"7252\",\"type\":\"Circle\"},{\"attributes\":{\"formatter\":{\"id\":\"7521\",\"type\":\"BasicTickFormatter\"},\"ticker\":{\"id\":\"7233\",\"type\":\"BasicTicker\"}},\"id\":\"7232\",\"type\":\"LinearAxis\"},{\"attributes\":{\"overlay\":{\"id\":\"7529\",\"type\":\"BoxAnnotation\"}},\"id\":\"7239\",\"type\":\"BoxZoomTool\"},{\"attributes\":{},\"id\":\"7528\",\"type\":\"UnionRenderers\"},{\"attributes\":{\"ticker\":{\"id\":\"7228\",\"type\":\"BasicTicker\"}},\"id\":\"7231\",\"type\":\"Grid\"},{\"attributes\":{},\"id\":\"7242\",\"type\":\"HelpTool\"},{\"attributes\":{},\"id\":\"7228\",\"type\":\"BasicTicker\"},{\"attributes\":{\"bottom_units\":\"screen\",\"fill_alpha\":{\"value\":0.5},\"fill_color\":{\"value\":\"lightgrey\"},\"left_units\":\"screen\",\"level\":\"overlay\",\"line_alpha\":{\"value\":1.0},\"line_color\":{\"value\":\"black\"},\"line_dash\":[4,4],\"line_width\":{\"value\":2},\"render_mode\":\"css\",\"right_units\":\"screen\",\"top_units\":\"screen\"},\"id\":\"7529\",\"type\":\"BoxAnnotation\"},{\"attributes\":{},\"id\":\"7240\",\"type\":\"SaveTool\"},{\"attributes\":{},\"id\":\"7241\",\"type\":\"ResetTool\"},{\"attributes\":{\"data_source\":{\"id\":\"7255\",\"type\":\"ColumnDataSource\"},\"glyph\":{\"id\":\"7256\",\"type\":\"Circle\"},\"hover_glyph\":null,\"muted_glyph\":null,\"nonselection_glyph\":{\"id\":\"7257\",\"type\":\"Circle\"},\"selection_glyph\":null,\"view\":{\"id\":\"7259\",\"type\":\"CDSView\"}},\"id\":\"7258\",\"type\":\"GlyphRenderer\"},{\"attributes\":{},\"id\":\"7225\",\"type\":\"LinearScale\"},{\"attributes\":{},\"id\":\"7223\",\"type\":\"LinearScale\"},{\"attributes\":{\"active_drag\":\"auto\",\"active_inspect\":\"auto\",\"active_multi\":null,\"active_scroll\":\"auto\",\"active_tap\":\"auto\",\"tools\":[{\"id\":\"7237\",\"type\":\"PanTool\"},{\"id\":\"7238\",\"type\":\"WheelZoomTool\"},{\"id\":\"7239\",\"type\":\"BoxZoomTool\"},{\"id\":\"7240\",\"type\":\"SaveTool\"},{\"id\":\"7241\",\"type\":\"ResetTool\"},{\"id\":\"7242\",\"type\":\"HelpTool\"}]},\"id\":\"7243\",\"type\":\"Toolbar\"},{\"attributes\":{\"callback\":null},\"id\":\"7219\",\"type\":\"DataRange1d\"},{\"attributes\":{\"formatter\":{\"id\":\"7523\",\"type\":\"BasicTickFormatter\"},\"ticker\":{\"id\":\"7228\",\"type\":\"BasicTicker\"}},\"id\":\"7227\",\"type\":\"LinearAxis\"}],\"root_ids\":[\"7216\"]},\"title\":\"Bokeh Application\",\"version\":\"1.4.0\"}};\n",
       "  var render_items = [{\"docid\":\"c5ae0887-a8c0-4d24-942f-66eb75db5739\",\"roots\":{\"7216\":\"5013e082-cd2f-467b-95f5-3d4a48a43da5\"}}];\n",
       "  root.Bokeh.embed.embed_items_notebook(docs_json, render_items);\n",
       "\n",
       "  }\n",
       "  if (root.Bokeh !== undefined) {\n",
       "    embed_document(root);\n",
       "  } else {\n",
       "    var attempts = 0;\n",
       "    var timer = setInterval(function(root) {\n",
       "      if (root.Bokeh !== undefined) {\n",
       "        clearInterval(timer);\n",
       "        embed_document(root);\n",
       "      } else {\n",
       "        attempts++;\n",
       "        if (attempts > 100) {\n",
       "          clearInterval(timer);\n",
       "          console.log(\"Bokeh: ERROR: Unable to run BokehJS code because BokehJS library is missing\");\n",
       "        }\n",
       "      }\n",
       "    }, 10, root)\n",
       "  }\n",
       "})(window);"
      ],
      "application/vnd.bokehjs_exec.v0+json": ""
     },
     "metadata": {
      "application/vnd.bokehjs_exec.v0+json": {
       "id": "7216"
      }
     },
     "output_type": "display_data"
    },
    {
     "data": {
      "text/html": [
       "\n",
       "\n",
       "\n",
       "\n",
       "\n",
       "\n",
       "  <div class=\"bk-root\" id=\"462c635c-ed82-4e81-a35f-fc7e9635ee6a\" data-root-id=\"7590\"></div>\n"
      ]
     },
     "metadata": {},
     "output_type": "display_data"
    },
    {
     "data": {
      "application/javascript": [
       "(function(root) {\n",
       "  function embed_document(root) {\n",
       "    \n",
       "  var docs_json = {\"d2fa1fdb-59a9-4c44-869a-204752523f71\":{\"roots\":{\"references\":[{\"attributes\":{\"below\":[{\"id\":\"7601\",\"type\":\"LinearAxis\"}],\"center\":[{\"id\":\"7605\",\"type\":\"Grid\"},{\"id\":\"7610\",\"type\":\"Grid\"}],\"left\":[{\"id\":\"7606\",\"type\":\"LinearAxis\"}],\"plot_height\":350,\"renderers\":[{\"id\":\"7627\",\"type\":\"GlyphRenderer\"},{\"id\":\"7632\",\"type\":\"GlyphRenderer\"}],\"title\":{\"id\":\"7591\",\"type\":\"Title\"},\"toolbar\":{\"id\":\"7617\",\"type\":\"Toolbar\"},\"x_range\":{\"id\":\"7593\",\"type\":\"DataRange1d\"},\"x_scale\":{\"id\":\"7597\",\"type\":\"LinearScale\"},\"y_range\":{\"id\":\"7595\",\"type\":\"DataRange1d\"},\"y_scale\":{\"id\":\"7599\",\"type\":\"LinearScale\"}},\"id\":\"7590\",\"subtype\":\"Figure\",\"type\":\"Plot\"},{\"attributes\":{\"bottom_units\":\"screen\",\"fill_alpha\":{\"value\":0.5},\"fill_color\":{\"value\":\"lightgrey\"},\"left_units\":\"screen\",\"level\":\"overlay\",\"line_alpha\":{\"value\":1.0},\"line_color\":{\"value\":\"black\"},\"line_dash\":[4,4],\"line_width\":{\"value\":2},\"render_mode\":\"css\",\"right_units\":\"screen\",\"top_units\":\"screen\"},\"id\":\"7913\",\"type\":\"BoxAnnotation\"},{\"attributes\":{\"fill_color\":{\"value\":\"black\"},\"size\":{\"units\":\"screen\",\"value\":10},\"x\":{\"field\":\"x\"},\"y\":{\"field\":\"y\"}},\"id\":\"7630\",\"type\":\"Circle\"},{\"attributes\":{\"dimension\":1,\"ticker\":{\"id\":\"7607\",\"type\":\"BasicTicker\"}},\"id\":\"7610\",\"type\":\"Grid\"},{\"attributes\":{},\"id\":\"7611\",\"type\":\"PanTool\"},{\"attributes\":{\"fill_alpha\":{\"value\":0.1},\"fill_color\":{\"value\":\"#1f77b4\"},\"line_alpha\":{\"value\":0.1},\"line_color\":{\"value\":\"#1f77b4\"},\"size\":{\"units\":\"screen\",\"value\":10},\"x\":{\"field\":\"x\"},\"y\":{\"field\":\"y\"}},\"id\":\"7631\",\"type\":\"Circle\"},{\"attributes\":{\"active_drag\":\"auto\",\"active_inspect\":\"auto\",\"active_multi\":null,\"active_scroll\":\"auto\",\"active_tap\":\"auto\",\"tools\":[{\"id\":\"7611\",\"type\":\"PanTool\"},{\"id\":\"7612\",\"type\":\"WheelZoomTool\"},{\"id\":\"7613\",\"type\":\"BoxZoomTool\"},{\"id\":\"7614\",\"type\":\"SaveTool\"},{\"id\":\"7615\",\"type\":\"ResetTool\"},{\"id\":\"7616\",\"type\":\"HelpTool\"}]},\"id\":\"7617\",\"type\":\"Toolbar\"},{\"attributes\":{\"callback\":null,\"data\":{\"x\":{\"__ndarray__\":\"2orEBRktqz9oXP3FFvjuv5frh52EDNU//gZ8dYS79j8pl5Cbr7TVP++UYHJGxvM/35ZiH/DK6j9SNm3S4jnsv3tPyR7ns8E/a2vD5H/U6T8=\",\"dtype\":\"float64\",\"shape\":[10]},\"y\":{\"__ndarray__\":\"NBHoiIUb1r9BQN3WT3zmv6Pb7541cNW/8KtCnlIIs7+IMCl7+wPVv30ThvrmjaE/21eLjwUFzL+9a6/nP6Xkv8q2VwJm3eO/6YAyljIPyb8=\",\"dtype\":\"float64\",\"shape\":[10]}},\"selected\":{\"id\":\"7911\",\"type\":\"Selection\"},\"selection_policy\":{\"id\":\"7912\",\"type\":\"UnionRenderers\"}},\"id\":\"7629\",\"type\":\"ColumnDataSource\"},{\"attributes\":{},\"id\":\"7612\",\"type\":\"WheelZoomTool\"},{\"attributes\":{\"data_source\":{\"id\":\"7629\",\"type\":\"ColumnDataSource\"},\"glyph\":{\"id\":\"7630\",\"type\":\"Circle\"},\"hover_glyph\":null,\"muted_glyph\":null,\"nonselection_glyph\":{\"id\":\"7631\",\"type\":\"Circle\"},\"selection_glyph\":null,\"view\":{\"id\":\"7633\",\"type\":\"CDSView\"}},\"id\":\"7632\",\"type\":\"GlyphRenderer\"},{\"attributes\":{},\"id\":\"7607\",\"type\":\"BasicTicker\"},{\"attributes\":{},\"id\":\"7905\",\"type\":\"BasicTickFormatter\"},{\"attributes\":{},\"id\":\"7909\",\"type\":\"Selection\"},{\"attributes\":{\"formatter\":{\"id\":\"7905\",\"type\":\"BasicTickFormatter\"},\"ticker\":{\"id\":\"7607\",\"type\":\"BasicTicker\"}},\"id\":\"7606\",\"type\":\"LinearAxis\"},{\"attributes\":{\"fill_color\":{\"value\":\"#1f77b4\"},\"line_color\":{\"value\":\"#1f77b4\"},\"size\":{\"units\":\"screen\",\"value\":20},\"x\":{\"field\":\"x\"},\"y\":{\"field\":\"y\"}},\"id\":\"7625\",\"type\":\"Circle\"},{\"attributes\":{\"source\":{\"id\":\"7624\",\"type\":\"ColumnDataSource\"}},\"id\":\"7628\",\"type\":\"CDSView\"},{\"attributes\":{\"source\":{\"id\":\"7629\",\"type\":\"ColumnDataSource\"}},\"id\":\"7633\",\"type\":\"CDSView\"},{\"attributes\":{\"ticker\":{\"id\":\"7602\",\"type\":\"BasicTicker\"}},\"id\":\"7605\",\"type\":\"Grid\"},{\"attributes\":{},\"id\":\"7912\",\"type\":\"UnionRenderers\"},{\"attributes\":{\"fill_alpha\":{\"value\":0.1},\"fill_color\":{\"value\":\"#1f77b4\"},\"line_alpha\":{\"value\":0.1},\"line_color\":{\"value\":\"#1f77b4\"},\"size\":{\"units\":\"screen\",\"value\":20},\"x\":{\"field\":\"x\"},\"y\":{\"field\":\"y\"}},\"id\":\"7626\",\"type\":\"Circle\"},{\"attributes\":{},\"id\":\"7602\",\"type\":\"BasicTicker\"},{\"attributes\":{},\"id\":\"7910\",\"type\":\"UnionRenderers\"},{\"attributes\":{\"data_source\":{\"id\":\"7624\",\"type\":\"ColumnDataSource\"},\"glyph\":{\"id\":\"7625\",\"type\":\"Circle\"},\"hover_glyph\":null,\"muted_glyph\":null,\"nonselection_glyph\":{\"id\":\"7626\",\"type\":\"Circle\"},\"selection_glyph\":null,\"view\":{\"id\":\"7628\",\"type\":\"CDSView\"}},\"id\":\"7627\",\"type\":\"GlyphRenderer\"},{\"attributes\":{\"callback\":null},\"id\":\"7595\",\"type\":\"DataRange1d\"},{\"attributes\":{},\"id\":\"7615\",\"type\":\"ResetTool\"},{\"attributes\":{},\"id\":\"7599\",\"type\":\"LinearScale\"},{\"attributes\":{},\"id\":\"7911\",\"type\":\"Selection\"},{\"attributes\":{},\"id\":\"7597\",\"type\":\"LinearScale\"},{\"attributes\":{},\"id\":\"7907\",\"type\":\"BasicTickFormatter\"},{\"attributes\":{\"formatter\":{\"id\":\"7907\",\"type\":\"BasicTickFormatter\"},\"ticker\":{\"id\":\"7602\",\"type\":\"BasicTicker\"}},\"id\":\"7601\",\"type\":\"LinearAxis\"},{\"attributes\":{\"overlay\":{\"id\":\"7913\",\"type\":\"BoxAnnotation\"}},\"id\":\"7613\",\"type\":\"BoxZoomTool\"},{\"attributes\":{\"callback\":null,\"data\":{\"x\":{\"__ndarray__\":\"2orEBRktqz9oXP3FFvjuv5frh52EDNU//gZ8dYS79j8pl5Cbr7TVP++UYHJGxvM/35ZiH/DK6j9SNm3S4jnsv3tPyR7ns8E/a2vD5H/U6T8=\",\"dtype\":\"float64\",\"shape\":[10]},\"y\":{\"__ndarray__\":\"NBHoiIUb1r9AQN3WT3zmv6Pb7541cNW/MAH5nVIIs7+ZpSZ7+wPVvxJEyPrmjaE/utG2jwUFzL+9a6/nP6XkvysqEwJm3eO/7IAyljIPyb8=\",\"dtype\":\"float64\",\"shape\":[10]}},\"selected\":{\"id\":\"7909\",\"type\":\"Selection\"},\"selection_policy\":{\"id\":\"7910\",\"type\":\"UnionRenderers\"}},\"id\":\"7624\",\"type\":\"ColumnDataSource\"},{\"attributes\":{\"text\":\"2 log(depth) vs log(mass)\"},\"id\":\"7591\",\"type\":\"Title\"},{\"attributes\":{\"callback\":null},\"id\":\"7593\",\"type\":\"DataRange1d\"},{\"attributes\":{},\"id\":\"7614\",\"type\":\"SaveTool\"},{\"attributes\":{},\"id\":\"7616\",\"type\":\"HelpTool\"}],\"root_ids\":[\"7590\"]},\"title\":\"Bokeh Application\",\"version\":\"1.4.0\"}};\n",
       "  var render_items = [{\"docid\":\"d2fa1fdb-59a9-4c44-869a-204752523f71\",\"roots\":{\"7590\":\"462c635c-ed82-4e81-a35f-fc7e9635ee6a\"}}];\n",
       "  root.Bokeh.embed.embed_items_notebook(docs_json, render_items);\n",
       "\n",
       "  }\n",
       "  if (root.Bokeh !== undefined) {\n",
       "    embed_document(root);\n",
       "  } else {\n",
       "    var attempts = 0;\n",
       "    var timer = setInterval(function(root) {\n",
       "      if (root.Bokeh !== undefined) {\n",
       "        clearInterval(timer);\n",
       "        embed_document(root);\n",
       "      } else {\n",
       "        attempts++;\n",
       "        if (attempts > 100) {\n",
       "          clearInterval(timer);\n",
       "          console.log(\"Bokeh: ERROR: Unable to run BokehJS code because BokehJS library is missing\");\n",
       "        }\n",
       "      }\n",
       "    }, 10, root)\n",
       "  }\n",
       "})(window);"
      ],
      "application/vnd.bokehjs_exec.v0+json": ""
     },
     "metadata": {
      "application/vnd.bokehjs_exec.v0+json": {
       "id": "7590"
      }
     },
     "output_type": "display_data"
    },
    {
     "data": {
      "text/html": [
       "\n",
       "\n",
       "\n",
       "\n",
       "\n",
       "\n",
       "  <div class=\"bk-root\" id=\"78942f9c-676c-41c2-b0a2-2d8dc0ccd77d\" data-root-id=\"7974\"></div>\n"
      ]
     },
     "metadata": {},
     "output_type": "display_data"
    },
    {
     "data": {
      "application/javascript": [
       "(function(root) {\n",
       "  function embed_document(root) {\n",
       "    \n",
       "  var docs_json = {\"d1e7ffff-d903-4d23-af01-86a0ab418600\":{\"roots\":{\"references\":[{\"attributes\":{\"below\":[{\"id\":\"7985\",\"type\":\"LinearAxis\"}],\"center\":[{\"id\":\"7989\",\"type\":\"Grid\"},{\"id\":\"7994\",\"type\":\"Grid\"}],\"left\":[{\"id\":\"7990\",\"type\":\"LinearAxis\"}],\"plot_height\":350,\"renderers\":[{\"id\":\"8011\",\"type\":\"GlyphRenderer\"},{\"id\":\"8016\",\"type\":\"GlyphRenderer\"}],\"title\":{\"id\":\"7975\",\"type\":\"Title\"},\"toolbar\":{\"id\":\"8001\",\"type\":\"Toolbar\"},\"x_range\":{\"id\":\"7977\",\"type\":\"DataRange1d\"},\"x_scale\":{\"id\":\"7981\",\"type\":\"LinearScale\"},\"y_range\":{\"id\":\"7979\",\"type\":\"DataRange1d\"},\"y_scale\":{\"id\":\"7983\",\"type\":\"LinearScale\"}},\"id\":\"7974\",\"subtype\":\"Figure\",\"type\":\"Plot\"},{\"attributes\":{},\"id\":\"8306\",\"type\":\"UnionRenderers\"},{\"attributes\":{},\"id\":\"7999\",\"type\":\"ResetTool\"},{\"attributes\":{\"formatter\":{\"id\":\"8301\",\"type\":\"BasicTickFormatter\"},\"ticker\":{\"id\":\"7986\",\"type\":\"BasicTicker\"}},\"id\":\"7985\",\"type\":\"LinearAxis\"},{\"attributes\":{},\"id\":\"8000\",\"type\":\"HelpTool\"},{\"attributes\":{\"bottom_units\":\"screen\",\"fill_alpha\":{\"value\":0.5},\"fill_color\":{\"value\":\"lightgrey\"},\"left_units\":\"screen\",\"level\":\"overlay\",\"line_alpha\":{\"value\":1.0},\"line_color\":{\"value\":\"black\"},\"line_dash\":[4,4],\"line_width\":{\"value\":2},\"render_mode\":\"css\",\"right_units\":\"screen\",\"top_units\":\"screen\"},\"id\":\"8307\",\"type\":\"BoxAnnotation\"},{\"attributes\":{\"fill_alpha\":{\"value\":0.1},\"fill_color\":{\"value\":\"#1f77b4\"},\"line_alpha\":{\"value\":0.1},\"line_color\":{\"value\":\"#1f77b4\"},\"size\":{\"units\":\"screen\",\"value\":10},\"x\":{\"field\":\"x\"},\"y\":{\"field\":\"y\"}},\"id\":\"8015\",\"type\":\"Circle\"},{\"attributes\":{\"callback\":null,\"data\":{\"x\":{\"__ndarray__\":\"2orEBRktqz9oXP3FFvjuv5frh52EDNU//gZ8dYS79j8pl5Cbr7TVP++UYHJGxvM/35ZiH/DK6j9SNm3S4jnsv3tPyR7ns8E/a2vD5H/U6T8=\",\"dtype\":\"float64\",\"shape\":[10]},\"y\":{\"__ndarray__\":\"IpBtmivL679scBs3NTv5v8cwGuDsIfG/Hpbwew6iv7+HD619vFnwv42yro3/k7g/MZ2c5IG+179qIMLobzEBwIMDglzDBfC/0+dSLkn27b8=\",\"dtype\":\"float64\",\"shape\":[10]}},\"selected\":{\"id\":\"8303\",\"type\":\"Selection\"},\"selection_policy\":{\"id\":\"8304\",\"type\":\"UnionRenderers\"}},\"id\":\"8008\",\"type\":\"ColumnDataSource\"},{\"attributes\":{},\"id\":\"8305\",\"type\":\"Selection\"},{\"attributes\":{},\"id\":\"8299\",\"type\":\"BasicTickFormatter\"},{\"attributes\":{},\"id\":\"7998\",\"type\":\"SaveTool\"},{\"attributes\":{\"dimension\":1,\"ticker\":{\"id\":\"7991\",\"type\":\"BasicTicker\"}},\"id\":\"7994\",\"type\":\"Grid\"},{\"attributes\":{\"fill_color\":{\"value\":\"black\"},\"size\":{\"units\":\"screen\",\"value\":10},\"x\":{\"field\":\"x\"},\"y\":{\"field\":\"y\"}},\"id\":\"8014\",\"type\":\"Circle\"},{\"attributes\":{\"overlay\":{\"id\":\"8307\",\"type\":\"BoxAnnotation\"}},\"id\":\"7997\",\"type\":\"BoxZoomTool\"},{\"attributes\":{\"callback\":null},\"id\":\"7979\",\"type\":\"DataRange1d\"},{\"attributes\":{\"active_drag\":\"auto\",\"active_inspect\":\"auto\",\"active_multi\":null,\"active_scroll\":\"auto\",\"active_tap\":\"auto\",\"tools\":[{\"id\":\"7995\",\"type\":\"PanTool\"},{\"id\":\"7996\",\"type\":\"WheelZoomTool\"},{\"id\":\"7997\",\"type\":\"BoxZoomTool\"},{\"id\":\"7998\",\"type\":\"SaveTool\"},{\"id\":\"7999\",\"type\":\"ResetTool\"},{\"id\":\"8000\",\"type\":\"HelpTool\"}]},\"id\":\"8001\",\"type\":\"Toolbar\"},{\"attributes\":{\"source\":{\"id\":\"8013\",\"type\":\"ColumnDataSource\"}},\"id\":\"8017\",\"type\":\"CDSView\"},{\"attributes\":{\"fill_color\":{\"value\":\"#1f77b4\"},\"line_color\":{\"value\":\"#1f77b4\"},\"size\":{\"units\":\"screen\",\"value\":20},\"x\":{\"field\":\"x\"},\"y\":{\"field\":\"y\"}},\"id\":\"8009\",\"type\":\"Circle\"},{\"attributes\":{\"data_source\":{\"id\":\"8013\",\"type\":\"ColumnDataSource\"},\"glyph\":{\"id\":\"8014\",\"type\":\"Circle\"},\"hover_glyph\":null,\"muted_glyph\":null,\"nonselection_glyph\":{\"id\":\"8015\",\"type\":\"Circle\"},\"selection_glyph\":null,\"view\":{\"id\":\"8017\",\"type\":\"CDSView\"}},\"id\":\"8016\",\"type\":\"GlyphRenderer\"},{\"attributes\":{},\"id\":\"7991\",\"type\":\"BasicTicker\"},{\"attributes\":{},\"id\":\"8303\",\"type\":\"Selection\"},{\"attributes\":{\"formatter\":{\"id\":\"8299\",\"type\":\"BasicTickFormatter\"},\"ticker\":{\"id\":\"7991\",\"type\":\"BasicTicker\"}},\"id\":\"7990\",\"type\":\"LinearAxis\"},{\"attributes\":{\"callback\":null,\"data\":{\"x\":{\"__ndarray__\":\"2orEBRktqz9oXP3FFvjuv5frh52EDNU//gZ8dYS79j8pl5Cbr7TVP++UYHJGxvM/35ZiH/DK6j9SNm3S4jnsv3tPyR7ns8E/a2vD5H/U6T8=\",\"dtype\":\"float64\",\"shape\":[10]},\"y\":{\"__ndarray__\":\"3YARmivL679xzN42NTv5v19H2t/sIfG/8e0/fA6iv78uc2t9vFnwv836j43/k7g/Fdgm5IG+178YrmLqbzEBwFrOM1zDBfC/M8aoLUn27b8=\",\"dtype\":\"float64\",\"shape\":[10]}},\"selected\":{\"id\":\"8305\",\"type\":\"Selection\"},\"selection_policy\":{\"id\":\"8306\",\"type\":\"UnionRenderers\"}},\"id\":\"8013\",\"type\":\"ColumnDataSource\"},{\"attributes\":{\"ticker\":{\"id\":\"7986\",\"type\":\"BasicTicker\"}},\"id\":\"7989\",\"type\":\"Grid\"},{\"attributes\":{},\"id\":\"7996\",\"type\":\"WheelZoomTool\"},{\"attributes\":{},\"id\":\"8304\",\"type\":\"UnionRenderers\"},{\"attributes\":{},\"id\":\"7986\",\"type\":\"BasicTicker\"},{\"attributes\":{\"fill_alpha\":{\"value\":0.1},\"fill_color\":{\"value\":\"#1f77b4\"},\"line_alpha\":{\"value\":0.1},\"line_color\":{\"value\":\"#1f77b4\"},\"size\":{\"units\":\"screen\",\"value\":20},\"x\":{\"field\":\"x\"},\"y\":{\"field\":\"y\"}},\"id\":\"8010\",\"type\":\"Circle\"},{\"attributes\":{\"source\":{\"id\":\"8008\",\"type\":\"ColumnDataSource\"}},\"id\":\"8012\",\"type\":\"CDSView\"},{\"attributes\":{\"callback\":null},\"id\":\"7977\",\"type\":\"DataRange1d\"},{\"attributes\":{\"data_source\":{\"id\":\"8008\",\"type\":\"ColumnDataSource\"},\"glyph\":{\"id\":\"8009\",\"type\":\"Circle\"},\"hover_glyph\":null,\"muted_glyph\":null,\"nonselection_glyph\":{\"id\":\"8010\",\"type\":\"Circle\"},\"selection_glyph\":null,\"view\":{\"id\":\"8012\",\"type\":\"CDSView\"}},\"id\":\"8011\",\"type\":\"GlyphRenderer\"},{\"attributes\":{},\"id\":\"7983\",\"type\":\"LinearScale\"},{\"attributes\":{},\"id\":\"7981\",\"type\":\"LinearScale\"},{\"attributes\":{},\"id\":\"8301\",\"type\":\"BasicTickFormatter\"},{\"attributes\":{\"text\":\"1 log(area) vs log(mass)\"},\"id\":\"7975\",\"type\":\"Title\"},{\"attributes\":{},\"id\":\"7995\",\"type\":\"PanTool\"}],\"root_ids\":[\"7974\"]},\"title\":\"Bokeh Application\",\"version\":\"1.4.0\"}};\n",
       "  var render_items = [{\"docid\":\"d1e7ffff-d903-4d23-af01-86a0ab418600\",\"roots\":{\"7974\":\"78942f9c-676c-41c2-b0a2-2d8dc0ccd77d\"}}];\n",
       "  root.Bokeh.embed.embed_items_notebook(docs_json, render_items);\n",
       "\n",
       "  }\n",
       "  if (root.Bokeh !== undefined) {\n",
       "    embed_document(root);\n",
       "  } else {\n",
       "    var attempts = 0;\n",
       "    var timer = setInterval(function(root) {\n",
       "      if (root.Bokeh !== undefined) {\n",
       "        clearInterval(timer);\n",
       "        embed_document(root);\n",
       "      } else {\n",
       "        attempts++;\n",
       "        if (attempts > 100) {\n",
       "          clearInterval(timer);\n",
       "          console.log(\"Bokeh: ERROR: Unable to run BokehJS code because BokehJS library is missing\");\n",
       "        }\n",
       "      }\n",
       "    }, 10, root)\n",
       "  }\n",
       "})(window);"
      ],
      "application/vnd.bokehjs_exec.v0+json": ""
     },
     "metadata": {
      "application/vnd.bokehjs_exec.v0+json": {
       "id": "7974"
      }
     },
     "output_type": "display_data"
    },
    {
     "data": {
      "text/html": [
       "\n",
       "\n",
       "\n",
       "\n",
       "\n",
       "\n",
       "  <div class=\"bk-root\" id=\"a5a596fd-72cf-44bf-a3bd-62d6d8bf62d5\" data-root-id=\"8368\"></div>\n"
      ]
     },
     "metadata": {},
     "output_type": "display_data"
    },
    {
     "data": {
      "application/javascript": [
       "(function(root) {\n",
       "  function embed_document(root) {\n",
       "    \n",
       "  var docs_json = {\"bf36fe6a-a799-4db5-8e3a-dbfa9549c5c0\":{\"roots\":{\"references\":[{\"attributes\":{\"below\":[{\"id\":\"8379\",\"type\":\"LinearAxis\"}],\"center\":[{\"id\":\"8383\",\"type\":\"Grid\"},{\"id\":\"8388\",\"type\":\"Grid\"}],\"left\":[{\"id\":\"8384\",\"type\":\"LinearAxis\"}],\"plot_height\":350,\"renderers\":[{\"id\":\"8405\",\"type\":\"GlyphRenderer\"},{\"id\":\"8410\",\"type\":\"GlyphRenderer\"}],\"title\":{\"id\":\"8369\",\"type\":\"Title\"},\"toolbar\":{\"id\":\"8395\",\"type\":\"Toolbar\"},\"x_range\":{\"id\":\"8371\",\"type\":\"DataRange1d\"},\"x_scale\":{\"id\":\"8375\",\"type\":\"LinearScale\"},\"y_range\":{\"id\":\"8373\",\"type\":\"DataRange1d\"},\"y_scale\":{\"id\":\"8377\",\"type\":\"LinearScale\"}},\"id\":\"8368\",\"subtype\":\"Figure\",\"type\":\"Plot\"},{\"attributes\":{\"overlay\":{\"id\":\"8711\",\"type\":\"BoxAnnotation\"}},\"id\":\"8391\",\"type\":\"BoxZoomTool\"},{\"attributes\":{},\"id\":\"8393\",\"type\":\"ResetTool\"},{\"attributes\":{},\"id\":\"8710\",\"type\":\"UnionRenderers\"},{\"attributes\":{\"callback\":null},\"id\":\"8373\",\"type\":\"DataRange1d\"},{\"attributes\":{},\"id\":\"8390\",\"type\":\"WheelZoomTool\"},{\"attributes\":{},\"id\":\"8392\",\"type\":\"SaveTool\"},{\"attributes\":{\"bottom_units\":\"screen\",\"fill_alpha\":{\"value\":0.5},\"fill_color\":{\"value\":\"lightgrey\"},\"left_units\":\"screen\",\"level\":\"overlay\",\"line_alpha\":{\"value\":1.0},\"line_color\":{\"value\":\"black\"},\"line_dash\":[4,4],\"line_width\":{\"value\":2},\"render_mode\":\"css\",\"right_units\":\"screen\",\"top_units\":\"screen\"},\"id\":\"8711\",\"type\":\"BoxAnnotation\"},{\"attributes\":{\"active_drag\":\"auto\",\"active_inspect\":\"auto\",\"active_multi\":null,\"active_scroll\":\"auto\",\"active_tap\":\"auto\",\"tools\":[{\"id\":\"8389\",\"type\":\"PanTool\"},{\"id\":\"8390\",\"type\":\"WheelZoomTool\"},{\"id\":\"8391\",\"type\":\"BoxZoomTool\"},{\"id\":\"8392\",\"type\":\"SaveTool\"},{\"id\":\"8393\",\"type\":\"ResetTool\"},{\"id\":\"8394\",\"type\":\"HelpTool\"}]},\"id\":\"8395\",\"type\":\"Toolbar\"},{\"attributes\":{},\"id\":\"8394\",\"type\":\"HelpTool\"},{\"attributes\":{\"dimension\":1,\"ticker\":{\"id\":\"8385\",\"type\":\"BasicTicker\"}},\"id\":\"8388\",\"type\":\"Grid\"},{\"attributes\":{},\"id\":\"8389\",\"type\":\"PanTool\"},{\"attributes\":{\"text\":\"1 log(depth) vs log(mass)\"},\"id\":\"8369\",\"type\":\"Title\"},{\"attributes\":{\"callback\":null,\"data\":{\"x\":{\"__ndarray__\":\"2orEBRktqz9oXP3FFvjuv5frh52EDNU//gZ8dYS79j8pl5Cbr7TVP++UYHJGxvM/35ZiH/DK6j9SNm3S4jnsv3tPyR7ns8E/a2vD5H/U6T8=\",\"dtype\":\"float64\",\"shape\":[10]},\"y\":{\"__ndarray__\":\"390bgIVU2L/a7pfAZCDmvzMIAyWutNK/K+UUobY2o7+MF0E/7/DRv/gyhVVGnbs/kCWtEOg7er/BHqg7H77kv76PP/N+B+a/60MKOBCa0L8=\",\"dtype\":\"float64\",\"shape\":[10]}},\"selected\":{\"id\":\"8707\",\"type\":\"Selection\"},\"selection_policy\":{\"id\":\"8708\",\"type\":\"UnionRenderers\"}},\"id\":\"8402\",\"type\":\"ColumnDataSource\"},{\"attributes\":{\"source\":{\"id\":\"8402\",\"type\":\"ColumnDataSource\"}},\"id\":\"8406\",\"type\":\"CDSView\"},{\"attributes\":{},\"id\":\"8708\",\"type\":\"UnionRenderers\"},{\"attributes\":{\"callback\":null},\"id\":\"8371\",\"type\":\"DataRange1d\"},{\"attributes\":{\"fill_color\":{\"value\":\"black\"},\"size\":{\"units\":\"screen\",\"value\":10},\"x\":{\"field\":\"x\"},\"y\":{\"field\":\"y\"}},\"id\":\"8408\",\"type\":\"Circle\"},{\"attributes\":{\"data_source\":{\"id\":\"8407\",\"type\":\"ColumnDataSource\"},\"glyph\":{\"id\":\"8408\",\"type\":\"Circle\"},\"hover_glyph\":null,\"muted_glyph\":null,\"nonselection_glyph\":{\"id\":\"8409\",\"type\":\"Circle\"},\"selection_glyph\":null,\"view\":{\"id\":\"8411\",\"type\":\"CDSView\"}},\"id\":\"8410\",\"type\":\"GlyphRenderer\"},{\"attributes\":{\"ticker\":{\"id\":\"8380\",\"type\":\"BasicTicker\"}},\"id\":\"8383\",\"type\":\"Grid\"},{\"attributes\":{},\"id\":\"8707\",\"type\":\"Selection\"},{\"attributes\":{\"data_source\":{\"id\":\"8402\",\"type\":\"ColumnDataSource\"},\"glyph\":{\"id\":\"8403\",\"type\":\"Circle\"},\"hover_glyph\":null,\"muted_glyph\":null,\"nonselection_glyph\":{\"id\":\"8404\",\"type\":\"Circle\"},\"selection_glyph\":null,\"view\":{\"id\":\"8406\",\"type\":\"CDSView\"}},\"id\":\"8405\",\"type\":\"GlyphRenderer\"},{\"attributes\":{},\"id\":\"8385\",\"type\":\"BasicTicker\"},{\"attributes\":{\"formatter\":{\"id\":\"8703\",\"type\":\"BasicTickFormatter\"},\"ticker\":{\"id\":\"8385\",\"type\":\"BasicTicker\"}},\"id\":\"8384\",\"type\":\"LinearAxis\"},{\"attributes\":{\"fill_color\":{\"value\":\"#1f77b4\"},\"line_color\":{\"value\":\"#1f77b4\"},\"size\":{\"units\":\"screen\",\"value\":20},\"x\":{\"field\":\"x\"},\"y\":{\"field\":\"y\"}},\"id\":\"8403\",\"type\":\"Circle\"},{\"attributes\":{\"fill_alpha\":{\"value\":0.1},\"fill_color\":{\"value\":\"#1f77b4\"},\"line_alpha\":{\"value\":0.1},\"line_color\":{\"value\":\"#1f77b4\"},\"size\":{\"units\":\"screen\",\"value\":10},\"x\":{\"field\":\"x\"},\"y\":{\"field\":\"y\"}},\"id\":\"8409\",\"type\":\"Circle\"},{\"attributes\":{\"source\":{\"id\":\"8407\",\"type\":\"ColumnDataSource\"}},\"id\":\"8411\",\"type\":\"CDSView\"},{\"attributes\":{},\"id\":\"8703\",\"type\":\"BasicTickFormatter\"},{\"attributes\":{\"formatter\":{\"id\":\"8705\",\"type\":\"BasicTickFormatter\"},\"ticker\":{\"id\":\"8380\",\"type\":\"BasicTicker\"}},\"id\":\"8379\",\"type\":\"LinearAxis\"},{\"attributes\":{},\"id\":\"8380\",\"type\":\"BasicTicker\"},{\"attributes\":{\"callback\":null,\"data\":{\"x\":{\"__ndarray__\":\"2orEBRktqz9oXP3FFvjuv5frh52EDNU//gZ8dYS79j8pl5Cbr7TVP++UYHJGxvM/35ZiH/DK6j9SNm3S4jnsv3tPyR7ns8E/a2vD5H/U6T8=\",\"dtype\":\"float64\",\"shape\":[10]},\"y\":{\"__ndarray__\":\"390bgIVU2L/b7pfAZCDmvzMIAyWutNK/oaj1oLY2o78h16E/7/DRv2nbOVZGnbs/Qk9OHug7er/BHqg7H77kvyn6IPN+B+a/60MKOBCa0L8=\",\"dtype\":\"float64\",\"shape\":[10]}},\"selected\":{\"id\":\"8709\",\"type\":\"Selection\"},\"selection_policy\":{\"id\":\"8710\",\"type\":\"UnionRenderers\"}},\"id\":\"8407\",\"type\":\"ColumnDataSource\"},{\"attributes\":{},\"id\":\"8377\",\"type\":\"LinearScale\"},{\"attributes\":{},\"id\":\"8375\",\"type\":\"LinearScale\"},{\"attributes\":{\"fill_alpha\":{\"value\":0.1},\"fill_color\":{\"value\":\"#1f77b4\"},\"line_alpha\":{\"value\":0.1},\"line_color\":{\"value\":\"#1f77b4\"},\"size\":{\"units\":\"screen\",\"value\":20},\"x\":{\"field\":\"x\"},\"y\":{\"field\":\"y\"}},\"id\":\"8404\",\"type\":\"Circle\"},{\"attributes\":{},\"id\":\"8705\",\"type\":\"BasicTickFormatter\"},{\"attributes\":{},\"id\":\"8709\",\"type\":\"Selection\"}],\"root_ids\":[\"8368\"]},\"title\":\"Bokeh Application\",\"version\":\"1.4.0\"}};\n",
       "  var render_items = [{\"docid\":\"bf36fe6a-a799-4db5-8e3a-dbfa9549c5c0\",\"roots\":{\"8368\":\"a5a596fd-72cf-44bf-a3bd-62d6d8bf62d5\"}}];\n",
       "  root.Bokeh.embed.embed_items_notebook(docs_json, render_items);\n",
       "\n",
       "  }\n",
       "  if (root.Bokeh !== undefined) {\n",
       "    embed_document(root);\n",
       "  } else {\n",
       "    var attempts = 0;\n",
       "    var timer = setInterval(function(root) {\n",
       "      if (root.Bokeh !== undefined) {\n",
       "        clearInterval(timer);\n",
       "        embed_document(root);\n",
       "      } else {\n",
       "        attempts++;\n",
       "        if (attempts > 100) {\n",
       "          clearInterval(timer);\n",
       "          console.log(\"Bokeh: ERROR: Unable to run BokehJS code because BokehJS library is missing\");\n",
       "        }\n",
       "      }\n",
       "    }, 10, root)\n",
       "  }\n",
       "})(window);"
      ],
      "application/vnd.bokehjs_exec.v0+json": ""
     },
     "metadata": {
      "application/vnd.bokehjs_exec.v0+json": {
       "id": "8368"
      }
     },
     "output_type": "display_data"
    },
    {
     "data": {
      "text/html": [
       "\n",
       "\n",
       "\n",
       "\n",
       "\n",
       "\n",
       "  <div class=\"bk-root\" id=\"f91684bf-43f8-4428-9aee-3b8254a77c50\" data-root-id=\"8772\"></div>\n"
      ]
     },
     "metadata": {},
     "output_type": "display_data"
    },
    {
     "data": {
      "application/javascript": [
       "(function(root) {\n",
       "  function embed_document(root) {\n",
       "    \n",
       "  var docs_json = {\"78ab3830-c74f-4daf-a93b-603ac2556a39\":{\"roots\":{\"references\":[{\"attributes\":{\"below\":[{\"id\":\"8783\",\"type\":\"LinearAxis\"}],\"center\":[{\"id\":\"8787\",\"type\":\"Grid\"},{\"id\":\"8792\",\"type\":\"Grid\"}],\"left\":[{\"id\":\"8788\",\"type\":\"LinearAxis\"}],\"plot_height\":350,\"renderers\":[{\"id\":\"8809\",\"type\":\"GlyphRenderer\"},{\"id\":\"8814\",\"type\":\"GlyphRenderer\"}],\"title\":{\"id\":\"8773\",\"type\":\"Title\"},\"toolbar\":{\"id\":\"8799\",\"type\":\"Toolbar\"},\"x_range\":{\"id\":\"8775\",\"type\":\"DataRange1d\"},\"x_scale\":{\"id\":\"8779\",\"type\":\"LinearScale\"},\"y_range\":{\"id\":\"8777\",\"type\":\"DataRange1d\"},\"y_scale\":{\"id\":\"8781\",\"type\":\"LinearScale\"}},\"id\":\"8772\",\"subtype\":\"Figure\",\"type\":\"Plot\"},{\"attributes\":{},\"id\":\"8789\",\"type\":\"BasicTicker\"},{\"attributes\":{\"callback\":null},\"id\":\"8777\",\"type\":\"DataRange1d\"},{\"attributes\":{},\"id\":\"9119\",\"type\":\"BasicTickFormatter\"},{\"attributes\":{\"callback\":null},\"id\":\"8775\",\"type\":\"DataRange1d\"},{\"attributes\":{\"dimension\":1,\"ticker\":{\"id\":\"8789\",\"type\":\"BasicTicker\"}},\"id\":\"8792\",\"type\":\"Grid\"},{\"attributes\":{\"text\":\"T log(area) vs log(mass)\"},\"id\":\"8773\",\"type\":\"Title\"},{\"attributes\":{\"callback\":null,\"data\":{\"x\":{\"__ndarray__\":\"2orEBRktqz9oXP3FFvjuv5frh52EDNU//gZ8dYS79j8pl5Cbr7TVP9yhDdJbJPQ/35ZiH/DK6j9SNm3S4jnsv3tPyR7ns8E/a2vD5H/U6T8=\",\"dtype\":\"float64\",\"shape\":[10]},\"y\":{\"__ndarray__\":\"F/6Orj5w8L9hcG6/TeT5vx8XLHOWSfG/ZIl+e72fwL9MBanazMXxv4VojPyWYrc/mrg6JLB65b8oLqMfp0IAwBQE1ZhPAfO/7j4WJ6605r8=\",\"dtype\":\"float64\",\"shape\":[10]}},\"selected\":{\"id\":\"9121\",\"type\":\"Selection\"},\"selection_policy\":{\"id\":\"9122\",\"type\":\"UnionRenderers\"}},\"id\":\"8806\",\"type\":\"ColumnDataSource\"},{\"attributes\":{\"data_source\":{\"id\":\"8806\",\"type\":\"ColumnDataSource\"},\"glyph\":{\"id\":\"8807\",\"type\":\"Circle\"},\"hover_glyph\":null,\"muted_glyph\":null,\"nonselection_glyph\":{\"id\":\"8808\",\"type\":\"Circle\"},\"selection_glyph\":null,\"view\":{\"id\":\"8810\",\"type\":\"CDSView\"}},\"id\":\"8809\",\"type\":\"GlyphRenderer\"},{\"attributes\":{},\"id\":\"9123\",\"type\":\"Selection\"},{\"attributes\":{\"fill_alpha\":{\"value\":0.1},\"fill_color\":{\"value\":\"#1f77b4\"},\"line_alpha\":{\"value\":0.1},\"line_color\":{\"value\":\"#1f77b4\"},\"size\":{\"units\":\"screen\",\"value\":20},\"x\":{\"field\":\"x\"},\"y\":{\"field\":\"y\"}},\"id\":\"8808\",\"type\":\"Circle\"},{\"attributes\":{},\"id\":\"8798\",\"type\":\"HelpTool\"},{\"attributes\":{},\"id\":\"9124\",\"type\":\"UnionRenderers\"},{\"attributes\":{\"formatter\":{\"id\":\"9119\",\"type\":\"BasicTickFormatter\"},\"ticker\":{\"id\":\"8784\",\"type\":\"BasicTicker\"}},\"id\":\"8783\",\"type\":\"LinearAxis\"},{\"attributes\":{\"source\":{\"id\":\"8811\",\"type\":\"ColumnDataSource\"}},\"id\":\"8815\",\"type\":\"CDSView\"},{\"attributes\":{},\"id\":\"8794\",\"type\":\"WheelZoomTool\"},{\"attributes\":{},\"id\":\"9117\",\"type\":\"BasicTickFormatter\"},{\"attributes\":{\"bottom_units\":\"screen\",\"fill_alpha\":{\"value\":0.5},\"fill_color\":{\"value\":\"lightgrey\"},\"left_units\":\"screen\",\"level\":\"overlay\",\"line_alpha\":{\"value\":1.0},\"line_color\":{\"value\":\"black\"},\"line_dash\":[4,4],\"line_width\":{\"value\":2},\"render_mode\":\"css\",\"right_units\":\"screen\",\"top_units\":\"screen\"},\"id\":\"9125\",\"type\":\"BoxAnnotation\"},{\"attributes\":{},\"id\":\"8793\",\"type\":\"PanTool\"},{\"attributes\":{\"source\":{\"id\":\"8806\",\"type\":\"ColumnDataSource\"}},\"id\":\"8810\",\"type\":\"CDSView\"},{\"attributes\":{\"overlay\":{\"id\":\"9125\",\"type\":\"BoxAnnotation\"}},\"id\":\"8795\",\"type\":\"BoxZoomTool\"},{\"attributes\":{\"data_source\":{\"id\":\"8811\",\"type\":\"ColumnDataSource\"},\"glyph\":{\"id\":\"8812\",\"type\":\"Circle\"},\"hover_glyph\":null,\"muted_glyph\":null,\"nonselection_glyph\":{\"id\":\"8813\",\"type\":\"Circle\"},\"selection_glyph\":null,\"view\":{\"id\":\"8815\",\"type\":\"CDSView\"}},\"id\":\"8814\",\"type\":\"GlyphRenderer\"},{\"attributes\":{},\"id\":\"8796\",\"type\":\"SaveTool\"},{\"attributes\":{},\"id\":\"8781\",\"type\":\"LinearScale\"},{\"attributes\":{\"fill_alpha\":{\"value\":0.1},\"fill_color\":{\"value\":\"#1f77b4\"},\"line_alpha\":{\"value\":0.1},\"line_color\":{\"value\":\"#1f77b4\"},\"size\":{\"units\":\"screen\",\"value\":10},\"x\":{\"field\":\"x\"},\"y\":{\"field\":\"y\"}},\"id\":\"8813\",\"type\":\"Circle\"},{\"attributes\":{\"active_drag\":\"auto\",\"active_inspect\":\"auto\",\"active_multi\":null,\"active_scroll\":\"auto\",\"active_tap\":\"auto\",\"tools\":[{\"id\":\"8793\",\"type\":\"PanTool\"},{\"id\":\"8794\",\"type\":\"WheelZoomTool\"},{\"id\":\"8795\",\"type\":\"BoxZoomTool\"},{\"id\":\"8796\",\"type\":\"SaveTool\"},{\"id\":\"8797\",\"type\":\"ResetTool\"},{\"id\":\"8798\",\"type\":\"HelpTool\"}]},\"id\":\"8799\",\"type\":\"Toolbar\"},{\"attributes\":{\"fill_color\":{\"value\":\"black\"},\"size\":{\"units\":\"screen\",\"value\":10},\"x\":{\"field\":\"x\"},\"y\":{\"field\":\"y\"}},\"id\":\"8812\",\"type\":\"Circle\"},{\"attributes\":{\"callback\":null,\"data\":{\"x\":{\"__ndarray__\":\"2orEBRktqz9oXP3FFvjuv5frh52EDNU//gZ8dYS79j8pl5Cbr7TVP9yhDdJbJPQ/35ZiH/DK6j9SNm3S4jnsv3tPyR7ns8E/a2vD5H/U6T8=\",\"dtype\":\"float64\",\"shape\":[10]},\"y\":{\"__ndarray__\":\"zRAqrz5w8L/jjljATeT5v70GH3OWSfG/KLiMe72fwL/8DJ7azMXxv4fXNv2WYrc/4rLLI7B65b9xAuwfp0IAwGIr9JhPAfO/HFhgJ6605r8=\",\"dtype\":\"float64\",\"shape\":[10]}},\"selected\":{\"id\":\"9123\",\"type\":\"Selection\"},\"selection_policy\":{\"id\":\"9124\",\"type\":\"UnionRenderers\"}},\"id\":\"8811\",\"type\":\"ColumnDataSource\"},{\"attributes\":{},\"id\":\"8784\",\"type\":\"BasicTicker\"},{\"attributes\":{},\"id\":\"8797\",\"type\":\"ResetTool\"},{\"attributes\":{},\"id\":\"8779\",\"type\":\"LinearScale\"},{\"attributes\":{\"fill_color\":{\"value\":\"#1f77b4\"},\"line_color\":{\"value\":\"#1f77b4\"},\"size\":{\"units\":\"screen\",\"value\":20},\"x\":{\"field\":\"x\"},\"y\":{\"field\":\"y\"}},\"id\":\"8807\",\"type\":\"Circle\"},{\"attributes\":{\"ticker\":{\"id\":\"8784\",\"type\":\"BasicTicker\"}},\"id\":\"8787\",\"type\":\"Grid\"},{\"attributes\":{},\"id\":\"9121\",\"type\":\"Selection\"},{\"attributes\":{},\"id\":\"9122\",\"type\":\"UnionRenderers\"},{\"attributes\":{\"formatter\":{\"id\":\"9117\",\"type\":\"BasicTickFormatter\"},\"ticker\":{\"id\":\"8789\",\"type\":\"BasicTicker\"}},\"id\":\"8788\",\"type\":\"LinearAxis\"}],\"root_ids\":[\"8772\"]},\"title\":\"Bokeh Application\",\"version\":\"1.4.0\"}};\n",
       "  var render_items = [{\"docid\":\"78ab3830-c74f-4daf-a93b-603ac2556a39\",\"roots\":{\"8772\":\"f91684bf-43f8-4428-9aee-3b8254a77c50\"}}];\n",
       "  root.Bokeh.embed.embed_items_notebook(docs_json, render_items);\n",
       "\n",
       "  }\n",
       "  if (root.Bokeh !== undefined) {\n",
       "    embed_document(root);\n",
       "  } else {\n",
       "    var attempts = 0;\n",
       "    var timer = setInterval(function(root) {\n",
       "      if (root.Bokeh !== undefined) {\n",
       "        clearInterval(timer);\n",
       "        embed_document(root);\n",
       "      } else {\n",
       "        attempts++;\n",
       "        if (attempts > 100) {\n",
       "          clearInterval(timer);\n",
       "          console.log(\"Bokeh: ERROR: Unable to run BokehJS code because BokehJS library is missing\");\n",
       "        }\n",
       "      }\n",
       "    }, 10, root)\n",
       "  }\n",
       "})(window);"
      ],
      "application/vnd.bokehjs_exec.v0+json": ""
     },
     "metadata": {
      "application/vnd.bokehjs_exec.v0+json": {
       "id": "8772"
      }
     },
     "output_type": "display_data"
    },
    {
     "data": {
      "text/html": [
       "\n",
       "\n",
       "\n",
       "\n",
       "\n",
       "\n",
       "  <div class=\"bk-root\" id=\"cd57dc8b-98f1-43bf-bd68-9c4a1badb0e8\" data-root-id=\"9186\"></div>\n"
      ]
     },
     "metadata": {},
     "output_type": "display_data"
    },
    {
     "data": {
      "application/javascript": [
       "(function(root) {\n",
       "  function embed_document(root) {\n",
       "    \n",
       "  var docs_json = {\"21587c2d-3201-4eff-894e-595b8e7f7ac5\":{\"roots\":{\"references\":[{\"attributes\":{\"below\":[{\"id\":\"9197\",\"type\":\"LinearAxis\"}],\"center\":[{\"id\":\"9201\",\"type\":\"Grid\"},{\"id\":\"9206\",\"type\":\"Grid\"}],\"left\":[{\"id\":\"9202\",\"type\":\"LinearAxis\"}],\"plot_height\":350,\"renderers\":[{\"id\":\"9223\",\"type\":\"GlyphRenderer\"},{\"id\":\"9228\",\"type\":\"GlyphRenderer\"}],\"title\":{\"id\":\"9187\",\"type\":\"Title\"},\"toolbar\":{\"id\":\"9213\",\"type\":\"Toolbar\"},\"x_range\":{\"id\":\"9189\",\"type\":\"DataRange1d\"},\"x_scale\":{\"id\":\"9193\",\"type\":\"LinearScale\"},\"y_range\":{\"id\":\"9191\",\"type\":\"DataRange1d\"},\"y_scale\":{\"id\":\"9195\",\"type\":\"LinearScale\"}},\"id\":\"9186\",\"subtype\":\"Figure\",\"type\":\"Plot\"},{\"attributes\":{\"source\":{\"id\":\"9220\",\"type\":\"ColumnDataSource\"}},\"id\":\"9224\",\"type\":\"CDSView\"},{\"attributes\":{\"callback\":null,\"data\":{\"x\":{\"__ndarray__\":\"2orEBRktqz9oXP3FFvjuv5frh52EDNU//gZ8dYS79j8pl5Cbr7TVP9yhDdJbJPQ/35ZiH/DK6j9SNm3S4jnsv3tPyR7ns8E/a2vD5H/U6T8=\",\"dtype\":\"float64\",\"shape\":[10]},\"y\":{\"__ndarray__\":\"6iUr6e9n1L+VUhyRZxfnv36IRi5XqMq/jKaXLLnioD/Jd1AdN0fNv4GWaR11TbE/nr0wqCqVZj9c0tpxqznov9dCvOVCbuC/yGIz5oq1zb8=\",\"dtype\":\"float64\",\"shape\":[10]}},\"selected\":{\"id\":\"9545\",\"type\":\"Selection\"},\"selection_policy\":{\"id\":\"9546\",\"type\":\"UnionRenderers\"}},\"id\":\"9220\",\"type\":\"ColumnDataSource\"},{\"attributes\":{\"callback\":null},\"id\":\"9189\",\"type\":\"DataRange1d\"},{\"attributes\":{\"dimension\":1,\"ticker\":{\"id\":\"9203\",\"type\":\"BasicTicker\"}},\"id\":\"9206\",\"type\":\"Grid\"},{\"attributes\":{\"source\":{\"id\":\"9225\",\"type\":\"ColumnDataSource\"}},\"id\":\"9229\",\"type\":\"CDSView\"},{\"attributes\":{\"ticker\":{\"id\":\"9198\",\"type\":\"BasicTicker\"}},\"id\":\"9201\",\"type\":\"Grid\"},{\"attributes\":{\"active_drag\":\"auto\",\"active_inspect\":\"auto\",\"active_multi\":null,\"active_scroll\":\"auto\",\"active_tap\":\"auto\",\"tools\":[{\"id\":\"9207\",\"type\":\"PanTool\"},{\"id\":\"9208\",\"type\":\"WheelZoomTool\"},{\"id\":\"9209\",\"type\":\"BoxZoomTool\"},{\"id\":\"9210\",\"type\":\"SaveTool\"},{\"id\":\"9211\",\"type\":\"ResetTool\"},{\"id\":\"9212\",\"type\":\"HelpTool\"}]},\"id\":\"9213\",\"type\":\"Toolbar\"},{\"attributes\":{\"data_source\":{\"id\":\"9225\",\"type\":\"ColumnDataSource\"},\"glyph\":{\"id\":\"9226\",\"type\":\"Circle\"},\"hover_glyph\":null,\"muted_glyph\":null,\"nonselection_glyph\":{\"id\":\"9227\",\"type\":\"Circle\"},\"selection_glyph\":null,\"view\":{\"id\":\"9229\",\"type\":\"CDSView\"}},\"id\":\"9228\",\"type\":\"GlyphRenderer\"},{\"attributes\":{\"fill_color\":{\"value\":\"#1f77b4\"},\"line_color\":{\"value\":\"#1f77b4\"},\"size\":{\"units\":\"screen\",\"value\":20},\"x\":{\"field\":\"x\"},\"y\":{\"field\":\"y\"}},\"id\":\"9221\",\"type\":\"Circle\"},{\"attributes\":{},\"id\":\"9545\",\"type\":\"Selection\"},{\"attributes\":{},\"id\":\"9208\",\"type\":\"WheelZoomTool\"},{\"attributes\":{},\"id\":\"9546\",\"type\":\"UnionRenderers\"},{\"attributes\":{\"formatter\":{\"id\":\"9541\",\"type\":\"BasicTickFormatter\"},\"ticker\":{\"id\":\"9203\",\"type\":\"BasicTicker\"}},\"id\":\"9202\",\"type\":\"LinearAxis\"},{\"attributes\":{},\"id\":\"9543\",\"type\":\"BasicTickFormatter\"},{\"attributes\":{},\"id\":\"9207\",\"type\":\"PanTool\"},{\"attributes\":{},\"id\":\"9198\",\"type\":\"BasicTicker\"},{\"attributes\":{},\"id\":\"9210\",\"type\":\"SaveTool\"},{\"attributes\":{},\"id\":\"9212\",\"type\":\"HelpTool\"},{\"attributes\":{\"callback\":null,\"data\":{\"x\":{\"__ndarray__\":\"2orEBRktqz9oXP3FFvjuv5frh52EDNU//gZ8dYS79j8pl5Cbr7TVP9yhDdJbJPQ/35ZiH/DK6j9SNm3S4jnsv3tPyR7ns8E/a2vD5H/U6T8=\",\"dtype\":\"float64\",\"shape\":[10]},\"y\":{\"__ndarray__\":\"6CUr6e9n1L+VUhyRZxfnv36IRi5XqMq/ZYVwLbnioD84vQsdN0fNv/qsDx11TbE/g0sWsSqVZj9c0tpxqznov/8kd+VCbuC/yGIz5oq1zb8=\",\"dtype\":\"float64\",\"shape\":[10]}},\"selected\":{\"id\":\"9547\",\"type\":\"Selection\"},\"selection_policy\":{\"id\":\"9548\",\"type\":\"UnionRenderers\"}},\"id\":\"9225\",\"type\":\"ColumnDataSource\"},{\"attributes\":{\"overlay\":{\"id\":\"9549\",\"type\":\"BoxAnnotation\"}},\"id\":\"9209\",\"type\":\"BoxZoomTool\"},{\"attributes\":{\"fill_alpha\":{\"value\":0.1},\"fill_color\":{\"value\":\"#1f77b4\"},\"line_alpha\":{\"value\":0.1},\"line_color\":{\"value\":\"#1f77b4\"},\"size\":{\"units\":\"screen\",\"value\":20},\"x\":{\"field\":\"x\"},\"y\":{\"field\":\"y\"}},\"id\":\"9222\",\"type\":\"Circle\"},{\"attributes\":{},\"id\":\"9211\",\"type\":\"ResetTool\"},{\"attributes\":{\"data_source\":{\"id\":\"9220\",\"type\":\"ColumnDataSource\"},\"glyph\":{\"id\":\"9221\",\"type\":\"Circle\"},\"hover_glyph\":null,\"muted_glyph\":null,\"nonselection_glyph\":{\"id\":\"9222\",\"type\":\"Circle\"},\"selection_glyph\":null,\"view\":{\"id\":\"9224\",\"type\":\"CDSView\"}},\"id\":\"9223\",\"type\":\"GlyphRenderer\"},{\"attributes\":{},\"id\":\"9541\",\"type\":\"BasicTickFormatter\"},{\"attributes\":{\"callback\":null},\"id\":\"9191\",\"type\":\"DataRange1d\"},{\"attributes\":{\"fill_alpha\":{\"value\":0.1},\"fill_color\":{\"value\":\"#1f77b4\"},\"line_alpha\":{\"value\":0.1},\"line_color\":{\"value\":\"#1f77b4\"},\"size\":{\"units\":\"screen\",\"value\":10},\"x\":{\"field\":\"x\"},\"y\":{\"field\":\"y\"}},\"id\":\"9227\",\"type\":\"Circle\"},{\"attributes\":{\"bottom_units\":\"screen\",\"fill_alpha\":{\"value\":0.5},\"fill_color\":{\"value\":\"lightgrey\"},\"left_units\":\"screen\",\"level\":\"overlay\",\"line_alpha\":{\"value\":1.0},\"line_color\":{\"value\":\"black\"},\"line_dash\":[4,4],\"line_width\":{\"value\":2},\"render_mode\":\"css\",\"right_units\":\"screen\",\"top_units\":\"screen\"},\"id\":\"9549\",\"type\":\"BoxAnnotation\"},{\"attributes\":{},\"id\":\"9195\",\"type\":\"LinearScale\"},{\"attributes\":{\"fill_color\":{\"value\":\"black\"},\"size\":{\"units\":\"screen\",\"value\":10},\"x\":{\"field\":\"x\"},\"y\":{\"field\":\"y\"}},\"id\":\"9226\",\"type\":\"Circle\"},{\"attributes\":{},\"id\":\"9203\",\"type\":\"BasicTicker\"},{\"attributes\":{},\"id\":\"9548\",\"type\":\"UnionRenderers\"},{\"attributes\":{},\"id\":\"9547\",\"type\":\"Selection\"},{\"attributes\":{\"formatter\":{\"id\":\"9543\",\"type\":\"BasicTickFormatter\"},\"ticker\":{\"id\":\"9198\",\"type\":\"BasicTicker\"}},\"id\":\"9197\",\"type\":\"LinearAxis\"},{\"attributes\":{},\"id\":\"9193\",\"type\":\"LinearScale\"},{\"attributes\":{\"text\":\"T log(depth) vs log(mass)\"},\"id\":\"9187\",\"type\":\"Title\"}],\"root_ids\":[\"9186\"]},\"title\":\"Bokeh Application\",\"version\":\"1.4.0\"}};\n",
       "  var render_items = [{\"docid\":\"21587c2d-3201-4eff-894e-595b8e7f7ac5\",\"roots\":{\"9186\":\"cd57dc8b-98f1-43bf-bd68-9c4a1badb0e8\"}}];\n",
       "  root.Bokeh.embed.embed_items_notebook(docs_json, render_items);\n",
       "\n",
       "  }\n",
       "  if (root.Bokeh !== undefined) {\n",
       "    embed_document(root);\n",
       "  } else {\n",
       "    var attempts = 0;\n",
       "    var timer = setInterval(function(root) {\n",
       "      if (root.Bokeh !== undefined) {\n",
       "        clearInterval(timer);\n",
       "        embed_document(root);\n",
       "      } else {\n",
       "        attempts++;\n",
       "        if (attempts > 100) {\n",
       "          clearInterval(timer);\n",
       "          console.log(\"Bokeh: ERROR: Unable to run BokehJS code because BokehJS library is missing\");\n",
       "        }\n",
       "      }\n",
       "    }, 10, root)\n",
       "  }\n",
       "})(window);"
      ],
      "application/vnd.bokehjs_exec.v0+json": ""
     },
     "metadata": {
      "application/vnd.bokehjs_exec.v0+json": {
       "id": "9186"
      }
     },
     "output_type": "display_data"
    },
    {
     "data": {
      "text/html": [
       "\n",
       "\n",
       "\n",
       "\n",
       "\n",
       "\n",
       "  <div class=\"bk-root\" id=\"dc2ee94b-f9af-4d9f-aab2-625a2cc7bb82\" data-root-id=\"9610\"></div>\n"
      ]
     },
     "metadata": {},
     "output_type": "display_data"
    },
    {
     "data": {
      "application/javascript": [
       "(function(root) {\n",
       "  function embed_document(root) {\n",
       "    \n",
       "  var docs_json = {\"fb41e38f-e580-4b5f-9097-2bfd4a42b1aa\":{\"roots\":{\"references\":[{\"attributes\":{\"below\":[{\"id\":\"9621\",\"type\":\"LinearAxis\"}],\"center\":[{\"id\":\"9625\",\"type\":\"Grid\"},{\"id\":\"9630\",\"type\":\"Grid\"}],\"left\":[{\"id\":\"9626\",\"type\":\"LinearAxis\"}],\"plot_height\":350,\"renderers\":[{\"id\":\"9647\",\"type\":\"GlyphRenderer\"},{\"id\":\"9652\",\"type\":\"GlyphRenderer\"}],\"title\":{\"id\":\"9611\",\"type\":\"Title\"},\"toolbar\":{\"id\":\"9637\",\"type\":\"Toolbar\"},\"x_range\":{\"id\":\"9613\",\"type\":\"DataRange1d\"},\"x_scale\":{\"id\":\"9617\",\"type\":\"LinearScale\"},\"y_range\":{\"id\":\"9615\",\"type\":\"DataRange1d\"},\"y_scale\":{\"id\":\"9619\",\"type\":\"LinearScale\"}},\"id\":\"9610\",\"subtype\":\"Figure\",\"type\":\"Plot\"},{\"attributes\":{},\"id\":\"9635\",\"type\":\"ResetTool\"},{\"attributes\":{\"fill_color\":{\"value\":\"#1f77b4\"},\"line_color\":{\"value\":\"#1f77b4\"},\"size\":{\"units\":\"screen\",\"value\":20},\"x\":{\"field\":\"x\"},\"y\":{\"field\":\"y\"}},\"id\":\"9645\",\"type\":\"Circle\"},{\"attributes\":{},\"id\":\"9979\",\"type\":\"Selection\"},{\"attributes\":{},\"id\":\"9980\",\"type\":\"UnionRenderers\"},{\"attributes\":{\"dimension\":1,\"ticker\":{\"id\":\"9627\",\"type\":\"BasicTicker\"}},\"id\":\"9630\",\"type\":\"Grid\"},{\"attributes\":{\"fill_alpha\":{\"value\":0.1},\"fill_color\":{\"value\":\"#1f77b4\"},\"line_alpha\":{\"value\":0.1},\"line_color\":{\"value\":\"#1f77b4\"},\"size\":{\"units\":\"screen\",\"value\":20},\"x\":{\"field\":\"x\"},\"y\":{\"field\":\"y\"}},\"id\":\"9646\",\"type\":\"Circle\"},{\"attributes\":{},\"id\":\"9631\",\"type\":\"PanTool\"},{\"attributes\":{\"callback\":null},\"id\":\"9615\",\"type\":\"DataRange1d\"},{\"attributes\":{},\"id\":\"9977\",\"type\":\"BasicTickFormatter\"},{\"attributes\":{},\"id\":\"9619\",\"type\":\"LinearScale\"},{\"attributes\":{\"active_drag\":\"auto\",\"active_inspect\":\"auto\",\"active_multi\":null,\"active_scroll\":\"auto\",\"active_tap\":\"auto\",\"tools\":[{\"id\":\"9631\",\"type\":\"PanTool\"},{\"id\":\"9632\",\"type\":\"WheelZoomTool\"},{\"id\":\"9633\",\"type\":\"BoxZoomTool\"},{\"id\":\"9634\",\"type\":\"SaveTool\"},{\"id\":\"9635\",\"type\":\"ResetTool\"},{\"id\":\"9636\",\"type\":\"HelpTool\"}]},\"id\":\"9637\",\"type\":\"Toolbar\"},{\"attributes\":{\"fill_alpha\":{\"value\":0.1},\"fill_color\":{\"value\":\"#1f77b4\"},\"line_alpha\":{\"value\":0.1},\"line_color\":{\"value\":\"#1f77b4\"},\"size\":{\"units\":\"screen\",\"value\":10},\"x\":{\"field\":\"x\"},\"y\":{\"field\":\"y\"}},\"id\":\"9651\",\"type\":\"Circle\"},{\"attributes\":{},\"id\":\"9975\",\"type\":\"BasicTickFormatter\"},{\"attributes\":{\"source\":{\"id\":\"9649\",\"type\":\"ColumnDataSource\"}},\"id\":\"9653\",\"type\":\"CDSView\"},{\"attributes\":{\"overlay\":{\"id\":\"9983\",\"type\":\"BoxAnnotation\"}},\"id\":\"9633\",\"type\":\"BoxZoomTool\"},{\"attributes\":{},\"id\":\"9981\",\"type\":\"Selection\"},{\"attributes\":{\"callback\":null,\"data\":{\"x\":{\"__ndarray__\":\"2orEBRktqz/ZyySPBDjwv5frh52EDNU//gZ8dYS79j8pl5Cbr7TVP++UYHJGxvM/35ZiH/DK6j9SNm3S4jnsv3tPyR7ns8E/a2vD5H/U6T8=\",\"dtype\":\"float64\",\"shape\":[10]},\"y\":{\"__ndarray__\":\"kDj1ORgG5L/OO3BSiZf1v5DHDTCM9d6/b1pN4hyEwT8W2MyKCa/Tvx8v9qVfutU/bltZr714wz/0N/MLjg33vyL9oGIH3eO/cBmqNVb53L8=\",\"dtype\":\"float64\",\"shape\":[10]}},\"selected\":{\"id\":\"9981\",\"type\":\"Selection\"},\"selection_policy\":{\"id\":\"9982\",\"type\":\"UnionRenderers\"}},\"id\":\"9649\",\"type\":\"ColumnDataSource\"},{\"attributes\":{},\"id\":\"9632\",\"type\":\"WheelZoomTool\"},{\"attributes\":{},\"id\":\"9636\",\"type\":\"HelpTool\"},{\"attributes\":{},\"id\":\"9982\",\"type\":\"UnionRenderers\"},{\"attributes\":{\"callback\":null,\"data\":{\"x\":{\"__ndarray__\":\"2orEBRktqz/ZyySPBDjwv5frh52EDNU//gZ8dYS79j8pl5Cbr7TVP++UYHJGxvM/35ZiH/DK6j9SNm3S4jnsv3tPyR7ns8E/a2vD5H/U6T8=\",\"dtype\":\"float64\",\"shape\":[10]},\"y\":{\"__ndarray__\":\"rMWIORgG5L9VrixRiZf1v0UtZjCM9d6/SQcv4hyEwT+EB5+KCa/Tv6KmB6ZfutU/tZwjr714wz+h3AcMjg33v+6RzmIH3eO/dn9uNVb53L8=\",\"dtype\":\"float64\",\"shape\":[10]}},\"selected\":{\"id\":\"9979\",\"type\":\"Selection\"},\"selection_policy\":{\"id\":\"9980\",\"type\":\"UnionRenderers\"}},\"id\":\"9644\",\"type\":\"ColumnDataSource\"},{\"attributes\":{\"data_source\":{\"id\":\"9644\",\"type\":\"ColumnDataSource\"},\"glyph\":{\"id\":\"9645\",\"type\":\"Circle\"},\"hover_glyph\":null,\"muted_glyph\":null,\"nonselection_glyph\":{\"id\":\"9646\",\"type\":\"Circle\"},\"selection_glyph\":null,\"view\":{\"id\":\"9648\",\"type\":\"CDSView\"}},\"id\":\"9647\",\"type\":\"GlyphRenderer\"},{\"attributes\":{},\"id\":\"9634\",\"type\":\"SaveTool\"},{\"attributes\":{\"formatter\":{\"id\":\"9977\",\"type\":\"BasicTickFormatter\"},\"ticker\":{\"id\":\"9622\",\"type\":\"BasicTicker\"}},\"id\":\"9621\",\"type\":\"LinearAxis\"},{\"attributes\":{\"source\":{\"id\":\"9644\",\"type\":\"ColumnDataSource\"}},\"id\":\"9648\",\"type\":\"CDSView\"},{\"attributes\":{\"bottom_units\":\"screen\",\"fill_alpha\":{\"value\":0.5},\"fill_color\":{\"value\":\"lightgrey\"},\"left_units\":\"screen\",\"level\":\"overlay\",\"line_alpha\":{\"value\":1.0},\"line_color\":{\"value\":\"black\"},\"line_dash\":[4,4],\"line_width\":{\"value\":2},\"render_mode\":\"css\",\"right_units\":\"screen\",\"top_units\":\"screen\"},\"id\":\"9983\",\"type\":\"BoxAnnotation\"},{\"attributes\":{},\"id\":\"9622\",\"type\":\"BasicTicker\"},{\"attributes\":{\"fill_color\":{\"value\":\"black\"},\"size\":{\"units\":\"screen\",\"value\":10},\"x\":{\"field\":\"x\"},\"y\":{\"field\":\"y\"}},\"id\":\"9650\",\"type\":\"Circle\"},{\"attributes\":{},\"id\":\"9627\",\"type\":\"BasicTicker\"},{\"attributes\":{\"formatter\":{\"id\":\"9975\",\"type\":\"BasicTickFormatter\"},\"ticker\":{\"id\":\"9627\",\"type\":\"BasicTicker\"}},\"id\":\"9626\",\"type\":\"LinearAxis\"},{\"attributes\":{\"callback\":null},\"id\":\"9613\",\"type\":\"DataRange1d\"},{\"attributes\":{\"text\":\"S log(area) vs log(mass)\"},\"id\":\"9611\",\"type\":\"Title\"},{\"attributes\":{},\"id\":\"9617\",\"type\":\"LinearScale\"},{\"attributes\":{\"data_source\":{\"id\":\"9649\",\"type\":\"ColumnDataSource\"},\"glyph\":{\"id\":\"9650\",\"type\":\"Circle\"},\"hover_glyph\":null,\"muted_glyph\":null,\"nonselection_glyph\":{\"id\":\"9651\",\"type\":\"Circle\"},\"selection_glyph\":null,\"view\":{\"id\":\"9653\",\"type\":\"CDSView\"}},\"id\":\"9652\",\"type\":\"GlyphRenderer\"},{\"attributes\":{\"ticker\":{\"id\":\"9622\",\"type\":\"BasicTicker\"}},\"id\":\"9625\",\"type\":\"Grid\"}],\"root_ids\":[\"9610\"]},\"title\":\"Bokeh Application\",\"version\":\"1.4.0\"}};\n",
       "  var render_items = [{\"docid\":\"fb41e38f-e580-4b5f-9097-2bfd4a42b1aa\",\"roots\":{\"9610\":\"dc2ee94b-f9af-4d9f-aab2-625a2cc7bb82\"}}];\n",
       "  root.Bokeh.embed.embed_items_notebook(docs_json, render_items);\n",
       "\n",
       "  }\n",
       "  if (root.Bokeh !== undefined) {\n",
       "    embed_document(root);\n",
       "  } else {\n",
       "    var attempts = 0;\n",
       "    var timer = setInterval(function(root) {\n",
       "      if (root.Bokeh !== undefined) {\n",
       "        clearInterval(timer);\n",
       "        embed_document(root);\n",
       "      } else {\n",
       "        attempts++;\n",
       "        if (attempts > 100) {\n",
       "          clearInterval(timer);\n",
       "          console.log(\"Bokeh: ERROR: Unable to run BokehJS code because BokehJS library is missing\");\n",
       "        }\n",
       "      }\n",
       "    }, 10, root)\n",
       "  }\n",
       "})(window);"
      ],
      "application/vnd.bokehjs_exec.v0+json": ""
     },
     "metadata": {
      "application/vnd.bokehjs_exec.v0+json": {
       "id": "9610"
      }
     },
     "output_type": "display_data"
    },
    {
     "data": {
      "text/html": [
       "\n",
       "\n",
       "\n",
       "\n",
       "\n",
       "\n",
       "  <div class=\"bk-root\" id=\"4e928a02-dfc7-413f-90df-9b6be221cf2d\" data-root-id=\"10044\"></div>\n"
      ]
     },
     "metadata": {},
     "output_type": "display_data"
    },
    {
     "data": {
      "application/javascript": [
       "(function(root) {\n",
       "  function embed_document(root) {\n",
       "    \n",
       "  var docs_json = {\"d156233b-5746-466a-a384-ddc82c216531\":{\"roots\":{\"references\":[{\"attributes\":{\"below\":[{\"id\":\"10055\",\"type\":\"LinearAxis\"}],\"center\":[{\"id\":\"10059\",\"type\":\"Grid\"},{\"id\":\"10064\",\"type\":\"Grid\"}],\"left\":[{\"id\":\"10060\",\"type\":\"LinearAxis\"}],\"plot_height\":350,\"renderers\":[{\"id\":\"10081\",\"type\":\"GlyphRenderer\"},{\"id\":\"10086\",\"type\":\"GlyphRenderer\"}],\"title\":{\"id\":\"10045\",\"type\":\"Title\"},\"toolbar\":{\"id\":\"10071\",\"type\":\"Toolbar\"},\"x_range\":{\"id\":\"10047\",\"type\":\"DataRange1d\"},\"x_scale\":{\"id\":\"10051\",\"type\":\"LinearScale\"},\"y_range\":{\"id\":\"10049\",\"type\":\"DataRange1d\"},\"y_scale\":{\"id\":\"10053\",\"type\":\"LinearScale\"}},\"id\":\"10044\",\"subtype\":\"Figure\",\"type\":\"Plot\"},{\"attributes\":{\"formatter\":{\"id\":\"10421\",\"type\":\"BasicTickFormatter\"},\"ticker\":{\"id\":\"10056\",\"type\":\"BasicTicker\"}},\"id\":\"10055\",\"type\":\"LinearAxis\"},{\"attributes\":{\"callback\":null,\"data\":{\"x\":{\"__ndarray__\":\"2orEBRktqz/ZyySPBDjwv5frh52EDNU//gZ8dYS79j8pl5Cbr7TVP++UYHJGxvM/35ZiH/DK6j9SNm3S4jnsv3tPyR7ns8E/a2vD5H/U6T8=\",\"dtype\":\"float64\",\"shape\":[10]},\"y\":{\"__ndarray__\":\"G2A9MTZm4L+sda2lDuPnv/feqjYMRuG/7TrhhoqE0L/qIV5K1YTev1eH/05P53K/NygPpUvHy797xEVcZP/pv9rw4dn8QeG/mnAX3GNl2r8=\",\"dtype\":\"float64\",\"shape\":[10]}},\"selected\":{\"id\":\"10423\",\"type\":\"Selection\"},\"selection_policy\":{\"id\":\"10424\",\"type\":\"UnionRenderers\"}},\"id\":\"10078\",\"type\":\"ColumnDataSource\"},{\"attributes\":{\"bottom_units\":\"screen\",\"fill_alpha\":{\"value\":0.5},\"fill_color\":{\"value\":\"lightgrey\"},\"left_units\":\"screen\",\"level\":\"overlay\",\"line_alpha\":{\"value\":1.0},\"line_color\":{\"value\":\"black\"},\"line_dash\":[4,4],\"line_width\":{\"value\":2},\"render_mode\":\"css\",\"right_units\":\"screen\",\"top_units\":\"screen\"},\"id\":\"10427\",\"type\":\"BoxAnnotation\"},{\"attributes\":{\"fill_color\":{\"value\":\"black\"},\"size\":{\"units\":\"screen\",\"value\":10},\"x\":{\"field\":\"x\"},\"y\":{\"field\":\"y\"}},\"id\":\"10084\",\"type\":\"Circle\"},{\"attributes\":{\"text\":\"S log(depth) vs log(mass)\"},\"id\":\"10045\",\"type\":\"Title\"},{\"attributes\":{\"data_source\":{\"id\":\"10078\",\"type\":\"ColumnDataSource\"},\"glyph\":{\"id\":\"10079\",\"type\":\"Circle\"},\"hover_glyph\":null,\"muted_glyph\":null,\"nonselection_glyph\":{\"id\":\"10080\",\"type\":\"Circle\"},\"selection_glyph\":null,\"view\":{\"id\":\"10082\",\"type\":\"CDSView\"}},\"id\":\"10081\",\"type\":\"GlyphRenderer\"},{\"attributes\":{},\"id\":\"10051\",\"type\":\"LinearScale\"},{\"attributes\":{\"fill_alpha\":{\"value\":0.1},\"fill_color\":{\"value\":\"#1f77b4\"},\"line_alpha\":{\"value\":0.1},\"line_color\":{\"value\":\"#1f77b4\"},\"size\":{\"units\":\"screen\",\"value\":10},\"x\":{\"field\":\"x\"},\"y\":{\"field\":\"y\"}},\"id\":\"10085\",\"type\":\"Circle\"},{\"attributes\":{\"data_source\":{\"id\":\"10083\",\"type\":\"ColumnDataSource\"},\"glyph\":{\"id\":\"10084\",\"type\":\"Circle\"},\"hover_glyph\":null,\"muted_glyph\":null,\"nonselection_glyph\":{\"id\":\"10085\",\"type\":\"Circle\"},\"selection_glyph\":null,\"view\":{\"id\":\"10087\",\"type\":\"CDSView\"}},\"id\":\"10086\",\"type\":\"GlyphRenderer\"},{\"attributes\":{\"overlay\":{\"id\":\"10427\",\"type\":\"BoxAnnotation\"}},\"id\":\"10067\",\"type\":\"BoxZoomTool\"},{\"attributes\":{\"fill_color\":{\"value\":\"#1f77b4\"},\"line_color\":{\"value\":\"#1f77b4\"},\"size\":{\"units\":\"screen\",\"value\":20},\"x\":{\"field\":\"x\"},\"y\":{\"field\":\"y\"}},\"id\":\"10079\",\"type\":\"Circle\"},{\"attributes\":{},\"id\":\"10423\",\"type\":\"Selection\"},{\"attributes\":{\"callback\":null,\"data\":{\"x\":{\"__ndarray__\":\"2orEBRktqz/ZyySPBDjwv5frh52EDNU//gZ8dYS79j8pl5Cbr7TVP++UYHJGxvM/35ZiH/DK6j9SNm3S4jnsv3tPyR7ns8E/a2vD5H/U6T8=\",\"dtype\":\"float64\",\"shape\":[10]},\"y\":{\"__ndarray__\":\"HGA9MTZm4L+sda2lDuPnv/feqjYMRuG/f/D3hoqE0L//wjZK1YTev0MjJk9P53K/+SmVpEvHy797xEVcZP/pv58Lxtn8QeG/mHAX3GNl2r8=\",\"dtype\":\"float64\",\"shape\":[10]}},\"selected\":{\"id\":\"10425\",\"type\":\"Selection\"},\"selection_policy\":{\"id\":\"10426\",\"type\":\"UnionRenderers\"}},\"id\":\"10083\",\"type\":\"ColumnDataSource\"},{\"attributes\":{},\"id\":\"10053\",\"type\":\"LinearScale\"},{\"attributes\":{},\"id\":\"10065\",\"type\":\"PanTool\"},{\"attributes\":{},\"id\":\"10424\",\"type\":\"UnionRenderers\"},{\"attributes\":{\"active_drag\":\"auto\",\"active_inspect\":\"auto\",\"active_multi\":null,\"active_scroll\":\"auto\",\"active_tap\":\"auto\",\"tools\":[{\"id\":\"10065\",\"type\":\"PanTool\"},{\"id\":\"10066\",\"type\":\"WheelZoomTool\"},{\"id\":\"10067\",\"type\":\"BoxZoomTool\"},{\"id\":\"10068\",\"type\":\"SaveTool\"},{\"id\":\"10069\",\"type\":\"ResetTool\"},{\"id\":\"10070\",\"type\":\"HelpTool\"}]},\"id\":\"10071\",\"type\":\"Toolbar\"},{\"attributes\":{},\"id\":\"10066\",\"type\":\"WheelZoomTool\"},{\"attributes\":{\"callback\":null},\"id\":\"10047\",\"type\":\"DataRange1d\"},{\"attributes\":{},\"id\":\"10419\",\"type\":\"BasicTickFormatter\"},{\"attributes\":{\"source\":{\"id\":\"10083\",\"type\":\"ColumnDataSource\"}},\"id\":\"10087\",\"type\":\"CDSView\"},{\"attributes\":{},\"id\":\"10068\",\"type\":\"SaveTool\"},{\"attributes\":{},\"id\":\"10421\",\"type\":\"BasicTickFormatter\"},{\"attributes\":{},\"id\":\"10061\",\"type\":\"BasicTicker\"},{\"attributes\":{\"formatter\":{\"id\":\"10419\",\"type\":\"BasicTickFormatter\"},\"ticker\":{\"id\":\"10061\",\"type\":\"BasicTicker\"}},\"id\":\"10060\",\"type\":\"LinearAxis\"},{\"attributes\":{},\"id\":\"10070\",\"type\":\"HelpTool\"},{\"attributes\":{\"ticker\":{\"id\":\"10056\",\"type\":\"BasicTicker\"}},\"id\":\"10059\",\"type\":\"Grid\"},{\"attributes\":{},\"id\":\"10069\",\"type\":\"ResetTool\"},{\"attributes\":{},\"id\":\"10056\",\"type\":\"BasicTicker\"},{\"attributes\":{},\"id\":\"10425\",\"type\":\"Selection\"},{\"attributes\":{\"dimension\":1,\"ticker\":{\"id\":\"10061\",\"type\":\"BasicTicker\"}},\"id\":\"10064\",\"type\":\"Grid\"},{\"attributes\":{},\"id\":\"10426\",\"type\":\"UnionRenderers\"},{\"attributes\":{\"callback\":null},\"id\":\"10049\",\"type\":\"DataRange1d\"},{\"attributes\":{\"fill_alpha\":{\"value\":0.1},\"fill_color\":{\"value\":\"#1f77b4\"},\"line_alpha\":{\"value\":0.1},\"line_color\":{\"value\":\"#1f77b4\"},\"size\":{\"units\":\"screen\",\"value\":20},\"x\":{\"field\":\"x\"},\"y\":{\"field\":\"y\"}},\"id\":\"10080\",\"type\":\"Circle\"},{\"attributes\":{\"source\":{\"id\":\"10078\",\"type\":\"ColumnDataSource\"}},\"id\":\"10082\",\"type\":\"CDSView\"}],\"root_ids\":[\"10044\"]},\"title\":\"Bokeh Application\",\"version\":\"1.4.0\"}};\n",
       "  var render_items = [{\"docid\":\"d156233b-5746-466a-a384-ddc82c216531\",\"roots\":{\"10044\":\"4e928a02-dfc7-413f-90df-9b6be221cf2d\"}}];\n",
       "  root.Bokeh.embed.embed_items_notebook(docs_json, render_items);\n",
       "\n",
       "  }\n",
       "  if (root.Bokeh !== undefined) {\n",
       "    embed_document(root);\n",
       "  } else {\n",
       "    var attempts = 0;\n",
       "    var timer = setInterval(function(root) {\n",
       "      if (root.Bokeh !== undefined) {\n",
       "        clearInterval(timer);\n",
       "        embed_document(root);\n",
       "      } else {\n",
       "        attempts++;\n",
       "        if (attempts > 100) {\n",
       "          clearInterval(timer);\n",
       "          console.log(\"Bokeh: ERROR: Unable to run BokehJS code because BokehJS library is missing\");\n",
       "        }\n",
       "      }\n",
       "    }, 10, root)\n",
       "  }\n",
       "})(window);"
      ],
      "application/vnd.bokehjs_exec.v0+json": ""
     },
     "metadata": {
      "application/vnd.bokehjs_exec.v0+json": {
       "id": "10044"
      }
     },
     "output_type": "display_data"
    }
   ],
   "source": [
    "df_av1 = df_raw_tidy.dropna().groupby(['species', 'spiracle'], as_index=False).aggregate(np.average)\n",
    "df_av2 = df.groupby(['species', 'spiracle'], as_index=False).aggregate(np.average)\n",
    "\n",
    "for s in df['spiracle'].unique():\n",
    "    p = bokeh.plotting.figure(plot_height=350, title=s + ' log(area) vs log(mass)')\n",
    "    p.circle(np.log10(df_av1.loc[df_av1['spiracle'] == s, 'mass']), np.log10(df_av1.loc[df_av1['spiracle'] == s, 'area mm^2']), size=20)\n",
    "    p.circle(np.log10(df_av2.loc[df_av2['spiracle'] == s, 'mass (g)']), np.log10(df_av2.loc[df_av2['spiracle'] == s, 'area (mm^2)']), size=10, color='black')\n",
    "    bokeh.io.show(p)\n",
    "\n",
    "    p = bokeh.plotting.figure(plot_height=350, title=s + ' log(depth) vs log(mass)')\n",
    "    p.circle(np.log10(df_av1.loc[df_av1['spiracle'] == s, 'mass']), np.log10(df_av1.loc[df_av1['spiracle'] == s, 'depth']), size=20)\n",
    "    p.circle(np.log10(df_av2.loc[df_av2['spiracle'] == s, 'mass (g)']), np.log10(df_av2.loc[df_av2['spiracle'] == s, 'depth (mm)']), size=10, color='black')\n",
    "    bokeh.io.show(p)"
   ]
  },
  {
   "cell_type": "code",
   "execution_count": null,
   "metadata": {},
   "outputs": [],
   "source": []
  }
 ],
 "metadata": {
  "kernelspec": {
   "display_name": "Python 3",
   "language": "python",
   "name": "python3"
  },
  "language_info": {
   "codemirror_mode": {
    "name": "ipython",
    "version": 3
   },
   "file_extension": ".py",
   "mimetype": "text/x-python",
   "name": "python",
   "nbconvert_exporter": "python",
   "pygments_lexer": "ipython3",
   "version": "3.7.6"
  }
 },
 "nbformat": 4,
 "nbformat_minor": 4
}
