{
 "cells": [
  {
   "cell_type": "code",
   "execution_count": 1,
   "metadata": {},
   "outputs": [
    {
     "name": "stderr",
     "output_type": "stream",
     "text": [
      "Warning message:\n",
      "\"package 'phytools' was built under R version 3.6.3\"Loading required package: maps\n",
      "Warning message:\n",
      "\"package 'geiger' was built under R version 3.6.3\"Warning message:\n",
      "\"package 'caper' was built under R version 3.6.3\"Loading required package: MASS\n",
      "Warning message:\n",
      "\"package 'MASS' was built under R version 3.6.3\"Loading required package: mvtnorm\n",
      "Warning message:\n",
      "\"package 'mvtnorm' was built under R version 3.6.3\"\n",
      "Attaching package: 'dplyr'\n",
      "\n",
      "The following object is masked from 'package:MASS':\n",
      "\n",
      "    select\n",
      "\n",
      "The following object is masked from 'package:nlme':\n",
      "\n",
      "    collapse\n",
      "\n",
      "The following objects are masked from 'package:stats':\n",
      "\n",
      "    filter, lag\n",
      "\n",
      "The following objects are masked from 'package:base':\n",
      "\n",
      "    intersect, setdiff, setequal, union\n",
      "\n"
     ]
    }
   ],
   "source": [
    "library(ape)\n",
    "library(phytools)\n",
    "library(geiger)\n",
    "library(nlme)\n",
    "library(caper)\n",
    "library(dplyr)\n",
    "library(IRdisplay)"
   ]
  },
  {
   "cell_type": "code",
   "execution_count": 2,
   "metadata": {},
   "outputs": [
    {
     "data": {
      "text/html": [
       "<table>\n",
       "<thead><tr><th scope=col>X</th><th scope=col>subfamily</th><th scope=col>species</th><th scope=col>sex</th><th scope=col>mass..g.</th><th scope=col>spiracle</th><th scope=col>area..mm.2.</th><th scope=col>depth..mm.</th></tr></thead>\n",
       "<tbody>\n",
       "\t<tr><td>0                     </td><td>Cetoniinae            </td><td>Goliathus goliathus   </td><td>M                     </td><td>16.280                </td><td>6                     </td><td>0.27440814            </td><td>2.5126476             </td></tr>\n",
       "\t<tr><td>1                     </td><td>Cetoniinae            </td><td>Goliathus goliathus   </td><td>F                     </td><td>18.150                </td><td>6                     </td><td>0.13494870            </td><td>1.6061889             </td></tr>\n",
       "\t<tr><td>2                     </td><td>Cetoniinae            </td><td>Coelorrhina hornimani </td><td>M                     </td><td> 1.130                </td><td>6                     </td><td>0.21213130            </td><td>0.5538330             </td></tr>\n",
       "\t<tr><td>3                     </td><td>Cetoniinae            </td><td>Dicronorrhina derbyana</td><td>M                     </td><td> 2.120                </td><td>6                     </td><td>0.03953171            </td><td>0.4733690             </td></tr>\n",
       "\t<tr><td>4                     </td><td>Cetoniinae            </td><td>Dicronorrhina derbyana</td><td>F                     </td><td> 2.145                </td><td>6                     </td><td>0.04970094            </td><td>0.4963200             </td></tr>\n",
       "\t<tr><td>5                     </td><td>Cetoniinae            </td><td>Mecynorrhina torquata </td><td>M                     </td><td> 6.875                </td><td>6                     </td><td>0.10613305            </td><td>0.6430775             </td></tr>\n",
       "</tbody>\n",
       "</table>\n"
      ],
      "text/latex": [
       "\\begin{tabular}{r|llllllll}\n",
       " X & subfamily & species & sex & mass..g. & spiracle & area..mm.2. & depth..mm.\\\\\n",
       "\\hline\n",
       "\t 0                      & Cetoniinae             & Goliathus goliathus    & M                      & 16.280                 & 6                      & 0.27440814             & 2.5126476             \\\\\n",
       "\t 1                      & Cetoniinae             & Goliathus goliathus    & F                      & 18.150                 & 6                      & 0.13494870             & 1.6061889             \\\\\n",
       "\t 2                      & Cetoniinae             & Coelorrhina hornimani  & M                      &  1.130                 & 6                      & 0.21213130             & 0.5538330             \\\\\n",
       "\t 3                      & Cetoniinae             & Dicronorrhina derbyana & M                      &  2.120                 & 6                      & 0.03953171             & 0.4733690             \\\\\n",
       "\t 4                      & Cetoniinae             & Dicronorrhina derbyana & F                      &  2.145                 & 6                      & 0.04970094             & 0.4963200             \\\\\n",
       "\t 5                      & Cetoniinae             & Mecynorrhina torquata  & M                      &  6.875                 & 6                      & 0.10613305             & 0.6430775             \\\\\n",
       "\\end{tabular}\n"
      ],
      "text/markdown": [
       "\n",
       "| X | subfamily | species | sex | mass..g. | spiracle | area..mm.2. | depth..mm. |\n",
       "|---|---|---|---|---|---|---|---|\n",
       "| 0                      | Cetoniinae             | Goliathus goliathus    | M                      | 16.280                 | 6                      | 0.27440814             | 2.5126476              |\n",
       "| 1                      | Cetoniinae             | Goliathus goliathus    | F                      | 18.150                 | 6                      | 0.13494870             | 1.6061889              |\n",
       "| 2                      | Cetoniinae             | Coelorrhina hornimani  | M                      |  1.130                 | 6                      | 0.21213130             | 0.5538330              |\n",
       "| 3                      | Cetoniinae             | Dicronorrhina derbyana | M                      |  2.120                 | 6                      | 0.03953171             | 0.4733690              |\n",
       "| 4                      | Cetoniinae             | Dicronorrhina derbyana | F                      |  2.145                 | 6                      | 0.04970094             | 0.4963200              |\n",
       "| 5                      | Cetoniinae             | Mecynorrhina torquata  | M                      |  6.875                 | 6                      | 0.10613305             | 0.6430775              |\n",
       "\n"
      ],
      "text/plain": [
       "  X subfamily  species                sex mass..g. spiracle area..mm.2.\n",
       "1 0 Cetoniinae Goliathus goliathus    M   16.280   6        0.27440814 \n",
       "2 1 Cetoniinae Goliathus goliathus    F   18.150   6        0.13494870 \n",
       "3 2 Cetoniinae Coelorrhina hornimani  M    1.130   6        0.21213130 \n",
       "4 3 Cetoniinae Dicronorrhina derbyana M    2.120   6        0.03953171 \n",
       "5 4 Cetoniinae Dicronorrhina derbyana F    2.145   6        0.04970094 \n",
       "6 5 Cetoniinae Mecynorrhina torquata  M    6.875   6        0.10613305 \n",
       "  depth..mm.\n",
       "1 2.5126476 \n",
       "2 1.6061889 \n",
       "3 0.5538330 \n",
       "4 0.4733690 \n",
       "5 0.4963200 \n",
       "6 0.6430775 "
      ]
     },
     "metadata": {},
     "output_type": "display_data"
    }
   ],
   "source": [
    "df<-read.csv(\"20190322_supp_table_2.csv\", header=TRUE)\n",
    "head(df)"
   ]
  },
  {
   "cell_type": "code",
   "execution_count": 3,
   "metadata": {},
   "outputs": [],
   "source": [
    "df_ave = data.frame(aggregate(select(df, 'mass..g.', 'area..mm.2.', 'depth..mm.'), list(df$species, df$spiracle), mean))\n",
    "colnames(df_ave) = c('species', 'spiracle', 'mass.g', 'area.mm.2', 'depth.mm')"
   ]
  },
  {
   "cell_type": "code",
   "execution_count": 4,
   "metadata": {},
   "outputs": [
    {
     "data": {
      "text/html": [
       "<table>\n",
       "<thead><tr><th scope=col>species</th><th scope=col>spiracle</th><th scope=col>mass.g</th><th scope=col>area.mm.2</th><th scope=col>depth.mm</th></tr></thead>\n",
       "<tbody>\n",
       "\t<tr><td>Coelorrhina hornimani </td><td>1                     </td><td> 1.1300               </td><td>0.135347094           </td><td>0.4167170             </td></tr>\n",
       "\t<tr><td>Cyclocephala borealis </td><td>1                     </td><td> 0.1077               </td><td>0.026487743           </td><td>0.2034912             </td></tr>\n",
       "\t<tr><td>Dicronorrhina derbyana</td><td>1                     </td><td> 2.1325               </td><td>0.084960578           </td><td>0.5101785             </td></tr>\n",
       "\t<tr><td>Dynastes hercules     </td><td>1                     </td><td>26.3500               </td><td>0.752373452           </td><td>0.9172193             </td></tr>\n",
       "\t<tr><td>Eudicella euthalia    </td><td>1                     </td><td> 2.1835               </td><td>0.095080559           </td><td>0.5244083             </td></tr>\n",
       "\t<tr><td>Goliathus goliathus   </td><td>1                     </td><td>17.2150               </td><td>1.247407279           </td><td>1.2819426             </td></tr>\n",
       "\t<tr><td>Mecynorrhina torquata </td><td>1                     </td><td> 6.8750               </td><td>0.425595818           </td><td>0.9853606             </td></tr>\n",
       "\t<tr><td>Popilia japonica      </td><td>1                     </td><td> 0.1312               </td><td>0.007093503           </td><td>0.2247976             </td></tr>\n",
       "\t<tr><td>Protaetia orientalis  </td><td>1                     </td><td> 1.3750               </td><td>0.099676547           </td><td>0.2049203             </td></tr>\n",
       "\t<tr><td>Trypoxylus dichotomus </td><td>1                     </td><td> 6.4149               </td><td>0.115793934           </td><td>0.5502965             </td></tr>\n",
       "\t<tr><td>Coelorrhina hornimani </td><td>2                     </td><td> 1.1300               </td><td>0.084207187           </td><td>0.4514090             </td></tr>\n",
       "\t<tr><td>Cyclocephala borealis </td><td>2                     </td><td> 0.1077               </td><td>0.028865935           </td><td>0.1983011             </td></tr>\n",
       "\t<tr><td>Dicronorrhina derbyana</td><td>2                     </td><td> 2.1325               </td><td>0.077854724           </td><td>0.4624090             </td></tr>\n",
       "\t<tr><td>Dynastes hercules     </td><td>2                     </td><td>26.3500               </td><td>0.704770976           </td><td>0.8426636             </td></tr>\n",
       "\t<tr><td>Eudicella euthalia    </td><td>2                     </td><td> 2.1835               </td><td>0.179592407           </td><td>0.4694960             </td></tr>\n",
       "</tbody>\n",
       "</table>\n"
      ],
      "text/latex": [
       "\\begin{tabular}{r|lllll}\n",
       " species & spiracle & mass.g & area.mm.2 & depth.mm\\\\\n",
       "\\hline\n",
       "\t Coelorrhina hornimani  & 1                      &  1.1300                & 0.135347094            & 0.4167170             \\\\\n",
       "\t Cyclocephala borealis  & 1                      &  0.1077                & 0.026487743            & 0.2034912             \\\\\n",
       "\t Dicronorrhina derbyana & 1                      &  2.1325                & 0.084960578            & 0.5101785             \\\\\n",
       "\t Dynastes hercules      & 1                      & 26.3500                & 0.752373452            & 0.9172193             \\\\\n",
       "\t Eudicella euthalia     & 1                      &  2.1835                & 0.095080559            & 0.5244083             \\\\\n",
       "\t Goliathus goliathus    & 1                      & 17.2150                & 1.247407279            & 1.2819426             \\\\\n",
       "\t Mecynorrhina torquata  & 1                      &  6.8750                & 0.425595818            & 0.9853606             \\\\\n",
       "\t Popilia japonica       & 1                      &  0.1312                & 0.007093503            & 0.2247976             \\\\\n",
       "\t Protaetia orientalis   & 1                      &  1.3750                & 0.099676547            & 0.2049203             \\\\\n",
       "\t Trypoxylus dichotomus  & 1                      &  6.4149                & 0.115793934            & 0.5502965             \\\\\n",
       "\t Coelorrhina hornimani  & 2                      &  1.1300                & 0.084207187            & 0.4514090             \\\\\n",
       "\t Cyclocephala borealis  & 2                      &  0.1077                & 0.028865935            & 0.1983011             \\\\\n",
       "\t Dicronorrhina derbyana & 2                      &  2.1325                & 0.077854724            & 0.4624090             \\\\\n",
       "\t Dynastes hercules      & 2                      & 26.3500                & 0.704770976            & 0.8426636             \\\\\n",
       "\t Eudicella euthalia     & 2                      &  2.1835                & 0.179592407            & 0.4694960             \\\\\n",
       "\\end{tabular}\n"
      ],
      "text/markdown": [
       "\n",
       "| species | spiracle | mass.g | area.mm.2 | depth.mm |\n",
       "|---|---|---|---|---|\n",
       "| Coelorrhina hornimani  | 1                      |  1.1300                | 0.135347094            | 0.4167170              |\n",
       "| Cyclocephala borealis  | 1                      |  0.1077                | 0.026487743            | 0.2034912              |\n",
       "| Dicronorrhina derbyana | 1                      |  2.1325                | 0.084960578            | 0.5101785              |\n",
       "| Dynastes hercules      | 1                      | 26.3500                | 0.752373452            | 0.9172193              |\n",
       "| Eudicella euthalia     | 1                      |  2.1835                | 0.095080559            | 0.5244083              |\n",
       "| Goliathus goliathus    | 1                      | 17.2150                | 1.247407279            | 1.2819426              |\n",
       "| Mecynorrhina torquata  | 1                      |  6.8750                | 0.425595818            | 0.9853606              |\n",
       "| Popilia japonica       | 1                      |  0.1312                | 0.007093503            | 0.2247976              |\n",
       "| Protaetia orientalis   | 1                      |  1.3750                | 0.099676547            | 0.2049203              |\n",
       "| Trypoxylus dichotomus  | 1                      |  6.4149                | 0.115793934            | 0.5502965              |\n",
       "| Coelorrhina hornimani  | 2                      |  1.1300                | 0.084207187            | 0.4514090              |\n",
       "| Cyclocephala borealis  | 2                      |  0.1077                | 0.028865935            | 0.1983011              |\n",
       "| Dicronorrhina derbyana | 2                      |  2.1325                | 0.077854724            | 0.4624090              |\n",
       "| Dynastes hercules      | 2                      | 26.3500                | 0.704770976            | 0.8426636              |\n",
       "| Eudicella euthalia     | 2                      |  2.1835                | 0.179592407            | 0.4694960              |\n",
       "\n"
      ],
      "text/plain": [
       "   species                spiracle mass.g  area.mm.2   depth.mm \n",
       "1  Coelorrhina hornimani  1         1.1300 0.135347094 0.4167170\n",
       "2  Cyclocephala borealis  1         0.1077 0.026487743 0.2034912\n",
       "3  Dicronorrhina derbyana 1         2.1325 0.084960578 0.5101785\n",
       "4  Dynastes hercules      1        26.3500 0.752373452 0.9172193\n",
       "5  Eudicella euthalia     1         2.1835 0.095080559 0.5244083\n",
       "6  Goliathus goliathus    1        17.2150 1.247407279 1.2819426\n",
       "7  Mecynorrhina torquata  1         6.8750 0.425595818 0.9853606\n",
       "8  Popilia japonica       1         0.1312 0.007093503 0.2247976\n",
       "9  Protaetia orientalis   1         1.3750 0.099676547 0.2049203\n",
       "10 Trypoxylus dichotomus  1         6.4149 0.115793934 0.5502965\n",
       "11 Coelorrhina hornimani  2         1.1300 0.084207187 0.4514090\n",
       "12 Cyclocephala borealis  2         0.1077 0.028865935 0.1983011\n",
       "13 Dicronorrhina derbyana 2         2.1325 0.077854724 0.4624090\n",
       "14 Dynastes hercules      2        26.3500 0.704770976 0.8426636\n",
       "15 Eudicella euthalia     2         2.1835 0.179592407 0.4694960"
      ]
     },
     "metadata": {},
     "output_type": "display_data"
    }
   ],
   "source": [
    "head(df_ave, 15)"
   ]
  },
  {
   "cell_type": "code",
   "execution_count": 5,
   "metadata": {},
   "outputs": [
    {
     "data": {
      "image/png": "[encoded data removed]",
      "text/plain": [
       "plot without title"
      ]
     },
     "metadata": {},
     "output_type": "display_data"
    }
   ],
   "source": [
    "tree4 <- read.tree(text=\"(((Cyclocephala_borealis:1.0,(Dynastes_hercules:1.0,Trypoxylus_dichotomus:1.0):1.0):1.0,Popilia_japonica:1.0):1.0,(Protaetia_orientalis:1.0,((((Coelorrhina_hornimani:1.0,Dicronorrhina_derbyana:1):1,Mecynorrhina_torquata:1.0):1,Eudicella_euthalia:1.0):1,Goliathus_goliathus:1.0):1.0):1.0):1.0;\")\n",
    "plot.phylo(tree4)"
   ]
  },
  {
   "cell_type": "code",
   "execution_count": 6,
   "metadata": {},
   "outputs": [
    {
     "data": {
      "text/html": [
       "<table>\n",
       "<thead><tr><th></th><th scope=col>species</th><th scope=col>spiracle</th><th scope=col>mass.g</th><th scope=col>area.mm.2</th><th scope=col>depth.mm</th><th scope=col>log_area_dist</th><th scope=col>log_area</th><th scope=col>log_mass</th></tr></thead>\n",
       "<tbody>\n",
       "\t<tr><th scope=row>72</th><td>Cyclocephala borealis </td><td>T                     </td><td> 0.1077               </td><td>0.024085839           </td><td>0.1898423             </td><td>-0.89663              </td><td>-1.61824              </td><td>-0.96778              </td></tr>\n",
       "\t<tr><th scope=row>74</th><td>Dynastes hercules     </td><td>T                     </td><td>26.3500               </td><td>0.741523838           </td><td>1.0788964             </td><td>-0.16285              </td><td>-0.12987              </td><td> 1.42078              </td></tr>\n",
       "\t<tr><th scope=row>80</th><td>Trypoxylus dichotomus </td><td>T                     </td><td> 6.4149               </td><td>0.195184039           </td><td>0.5859995             </td><td>-0.47745              </td><td>-0.70956              </td><td> 0.80719              </td></tr>\n",
       "\t<tr><th scope=row>78</th><td>Popilia japonica      </td><td>T                     </td><td> 0.1312               </td><td>0.009278006           </td><td>0.1749687             </td><td>-1.27551              </td><td>-2.03255              </td><td>-0.88207              </td></tr>\n",
       "\t<tr><th scope=row>79</th><td>Protaetia orientalis  </td><td>T                     </td><td> 1.3750               </td><td>0.064890325           </td><td>0.3065776             </td><td>-0.67436              </td><td>-1.18782              </td><td> 0.13830              </td></tr>\n",
       "\t<tr><th scope=row>71</th><td>Coelorrhina hornimani </td><td>T                     </td><td> 1.1300               </td><td>0.093885056           </td><td>0.4799060             </td><td>-0.70856              </td><td>-1.02740              </td><td> 0.05308              </td></tr>\n",
       "\t<tr><th scope=row>73</th><td>Dicronorrhina derbyana</td><td>T                     </td><td> 2.1325               </td><td>0.083087225           </td><td>0.6190670             </td><td>-0.87220              </td><td>-1.08047              </td><td> 0.32889              </td></tr>\n",
       "\t<tr><th scope=row>77</th><td>Mecynorrhina torquata </td><td>T                     </td><td> 6.8750               </td><td>0.213193241           </td><td>1.0063677             </td><td>-0.67398              </td><td>-0.67123              </td><td> 0.83727              </td></tr>\n",
       "\t<tr><th scope=row>75</th><td>Eudicella euthalia    </td><td>T                     </td><td> 2.1835               </td><td>0.077483447           </td><td>0.5905602             </td><td>-0.88206              </td><td>-1.11079              </td><td> 0.33915              </td></tr>\n",
       "\t<tr><th scope=row>76</th><td>Goliathus goliathus   </td><td>T                     </td><td>18.1500               </td><td>1.234093631           </td><td>1.1683909             </td><td> 0.02376              </td><td> 0.09135              </td><td> 1.25888              </td></tr>\n",
       "</tbody>\n",
       "</table>\n"
      ],
      "text/latex": [
       "\\begin{tabular}{r|llllllll}\n",
       "  & species & spiracle & mass.g & area.mm.2 & depth.mm & log\\_area\\_dist & log\\_area & log\\_mass\\\\\n",
       "\\hline\n",
       "\t72 & Cyclocephala borealis  & T                      &  0.1077                & 0.024085839            & 0.1898423              & -0.89663               & -1.61824               & -0.96778              \\\\\n",
       "\t74 & Dynastes hercules      & T                      & 26.3500                & 0.741523838            & 1.0788964              & -0.16285               & -0.12987               &  1.42078              \\\\\n",
       "\t80 & Trypoxylus dichotomus  & T                      &  6.4149                & 0.195184039            & 0.5859995              & -0.47745               & -0.70956               &  0.80719              \\\\\n",
       "\t78 & Popilia japonica       & T                      &  0.1312                & 0.009278006            & 0.1749687              & -1.27551               & -2.03255               & -0.88207              \\\\\n",
       "\t79 & Protaetia orientalis   & T                      &  1.3750                & 0.064890325            & 0.3065776              & -0.67436               & -1.18782               &  0.13830              \\\\\n",
       "\t71 & Coelorrhina hornimani  & T                      &  1.1300                & 0.093885056            & 0.4799060              & -0.70856               & -1.02740               &  0.05308              \\\\\n",
       "\t73 & Dicronorrhina derbyana & T                      &  2.1325                & 0.083087225            & 0.6190670              & -0.87220               & -1.08047               &  0.32889              \\\\\n",
       "\t77 & Mecynorrhina torquata  & T                      &  6.8750                & 0.213193241            & 1.0063677              & -0.67398               & -0.67123               &  0.83727              \\\\\n",
       "\t75 & Eudicella euthalia     & T                      &  2.1835                & 0.077483447            & 0.5905602              & -0.88206               & -1.11079               &  0.33915              \\\\\n",
       "\t76 & Goliathus goliathus    & T                      & 18.1500                & 1.234093631            & 1.1683909              &  0.02376               &  0.09135               &  1.25888              \\\\\n",
       "\\end{tabular}\n"
      ],
      "text/markdown": [
       "\n",
       "| <!--/--> | species | spiracle | mass.g | area.mm.2 | depth.mm | log_area_dist | log_area | log_mass |\n",
       "|---|---|---|---|---|---|---|---|---|\n",
       "| 72 | Cyclocephala borealis  | T                      |  0.1077                | 0.024085839            | 0.1898423              | -0.89663               | -1.61824               | -0.96778               |\n",
       "| 74 | Dynastes hercules      | T                      | 26.3500                | 0.741523838            | 1.0788964              | -0.16285               | -0.12987               |  1.42078               |\n",
       "| 80 | Trypoxylus dichotomus  | T                      |  6.4149                | 0.195184039            | 0.5859995              | -0.47745               | -0.70956               |  0.80719               |\n",
       "| 78 | Popilia japonica       | T                      |  0.1312                | 0.009278006            | 0.1749687              | -1.27551               | -2.03255               | -0.88207               |\n",
       "| 79 | Protaetia orientalis   | T                      |  1.3750                | 0.064890325            | 0.3065776              | -0.67436               | -1.18782               |  0.13830               |\n",
       "| 71 | Coelorrhina hornimani  | T                      |  1.1300                | 0.093885056            | 0.4799060              | -0.70856               | -1.02740               |  0.05308               |\n",
       "| 73 | Dicronorrhina derbyana | T                      |  2.1325                | 0.083087225            | 0.6190670              | -0.87220               | -1.08047               |  0.32889               |\n",
       "| 77 | Mecynorrhina torquata  | T                      |  6.8750                | 0.213193241            | 1.0063677              | -0.67398               | -0.67123               |  0.83727               |\n",
       "| 75 | Eudicella euthalia     | T                      |  2.1835                | 0.077483447            | 0.5905602              | -0.88206               | -1.11079               |  0.33915               |\n",
       "| 76 | Goliathus goliathus    | T                      | 18.1500                | 1.234093631            | 1.1683909              |  0.02376               |  0.09135               |  1.25888               |\n",
       "\n"
      ],
      "text/plain": [
       "   species                spiracle mass.g  area.mm.2   depth.mm  log_area_dist\n",
       "72 Cyclocephala borealis  T         0.1077 0.024085839 0.1898423 -0.89663     \n",
       "74 Dynastes hercules      T        26.3500 0.741523838 1.0788964 -0.16285     \n",
       "80 Trypoxylus dichotomus  T         6.4149 0.195184039 0.5859995 -0.47745     \n",
       "78 Popilia japonica       T         0.1312 0.009278006 0.1749687 -1.27551     \n",
       "79 Protaetia orientalis   T         1.3750 0.064890325 0.3065776 -0.67436     \n",
       "71 Coelorrhina hornimani  T         1.1300 0.093885056 0.4799060 -0.70856     \n",
       "73 Dicronorrhina derbyana T         2.1325 0.083087225 0.6190670 -0.87220     \n",
       "77 Mecynorrhina torquata  T         6.8750 0.213193241 1.0063677 -0.67398     \n",
       "75 Eudicella euthalia     T         2.1835 0.077483447 0.5905602 -0.88206     \n",
       "76 Goliathus goliathus    T        18.1500 1.234093631 1.1683909  0.02376     \n",
       "   log_area log_mass\n",
       "72 -1.61824 -0.96778\n",
       "74 -0.12987  1.42078\n",
       "80 -0.70956  0.80719\n",
       "78 -2.03255 -0.88207\n",
       "79 -1.18782  0.13830\n",
       "71 -1.02740  0.05308\n",
       "73 -1.08047  0.32889\n",
       "77 -0.67123  0.83727\n",
       "75 -1.11079  0.33915\n",
       "76  0.09135  1.25888"
      ]
     },
     "metadata": {},
     "output_type": "display_data"
    }
   ],
   "source": [
    "spir <- 'T'\n",
    "tree <- tree4\n",
    "digits <- 5\n",
    "tips <- gsub(\"_\", \" \", tree$tip.label)\n",
    "tree$tip.label <- tips\n",
    "df_ave_sort = df_ave[df_ave['spiracle'] == spir,][match(tips, df_ave[df_ave['spiracle'] == spir,]$species),]\n",
    "df_ave_sort$log_area_dist <- round(log10(df_ave_sort$area.mm.2/df_ave_sort$depth.mm), digits = digits)\n",
    "df_ave_sort$log_area <- round(log10(df_ave_sort$area.mm.2), digits = digits)\n",
    "df_ave_sort$log_mass <- round(log10(df_ave_sort$mass.g), digits = digits)\n",
    "df_ave_sort"
   ]
  },
  {
   "cell_type": "code",
   "execution_count": 7,
   "metadata": {},
   "outputs": [],
   "source": [
    "comparative_data <- comparative.data(tree, df_ave_sort[nrow(df_ave_sort):1,], species)"
   ]
  },
  {
   "cell_type": "code",
   "execution_count": 8,
   "metadata": {},
   "outputs": [
    {
     "data": {
      "image/png": "[encoded data removed]",
      "text/plain": [
       "plot without title"
      ]
     },
     "metadata": {},
     "output_type": "display_data"
    }
   ],
   "source": [
    "model1<-pgls(log_area~log_mass, comparative_data, lambda=\"ML\")\n",
    "model2<-lm(log_area~log_mass, df_ave_sort)\n",
    "plot(log_area~log_mass, data=df_ave_sort)\n",
    "abline(model1, col='blue')\n",
    "abline(model2, col='red')\n",
    "legend (\"bottomright\",legend=c(\"Isometry\",\"lm\", \"pgls\"),cex =0.75,lty=c(1,1,1),inset=0.03, seg.len = 2,\n",
    "        col=c(rgb(red = 0.2,green = 0.2,blue = 0.2,alpha=0.1),\n",
    "              'red',\n",
    "              'blue'),\n",
    "        bg=\"white\")"
   ]
  },
  {
   "cell_type": "code",
   "execution_count": 9,
   "metadata": {},
   "outputs": [],
   "source": [
    "panel_fig <- function(model1, model2, data, o, reg, slope, x, y){\n",
    "    \n",
    "  #pdf(paste(\"./plots/\", paste(paste(o, reg, sep=\"\"), \"_regressions.pdf\", sep = \"\"), sep = \"\"), width=10, height=4)\n",
    "  png(paste(\"./plots/\", paste(paste(o, reg, sep=\"\"), \"_regressions.png\", sep = \"\"), sep = \"\"), width=1000, height=400)\n",
    "  par(mfrow=c(1,2),mar = c(2,3,2,0))\n",
    "  par(lwd=1)\n",
    "  par(mar = c(3,3,2,1) + 0.1)\n",
    "  \n",
    "  \n",
    " plot(x, y,main=paste(\"Spiracle \", o, \" Slopes\"))\n",
    " for(ent in seq(-6,4,(max(y)-min(y))/20 )) {\n",
    "   abline(coef =c(ent,slope), col=rgb(red = 0.2,green = 0.2,blue = 0.2,alpha=0.1))\n",
    " }\n",
    " abline(model1,col='blue')\n",
    " abline(model2,col='red')\n",
    " \n",
    " title(ylab=paste(\"log(\", reg, \")\"), line=2, cex.lab=1)\n",
    " title(xlab=\"log(mass)\", line=2, cex.lab=1)\n",
    " \n",
    " par(font=2)\n",
    " #legend (\"topleft\", legend=\"d)\",bty = \"n\")\n",
    " par(font=1)\n",
    " legend (\"bottomright\",legend=c(\"isometry\",\"lm\", \"pgls\"),cex =0.75,lty=c(1,1,1),inset=0.03, seg.len = 2,\n",
    "         col=c(rgb(red = 0.2,green = 0.2,blue = 0.2,alpha=0.1),\n",
    "               'red',\n",
    "               'blue'),\n",
    "         bg=\"white\")\n",
    "    \n",
    "  profile_lambda=pgls.profile(model1, which=\"lambda\") # vary lambda\n",
    "  par(mar=c(7,4,2,2))\n",
    "  plot(profile_lambda)\n",
    "\n",
    "  dev.off()\n",
    "}\n",
    "\n",
    "prep_data <- function(spir, tree, digits, df_ave) {\n",
    "    tips <- gsub(\"_\", \" \", tree$tip.label)\n",
    "    tree$tip.label <- tips\n",
    "    df_ave_sort = df_ave[df_ave['spiracle'] == spir,][match(tips, df_ave[df_ave['spiracle'] == spir,]$species),]\n",
    "    df_ave_sort$log_area_dist <- round(log10(df_ave_sort$area.mm.2/df_ave_sort$depth.mm), digits = digits)\n",
    "    df_ave_sort$log_area <- round(log10(df_ave_sort$area.mm.2), digits = digits)\n",
    "    df_ave_sort$log_mass <- round(log10(df_ave_sort$mass.g), digits = digits)\n",
    "    df_ave_sort$log_area_2_dist <- round(log10((df_ave_sort$area.mm.2^2)/df_ave_sort$depth.mm), digits = digits)\n",
    "    return(df_ave_sort)\n",
    "}"
   ]
  },
  {
   "cell_type": "code",
   "execution_count": 10,
   "metadata": {},
   "outputs": [],
   "source": [
    "spir <- '5'\n",
    "tree <- tree4\n",
    "tips <- gsub(\"_\", \" \", tree$tip.label)\n",
    "tree$tip.label <- tips\n",
    "digits <- 4\n",
    "df_con <- df_ave\n",
    "\n",
    "for (spir in c('T', 'S', '1', '2', '3', '4', '5', '6')) {\n",
    "    \n",
    "    df_ave_sort <- prep_data(spir, tree, digits, df_ave)\n",
    "    comparative_data <- comparative.data(tree, df_ave_sort[nrow(df_ave_sort):1,], species)\n",
    "\n",
    "    model1<-pgls(log_area~log_mass, comparative_data, lambda=\"ML\")\n",
    "    model2<-lm(log_area~log_mass, df_ave_sort)\n",
    "    \n",
    "    model3<-pgls(log_area_dist~log_mass, comparative_data, lambda=\"ML\")\n",
    "    model4<-lm(log_area_dist~log_mass, df_ave_sort)\n",
    "    \n",
    "    model5<-pgls(log_area_2_dist~log_mass, comparative_data, lambda=\"ML\")\n",
    "    model6<-lm(log_area_2_dist~log_mass, df_ave_sort)\n",
    "\n",
    "    panel_fig(model1, model2, df_ave_sort, spir, \"_area\", 0.67, df_ave_sort$log_mass, df_ave_sort$log_area)\n",
    "    panel_fig(model3, model4, df_ave_sort, spir, \"_area_over_dist\", 0.33, df_ave_sort$log_mass, df_ave_sort$log_area_dist)\n",
    "    panel_fig(model5, model6, df_ave_sort, spir, \"_area_2_over_dist\", 1.00, df_ave_sort$log_mass, df_ave_sort$log_area_2_dist)\n",
    "    \n",
    "}"
   ]
  },
  {
   "cell_type": "markdown",
   "metadata": {},
   "source": [
    "---"
   ]
  },
  {
   "cell_type": "markdown",
   "metadata": {},
   "source": [
    "## Plot for species averaged mass vs species averaged spiracle area (log transformed)"
   ]
  },
  {
   "cell_type": "markdown",
   "metadata": {},
   "source": [
    "<img src=\"./plots/S_area_regressions.png\" style=\"width:900px;\"><img src=\"./plots/T_area_regressions.png\" style=\"width:900px;\"><img src=\"./plots/1_area_regressions.png\" style=\"width:900px;\"><img src=\"./plots/2_area_regressions.png\" style=\"width:900px;\"><img src=\"./plots/3_area_regressions.png\" style=\"width:900px;\"><img src=\"./plots/4_area_regressions.png\" style=\"width:900px;\"><img src=\"./plots/5_area_regressions.png\" style=\"width:900px;\"><img src=\"./plots/6_area_regressions.png\" style=\"width:900px;\">"
   ]
  },
  {
   "cell_type": "markdown",
   "metadata": {},
   "source": [
    "---"
   ]
  },
  {
   "cell_type": "markdown",
   "metadata": {},
   "source": [
    "## Species averaged mass vs $\\frac{\\mathrm{species\\,averaged\\,area}}{\\mathrm{species\\,averaged\\,depth}}$ (log transformed)\n",
    "<img src=\"./plots/S_area_over_dist_regressions.png\" style=\"width:900px;\"><img src=\"./plots/T_area_over_dist_regressions.png\" style=\"width:900px;\"><img src=\"./plots/1_area_over_dist_regressions.png\" style=\"width:900px;\"><img src=\"./plots/2_area_over_dist_regressions.png\" style=\"width:900px;\"><img src=\"./plots/3_area_over_dist_regressions.png\" style=\"width:900px;\"><img src=\"./plots/4_area_over_dist_regressions.png\" style=\"width:900px;\"><img src=\"./plots/5_area_over_dist_regressions.png\" style=\"width:900px;\"><img src=\"./plots/6_area_over_dist_regressions.png\" style=\"width:900px;\">"
   ]
  },
  {
   "cell_type": "markdown",
   "metadata": {},
   "source": [
    "---"
   ]
  },
  {
   "cell_type": "markdown",
   "metadata": {},
   "source": [
    "## Species averaged mass vs $\\frac{(\\mathrm{species\\,averaged\\,area})^2}{\\mathrm{species\\,averaged\\,depth}}$ (log transformed)\n",
    "<img src=\"./plots/S_area_2_over_dist_regressions.png\" style=\"width:900px;\"><img src=\"./plots/T_area_2_over_dist_regressions.png\" style=\"width:900px;\"><img src=\"./plots/1_area_2_over_dist_regressions.png\" style=\"width:900px;\"><img src=\"./plots/2_area_2_over_dist_regressions.png\" style=\"width:900px;\"><img src=\"./plots/3_area_2_over_dist_regressions.png\" style=\"width:900px;\"><img src=\"./plots/4_area_2_over_dist_regressions.png\" style=\"width:900px;\"><img src=\"./plots/5_area_2_over_dist_regressions.png\" style=\"width:900px;\"><img src=\"./plots/6_area_2_over_dist_regressions.png\" style=\"width:900px;\">"
   ]
  },
  {
   "cell_type": "code",
   "execution_count": null,
   "metadata": {},
   "outputs": [],
   "source": []
  }
 ],
 "metadata": {
  "kernelspec": {
   "display_name": "R",
   "language": "R",
   "name": "ir"
  },
  "language_info": {
   "codemirror_mode": "r",
   "file_extension": ".r",
   "mimetype": "text/x-r-source",
   "name": "R",
   "pygments_lexer": "r",
   "version": "3.6.1"
  }
 },
 "nbformat": 4,
 "nbformat_minor": 4
}
