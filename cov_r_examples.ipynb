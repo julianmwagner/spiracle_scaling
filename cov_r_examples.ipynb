{
 "cells": [
  {
   "cell_type": "code",
   "execution_count": 1,
   "metadata": {},
   "outputs": [
    {
     "ename": "ERROR",
     "evalue": "Error in read.tree(\"ex.tre\"): could not find function \"read.tree\"\n",
     "output_type": "error",
     "traceback": [
      "Error in read.tree(\"ex.tre\"): could not find function \"read.tree\"\nTraceback:\n"
     ]
    }
   ],
   "source": [
    "library(nlme)\n",
    "cat(\"((((Homo:0.21,Pongo:0.21):0.28,\",\n",
    "\"Macaca:0.49):0.13,Ateles:0.62):0.38,Galago:1.00);\",\n",
    "file = \"ex.tre\", sep = \"\\n\")\n",
    "tree.primates <- read.tree(\"ex.tre\")\n",
    "X <- c(4.09434, 3.61092, 2.37024, 2.02815, -1.46968)\n",
    "Y <- c(4.74493, 3.33220, 3.36730, 2.89037, 2.30259)\n",
    "unlink(\"ex.tre\") # delete the file \"ex.tre\"\n",
    "m1 <- gls(Y ~ X, correlation=corBrownian(1, tree.primates))\n",
    "corMatrix(m1$modelStruct$corStruct)\n",
    "summary(m1)\n",
    "m2 <- gls(Y ~ X, correlation=corMartins(1, tree.primates))\n",
    "summary(m2)\n",
    "corMatrix(m2$modelStruct$corStruct)\n",
    "m3 <- gls(Y ~ X, correlation=corGrafen(1, tree.primates))\n",
    "summary(m3)\n",
    "corMatrix(m3$modelStruct$corStruct)"
   ]
  },
  {
   "cell_type": "code",
   "execution_count": 2,
   "metadata": {},
   "outputs": [
    {
     "name": "stderr",
     "output_type": "stream",
     "text": [
      "Warning message in data(carnivora):\n",
      "\"data set 'carnivora' not found\""
     ]
    },
    {
     "ename": "ERROR",
     "evalue": "Error in correlogram.formula(SW ~ Order/SuperFamily/Family/Genus, data = carnivora): could not find function \"correlogram.formula\"\n",
     "output_type": "error",
     "traceback": [
      "Error in correlogram.formula(SW ~ Order/SuperFamily/Family/Genus, data = carnivora): could not find function \"correlogram.formula\"\nTraceback:\n"
     ]
    }
   ],
   "source": [
    "data(carnivora) ### Using the formula interface:\n",
    "co <- correlogram.formula(SW ~ Order/SuperFamily/Family/Genus, data=carnivora)\n",
    "co\n",
    "plot(co)\n",
    "### Several correlograms on the same plot:\n",
    "cos <- correlogram.formula(SW + FW ~ Order/SuperFamily/Family/Genus, data=carnivora)\n",
    "cos\n",
    "plot(cos)\n"
   ]
  },
  {
   "cell_type": "code",
   "execution_count": null,
   "metadata": {},
   "outputs": [],
   "source": []
  }
 ],
 "metadata": {
  "kernelspec": {
   "display_name": "R",
   "language": "R",
   "name": "ir"
  },
  "language_info": {
   "codemirror_mode": "r",
   "file_extension": ".r",
   "mimetype": "text/x-r-source",
   "name": "R",
   "pygments_lexer": "r",
   "version": "3.6.1"
  }
 },
 "nbformat": 4,
 "nbformat_minor": 4
}
