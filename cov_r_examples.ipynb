{
 "cells": [
  {
   "cell_type": "code",
   "execution_count": 3,
   "metadata": {},
   "outputs": [
    {
     "name": "stderr",
     "output_type": "stream",
     "text": [
      "Warning message in Initialize.corPhyl(X[[i]], ...):\n",
      "\"Rownames in data frame do not match tree tip names; data taken to be in the same order as in tree\""
     ]
    },
    {
     "data": {
      "text/html": [
       "<table>\n",
       "<thead><tr><th></th><th scope=col>Homo</th><th scope=col>Pongo</th><th scope=col>Macaca</th><th scope=col>Ateles</th><th scope=col>Galago</th></tr></thead>\n",
       "<tbody>\n",
       "\t<tr><th scope=row>Homo</th><td>1.00</td><td>0.79</td><td>0.51</td><td>0.38</td><td>0   </td></tr>\n",
       "\t<tr><th scope=row>Pongo</th><td>0.79</td><td>1.00</td><td>0.51</td><td>0.38</td><td>0   </td></tr>\n",
       "\t<tr><th scope=row>Macaca</th><td>0.51</td><td>0.51</td><td>1.00</td><td>0.38</td><td>0   </td></tr>\n",
       "\t<tr><th scope=row>Ateles</th><td>0.38</td><td>0.38</td><td>0.38</td><td>1.00</td><td>0   </td></tr>\n",
       "\t<tr><th scope=row>Galago</th><td>0.00</td><td>0.00</td><td>0.00</td><td>0.00</td><td>1   </td></tr>\n",
       "</tbody>\n",
       "</table>\n"
      ],
      "text/latex": [
       "\\begin{tabular}{r|lllll}\n",
       "  & Homo & Pongo & Macaca & Ateles & Galago\\\\\n",
       "\\hline\n",
       "\tHomo & 1.00 & 0.79 & 0.51 & 0.38 & 0   \\\\\n",
       "\tPongo & 0.79 & 1.00 & 0.51 & 0.38 & 0   \\\\\n",
       "\tMacaca & 0.51 & 0.51 & 1.00 & 0.38 & 0   \\\\\n",
       "\tAteles & 0.38 & 0.38 & 0.38 & 1.00 & 0   \\\\\n",
       "\tGalago & 0.00 & 0.00 & 0.00 & 0.00 & 1   \\\\\n",
       "\\end{tabular}\n"
      ],
      "text/markdown": [
       "\n",
       "| <!--/--> | Homo | Pongo | Macaca | Ateles | Galago |\n",
       "|---|---|---|---|---|---|\n",
       "| Homo | 1.00 | 0.79 | 0.51 | 0.38 | 0    |\n",
       "| Pongo | 0.79 | 1.00 | 0.51 | 0.38 | 0    |\n",
       "| Macaca | 0.51 | 0.51 | 1.00 | 0.38 | 0    |\n",
       "| Ateles | 0.38 | 0.38 | 0.38 | 1.00 | 0    |\n",
       "| Galago | 0.00 | 0.00 | 0.00 | 0.00 | 1    |\n",
       "\n"
      ],
      "text/plain": [
       "       Homo Pongo Macaca Ateles Galago\n",
       "Homo   1.00 0.79  0.51   0.38   0     \n",
       "Pongo  0.79 1.00  0.51   0.38   0     \n",
       "Macaca 0.51 0.51  1.00   0.38   0     \n",
       "Ateles 0.38 0.38  0.38   1.00   0     \n",
       "Galago 0.00 0.00  0.00   0.00   1     "
      ]
     },
     "metadata": {},
     "output_type": "display_data"
    },
    {
     "data": {
      "text/plain": [
       "Generalized least squares fit by REML\n",
       "  Model: Y ~ X \n",
       "  Data: NULL \n",
       "       AIC      BIC   logLik\n",
       "  17.48072 14.77656 -5.74036\n",
       "\n",
       "Correlation Structure: corBrownian\n",
       " Formula: ~1 \n",
       " Parameter estimate(s):\n",
       "numeric(0)\n",
       "\n",
       "Coefficients:\n",
       "                Value Std.Error  t-value p-value\n",
       "(Intercept) 2.5000672 0.7754516 3.224014  0.0484\n",
       "X           0.4319328 0.2864904 1.507669  0.2288\n",
       "\n",
       " Correlation: \n",
       "  (Intr)\n",
       "X -0.437\n",
       "\n",
       "Standardized residuals:\n",
       "         1          2          3          4          5 \n",
       " 0.4187373 -0.6395037 -0.1376075 -0.4269456  0.3844060 \n",
       "attr(,\"std\")\n",
       "[1] 1.137666 1.137666 1.137666 1.137666 1.137666\n",
       "attr(,\"label\")\n",
       "[1] \"Standardized residuals\"\n",
       "\n",
       "Residual standard error: 1.137666 \n",
       "Degrees of freedom: 5 total; 3 residual"
      ]
     },
     "metadata": {},
     "output_type": "display_data"
    },
    {
     "name": "stderr",
     "output_type": "stream",
     "text": [
      "Warning message in Initialize.corPhyl(X[[i]], ...):\n",
      "\"Rownames in data frame do not match tree tip names; data taken to be in the same order as in tree\""
     ]
    },
    {
     "data": {
      "text/plain": [
       "Generalized least squares fit by REML\n",
       "  Model: Y ~ X \n",
       "  Data: NULL \n",
       "       AIC      BIC    logLik\n",
       "  17.81707 14.21152 -4.908536\n",
       "\n",
       "Correlation Structure: corMartins\n",
       " Formula: ~1 \n",
       " Parameter estimate(s):\n",
       "   alpha \n",
       "51.55332 \n",
       "\n",
       "Coefficients:\n",
       "                Value Std.Error  t-value p-value\n",
       "(Intercept) 2.5989768 0.3843447 6.762099  0.0066\n",
       "X           0.3425349 0.1330977 2.573561  0.0822\n",
       "\n",
       " Correlation: \n",
       "  (Intr)\n",
       "X -0.737\n",
       "\n",
       "Standardized residuals:\n",
       "         1          2          3          4          5 \n",
       " 1.2789374 -0.8663467 -0.0749418 -0.6937734  0.3561246 \n",
       "attr(,\"std\")\n",
       "[1] 0.5813411 0.5813411 0.5813411 0.5813411 0.5813411\n",
       "attr(,\"label\")\n",
       "[1] \"Standardized residuals\"\n",
       "\n",
       "Residual standard error: 0.5813411 \n",
       "Degrees of freedom: 5 total; 3 residual"
      ]
     },
     "metadata": {},
     "output_type": "display_data"
    },
    {
     "data": {
      "text/html": [
       "<table>\n",
       "<thead><tr><th></th><th scope=col>Homo</th><th scope=col>Pongo</th><th scope=col>Macaca</th><th scope=col>Ateles</th><th scope=col>Galago</th></tr></thead>\n",
       "<tbody>\n",
       "\t<tr><th scope=row>Homo</th><td>1.000000e+00</td><td>3.948974e-10</td><td>1.144098e-22</td><td>1.726789e-28</td><td>1.664768e-45</td></tr>\n",
       "\t<tr><th scope=row>Pongo</th><td>3.948974e-10</td><td>1.000000e+00</td><td>1.144098e-22</td><td>1.726789e-28</td><td>1.664768e-45</td></tr>\n",
       "\t<tr><th scope=row>Macaca</th><td>1.144098e-22</td><td>1.144098e-22</td><td>1.000000e+00</td><td>1.726789e-28</td><td>1.664768e-45</td></tr>\n",
       "\t<tr><th scope=row>Ateles</th><td>1.726789e-28</td><td>1.726789e-28</td><td>1.726789e-28</td><td>1.000000e+00</td><td>1.664768e-45</td></tr>\n",
       "\t<tr><th scope=row>Galago</th><td>1.664768e-45</td><td>1.664768e-45</td><td>1.664768e-45</td><td>1.664768e-45</td><td>1.000000e+00</td></tr>\n",
       "</tbody>\n",
       "</table>\n"
      ],
      "text/latex": [
       "\\begin{tabular}{r|lllll}\n",
       "  & Homo & Pongo & Macaca & Ateles & Galago\\\\\n",
       "\\hline\n",
       "\tHomo & 1.000000e+00 & 3.948974e-10 & 1.144098e-22 & 1.726789e-28 & 1.664768e-45\\\\\n",
       "\tPongo & 3.948974e-10 & 1.000000e+00 & 1.144098e-22 & 1.726789e-28 & 1.664768e-45\\\\\n",
       "\tMacaca & 1.144098e-22 & 1.144098e-22 & 1.000000e+00 & 1.726789e-28 & 1.664768e-45\\\\\n",
       "\tAteles & 1.726789e-28 & 1.726789e-28 & 1.726789e-28 & 1.000000e+00 & 1.664768e-45\\\\\n",
       "\tGalago & 1.664768e-45 & 1.664768e-45 & 1.664768e-45 & 1.664768e-45 & 1.000000e+00\\\\\n",
       "\\end{tabular}\n"
      ],
      "text/markdown": [
       "\n",
       "| <!--/--> | Homo | Pongo | Macaca | Ateles | Galago |\n",
       "|---|---|---|---|---|---|\n",
       "| Homo | 1.000000e+00 | 3.948974e-10 | 1.144098e-22 | 1.726789e-28 | 1.664768e-45 |\n",
       "| Pongo | 3.948974e-10 | 1.000000e+00 | 1.144098e-22 | 1.726789e-28 | 1.664768e-45 |\n",
       "| Macaca | 1.144098e-22 | 1.144098e-22 | 1.000000e+00 | 1.726789e-28 | 1.664768e-45 |\n",
       "| Ateles | 1.726789e-28 | 1.726789e-28 | 1.726789e-28 | 1.000000e+00 | 1.664768e-45 |\n",
       "| Galago | 1.664768e-45 | 1.664768e-45 | 1.664768e-45 | 1.664768e-45 | 1.000000e+00 |\n",
       "\n"
      ],
      "text/plain": [
       "       Homo         Pongo        Macaca       Ateles       Galago      \n",
       "Homo   1.000000e+00 3.948974e-10 1.144098e-22 1.726789e-28 1.664768e-45\n",
       "Pongo  3.948974e-10 1.000000e+00 1.144098e-22 1.726789e-28 1.664768e-45\n",
       "Macaca 1.144098e-22 1.144098e-22 1.000000e+00 1.726789e-28 1.664768e-45\n",
       "Ateles 1.726789e-28 1.726789e-28 1.726789e-28 1.000000e+00 1.664768e-45\n",
       "Galago 1.664768e-45 1.664768e-45 1.664768e-45 1.664768e-45 1.000000e+00"
      ]
     },
     "metadata": {},
     "output_type": "display_data"
    },
    {
     "name": "stderr",
     "output_type": "stream",
     "text": [
      "Warning message in Initialize.corPhyl(X[[i]], ...):\n",
      "\"Rownames in data frame do not match tree tip names; data taken to be in the same order as in tree\""
     ]
    },
    {
     "data": {
      "text/plain": [
       "Generalized least squares fit by REML\n",
       "  Model: Y ~ X \n",
       "  Data: NULL \n",
       "       AIC      BIC    logLik\n",
       "  17.81707 14.21152 -4.908536\n",
       "\n",
       "Correlation Structure: corGrafen\n",
       " Formula: ~1 \n",
       " Parameter estimate(s):\n",
       "         rho \n",
       "2.951777e-10 \n",
       "\n",
       "Coefficients:\n",
       "                Value Std.Error  t-value p-value\n",
       "(Intercept) 2.5989768 0.3843447 6.762099  0.0066\n",
       "X           0.3425349 0.1330977 2.573561  0.0822\n",
       "\n",
       " Correlation: \n",
       "  (Intr)\n",
       "X -0.737\n",
       "\n",
       "Standardized residuals:\n",
       "         1          2          3          4          5 \n",
       " 1.2789374 -0.8663467 -0.0749418 -0.6937734  0.3561246 \n",
       "attr(,\"std\")\n",
       "[1] 0.5813411 0.5813411 0.5813411 0.5813411 0.5813411\n",
       "attr(,\"label\")\n",
       "[1] \"Standardized residuals\"\n",
       "\n",
       "Residual standard error: 0.5813411 \n",
       "Degrees of freedom: 5 total; 3 residual"
      ]
     },
     "metadata": {},
     "output_type": "display_data"
    },
    {
     "data": {
      "text/html": [
       "<table>\n",
       "<thead><tr><th></th><th scope=col>Homo</th><th scope=col>Pongo</th><th scope=col>Macaca</th><th scope=col>Ateles</th><th scope=col>Galago</th></tr></thead>\n",
       "<tbody>\n",
       "\t<tr><th scope=row>Homo</th><td>1.000000e+00</td><td>4.092032e-10</td><td>2.046016e-10</td><td>8.49173e-11 </td><td>0           </td></tr>\n",
       "\t<tr><th scope=row>Pongo</th><td>4.092032e-10</td><td>1.000000e+00</td><td>2.046016e-10</td><td>8.49173e-11 </td><td>0           </td></tr>\n",
       "\t<tr><th scope=row>Macaca</th><td>2.046016e-10</td><td>2.046016e-10</td><td>1.000000e+00</td><td>8.49173e-11 </td><td>0           </td></tr>\n",
       "\t<tr><th scope=row>Ateles</th><td>8.491730e-11</td><td>8.491730e-11</td><td>8.491730e-11</td><td>1.00000e+00 </td><td>0           </td></tr>\n",
       "\t<tr><th scope=row>Galago</th><td>0.000000e+00</td><td>0.000000e+00</td><td>0.000000e+00</td><td>0.00000e+00 </td><td>1           </td></tr>\n",
       "</tbody>\n",
       "</table>\n"
      ],
      "text/latex": [
       "\\begin{tabular}{r|lllll}\n",
       "  & Homo & Pongo & Macaca & Ateles & Galago\\\\\n",
       "\\hline\n",
       "\tHomo & 1.000000e+00 & 4.092032e-10 & 2.046016e-10 & 8.49173e-11  & 0           \\\\\n",
       "\tPongo & 4.092032e-10 & 1.000000e+00 & 2.046016e-10 & 8.49173e-11  & 0           \\\\\n",
       "\tMacaca & 2.046016e-10 & 2.046016e-10 & 1.000000e+00 & 8.49173e-11  & 0           \\\\\n",
       "\tAteles & 8.491730e-11 & 8.491730e-11 & 8.491730e-11 & 1.00000e+00  & 0           \\\\\n",
       "\tGalago & 0.000000e+00 & 0.000000e+00 & 0.000000e+00 & 0.00000e+00  & 1           \\\\\n",
       "\\end{tabular}\n"
      ],
      "text/markdown": [
       "\n",
       "| <!--/--> | Homo | Pongo | Macaca | Ateles | Galago |\n",
       "|---|---|---|---|---|---|\n",
       "| Homo | 1.000000e+00 | 4.092032e-10 | 2.046016e-10 | 8.49173e-11  | 0            |\n",
       "| Pongo | 4.092032e-10 | 1.000000e+00 | 2.046016e-10 | 8.49173e-11  | 0            |\n",
       "| Macaca | 2.046016e-10 | 2.046016e-10 | 1.000000e+00 | 8.49173e-11  | 0            |\n",
       "| Ateles | 8.491730e-11 | 8.491730e-11 | 8.491730e-11 | 1.00000e+00  | 0            |\n",
       "| Galago | 0.000000e+00 | 0.000000e+00 | 0.000000e+00 | 0.00000e+00  | 1            |\n",
       "\n"
      ],
      "text/plain": [
       "       Homo         Pongo        Macaca       Ateles      Galago\n",
       "Homo   1.000000e+00 4.092032e-10 2.046016e-10 8.49173e-11 0     \n",
       "Pongo  4.092032e-10 1.000000e+00 2.046016e-10 8.49173e-11 0     \n",
       "Macaca 2.046016e-10 2.046016e-10 1.000000e+00 8.49173e-11 0     \n",
       "Ateles 8.491730e-11 8.491730e-11 8.491730e-11 1.00000e+00 0     \n",
       "Galago 0.000000e+00 0.000000e+00 0.000000e+00 0.00000e+00 1     "
      ]
     },
     "metadata": {},
     "output_type": "display_data"
    }
   ],
   "source": [
    "library(nlme)\n",
    "cat(\"((((Homo:0.21,Pongo:0.21):0.28,\",\n",
    "\"Macaca:0.49):0.13,Ateles:0.62):0.38,Galago:1.00);\",\n",
    "file = \"ex.tre\", sep = \"\\n\")\n",
    "tree.primates <- read.tree(\"ex.tre\")\n",
    "X <- c(4.09434, 3.61092, 2.37024, 2.02815, -1.46968)\n",
    "Y <- c(4.74493, 3.33220, 3.36730, 2.89037, 2.30259)\n",
    "unlink(\"ex.tre\") # delete the file \"ex.tre\"\n",
    "m1 <- gls(Y ~ X, correlation=corBrownian(1, tree.primates))\n",
    "corMatrix(m1$modelStruct$corStruct)\n",
    "summary(m1)\n",
    "m2 <- gls(Y ~ X, correlation=corMartins(1, tree.primates))\n",
    "summary(m2)\n",
    "corMatrix(m2$modelStruct$corStruct)\n",
    "m3 <- gls(Y ~ X, correlation=corGrafen(1, tree.primates))\n",
    "summary(m3)\n",
    "corMatrix(m3$modelStruct$corStruct)"
   ]
  },
  {
   "cell_type": "code",
   "execution_count": 5,
   "metadata": {},
   "outputs": [
    {
     "data": {
      "text/html": [
       "<table>\n",
       "<thead><tr><th scope=col>obs</th><th scope=col>p.values</th><th scope=col>labels</th></tr></thead>\n",
       "<tbody>\n",
       "\t<tr><td> 0.432479537</td><td>8.806040e-05</td><td>Genus       </td></tr>\n",
       "\t<tr><td> 0.572366226</td><td>0.000000e+00</td><td>Family      </td></tr>\n",
       "\t<tr><td>-0.119934300</td><td>2.135604e-10</td><td>SuperFamily </td></tr>\n",
       "\t<tr><td>-0.004402383</td><td>6.776239e-01</td><td>Order       </td></tr>\n",
       "</tbody>\n",
       "</table>\n"
      ],
      "text/latex": [
       "\\begin{tabular}{r|lll}\n",
       " obs & p.values & labels\\\\\n",
       "\\hline\n",
       "\t  0.432479537 & 8.806040e-05 & Genus       \\\\\n",
       "\t  0.572366226 & 0.000000e+00 & Family      \\\\\n",
       "\t -0.119934300 & 2.135604e-10 & SuperFamily \\\\\n",
       "\t -0.004402383 & 6.776239e-01 & Order       \\\\\n",
       "\\end{tabular}\n"
      ],
      "text/markdown": [
       "\n",
       "| obs | p.values | labels |\n",
       "|---|---|---|\n",
       "|  0.432479537 | 8.806040e-05 | Genus        |\n",
       "|  0.572366226 | 0.000000e+00 | Family       |\n",
       "| -0.119934300 | 2.135604e-10 | SuperFamily  |\n",
       "| -0.004402383 | 6.776239e-01 | Order        |\n",
       "\n"
      ],
      "text/plain": [
       "  obs          p.values     labels     \n",
       "1  0.432479537 8.806040e-05 Genus      \n",
       "2  0.572366226 0.000000e+00 Family     \n",
       "3 -0.119934300 2.135604e-10 SuperFamily\n",
       "4 -0.004402383 6.776239e-01 Order      "
      ]
     },
     "metadata": {},
     "output_type": "display_data"
    },
    {
     "data": {
      "text/plain": [
       "$SW\n",
       "           obs     p.values      labels\n",
       "1  0.432479537 8.806040e-05       Genus\n",
       "2  0.572366226 0.000000e+00      Family\n",
       "3 -0.119934300 2.135604e-10 SuperFamily\n",
       "4 -0.004402383 6.776239e-01       Order\n",
       "\n",
       "$FW\n",
       "           obs     p.values      labels\n",
       "1  0.416061385 1.438192e-04       Genus\n",
       "2  0.553969731 0.000000e+00      Family\n",
       "3 -0.115995018 6.972364e-10 SuperFamily\n",
       "4 -0.004643436 6.915611e-01       Order\n",
       "\n",
       "attr(,\"class\")\n",
       "[1] \"correlogramList\""
      ]
     },
     "metadata": {},
     "output_type": "display_data"
    },
    {
     "data": {
      "image/png": "[encoded data removed]",
      "text/plain": [
       "plot without title"
      ]
     },
     "metadata": {},
     "output_type": "display_data"
    },
    {
     "data": {
      "image/png": "[encoded data removed]",
      "text/plain": [
       "plot without title"
      ]
     },
     "metadata": {},
     "output_type": "display_data"
    }
   ],
   "source": [
    "data(carnivora) ### Using the formula interface:\n",
    "co <- correlogram.formula(SW ~ Order/SuperFamily/Family/Genus, data=carnivora)\n",
    "co\n",
    "plot(co)\n",
    "### Several correlograms on the same plot:\n",
    "cos <- correlogram.formula(SW + FW ~ Order/SuperFamily/Family/Genus, data=carnivora)\n",
    "cos\n",
    "plot(cos)\n"
   ]
  },
  {
   "cell_type": "code",
   "execution_count": null,
   "metadata": {},
   "outputs": [],
   "source": []
  }
 ],
 "metadata": {
  "kernelspec": {
   "display_name": "R",
   "language": "R",
   "name": "ir"
  },
  "language_info": {
   "codemirror_mode": "r",
   "file_extension": ".r",
   "mimetype": "text/x-r-source",
   "name": "R",
   "pygments_lexer": "r",
   "version": "3.6.1"
  }
 },
 "nbformat": 4,
 "nbformat_minor": 4
}
